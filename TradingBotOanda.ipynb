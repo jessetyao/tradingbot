{
  "cells": [
    {
      "cell_type": "code",
      "execution_count": 1,
      "metadata": {
        "id": "HDUx5opJso4E",
        "outputId": "7690265c-ce95-4865-8cca-03d60c47da16"
      },
      "outputs": [],
      "source": [
        "from apscheduler.schedulers.blocking import BlockingScheduler\n",
        "from oandapyV20 import API\n",
        "import oandapyV20.endpoints.orders as orders\n",
        "from oandapyV20.contrib.requests import MarketOrderRequest\n",
        "from oanda_candles import Pair, Gran, CandleClient\n",
        "from oandapyV20.endpoints.instruments import InstrumentsCandles\n",
        "from oandapyV20.contrib.requests import TakeProfitDetails, StopLossDetails\n",
        "import talib\n",
        "import pandas_ta as ta\n",
        "import numpy as np\n",
        "import pandas as pd\n",
        "import random\n"
      ]
    },
    {
      "cell_type": "code",
      "execution_count": 2,
      "metadata": {
        "id": "oh6erbtQso4H"
      },
      "outputs": [],
      "source": [
        "def signal_generator(df):\n",
        "    vwap = df['VWAP']\n",
        "    rsi = df['RSI'].dropna()\n",
        "\n",
        "    close_price = df['Close']\n",
        "    upper_bb = df['UpperBB']\n",
        "    lower_bb = df['LowerBB']\n",
        "    average_rsi = rsi.mean()\n",
        "    bullish = True\n",
        "    bearish = True\n",
        "    sell_count = 0\n",
        "    buy_count = 0\n",
        "    #print(rsi.values)\n",
        "    vwap_threshold = 0.0004\n",
        "    for i in range(len(df)):\n",
        "        if max(df['Open'][i], df['Close'][i]) >= (1 + vwap_threshold) * df['VWAP'][i]:\n",
        "            bearish = False\n",
        "        if min(df['Open'][i], df['Close'][i]) <= (1 - vwap_threshold) * df['VWAP'][i]:\n",
        "            bullish = False\n",
        "\n",
        "    if bullish and bearish:\n",
        "        vwap_signal =  \"Neutral\"  # Neither Bullish nor Bearish\n",
        "    elif bullish:\n",
        "        vwap_signal =  \"Bullish\"\n",
        "        buy_count += 1\n",
        "    elif bearish:\n",
        "        vwap_signal =  \"Bearish\"\n",
        "        sell_count += 1\n",
        "    else:\n",
        "        vwap_signal =  \"Neutral\"\n",
        "\n",
        "    if average_rsi > 70:\n",
        "        rsi_signal = \"Overbought\"\n",
        "        sell_count += 1\n",
        "    elif average_rsi < 30:\n",
        "        rsi_signal = \"Oversold\"\n",
        "        buy_count += 1\n",
        "    else:\n",
        "        rsi_signal = \"Neutral\"\n",
        "        \n",
        "    bb_threshold = 0.2\n",
        "    overbought_signal = (df['Close'] > upper_bb).any()\n",
        "    oversold_signal = (df['Close'] < lower_bb).any()\n",
        "\n",
        "    if overbought_signal:\n",
        "        bb_signal = \"Overbought\"\n",
        "        sell_count += 1\n",
        "    elif oversold_signal:\n",
        "        bb_signal = \"Oversold\"\n",
        "        buy_count += 1\n",
        "    else:\n",
        "        bb_signal = \"Neutral\"\n",
        "\n",
        "    if buy_count >= 2:\n",
        "        #print(vwap_signal, rsi_signal, bb_signal )\n",
        "        return \"Buy\"\n",
        "    elif sell_count >= 2:\n",
        "        #print(vwap_signal, rsi_signal, bb_signal )\n",
        "        return \"Sell\"\n",
        "    else:\n",
        "        return \"-\"\n",
        "    \n"
      ]
    },
    {
      "cell_type": "markdown",
      "metadata": {
        "id": "beYcSPPWso4I"
      },
      "source": [
        "### 3 - Connect to the market and execute trades"
      ]
    },
    {
      "cell_type": "code",
      "execution_count": 3,
      "metadata": {
        "id": "ztFBEJacso4J",
        "outputId": "00070d9d-023c-48c4-da73-8eacf43674d4"
      },
      "outputs": [
        {
          "data": {
            "text/plain": [
              "[{'complete': True,\n",
              "  'volume': 108,\n",
              "  'time': '2023-11-16T23:30:00.000000000Z',\n",
              "  'mid': {'o': '1.08557', 'h': '1.08558', 'l': '1.08546', 'c': '1.08550'}},\n",
              " {'complete': True,\n",
              "  'volume': 105,\n",
              "  'time': '2023-11-16T23:45:00.000000000Z',\n",
              "  'mid': {'o': '1.08552', 'h': '1.08552', 'l': '1.08528', 'c': '1.08532'}},\n",
              " {'complete': False,\n",
              "  'volume': 119,\n",
              "  'time': '2023-11-17T00:00:00.000000000Z',\n",
              "  'mid': {'o': '1.08532', 'h': '1.08550', 'l': '1.08532', 'c': '1.08547'}}]"
            ]
          },
          "execution_count": 3,
          "metadata": {},
          "output_type": "execute_result"
        }
      ],
      "source": [
        "access_token= \"cd7e21b015cb734770f5fcfea9da9c9f-49a95de76ed5cab29ee0d33cee5f004d\"\n",
        "accountID = \"101-001-27332384-001\" #your account ID here\n",
        "list_of_currency = [Pair.EUR_USD, Pair.EUR_GBP, Pair.USD_JPY, Pair.AUD_USD, Pair.USD_CAD, Pair.CAD_JPY, Pair.NZD_USD]\n",
        "def get_candles(n, currency):\n",
        "    client = API(access_token)\n",
        "    request = InstrumentsCandles(instrument=currency, params={\"granularity\": Gran.M15, \"count\": n})\n",
        "    response = client.request(request)\n",
        "    candles = response['candles']\n",
        "    return candles\n",
        "\n",
        "candles = get_candles(3, Pair.EUR_USD)\n",
        "candles\n"
      ]
    },
    {
      "cell_type": "code",
      "execution_count": 4,
      "metadata": {},
      "outputs": [],
      "source": [
        "def calculate_vwap(data):\n",
        "    data['VWAP'] = (((data['High'] + data['Low'] + data['Close']) / 3) * data['Volume']).cumsum() / data['Volume'].cumsum()\n",
        "\n",
        "def calculate_bollinger_bands(data, std_dev=2):\n",
        "    data['SMA'] = data['Close'].mean()\n",
        "    std_dev_values = data['Close'].std()\n",
        "    data['UpperBB'] = data['SMA'] + (std_dev * std_dev_values)\n",
        "    data['LowerBB'] = data['SMA'] - (std_dev * std_dev_values)\n",
        "    \n",
        "def calculate_rsi(data):\n",
        "    data['RSI'] = talib.RSI(data['Close'])"
      ]
    },
    {
      "cell_type": "code",
      "execution_count": 5,
      "metadata": {
        "id": "YDvk2yOSso4J"
      },
      "outputs": [],
      "source": [
        "def trading_job(currency, string_currency):\n",
        "    candles = get_candles(15, currency)\n",
        "    dfstream = pd.DataFrame(columns=['Open','Close','High','Low', 'Volume'])\n",
        "    i=0\n",
        "\n",
        "    for candle in candles:\n",
        "        dfstream.loc[i, 'Open'] = float(candle['mid']['o'])\n",
        "        dfstream.loc[i, 'Close'] = float(candle['mid']['c'])\n",
        "        dfstream.loc[i, 'High'] = float(candle['mid']['h'])\n",
        "        dfstream.loc[i, 'Low'] = float(candle['mid']['l'])\n",
        "        dfstream.loc[i, 'Volume'] = float(candle['volume'])\n",
        "        i += 1\n",
        "\n",
        "    dfstream['Open'] = dfstream['Open'].astype(float)\n",
        "    dfstream['Close'] = dfstream['Close'].astype(float)\n",
        "    dfstream['High'] = dfstream['High'].astype(float)\n",
        "    dfstream['Low'] = dfstream['Low'].astype(float)\n",
        "    dfstream['Volume'] = dfstream['Volume'].astype(float)\n",
        "    calculate_vwap(dfstream)\n",
        "    calculate_bollinger_bands(dfstream)\n",
        "    calculate_rsi(dfstream)\n",
        "\n",
        "    #print(dfstream)\n",
        "    #print(dfstream)\n",
        "    signal = signal_generator(dfstream)#\n",
        "    # EXECUTING ORDERS\n",
        "    #print(\"signal: \" + str(signal))\n",
        "    client = API(access_token)\n",
        "\n",
        "    SLTPRatio = 2.\n",
        "    previous_candleR = abs(dfstream['High'].iloc[-2]-dfstream['Low'].iloc[-2])\n",
        "\n",
        "    SLBuy = float(str(candle['mid']['o']))-previous_candleR\n",
        "    SLSell = float(str(candle['mid']['o']))+previous_candleR\n",
        "\n",
        "    TPBuy = float(str(candle['mid']['o']))+previous_candleR*SLTPRatio\n",
        "    TPSell = float(str(candle['mid']['o']))-previous_candleR*SLTPRatio\n",
        "\n",
        "    #print(dfstream.iloc[:-1,:])\n",
        "    #print(TPBuy, \"  \", SLBuy, \"  \", TPSell, \"  \", SLSell)\n",
        "    #signal = 2\n",
        "    #Sell\n",
        "    if signal == \"Sell\":\n",
        "        random_integer = random.randint(-100, 100)\n",
        "        mo = MarketOrderRequest(instrument=string_currency, units=-2000 + random_integer, takeProfitOnFill=TakeProfitDetails(price=TPSell).data, stopLossOnFill=StopLossDetails(price=SLSell).data)\n",
        "        r = orders.OrderCreate(accountID, data=mo.data)\n",
        "        rv = client.request(r)\n",
        "        print(rv)\n",
        "    #Buy\n",
        "    elif signal == \"Buy\":\n",
        "        random_integer = random.randint(-100, 100)\n",
        "        mo = MarketOrderRequest(instrument=string_currency, units=2000 + random_integer, takeProfitOnFill=TakeProfitDetails(price=TPBuy).data, stopLossOnFill=StopLossDetails(price=SLBuy).data)\n",
        "        r = orders.OrderCreate(accountID, data=mo.data)\n",
        "        rv = client.request(r)\n",
        "        print(rv)"
      ]
    },
    {
      "cell_type": "code",
      "execution_count": 6,
      "metadata": {},
      "outputs": [],
      "source": [
        "\n",
        "currency_pairs = [Pair.AUD_CAD, Pair.AUD_JPY, Pair.AUD_NZD, Pair.AUD_USD,\n",
        "    Pair.CAD_CHF, Pair.CAD_JPY,\n",
        "    Pair.EUR_AUD, Pair.EUR_CAD, Pair.EUR_CHF, Pair.EUR_GBP, Pair.EUR_JPY, Pair.EUR_NZD, Pair.EUR_USD,\n",
        "    Pair.GBP_AUD, Pair.GBP_CAD, Pair.GBP_CHF, Pair.GBP_JPY, Pair.GBP_NZD, Pair.GBP_USD,\n",
        "    Pair.NZD_CAD, Pair.NZD_CHF, Pair.NZD_JPY, Pair.NZD_USD,\n",
        "    Pair.USD_CAD, Pair.USD_CHF, Pair.USD_JPY]\n",
        "\n",
        "list_of_str_currency = [\"AUD_CAD\", \"AUD_JPY\", \"AUD_NZD\", \"AUD_USD\",\n",
        "    \"CAD_CHF\", \"CAD_JPY\",\n",
        "    \"EUR_AUD\", \"EUR_CAD\", \"EUR_CHF\", \"EUR_GBP\", \"EUR_JPY\", \"EUR_NZD\", \"EUR_USD\",\n",
        "    \"GBP_AUD\", \"GBP_CAD\", \"GBP_CHF\", \"GBP_JPY\", \"GBP_NZD\", \"GBP_USD\",\n",
        "    \"NZD_CAD\", \"NZD_CHF\", \"NZD_JPY\", \"NZD_USD\",\n",
        "    \"USD_CAD\", \"USD_CHF\", \"USD_JPY\"]\n"
      ]
    },
    {
      "cell_type": "code",
      "execution_count": 7,
      "metadata": {
        "id": "SgGFrNvOso4K"
      },
      "outputs": [
        {
          "name": "stdout",
          "output_type": "stream",
          "text": [
            "{'orderCreateTransaction': {'id': '1394', 'accountID': '101-001-27332384-001', 'userID': 27332384, 'batchID': '1394', 'requestID': '61174267976947490', 'time': '2023-11-17T00:16:00.407354877Z', 'type': 'MARKET_ORDER', 'instrument': 'EUR_USD', 'units': '1909', 'timeInForce': 'FOK', 'positionFill': 'DEFAULT', 'takeProfitOnFill': {'price': '1.08600', 'timeInForce': 'GTC'}, 'stopLossOnFill': {'price': '1.08504', 'timeInForce': 'GTC', 'triggerMode': 'TOP_OF_BOOK'}, 'reason': 'CLIENT_ORDER'}, 'orderFillTransaction': {'id': '1395', 'accountID': '101-001-27332384-001', 'userID': 27332384, 'batchID': '1394', 'requestID': '61174267976947490', 'time': '2023-11-17T00:16:00.407354877Z', 'type': 'ORDER_FILL', 'orderID': '1394', 'instrument': 'EUR_USD', 'units': '1909', 'requestedUnits': '1909', 'price': '1.08530', 'pl': '0.0000', 'quotePL': '0', 'financing': '0.0000', 'baseFinancing': '0', 'commission': '0.0000', 'accountBalance': '99847.2197', 'gainQuoteHomeConversionFactor': '1', 'lossQuoteHomeConversionFactor': '1', 'guaranteedExecutionFee': '0.0000', 'quoteGuaranteedExecutionFee': '0', 'halfSpreadCost': '0.1623', 'fullVWAP': '1.08530', 'reason': 'MARKET_ORDER', 'tradeOpened': {'price': '1.08530', 'tradeID': '1395', 'units': '1909', 'guaranteedExecutionFee': '0.0000', 'quoteGuaranteedExecutionFee': '0', 'halfSpreadCost': '0.1623', 'initialMarginRequired': '41.4337'}, 'fullPrice': {'closeoutBid': '1.08513', 'closeoutAsk': '1.08530', 'timestamp': '2023-11-17T00:15:45.228183287Z', 'bids': [{'price': '1.08513', 'liquidity': '10000000'}], 'asks': [{'price': '1.08530', 'liquidity': '10000000'}]}, 'homeConversionFactors': {'gainQuoteHome': {'factor': '1'}, 'lossQuoteHome': {'factor': '1'}, 'gainBaseHome': {'factor': '1.07979390'}, 'lossBaseHome': {'factor': '1.09064610'}}}, 'relatedTransactionIDs': ['1394', '1395', '1396', '1397'], 'lastTransactionID': '1397'}\n",
            "{'orderCreateTransaction': {'id': '1398', 'accountID': '101-001-27332384-001', 'userID': 27332384, 'batchID': '1398', 'requestID': '79188666485309400', 'time': '2023-11-17T00:16:00.443833255Z', 'type': 'MARKET_ORDER', 'instrument': 'USD_CHF', 'units': '-1989', 'timeInForce': 'FOK', 'positionFill': 'DEFAULT', 'takeProfitOnFill': {'price': '0.88780', 'timeInForce': 'GTC'}, 'stopLossOnFill': {'price': '0.88867', 'timeInForce': 'GTC', 'triggerMode': 'TOP_OF_BOOK'}, 'reason': 'CLIENT_ORDER'}, 'orderFillTransaction': {'id': '1399', 'accountID': '101-001-27332384-001', 'userID': 27332384, 'batchID': '1398', 'requestID': '79188666485309400', 'time': '2023-11-17T00:16:00.443833255Z', 'type': 'ORDER_FILL', 'orderID': '1398', 'instrument': 'USD_CHF', 'units': '-1989', 'requestedUnits': '-1989', 'price': '0.88839', 'pl': '0.0000', 'quotePL': '0', 'financing': '0.0000', 'baseFinancing': '0', 'commission': '0.0000', 'accountBalance': '99847.2197', 'gainQuoteHomeConversionFactor': '1.11989016096', 'lossQuoteHomeConversionFactor': '1.131145338457', 'guaranteedExecutionFee': '0.0000', 'quoteGuaranteedExecutionFee': '0', 'halfSpreadCost': '0.2127', 'fullVWAP': '0.88839', 'reason': 'MARKET_ORDER', 'tradeOpened': {'price': '0.88839', 'tradeID': '1399', 'units': '-1989', 'guaranteedExecutionFee': '0.0000', 'quoteGuaranteedExecutionFee': '0', 'halfSpreadCost': '0.2127', 'initialMarginRequired': '79.5600'}, 'fullPrice': {'closeoutBid': '0.88839', 'closeoutAsk': '0.88858', 'timestamp': '2023-11-17T00:15:56.142225510Z', 'bids': [{'price': '0.88839', 'liquidity': '10000000'}], 'asks': [{'price': '0.88858', 'liquidity': '10000000'}]}, 'homeConversionFactors': {'gainQuoteHome': {'factor': '1.11989016095995'}, 'lossQuoteHome': {'factor': '1.13114533845703'}, 'gainBaseHome': {'factor': '1'}, 'lossBaseHome': {'factor': '1'}}}, 'relatedTransactionIDs': ['1398', '1399', '1400', '1401'], 'lastTransactionID': '1401'}\n",
            "{'orderCreateTransaction': {'id': '1402', 'accountID': '101-001-27332384-001', 'userID': 27332384, 'batchID': '1402', 'requestID': '79188666485309595', 'time': '2023-11-17T00:16:00.605290722Z', 'type': 'MARKET_ORDER', 'instrument': 'GBP_USD', 'units': '2028', 'timeInForce': 'FOK', 'positionFill': 'DEFAULT', 'takeProfitOnFill': {'price': '1.24205', 'timeInForce': 'GTC'}, 'stopLossOnFill': {'price': '1.24115', 'timeInForce': 'GTC', 'triggerMode': 'TOP_OF_BOOK'}, 'reason': 'CLIENT_ORDER'}, 'orderFillTransaction': {'id': '1403', 'accountID': '101-001-27332384-001', 'userID': 27332384, 'batchID': '1402', 'requestID': '79188666485309595', 'time': '2023-11-17T00:16:00.605290722Z', 'type': 'ORDER_FILL', 'orderID': '1402', 'instrument': 'GBP_USD', 'units': '2028', 'requestedUnits': '2028', 'price': '1.24144', 'pl': '0.0000', 'quotePL': '0', 'financing': '0.0000', 'baseFinancing': '0', 'commission': '0.0000', 'accountBalance': '99847.2197', 'gainQuoteHomeConversionFactor': '1', 'lossQuoteHomeConversionFactor': '1', 'guaranteedExecutionFee': '0.0000', 'quoteGuaranteedExecutionFee': '0', 'halfSpreadCost': '0.1927', 'fullVWAP': '1.24144', 'reason': 'MARKET_ORDER', 'tradeOpened': {'price': '1.24144', 'tradeID': '1403', 'units': '2028', 'guaranteedExecutionFee': '0.0000', 'quoteGuaranteedExecutionFee': '0', 'halfSpreadCost': '0.1927', 'initialMarginRequired': '125.8719'}, 'fullPrice': {'closeoutBid': '1.24125', 'closeoutAsk': '1.24144', 'timestamp': '2023-11-17T00:16:00.192650304Z', 'bids': [{'price': '1.24125', 'liquidity': '10000000'}], 'asks': [{'price': '1.24144', 'liquidity': '10000000'}]}, 'homeConversionFactors': {'gainQuoteHome': {'factor': '1'}, 'lossQuoteHome': {'factor': '1'}, 'gainBaseHome': {'factor': '1.23513330'}, 'lossBaseHome': {'factor': '1.24754670'}}}, 'relatedTransactionIDs': ['1402', '1403', '1404', '1405'], 'lastTransactionID': '1405'}\n",
            "{'orderCreateTransaction': {'id': '1406', 'accountID': '101-001-27332384-001', 'userID': 27332384, 'batchID': '1406', 'requestID': '25145470958042750', 'time': '2023-11-17T00:16:00.774465435Z', 'type': 'MARKET_ORDER', 'instrument': 'USD_CAD', 'units': '-1985', 'timeInForce': 'FOK', 'positionFill': 'DEFAULT', 'takeProfitOnFill': {'price': '1.37450', 'timeInForce': 'GTC'}, 'stopLossOnFill': {'price': '1.37591', 'timeInForce': 'GTC', 'triggerMode': 'TOP_OF_BOOK'}, 'reason': 'CLIENT_ORDER'}, 'orderFillTransaction': {'id': '1407', 'accountID': '101-001-27332384-001', 'userID': 27332384, 'batchID': '1406', 'requestID': '25145470958042750', 'time': '2023-11-17T00:16:00.774465435Z', 'type': 'ORDER_FILL', 'orderID': '1406', 'instrument': 'USD_CAD', 'units': '-1985', 'requestedUnits': '-1985', 'price': '1.37545', 'pl': '0.0000', 'quotePL': '0', 'financing': '0.0000', 'baseFinancing': '0', 'commission': '0.0000', 'accountBalance': '99847.2197', 'gainQuoteHomeConversionFactor': '0.723354915578', 'lossQuoteHomeConversionFactor': '0.730624814227', 'guaranteedExecutionFee': '0.0000', 'quoteGuaranteedExecutionFee': '0', 'halfSpreadCost': '0.1227', 'fullVWAP': '1.37545', 'reason': 'MARKET_ORDER', 'tradeOpened': {'price': '1.37545', 'tradeID': '1407', 'units': '-1985', 'guaranteedExecutionFee': '0.0000', 'quoteGuaranteedExecutionFee': '0', 'halfSpreadCost': '0.1227', 'initialMarginRequired': '39.7000'}, 'fullPrice': {'closeoutBid': '1.37545', 'closeoutAsk': '1.37562', 'timestamp': '2023-11-17T00:15:53.998554973Z', 'bids': [{'price': '1.37545', 'liquidity': '10000000'}], 'asks': [{'price': '1.37562', 'liquidity': '10000000'}]}, 'homeConversionFactors': {'gainQuoteHome': {'factor': '0.72335491557789'}, 'lossQuoteHome': {'factor': '0.73062481422691'}, 'gainBaseHome': {'factor': '1'}, 'lossBaseHome': {'factor': '1'}}}, 'relatedTransactionIDs': ['1406', '1407', '1408', '1409'], 'lastTransactionID': '1409'}\n",
            "{'orderCreateTransaction': {'id': '1418', 'accountID': '101-001-27332384-001', 'userID': 27332384, 'batchID': '1418', 'requestID': '61174271752716941', 'time': '2023-11-17T00:31:00.821100633Z', 'type': 'MARKET_ORDER', 'instrument': 'USD_CAD', 'units': '-1981', 'timeInForce': 'FOK', 'positionFill': 'DEFAULT', 'takeProfitOnFill': {'price': '1.37486', 'timeInForce': 'GTC'}, 'stopLossOnFill': {'price': '1.37600', 'timeInForce': 'GTC', 'triggerMode': 'TOP_OF_BOOK'}, 'reason': 'CLIENT_ORDER'}, 'orderFillTransaction': {'id': '1419', 'accountID': '101-001-27332384-001', 'userID': 27332384, 'batchID': '1418', 'requestID': '61174271752716941', 'time': '2023-11-17T00:31:00.821100633Z', 'type': 'ORDER_FILL', 'orderID': '1418', 'instrument': 'USD_CAD', 'units': '-1981', 'requestedUnits': '-1981', 'price': '1.37545', 'pl': '0.0000', 'quotePL': '0', 'financing': '0.0000', 'baseFinancing': '0', 'commission': '0.0000', 'accountBalance': '99844.7934', 'gainQuoteHomeConversionFactor': '0.723349657587', 'lossQuoteHomeConversionFactor': '0.730619503392', 'guaranteedExecutionFee': '0.0000', 'quoteGuaranteedExecutionFee': '0', 'halfSpreadCost': '0.1368', 'fullVWAP': '1.37545', 'reason': 'MARKET_ORDER', 'tradeOpened': {'price': '1.37545', 'tradeID': '1419', 'units': '-1981', 'guaranteedExecutionFee': '0.0000', 'quoteGuaranteedExecutionFee': '0', 'halfSpreadCost': '0.1368', 'initialMarginRequired': '39.6200'}, 'fullPrice': {'closeoutBid': '1.37545', 'closeoutAsk': '1.37564', 'timestamp': '2023-11-17T00:30:57.422727041Z', 'bids': [{'price': '1.37545', 'liquidity': '10000000'}], 'asks': [{'price': '1.37564', 'liquidity': '10000000'}]}, 'homeConversionFactors': {'gainQuoteHome': {'factor': '0.72334965758730'}, 'lossQuoteHome': {'factor': '0.73061950339220'}, 'gainBaseHome': {'factor': '1'}, 'lossBaseHome': {'factor': '1'}}}, 'relatedTransactionIDs': ['1418', '1419', '1420', '1421'], 'lastTransactionID': '1421'}\n"
          ]
        }
      ],
      "source": [
        "# for i in range (len(list_of_str_currency)):\n",
        "#     trading_job(currency_pairs[i],list_of_str_currency[i])\n",
        "\n",
        "scheduler = BlockingScheduler()\n",
        "for i in range (len(currency_pairs)):\n",
        "    scheduler.add_job(trading_job, 'cron', args = [currency_pairs[i],list_of_str_currency[i]], day_of_week='mon-fri', hour='00-23', minute='1,16,31,46', start_date='2022-01-12 12:00:00')\n",
        "scheduler.start()\n"
      ]
    },
    {
      "cell_type": "code",
      "execution_count": 10,
      "metadata": {},
      "outputs": [
        {
          "data": {
            "text/plain": [
              "-       9209\n",
              "Buy      397\n",
              "Sell     394\n",
              "Name: count, dtype: int64"
            ]
          },
          "execution_count": 10,
          "metadata": {},
          "output_type": "execute_result"
        }
      ],
      "source": [
        "da= pd.read_csv(\"EURUSD_Candlestick_5_M_ASK_30.09.2019-30.09.2022.csv\")\n",
        "da = da[:10000]\n",
        "signals = []\n",
        "\n",
        "for i in range(0, len(da)):\n",
        "    \n",
        "    block = da.iloc[i:i+15].copy()\n",
        "    calculate_vwap(block)\n",
        "    calculate_bollinger_bands(block)\n",
        "    calculate_rsi(block)\n",
        "    block = block.reset_index(drop=True)\n",
        "    if not block.empty:\n",
        "        signal = signal_generator(block)\n",
        "        signals.append(signal)\n",
        "x = pd.Series(signals)\n",
        "x.value_counts()\n",
        "\n"
      ]
    },
    {
      "cell_type": "code",
      "execution_count": 8,
      "metadata": {},
      "outputs": [],
      "source": [
        "#consider making 65 / 35 RSI + 1 and make above 70 / 30 as + 2 ssss"
      ]
    }
  ],
  "metadata": {
    "colab": {
      "provenance": []
    },
    "kernelspec": {
      "display_name": "Python 3.10.8 64-bit",
      "language": "python",
      "name": "python3"
    },
    "language_info": {
      "codemirror_mode": {
        "name": "ipython",
        "version": 3
      },
      "file_extension": ".py",
      "mimetype": "text/x-python",
      "name": "python",
      "nbconvert_exporter": "python",
      "pygments_lexer": "ipython3",
      "version": "3.10.11"
    },
    "vscode": {
      "interpreter": {
        "hash": "c0ff92a541b5eb8a0f75470c34280cf0dea79e8b819847822bd36e33345fddf3"
      }
    }
  },
  "nbformat": 4,
  "nbformat_minor": 0
}
