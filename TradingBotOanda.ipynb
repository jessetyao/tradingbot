{
  "cells": [
    {
      "cell_type": "markdown",
      "metadata": {
        "id": "JQLimjSTso4B"
      },
      "source": [
        "### 1 - Import test data"
      ]
    },
    {
      "cell_type": "code",
      "execution_count": 21,
      "metadata": {
        "id": "HDUx5opJso4E",
        "outputId": "7690265c-ce95-4865-8cca-03d60c47da16"
      },
      "outputs": [
        {
          "name": "stdout",
          "output_type": "stream",
          "text": [
            "[*********************100%%**********************]  1 of 1 completed\n"
          ]
        },
        {
          "data": {
            "text/html": [
              "<div>\n",
              "<style scoped>\n",
              "    .dataframe tbody tr th:only-of-type {\n",
              "        vertical-align: middle;\n",
              "    }\n",
              "\n",
              "    .dataframe tbody tr th {\n",
              "        vertical-align: top;\n",
              "    }\n",
              "\n",
              "    .dataframe thead th {\n",
              "        text-align: right;\n",
              "    }\n",
              "</style>\n",
              "<table border=\"1\" class=\"dataframe\">\n",
              "  <thead>\n",
              "    <tr style=\"text-align: right;\">\n",
              "      <th></th>\n",
              "      <th>Open</th>\n",
              "      <th>High</th>\n",
              "      <th>Low</th>\n",
              "      <th>Close</th>\n",
              "      <th>Adj Close</th>\n",
              "      <th>Volume</th>\n",
              "    </tr>\n",
              "    <tr>\n",
              "      <th>Datetime</th>\n",
              "      <th></th>\n",
              "      <th></th>\n",
              "      <th></th>\n",
              "      <th></th>\n",
              "      <th></th>\n",
              "      <th></th>\n",
              "    </tr>\n",
              "  </thead>\n",
              "  <tbody>\n",
              "    <tr>\n",
              "      <th>2023-09-15 00:00:00</th>\n",
              "      <td>1.064509</td>\n",
              "      <td>1.064509</td>\n",
              "      <td>1.064169</td>\n",
              "      <td>1.064283</td>\n",
              "      <td>1.064283</td>\n",
              "      <td>0</td>\n",
              "    </tr>\n",
              "    <tr>\n",
              "      <th>2023-09-15 00:15:00</th>\n",
              "      <td>1.064283</td>\n",
              "      <td>1.064283</td>\n",
              "      <td>1.064169</td>\n",
              "      <td>1.064283</td>\n",
              "      <td>1.064283</td>\n",
              "      <td>0</td>\n",
              "    </tr>\n",
              "    <tr>\n",
              "      <th>2023-09-15 00:30:00</th>\n",
              "      <td>1.064283</td>\n",
              "      <td>1.064283</td>\n",
              "      <td>1.064169</td>\n",
              "      <td>1.064169</td>\n",
              "      <td>1.064169</td>\n",
              "      <td>0</td>\n",
              "    </tr>\n",
              "    <tr>\n",
              "      <th>2023-09-15 00:45:00</th>\n",
              "      <td>1.064056</td>\n",
              "      <td>1.064056</td>\n",
              "      <td>1.063717</td>\n",
              "      <td>1.063830</td>\n",
              "      <td>1.063830</td>\n",
              "      <td>0</td>\n",
              "    </tr>\n",
              "    <tr>\n",
              "      <th>2023-09-15 01:00:00</th>\n",
              "      <td>1.063830</td>\n",
              "      <td>1.064623</td>\n",
              "      <td>1.063830</td>\n",
              "      <td>1.064509</td>\n",
              "      <td>1.064509</td>\n",
              "      <td>0</td>\n",
              "    </tr>\n",
              "    <tr>\n",
              "      <th>...</th>\n",
              "      <td>...</td>\n",
              "      <td>...</td>\n",
              "      <td>...</td>\n",
              "      <td>...</td>\n",
              "      <td>...</td>\n",
              "      <td>...</td>\n",
              "    </tr>\n",
              "    <tr>\n",
              "      <th>2023-10-31 22:45:00</th>\n",
              "      <td>1.058089</td>\n",
              "      <td>1.058313</td>\n",
              "      <td>1.058089</td>\n",
              "      <td>1.058201</td>\n",
              "      <td>1.058201</td>\n",
              "      <td>0</td>\n",
              "    </tr>\n",
              "    <tr>\n",
              "      <th>2023-10-31 23:00:00</th>\n",
              "      <td>1.058313</td>\n",
              "      <td>1.058313</td>\n",
              "      <td>1.058089</td>\n",
              "      <td>1.058089</td>\n",
              "      <td>1.058089</td>\n",
              "      <td>0</td>\n",
              "    </tr>\n",
              "    <tr>\n",
              "      <th>2023-10-31 23:15:00</th>\n",
              "      <td>1.058089</td>\n",
              "      <td>1.058201</td>\n",
              "      <td>1.058089</td>\n",
              "      <td>1.058089</td>\n",
              "      <td>1.058089</td>\n",
              "      <td>0</td>\n",
              "    </tr>\n",
              "    <tr>\n",
              "      <th>2023-10-31 23:30:00</th>\n",
              "      <td>1.058201</td>\n",
              "      <td>1.058201</td>\n",
              "      <td>1.058089</td>\n",
              "      <td>1.058201</td>\n",
              "      <td>1.058201</td>\n",
              "      <td>0</td>\n",
              "    </tr>\n",
              "    <tr>\n",
              "      <th>2023-10-31 23:45:00</th>\n",
              "      <td>1.058201</td>\n",
              "      <td>1.058201</td>\n",
              "      <td>1.058089</td>\n",
              "      <td>1.058201</td>\n",
              "      <td>1.058201</td>\n",
              "      <td>0</td>\n",
              "    </tr>\n",
              "  </tbody>\n",
              "</table>\n",
              "<p>3126 rows × 6 columns</p>\n",
              "</div>"
            ],
            "text/plain": [
              "                         Open      High       Low     Close  Adj Close  Volume\n",
              "Datetime                                                                      \n",
              "2023-09-15 00:00:00  1.064509  1.064509  1.064169  1.064283   1.064283       0\n",
              "2023-09-15 00:15:00  1.064283  1.064283  1.064169  1.064283   1.064283       0\n",
              "2023-09-15 00:30:00  1.064283  1.064283  1.064169  1.064169   1.064169       0\n",
              "2023-09-15 00:45:00  1.064056  1.064056  1.063717  1.063830   1.063830       0\n",
              "2023-09-15 01:00:00  1.063830  1.064623  1.063830  1.064509   1.064509       0\n",
              "...                       ...       ...       ...       ...        ...     ...\n",
              "2023-10-31 22:45:00  1.058089  1.058313  1.058089  1.058201   1.058201       0\n",
              "2023-10-31 23:00:00  1.058313  1.058313  1.058089  1.058089   1.058089       0\n",
              "2023-10-31 23:15:00  1.058089  1.058201  1.058089  1.058089   1.058089       0\n",
              "2023-10-31 23:30:00  1.058201  1.058201  1.058089  1.058201   1.058201       0\n",
              "2023-10-31 23:45:00  1.058201  1.058201  1.058089  1.058201   1.058201       0\n",
              "\n",
              "[3126 rows x 6 columns]"
            ]
          },
          "execution_count": 21,
          "metadata": {},
          "output_type": "execute_result"
        }
      ],
      "source": [
        "import yfinance as yf\n",
        "import pandas as pd\n",
        "\n",
        "dataF = yf.download(\"EURUSD=X\", start=\"2023-9-15\", end=\"2023-11-1\", interval='15m')\n",
        "dataF.iloc[:,:]\n",
        "#dataF.Open.iloc"
      ]
    },
    {
      "cell_type": "markdown",
      "metadata": {
        "id": "th37JO7Lso4G"
      },
      "source": [
        "### 2 - Define your signal function"
      ]
    },
    {
      "cell_type": "code",
      "execution_count": 22,
      "metadata": {
        "id": "oh6erbtQso4H"
      },
      "outputs": [],
      "source": [
        "def signal_generator(df):\n",
        "    open = df.Open.iloc[-1]\n",
        "    close = df.Close.iloc[-1]\n",
        "    previous_open = df.Open.iloc[-2]\n",
        "    previous_close = df.Close.iloc[-2]\n",
        "\n",
        "    # Bearish Pattern\n",
        "    if (open>close and\n",
        "    previous_open<previous_close and\n",
        "    close<previous_open and\n",
        "    open>=previous_close):\n",
        "        return 1\n",
        "\n",
        "    # Bullish Pattern\n",
        "    elif (open<close and\n",
        "        previous_open>previous_close and\n",
        "        close>previous_open and\n",
        "        open<=previous_close):\n",
        "        return 2\n",
        "\n",
        "    # No clear pattern\n",
        "    else:\n",
        "        return 0\n",
        "\n",
        "signal = []\n",
        "signal.append(0)\n",
        "for i in range(1,len(dataF)):\n",
        "    df = dataF[i-1:i+1]\n",
        "    signal.append(signal_generator(df))\n",
        "#signal_generator(data)\n",
        "dataF[\"signal\"] = signal"
      ]
    },
    {
      "cell_type": "code",
      "execution_count": 23,
      "metadata": {
        "id": "-837Y7Elso4H",
        "outputId": "1456dcc4-0afe-48f1-cf77-c001ea7446a5"
      },
      "outputs": [
        {
          "data": {
            "text/plain": [
              "signal\n",
              "0    2864\n",
              "1     135\n",
              "2     127\n",
              "Name: count, dtype: int64"
            ]
          },
          "execution_count": 23,
          "metadata": {},
          "output_type": "execute_result"
        }
      ],
      "source": [
        "dataF.signal.value_counts()\n",
        "#dataF.iloc[:, :]"
      ]
    },
    {
      "cell_type": "markdown",
      "metadata": {
        "id": "beYcSPPWso4I"
      },
      "source": [
        "### 3 - Connect to the market and execute trades"
      ]
    },
    {
      "cell_type": "code",
      "execution_count": 24,
      "metadata": {
        "id": "vViuxkdHso4I"
      },
      "outputs": [],
      "source": [
        "from apscheduler.schedulers.blocking import BlockingScheduler\n",
        "from oandapyV20 import API\n",
        "import oandapyV20.endpoints.orders as orders\n",
        "from oandapyV20.contrib.requests import MarketOrderRequest\n",
        "from oanda_candles import Pair, Gran, CandleClient\n",
        "from oandapyV20.contrib.requests import TakeProfitDetails, StopLossDetails"
      ]
    },
    {
      "cell_type": "code",
      "execution_count": 25,
      "metadata": {
        "id": "ztFBEJacso4J",
        "outputId": "00070d9d-023c-48c4-da73-8eacf43674d4"
      },
      "outputs": [
        {
          "name": "stdout",
          "output_type": "stream",
          "text": [
            "True\n",
            "True\n",
            "True\n"
          ]
        }
      ],
      "source": [
        "access_token= \"cd7e21b015cb734770f5fcfea9da9c9f-49a95de76ed5cab29ee0d33cee5f004d\"\n",
        "accountID = \"101-001-27332384-001\" #your account ID here\n",
        "list_of_currency = [Pair.EUR_USD, Pair.EUR_GBP, Pair.USD_JPY, Pair.AUD_USD, Pair.USD_CAD, Pair.CAD_JPY, Pair.NZD_USD]\n",
        "def get_candles(n, currency):\n",
        "    client = CandleClient(access_token, real=False)\n",
        "    collector = client.get_collector(currency, Gran.M15)\n",
        "    candles = collector.grab(n)\n",
        "    return candles\n",
        "\n",
        "candles = get_candles(3, Pair.EUR_USD)\n",
        "for candle in candles:\n",
        "    print(float(str(candle.bid.o))>1)\n"
      ]
    },
    {
      "cell_type": "code",
      "execution_count": 26,
      "metadata": {
        "id": "YDvk2yOSso4J"
      },
      "outputs": [],
      "source": [
        "def trading_job(currency, string_currency):\n",
        "    candles = get_candles(3, currency)\n",
        "    dfstream = pd.DataFrame(columns=['Open','Close','High','Low'])\n",
        "    i=0\n",
        "    for candle in candles:\n",
        "        dfstream.loc[i, ['Open']] = float(str(candle.bid.o))\n",
        "        dfstream.loc[i, ['Close']] = float(str(candle.bid.c))\n",
        "        dfstream.loc[i, ['High']] = float(str(candle.bid.h))\n",
        "        dfstream.loc[i, ['Low']] = float(str(candle.bid.l))\n",
        "        i=i+1\n",
        "\n",
        "    dfstream['Open'] = dfstream['Open'].astype(float)\n",
        "    dfstream['Close'] = dfstream['Close'].astype(float)\n",
        "    dfstream['High'] = dfstream['High'].astype(float)\n",
        "    dfstream['Low'] = dfstream['Low'].astype(float)\n",
        "\n",
        "    signal = signal_generator(dfstream.iloc[:-1,:])#\n",
        "    # EXECUTING ORDERS\n",
        "    print(\"signal: \" + str(signal))\n",
        "    client = API(access_token)\n",
        "\n",
        "    SLTPRatio = 2.\n",
        "    previous_candleR = abs(dfstream['High'].iloc[-2]-dfstream['Low'].iloc[-2])\n",
        "\n",
        "    SLBuy = float(str(candle.bid.o))-previous_candleR\n",
        "    SLSell = float(str(candle.bid.o))+previous_candleR\n",
        "\n",
        "    TPBuy = float(str(candle.bid.o))+previous_candleR*SLTPRatio\n",
        "    TPSell = float(str(candle.bid.o))-previous_candleR*SLTPRatio\n",
        "\n",
        "    #print(dfstream.iloc[:-1,:])\n",
        "    #print(TPBuy, \"  \", SLBuy, \"  \", TPSell, \"  \", SLSell)\n",
        "    #signal = 2\n",
        "    #Sell\n",
        "    if signal == 1:\n",
        "        mo = MarketOrderRequest(instrument=string_currency, units=-25000, takeProfitOnFill=TakeProfitDetails(price=TPSell).data, stopLossOnFill=StopLossDetails(price=SLSell).data)\n",
        "        r = orders.OrderCreate(accountID, data=mo.data)\n",
        "        rv = client.request(r)\n",
        "        print(rv)\n",
        "    #Buy\n",
        "    elif signal == 2:\n",
        "        mo = MarketOrderRequest(instrument=string_currency, units=25000, takeProfitOnFill=TakeProfitDetails(price=TPBuy).data, stopLossOnFill=StopLossDetails(price=SLBuy).data)\n",
        "        r = orders.OrderCreate(accountID, data=mo.data)\n",
        "        rv = client.request(r)\n",
        "        print(rv)"
      ]
    },
    {
      "cell_type": "code",
      "execution_count": 28,
      "metadata": {
        "id": "SgGFrNvOso4K"
      },
      "outputs": [
        {
          "name": "stdout",
          "output_type": "stream",
          "text": [
            "signal: 0signal: 0\n",
            "\n",
            "signal: 0\n",
            "signal: 0\n",
            "signal: 0\n",
            "signal: 0\n",
            "signal: 0\n",
            "signal: 0signal: 0\n",
            "\n",
            "signal: 0\n",
            "signal: 0\n",
            "signal: 0\n",
            "signal: 2\n",
            "signal: 0\n",
            "{'orderCreateTransaction': {'id': '316', 'accountID': '101-001-27332384-001', 'userID': 27332384, 'batchID': '316', 'requestID': '61170934764682523', 'time': '2023-11-07T19:31:00.407706028Z', 'type': 'MARKET_ORDER', 'instrument': 'CAD_JPY', 'units': '25000', 'timeInForce': 'FOK', 'positionFill': 'DEFAULT', 'takeProfitOnFill': {'price': '109.462', 'timeInForce': 'GTC'}, 'stopLossOnFill': {'price': '109.288', 'timeInForce': 'GTC', 'triggerMode': 'TOP_OF_BOOK'}, 'reason': 'CLIENT_ORDER'}, 'orderFillTransaction': {'id': '317', 'accountID': '101-001-27332384-001', 'userID': 27332384, 'batchID': '316', 'requestID': '61170934764682523', 'time': '2023-11-07T19:31:00.407706028Z', 'type': 'ORDER_FILL', 'orderID': '316', 'instrument': 'CAD_JPY', 'units': '25000', 'requestedUnits': '25000', 'price': '109.371', 'pl': '0.0000', 'quotePL': '0', 'financing': '0.0000', 'baseFinancing': '0', 'commission': '0.0000', 'accountBalance': '100043.9693', 'gainQuoteHomeConversionFactor': '0.006618265765', 'lossQuoteHomeConversionFactor': '0.006684780999', 'guaranteedExecutionFee': '0.0000', 'quoteGuaranteedExecutionFee': '0', 'halfSpreadCost': '2.8269', 'fullVWAP': '109.371', 'reason': 'MARKET_ORDER', 'tradeOpened': {'price': '109.371', 'tradeID': '317', 'units': '25000', 'guaranteedExecutionFee': '0.0000', 'quoteGuaranteedExecutionFee': '0', 'halfSpreadCost': '2.8269', 'initialMarginRequired': '909.1769'}, 'fullPrice': {'closeoutBid': '109.337', 'closeoutAsk': '109.371', 'timestamp': '2023-11-07T19:31:00.336937749Z', 'bids': [{'price': '109.337', 'liquidity': '5000000'}], 'asks': [{'price': '109.371', 'liquidity': '5000000'}]}, 'homeConversionFactors': {'gainQuoteHome': {'factor': '0.00661826576479'}, 'lossQuoteHome': {'factor': '0.00668478099861'}, 'gainBaseHome': {'factor': '0.72370478973553'}, 'lossBaseHome': {'factor': '0.73097820470775'}}}, 'relatedTransactionIDs': ['316', '317', '318', '319'], 'lastTransactionID': '319'}\n",
            "signal: 0\n",
            "signal: 0\n",
            "signal: 0\n",
            "signal: 2\n",
            "signal: 0\n",
            "signal: 0\n",
            "signal: 0\n",
            "{'orderCreateTransaction': {'id': '320', 'accountID': '101-001-27332384-001', 'userID': 27332384, 'batchID': '320', 'requestID': '61170937277856572', 'time': '2023-11-07T19:41:00.399809551Z', 'type': 'MARKET_ORDER', 'instrument': 'CAD_JPY', 'units': '25000', 'timeInForce': 'FOK', 'positionFill': 'DEFAULT', 'takeProfitOnFill': {'price': '109.462', 'timeInForce': 'GTC'}, 'stopLossOnFill': {'price': '109.288', 'timeInForce': 'GTC', 'triggerMode': 'TOP_OF_BOOK'}, 'reason': 'CLIENT_ORDER'}, 'orderCancelTransaction': {'id': '321', 'accountID': '101-001-27332384-001', 'userID': 27332384, 'batchID': '320', 'requestID': '61170937277856572', 'time': '2023-11-07T19:41:00.399809551Z', 'type': 'ORDER_CANCEL', 'orderID': '320', 'reason': 'FIFO_VIOLATION_SAFEGUARD_VIOLATION'}, 'relatedTransactionIDs': ['320', '321'], 'lastTransactionID': '321'}\n",
            "signal: 1signal: 0\n",
            "signal: 0\n",
            "\n",
            "signal: 2\n",
            "signal: 0\n",
            "signal: 1\n",
            "signal: 0\n",
            "{'orderCreateTransaction': {'id': '322', 'accountID': '101-001-27332384-001', 'userID': 27332384, 'batchID': '322', 'requestID': '79185338303540545', 'time': '2023-11-07T19:51:00.401879678Z', 'type': 'MARKET_ORDER', 'instrument': 'EUR_USD', 'units': '-25000', 'timeInForce': 'FOK', 'positionFill': 'DEFAULT', 'takeProfitOnFill': {'price': '1.06846', 'timeInForce': 'GTC'}, 'stopLossOnFill': {'price': '1.07053', 'timeInForce': 'GTC', 'triggerMode': 'TOP_OF_BOOK'}, 'reason': 'CLIENT_ORDER'}, 'orderFillTransaction': {'id': '323', 'accountID': '101-001-27332384-001', 'userID': 27332384, 'batchID': '322', 'requestID': '79185338303540545', 'time': '2023-11-07T19:51:00.401879678Z', 'type': 'ORDER_FILL', 'orderID': '322', 'instrument': 'EUR_USD', 'units': '-25000', 'requestedUnits': '-25000', 'price': '1.06977', 'pl': '0.0000', 'quotePL': '0', 'financing': '0.0000', 'baseFinancing': '0', 'commission': '0.0000', 'accountBalance': '100043.9693', 'gainQuoteHomeConversionFactor': '1', 'lossQuoteHomeConversionFactor': '1', 'guaranteedExecutionFee': '0.0000', 'quoteGuaranteedExecutionFee': '0', 'halfSpreadCost': '1.7500', 'fullVWAP': '1.06977', 'reason': 'MARKET_ORDER', 'tradeOpened': {'price': '1.06977', 'tradeID': '323', 'units': '-25000', 'guaranteedExecutionFee': '0.0000', 'quoteGuaranteedExecutionFee': '0', 'halfSpreadCost': '1.7500', 'initialMarginRequired': '534.9200'}, 'fullPrice': {'closeoutBid': '1.06977', 'closeoutAsk': '1.06991', 'timestamp': '2023-11-07T19:50:58.164184806Z', 'bids': [{'price': '1.06977', 'liquidity': '10000000'}], 'asks': [{'price': '1.06991', 'liquidity': '10000000'}]}, 'homeConversionFactors': {'gainQuoteHome': {'factor': '1'}, 'lossQuoteHome': {'factor': '1'}, 'gainBaseHome': {'factor': '1.06449080'}, 'lossBaseHome': {'factor': '1.07518920'}}}, 'relatedTransactionIDs': ['322', '323', '324', '325'], 'lastTransactionID': '325'}\n",
            "{'orderCreateTransaction': {'id': '326', 'accountID': '101-001-27332384-001', 'userID': 27332384, 'batchID': '326', 'requestID': '61170939795206252', 'time': '2023-11-07T19:51:00.406279910Z', 'type': 'MARKET_ORDER', 'instrument': 'USD_CAD', 'units': '25000', 'timeInForce': 'FOK', 'positionFill': 'DEFAULT', 'takeProfitOnFill': {'price': '1.37754', 'timeInForce': 'GTC'}, 'stopLossOnFill': {'price': '1.37454', 'timeInForce': 'GTC', 'triggerMode': 'TOP_OF_BOOK'}, 'reason': 'CLIENT_ORDER'}, 'orderFillTransaction': {'id': '327', 'accountID': '101-001-27332384-001', 'userID': 27332384, 'batchID': '326', 'requestID': '61170939795206252', 'time': '2023-11-07T19:51:00.406279910Z', 'type': 'ORDER_FILL', 'orderID': '326', 'instrument': 'USD_CAD', 'units': '25000', 'requestedUnits': '25000', 'price': '1.37583', 'pl': '0.0000', 'quotePL': '0', 'financing': '0.0000', 'baseFinancing': '0', 'commission': '0.0000', 'accountBalance': '100043.9693', 'gainQuoteHomeConversionFactor': '0.723244499379', 'lossQuoteHomeConversionFactor': '0.730513288318', 'guaranteedExecutionFee': '0.0000', 'quoteGuaranteedExecutionFee': '0', 'halfSpreadCost': '1.5446', 'fullVWAP': '1.37583', 'reason': 'MARKET_ORDER', 'tradeOpened': {'price': '1.37583', 'tradeID': '327', 'units': '25000', 'guaranteedExecutionFee': '0.0000', 'quoteGuaranteedExecutionFee': '0', 'halfSpreadCost': '1.5446', 'initialMarginRequired': '500.0000'}, 'fullPrice': {'closeoutBid': '1.37566', 'closeoutAsk': '1.37583', 'timestamp': '2023-11-07T19:51:00.095216728Z', 'bids': [{'price': '1.37566', 'liquidity': '10000000'}], 'asks': [{'price': '1.37583', 'liquidity': '10000000'}]}, 'homeConversionFactors': {'gainQuoteHome': {'factor': '0.72324449937908'}, 'lossQuoteHome': {'factor': '0.73051328831756'}, 'gainBaseHome': {'factor': '1'}, 'lossBaseHome': {'factor': '1'}}}, 'relatedTransactionIDs': ['326', '327', '328', '329'], 'lastTransactionID': '329'}\n",
            "{'orderCreateTransaction': {'id': '330', 'accountID': '101-001-27332384-001', 'userID': 27332384, 'batchID': '330', 'requestID': '79185338303540574', 'time': '2023-11-07T19:51:00.425428376Z', 'type': 'MARKET_ORDER', 'instrument': 'AUD_USD', 'units': '-25000', 'timeInForce': 'FOK', 'positionFill': 'DEFAULT', 'takeProfitOnFill': {'price': '0.64213', 'timeInForce': 'GTC'}, 'stopLossOnFill': {'price': '0.64378', 'timeInForce': 'GTC', 'triggerMode': 'TOP_OF_BOOK'}, 'reason': 'CLIENT_ORDER'}, 'orderFillTransaction': {'id': '331', 'accountID': '101-001-27332384-001', 'userID': 27332384, 'batchID': '330', 'requestID': '79185338303540574', 'time': '2023-11-07T19:51:00.425428376Z', 'type': 'ORDER_FILL', 'orderID': '330', 'instrument': 'AUD_USD', 'units': '-25000', 'requestedUnits': '-25000', 'price': '0.64332', 'pl': '0.0000', 'quotePL': '0', 'financing': '0.0000', 'baseFinancing': '0', 'commission': '0.0000', 'accountBalance': '100043.9693', 'gainQuoteHomeConversionFactor': '1', 'lossQuoteHomeConversionFactor': '1', 'guaranteedExecutionFee': '0.0000', 'quoteGuaranteedExecutionFee': '0', 'halfSpreadCost': '1.5000', 'fullVWAP': '0.64332', 'reason': 'MARKET_ORDER', 'tradeOpened': {'price': '0.64332', 'tradeID': '331', 'units': '-25000', 'guaranteedExecutionFee': '0.0000', 'quoteGuaranteedExecutionFee': '0', 'halfSpreadCost': '1.5000', 'initialMarginRequired': '482.5350'}, 'fullPrice': {'closeoutBid': '0.64332', 'closeoutAsk': '0.64344', 'timestamp': '2023-11-07T19:50:56.920217839Z', 'bids': [{'price': '0.64332', 'liquidity': '10000000'}], 'asks': [{'price': '0.64344', 'liquidity': '10000000'}]}, 'homeConversionFactors': {'gainQuoteHome': {'factor': '1'}, 'lossQuoteHome': {'factor': '1'}, 'gainBaseHome': {'factor': '0.64016310'}, 'lossBaseHome': {'factor': '0.64659690'}}}, 'relatedTransactionIDs': ['330', '331', '332', '333'], 'lastTransactionID': '333'}\n",
            "signal: 0\n",
            "signal: 0\n",
            "signal: 0\n",
            "signal: 0\n",
            "signal: 2\n",
            "signal: 0\n",
            "signal: 0\n",
            "{'orderCreateTransaction': {'id': '336', 'accountID': '101-001-27332384-001', 'userID': 27332384, 'batchID': '336', 'requestID': '79185340820912281', 'time': '2023-11-07T20:01:00.511672276Z', 'type': 'MARKET_ORDER', 'instrument': 'EUR_GBP', 'units': '25000', 'timeInForce': 'FOK', 'positionFill': 'DEFAULT', 'takeProfitOnFill': {'price': '0.87025', 'timeInForce': 'GTC'}, 'stopLossOnFill': {'price': '0.86953', 'timeInForce': 'GTC', 'triggerMode': 'TOP_OF_BOOK'}, 'reason': 'CLIENT_ORDER'}, 'orderFillTransaction': {'id': '337', 'accountID': '101-001-27332384-001', 'userID': 27332384, 'batchID': '336', 'requestID': '79185340820912281', 'time': '2023-11-07T20:01:00.511672276Z', 'type': 'ORDER_FILL', 'orderID': '336', 'instrument': 'EUR_GBP', 'units': '25000', 'requestedUnits': '25000', 'price': '0.86986', 'pl': '0.0000', 'quotePL': '0', 'financing': '0.0000', 'baseFinancing': '0', 'commission': '0.0000', 'accountBalance': '100030.2736', 'gainQuoteHomeConversionFactor': '1.22341220', 'lossQuoteHomeConversionFactor': '1.23570780', 'guaranteedExecutionFee': '0.0000', 'quoteGuaranteedExecutionFee': '0', 'halfSpreadCost': '1.9980', 'fullVWAP': '0.86986', 'reason': 'MARKET_ORDER', 'tradeOpened': {'price': '0.86986', 'tradeID': '337', 'units': '25000', 'guaranteedExecutionFee': '0.0000', 'quoteGuaranteedExecutionFee': '0', 'halfSpreadCost': '1.9980', 'initialMarginRequired': '1336.8250'}, 'fullPrice': {'closeoutBid': '0.86973', 'closeoutAsk': '0.86986', 'timestamp': '2023-11-07T20:00:58.673856873Z', 'bids': [{'price': '0.86973', 'liquidity': '10000000'}], 'asks': [{'price': '0.86986', 'liquidity': '10000000'}]}, 'homeConversionFactors': {'gainQuoteHome': {'factor': '1.22341220'}, 'lossQuoteHome': {'factor': '1.23570780'}, 'gainBaseHome': {'factor': '1.06411270'}, 'lossBaseHome': {'factor': '1.07480730'}}}, 'relatedTransactionIDs': ['336', '337', '338', '339'], 'lastTransactionID': '339'}\n",
            "signal: 0\n",
            "signal: 0\n",
            "signal: 0\n",
            "signal: 0\n",
            "signal: 0\n",
            "signal: 0\n",
            "signal: 2\n",
            "{'orderCreateTransaction': {'id': '340', 'accountID': '101-001-27332384-001', 'userID': 27332384, 'batchID': '340', 'requestID': '43156546318000392', 'time': '2023-11-07T20:11:00.345711346Z', 'type': 'MARKET_ORDER', 'instrument': 'EUR_GBP', 'units': '25000', 'timeInForce': 'FOK', 'positionFill': 'DEFAULT', 'takeProfitOnFill': {'price': '0.87025', 'timeInForce': 'GTC'}, 'stopLossOnFill': {'price': '0.86953', 'timeInForce': 'GTC', 'triggerMode': 'TOP_OF_BOOK'}, 'reason': 'CLIENT_ORDER'}, 'orderCancelTransaction': {'id': '341', 'accountID': '101-001-27332384-001', 'userID': 27332384, 'batchID': '340', 'requestID': '43156546318000392', 'time': '2023-11-07T20:11:00.345711346Z', 'type': 'ORDER_CANCEL', 'orderID': '340', 'reason': 'FIFO_VIOLATION_SAFEGUARD_VIOLATION'}, 'relatedTransactionIDs': ['340', '341'], 'lastTransactionID': '341'}\n",
            "signal: 0signal: 0\n",
            "\n",
            "signal: 0\n",
            "signal: 0\n",
            "signal: 0\n",
            "signal: 0\n",
            "signal: 2\n",
            "{'orderCreateTransaction': {'id': '342', 'accountID': '101-001-27332384-001', 'userID': 27332384, 'batchID': '342', 'requestID': '25142150326574293', 'time': '2023-11-07T20:21:00.394592824Z', 'type': 'MARKET_ORDER', 'instrument': 'CAD_JPY', 'units': '25000', 'timeInForce': 'FOK', 'positionFill': 'DEFAULT', 'takeProfitOnFill': {'price': '109.417', 'timeInForce': 'GTC'}, 'stopLossOnFill': {'price': '109.306', 'timeInForce': 'GTC', 'triggerMode': 'TOP_OF_BOOK'}, 'reason': 'CLIENT_ORDER'}, 'orderCancelTransaction': {'id': '343', 'accountID': '101-001-27332384-001', 'userID': 27332384, 'batchID': '342', 'requestID': '25142150326574293', 'time': '2023-11-07T20:21:00.394592824Z', 'type': 'ORDER_CANCEL', 'orderID': '342', 'reason': 'FIFO_VIOLATION_SAFEGUARD_VIOLATION'}, 'relatedTransactionIDs': ['342', '343'], 'lastTransactionID': '343'}\n",
            "signal: 1\n",
            "signal: 2\n",
            "signal: 0\n",
            "signal: 0\n",
            "signal: 0\n",
            "signal: 0\n",
            "{'orderCreateTransaction': {'id': '344', 'accountID': '101-001-27332384-001', 'userID': 27332384, 'batchID': '344', 'requestID': '43156551352720288', 'time': '2023-11-07T20:31:00.355473791Z', 'type': 'MARKET_ORDER', 'instrument': 'USD_JPY', 'units': '-25000', 'timeInForce': 'FOK', 'positionFill': 'DEFAULT', 'takeProfitOnFill': {'price': '150.322', 'timeInForce': 'GTC'}, 'stopLossOnFill': {'price': '150.436', 'timeInForce': 'GTC', 'triggerMode': 'TOP_OF_BOOK'}, 'reason': 'CLIENT_ORDER'}, 'orderFillTransaction': {'id': '345', 'accountID': '101-001-27332384-001', 'userID': 27332384, 'batchID': '344', 'requestID': '43156551352720288', 'time': '2023-11-07T20:31:00.355473791Z', 'type': 'ORDER_FILL', 'orderID': '344', 'instrument': 'USD_JPY', 'units': '-25000', 'requestedUnits': '-25000', 'price': '150.399', 'pl': '0.0000', 'quotePL': '0', 'financing': '0.0000', 'baseFinancing': '0', 'commission': '0.0000', 'accountBalance': '100030.2736', 'gainQuoteHomeConversionFactor': '0.00661542759', 'lossQuoteHomeConversionFactor': '0.0066819143', 'guaranteedExecutionFee': '0.0000', 'quoteGuaranteedExecutionFee': '0', 'halfSpreadCost': '1.1635', 'fullVWAP': '150.399', 'reason': 'MARKET_ORDER', 'tradeOpened': {'price': '150.399', 'tradeID': '345', 'units': '-25000', 'guaranteedExecutionFee': '0.0000', 'quoteGuaranteedExecutionFee': '0', 'halfSpreadCost': '1.1635', 'initialMarginRequired': '1250.0000'}, 'fullPrice': {'closeoutBid': '150.399', 'closeoutAsk': '150.413', 'timestamp': '2023-11-07T20:31:00.139877054Z', 'bids': [{'price': '150.399', 'liquidity': '10000000'}], 'asks': [{'price': '150.413', 'liquidity': '10000000'}]}, 'homeConversionFactors': {'gainQuoteHome': {'factor': '0.00661542759035'}, 'lossQuoteHome': {'factor': '0.00668191429981'}, 'gainBaseHome': {'factor': '1'}, 'lossBaseHome': {'factor': '1'}}}, 'relatedTransactionIDs': ['344', '345', '346', '347'], 'lastTransactionID': '347'}\n",
            "signal: 0\n",
            "{'orderCreateTransaction': {'id': '348', 'accountID': '101-001-27332384-001', 'userID': 27332384, 'batchID': '348', 'requestID': '25142152843833491', 'time': '2023-11-07T20:31:00.393310425Z', 'type': 'MARKET_ORDER', 'instrument': 'AUD_USD', 'units': '25000', 'timeInForce': 'FOK', 'positionFill': 'DEFAULT', 'takeProfitOnFill': {'price': '0.64367', 'timeInForce': 'GTC'}, 'stopLossOnFill': {'price': '0.64295', 'timeInForce': 'GTC', 'triggerMode': 'TOP_OF_BOOK'}, 'reason': 'CLIENT_ORDER'}, 'orderFillTransaction': {'id': '349', 'accountID': '101-001-27332384-001', 'userID': 27332384, 'batchID': '348', 'requestID': '25142152843833491', 'time': '2023-11-07T20:31:00.393310425Z', 'type': 'ORDER_FILL', 'orderID': '348', 'instrument': 'AUD_USD', 'units': '25000', 'requestedUnits': '25000', 'price': '0.64336', 'pl': '-1.0000', 'quotePL': '-1.00000', 'financing': '0.0000', 'baseFinancing': '0.00000000000000', 'commission': '0.0000', 'accountBalance': '100029.2736', 'gainQuoteHomeConversionFactor': '1', 'lossQuoteHomeConversionFactor': '1', 'guaranteedExecutionFee': '0.0000', 'quoteGuaranteedExecutionFee': '0', 'halfSpreadCost': '1.5000', 'fullVWAP': '0.64336', 'reason': 'MARKET_ORDER', 'tradesClosed': [{'tradeID': '331', 'units': '25000', 'realizedPL': '-1.0000', 'financing': '0.0000', 'baseFinancing': '0.00000000000000', 'price': '0.64336', 'guaranteedExecutionFee': '0.0000', 'quoteGuaranteedExecutionFee': '0', 'halfSpreadCost': '1.5000'}], 'fullPrice': {'closeoutBid': '0.64324', 'closeoutAsk': '0.64336', 'timestamp': '2023-11-07T20:30:56.083012692Z', 'bids': [{'price': '0.64324', 'liquidity': '10000000'}], 'asks': [{'price': '0.64336', 'liquidity': '10000000'}]}, 'homeConversionFactors': {'gainQuoteHome': {'factor': '1'}, 'lossQuoteHome': {'factor': '1'}, 'gainBaseHome': {'factor': '0.64008350'}, 'lossBaseHome': {'factor': '0.64651650'}}}, 'relatedTransactionIDs': ['348', '349', '350', '351'], 'lastTransactionID': '351'}\n",
            "signal: 2\n",
            "signal: 0\n",
            "signal: 0\n",
            "signal: 0\n",
            "signal: 0\n",
            "signal: 0\n",
            "signal: 1\n",
            "{'orderCreateTransaction': {'id': '356', 'accountID': '101-001-27332384-001', 'userID': 27332384, 'batchID': '356', 'requestID': '79185350890324792', 'time': '2023-11-07T20:41:00.394623268Z', 'type': 'MARKET_ORDER', 'instrument': 'USD_JPY', 'units': '-25000', 'timeInForce': 'FOK', 'positionFill': 'DEFAULT', 'takeProfitOnFill': {'price': '150.322', 'timeInForce': 'GTC'}, 'stopLossOnFill': {'price': '150.436', 'timeInForce': 'GTC', 'triggerMode': 'TOP_OF_BOOK'}, 'reason': 'CLIENT_ORDER'}, 'orderCancelTransaction': {'id': '357', 'accountID': '101-001-27332384-001', 'userID': 27332384, 'batchID': '356', 'requestID': '79185350890324792', 'time': '2023-11-07T20:41:00.394623268Z', 'type': 'ORDER_CANCEL', 'orderID': '356', 'reason': 'FIFO_VIOLATION_SAFEGUARD_VIOLATION'}, 'relatedTransactionIDs': ['356', '357'], 'lastTransactionID': '357'}\n",
            "{'orderCreateTransaction': {'id': '352', 'accountID': '101-001-27332384-001', 'userID': 27332384, 'batchID': '352', 'requestID': '25142155361073225', 'time': '2023-11-07T20:41:00.386504558Z', 'type': 'MARKET_ORDER', 'instrument': 'AUD_USD', 'units': '25000', 'timeInForce': 'FOK', 'positionFill': 'DEFAULT', 'takeProfitOnFill': {'price': '0.64367', 'timeInForce': 'GTC'}, 'stopLossOnFill': {'price': '0.64295', 'timeInForce': 'GTC', 'triggerMode': 'TOP_OF_BOOK'}, 'reason': 'CLIENT_ORDER'}, 'orderFillTransaction': {'id': '353', 'accountID': '101-001-27332384-001', 'userID': 27332384, 'batchID': '352', 'requestID': '25142155361073225', 'time': '2023-11-07T20:41:00.386504558Z', 'type': 'ORDER_FILL', 'orderID': '352', 'instrument': 'AUD_USD', 'units': '25000', 'requestedUnits': '25000', 'price': '0.64344', 'pl': '0.0000', 'quotePL': '0', 'financing': '0.0000', 'baseFinancing': '0', 'commission': '0.0000', 'accountBalance': '100029.2736', 'gainQuoteHomeConversionFactor': '1', 'lossQuoteHomeConversionFactor': '1', 'guaranteedExecutionFee': '0.0000', 'quoteGuaranteedExecutionFee': '0', 'halfSpreadCost': '1.3750', 'fullVWAP': '0.64344', 'reason': 'MARKET_ORDER', 'tradeOpened': {'price': '0.64344', 'tradeID': '353', 'units': '25000', 'guaranteedExecutionFee': '0.0000', 'quoteGuaranteedExecutionFee': '0', 'halfSpreadCost': '1.3750', 'initialMarginRequired': '482.5350'}, 'fullPrice': {'closeoutBid': '0.64333', 'closeoutAsk': '0.64344', 'timestamp': '2023-11-07T20:40:49.998953031Z', 'bids': [{'price': '0.64333', 'liquidity': '10000000'}], 'asks': [{'price': '0.64344', 'liquidity': '10000000'}]}, 'homeConversionFactors': {'gainQuoteHome': {'factor': '1'}, 'lossQuoteHome': {'factor': '1'}, 'gainBaseHome': {'factor': '0.64016310'}, 'lossBaseHome': {'factor': '0.64659690'}}}, 'relatedTransactionIDs': ['352', '353', '354', '355'], 'lastTransactionID': '355'}\n"
          ]
        },
        {
          "name": "stderr",
          "output_type": "stream",
          "text": [
            "Run time of job \"trading_job (trigger: cron[day_of_week='mon-fri', hour='0-23', minute='1,11,21,31,41,51'], next run at: 2023-11-07 13:21:00 PST)\" was missed by 0:06:34.217327\n",
            "Run time of job \"trading_job (trigger: cron[day_of_week='mon-fri', hour='0-23', minute='1,11,21,31,41,51'], next run at: 2023-11-07 13:21:00 PST)\" was missed by 0:06:34.218906\n",
            "Run time of job \"trading_job (trigger: cron[day_of_week='mon-fri', hour='0-23', minute='1,11,21,31,41,51'], next run at: 2023-11-07 13:21:00 PST)\" was missed by 0:06:34.219094\n",
            "Run time of job \"trading_job (trigger: cron[day_of_week='mon-fri', hour='0-23', minute='1,11,21,31,41,51'], next run at: 2023-11-07 13:21:00 PST)\" was missed by 0:06:34.221615\n",
            "Run time of job \"trading_job (trigger: cron[day_of_week='mon-fri', hour='0-23', minute='1,11,21,31,41,51'], next run at: 2023-11-07 13:21:00 PST)\" was missed by 0:06:34.221769\n",
            "Run time of job \"trading_job (trigger: cron[day_of_week='mon-fri', hour='0-23', minute='1,11,21,31,41,51'], next run at: 2023-11-07 13:21:00 PST)\" was missed by 0:06:34.222176\n",
            "Run time of job \"trading_job (trigger: cron[day_of_week='mon-fri', hour='0-23', minute='1,11,21,31,41,51'], next run at: 2023-11-07 13:21:00 PST)\" was missed by 0:06:34.222385\n",
            "Run time of job \"trading_job (trigger: cron[day_of_week='mon-fri', hour='0-23', minute='1,11,21,31,41,51'], next run at: 2023-11-07 13:31:00 PST)\" was missed by 0:00:20.694263\n",
            "Run time of job \"trading_job (trigger: cron[day_of_week='mon-fri', hour='0-23', minute='1,11,21,31,41,51'], next run at: 2023-11-07 13:31:00 PST)\" was missed by 0:00:20.694955\n",
            "Run time of job \"trading_job (trigger: cron[day_of_week='mon-fri', hour='0-23', minute='1,11,21,31,41,51'], next run at: 2023-11-07 13:31:00 PST)\" was missed by 0:00:20.695077\n",
            "Run time of job \"trading_job (trigger: cron[day_of_week='mon-fri', hour='0-23', minute='1,11,21,31,41,51'], next run at: 2023-11-07 13:31:00 PST)\" was missed by 0:00:20.695276\n",
            "Run time of job \"trading_job (trigger: cron[day_of_week='mon-fri', hour='0-23', minute='1,11,21,31,41,51'], next run at: 2023-11-07 13:31:00 PST)\" was missed by 0:00:20.695921\n",
            "Run time of job \"trading_job (trigger: cron[day_of_week='mon-fri', hour='0-23', minute='1,11,21,31,41,51'], next run at: 2023-11-07 13:31:00 PST)\" was missed by 0:00:20.696087\n",
            "Run time of job \"trading_job (trigger: cron[day_of_week='mon-fri', hour='0-23', minute='1,11,21,31,41,51'], next run at: 2023-11-07 13:31:00 PST)\" was missed by 0:00:20.696292\n"
          ]
        },
        {
          "name": "stdout",
          "output_type": "stream",
          "text": [
            "signal: 0signal: 0\n",
            "signal: 0\n",
            "\n",
            "signal: 0\n",
            "signal: 0\n",
            "signal: 0\n",
            "signal: 0\n",
            "signal: 0\n",
            "signal: 0\n",
            "signal: 0\n",
            "signal: 0\n",
            "signal: 0\n",
            "signal: 0\n",
            "signal: 0\n"
          ]
        }
      ],
      "source": [
        "list_of_currency = [Pair.EUR_USD, Pair.EUR_GBP, Pair.USD_JPY, Pair.AUD_USD, Pair.USD_CAD, Pair.CAD_JPY, Pair.NZD_USD]\n",
        "list_of_str_currency = [\"EUR_USD\", \"EUR_GBP\", \"USD_JPY\", \"AUD_USD\",\"USD_CAD\",\"CAD_JPY\",\"NZD_USD\"]\n",
        "\n",
        "# for i in range (len(list_of_str_currency)):\n",
        "#     trading_job(list_of_currency[i],list_of_str_currency[i])\n",
        "\n",
        "\n",
        "scheduler = BlockingScheduler()\n",
        "for i in range (len(list_of_str_currency)):\n",
        "    scheduler.add_job(trading_job, 'cron', args = [list_of_currency[i],list_of_str_currency[i]], day_of_week='mon-fri', hour='00-23', minute='1,11,21,31,41,51', start_date='2022-01-12 12:00:00')\n",
        "scheduler.start()"
      ]
    }
  ],
  "metadata": {
    "colab": {
      "provenance": []
    },
    "kernelspec": {
      "display_name": "Python 3.10.8 64-bit",
      "language": "python",
      "name": "python3"
    },
    "language_info": {
      "codemirror_mode": {
        "name": "ipython",
        "version": 3
      },
      "file_extension": ".py",
      "mimetype": "text/x-python",
      "name": "python",
      "nbconvert_exporter": "python",
      "pygments_lexer": "ipython3",
      "version": "3.10.11"
    },
    "vscode": {
      "interpreter": {
        "hash": "c0ff92a541b5eb8a0f75470c34280cf0dea79e8b819847822bd36e33345fddf3"
      }
    }
  },
  "nbformat": 4,
  "nbformat_minor": 0
}
