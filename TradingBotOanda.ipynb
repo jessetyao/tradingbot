{
  "cells": [
    {
      "cell_type": "code",
      "execution_count": 30,
      "metadata": {
        "id": "HDUx5opJso4E",
        "outputId": "7690265c-ce95-4865-8cca-03d60c47da16"
      },
      "outputs": [],
      "source": [
        "from apscheduler.schedulers.blocking import BlockingScheduler\n",
        "from oandapyV20 import API\n",
        "import oandapyV20.endpoints.orders as orders\n",
        "from oandapyV20.contrib.requests import MarketOrderRequest\n",
        "from oanda_candles import Pair, Gran, CandleClient\n",
        "from oandapyV20.endpoints.instruments import InstrumentsCandles\n",
        "from oandapyV20.contrib.requests import TakeProfitDetails, StopLossDetails\n",
        "import talib\n",
        "import pandas_ta as ta\n",
        "import numpy as np\n",
        "import pandas as pd\n",
        "import random\n"
      ]
    },
    {
      "cell_type": "code",
      "execution_count": 31,
      "metadata": {
        "id": "oh6erbtQso4H"
      },
      "outputs": [],
      "source": [
        "def signal_generator(df):\n",
        "    vwap = df['VWAP']\n",
        "    rsi = df['RSI'].dropna()\n",
        "\n",
        "    close_price = df['Close']\n",
        "    upper_bb = df['UpperBB']\n",
        "    lower_bb = df['LowerBB']\n",
        "    average_rsi = rsi.mean()\n",
        "    bullish = True\n",
        "    bearish = True\n",
        "    sell_count = 0\n",
        "    buy_count = 0\n",
        "    #print(rsi.values)\n",
        "    vwap_threshold = 0.0004\n",
        "    for i in range(len(df)):\n",
        "        if max(df['Open'][i], df['Close'][i]) >= (1 + vwap_threshold) * df['VWAP'][i]:\n",
        "            bearish = False\n",
        "        if min(df['Open'][i], df['Close'][i]) <= (1 - vwap_threshold) * df['VWAP'][i]:\n",
        "            bullish = False\n",
        "\n",
        "    if bullish and bearish:\n",
        "        vwap_signal =  \"Neutral\"  # Neither Bullish nor Bearish\n",
        "    elif bullish:\n",
        "        vwap_signal =  \"Bullish\"\n",
        "        buy_count += 1\n",
        "    elif bearish:\n",
        "        vwap_signal =  \"Bearish\"\n",
        "        sell_count += 1\n",
        "    else:\n",
        "        vwap_signal =  \"Neutral\"\n",
        "\n",
        "    if average_rsi > 70:\n",
        "        rsi_signal = \"Overbought\"\n",
        "        sell_count += 1\n",
        "    elif average_rsi < 30:\n",
        "        rsi_signal = \"Oversold\"\n",
        "        buy_count += 1\n",
        "    else:\n",
        "        rsi_signal = \"Neutral\"\n",
        "        \n",
        "    bb_threshold = 0.2\n",
        "    overbought_signal = (df['Close'] > upper_bb).any()\n",
        "    oversold_signal = (df['Close'] < lower_bb).any()\n",
        "\n",
        "    if overbought_signal:\n",
        "        bb_signal = \"Overbought\"\n",
        "        sell_count += 1\n",
        "    elif oversold_signal:\n",
        "        bb_signal = \"Oversold\"\n",
        "        buy_count += 1\n",
        "    else:\n",
        "        bb_signal = \"Neutral\"\n",
        "\n",
        "    if buy_count >= 2:\n",
        "        #print(vwap_signal, rsi_signal, bb_signal )\n",
        "        return \"Buy\"\n",
        "    elif sell_count >= 2:\n",
        "        #print(vwap_signal, rsi_signal, bb_signal )\n",
        "        return \"Sell\"\n",
        "    else:\n",
        "        return \"-\"\n",
        "    \n"
      ]
    },
    {
      "cell_type": "markdown",
      "metadata": {
        "id": "beYcSPPWso4I"
      },
      "source": [
        "### 3 - Connect to the market and execute trades"
      ]
    },
    {
      "cell_type": "code",
      "execution_count": 32,
      "metadata": {
        "id": "ztFBEJacso4J",
        "outputId": "00070d9d-023c-48c4-da73-8eacf43674d4"
      },
      "outputs": [
        {
          "data": {
            "text/plain": [
              "[{'complete': True,\n",
              "  'volume': 1369,\n",
              "  'time': '2023-11-14T17:00:00.000000000Z',\n",
              "  'mid': {'o': '1.08604', 'h': '1.08636', 'l': '1.08542', 'c': '1.08549'}},\n",
              " {'complete': True,\n",
              "  'volume': 988,\n",
              "  'time': '2023-11-14T17:15:00.000000000Z',\n",
              "  'mid': {'o': '1.08548', 'h': '1.08610', 'l': '1.08543', 'c': '1.08589'}},\n",
              " {'complete': False,\n",
              "  'volume': 419,\n",
              "  'time': '2023-11-14T17:30:00.000000000Z',\n",
              "  'mid': {'o': '1.08590', 'h': '1.08636', 'l': '1.08579', 'c': '1.08624'}}]"
            ]
          },
          "execution_count": 32,
          "metadata": {},
          "output_type": "execute_result"
        }
      ],
      "source": [
        "access_token= \"cd7e21b015cb734770f5fcfea9da9c9f-49a95de76ed5cab29ee0d33cee5f004d\"\n",
        "accountID = \"101-001-27332384-001\" #your account ID here\n",
        "list_of_currency = [Pair.EUR_USD, Pair.EUR_GBP, Pair.USD_JPY, Pair.AUD_USD, Pair.USD_CAD, Pair.CAD_JPY, Pair.NZD_USD]\n",
        "def get_candles(n, currency):\n",
        "    client = API(access_token)\n",
        "    request = InstrumentsCandles(instrument=currency, params={\"granularity\": Gran.M15, \"count\": n})\n",
        "    response = client.request(request)\n",
        "    candles = response['candles']\n",
        "    return candles\n",
        "\n",
        "candles = get_candles(3, Pair.EUR_USD)\n",
        "candles\n"
      ]
    },
    {
      "cell_type": "code",
      "execution_count": 33,
      "metadata": {},
      "outputs": [],
      "source": [
        "def calculate_vwap(data):\n",
        "    data['VWAP'] = (((data['High'] + data['Low'] + data['Close']) / 3) * data['Volume']).cumsum() / data['Volume'].cumsum()\n",
        "\n",
        "def calculate_bollinger_bands(data, std_dev=2):\n",
        "    data['SMA'] = data['Close'].mean()\n",
        "    std_dev_values = data['Close'].std()\n",
        "    data['UpperBB'] = data['SMA'] + (std_dev * std_dev_values)\n",
        "    data['LowerBB'] = data['SMA'] - (std_dev * std_dev_values)\n",
        "    \n",
        "def calculate_rsi(data):\n",
        "    data['RSI'] = talib.RSI(data['Close'])"
      ]
    },
    {
      "cell_type": "code",
      "execution_count": 34,
      "metadata": {
        "id": "YDvk2yOSso4J"
      },
      "outputs": [],
      "source": [
        "def trading_job(currency, string_currency):\n",
        "    candles = get_candles(15, currency)\n",
        "    dfstream = pd.DataFrame(columns=['Open','Close','High','Low', 'Volume'])\n",
        "    i=0\n",
        "\n",
        "    for candle in candles:\n",
        "        dfstream.loc[i, 'Open'] = float(candle['mid']['o'])\n",
        "        dfstream.loc[i, 'Close'] = float(candle['mid']['c'])\n",
        "        dfstream.loc[i, 'High'] = float(candle['mid']['h'])\n",
        "        dfstream.loc[i, 'Low'] = float(candle['mid']['l'])\n",
        "        dfstream.loc[i, 'Volume'] = float(candle['volume'])\n",
        "        i += 1\n",
        "\n",
        "    dfstream['Open'] = dfstream['Open'].astype(float)\n",
        "    dfstream['Close'] = dfstream['Close'].astype(float)\n",
        "    dfstream['High'] = dfstream['High'].astype(float)\n",
        "    dfstream['Low'] = dfstream['Low'].astype(float)\n",
        "    dfstream['Volume'] = dfstream['Volume'].astype(float)\n",
        "    calculate_vwap(dfstream)\n",
        "    calculate_bollinger_bands(dfstream)\n",
        "    calculate_rsi(dfstream)\n",
        "\n",
        "    #print(dfstream)\n",
        "    #print(dfstream)\n",
        "    signal = signal_generator(dfstream)#\n",
        "    # EXECUTING ORDERS\n",
        "    #print(\"signal: \" + str(signal))\n",
        "    client = API(access_token)\n",
        "\n",
        "    SLTPRatio = 2.\n",
        "    previous_candleR = abs(dfstream['High'].iloc[-2]-dfstream['Low'].iloc[-2])\n",
        "\n",
        "    SLBuy = float(str(candle['mid']['o']))-previous_candleR\n",
        "    SLSell = float(str(candle['mid']['o']))+previous_candleR\n",
        "\n",
        "    TPBuy = float(str(candle['mid']['o']))+previous_candleR*SLTPRatio\n",
        "    TPSell = float(str(candle['mid']['o']))-previous_candleR*SLTPRatio\n",
        "\n",
        "    #print(dfstream.iloc[:-1,:])\n",
        "    #print(TPBuy, \"  \", SLBuy, \"  \", TPSell, \"  \", SLSell)\n",
        "    #signal = 2\n",
        "    #Sell\n",
        "    if signal == \"Sell\":\n",
        "        random_integer = random.randint(-100, 100)\n",
        "        mo = MarketOrderRequest(instrument=string_currency, units=-2000 + random_integer, takeProfitOnFill=TakeProfitDetails(price=TPSell).data, stopLossOnFill=StopLossDetails(price=SLSell).data)\n",
        "        r = orders.OrderCreate(accountID, data=mo.data)\n",
        "        rv = client.request(r)\n",
        "        print(rv)\n",
        "    #Buy\n",
        "    elif signal == \"Buy\":\n",
        "        random_integer = random.randint(-100, 100)\n",
        "        mo = MarketOrderRequest(instrument=string_currency, units=2000 + random_integer, takeProfitOnFill=TakeProfitDetails(price=TPBuy).data, stopLossOnFill=StopLossDetails(price=SLBuy).data)\n",
        "        r = orders.OrderCreate(accountID, data=mo.data)\n",
        "        rv = client.request(r)\n",
        "        print(rv)"
      ]
    },
    {
      "cell_type": "code",
      "execution_count": 35,
      "metadata": {},
      "outputs": [],
      "source": [
        "\n",
        "currency_pairs = [Pair.AUD_CAD, Pair.AUD_JPY, Pair.AUD_NZD, Pair.AUD_USD,\n",
        "    Pair.CAD_CHF, Pair.CAD_JPY,\n",
        "    Pair.EUR_AUD, Pair.EUR_CAD, Pair.EUR_CHF, Pair.EUR_GBP, Pair.EUR_JPY, Pair.EUR_NZD, Pair.EUR_USD,\n",
        "    Pair.GBP_AUD, Pair.GBP_CAD, Pair.GBP_CHF, Pair.GBP_JPY, Pair.GBP_NZD, Pair.GBP_USD,\n",
        "    Pair.NZD_CAD, Pair.NZD_CHF, Pair.NZD_JPY, Pair.NZD_USD,\n",
        "    Pair.USD_CAD, Pair.USD_CHF, Pair.USD_JPY]\n",
        "\n",
        "list_of_str_currency = [\"AUD_CAD\", \"AUD_JPY\", \"AUD_NZD\", \"AUD_USD\",\n",
        "    \"CAD_CHF\", \"CAD_JPY\",\n",
        "    \"EUR_AUD\", \"EUR_CAD\", \"EUR_CHF\", \"EUR_GBP\", \"EUR_JPY\", \"EUR_NZD\", \"EUR_USD\",\n",
        "    \"GBP_AUD\", \"GBP_CAD\", \"GBP_CHF\", \"GBP_JPY\", \"GBP_NZD\", \"GBP_USD\",\n",
        "    \"NZD_CAD\", \"NZD_CHF\", \"NZD_JPY\", \"NZD_USD\",\n",
        "    \"USD_CAD\", \"USD_CHF\", \"USD_JPY\"]\n"
      ]
    },
    {
      "cell_type": "code",
      "execution_count": 36,
      "metadata": {
        "id": "SgGFrNvOso4K"
      },
      "outputs": [
        {
          "name": "stdout",
          "output_type": "stream",
          "text": [
            "{'orderCreateTransaction': {'id': '1040', 'accountID': '101-001-27332384-001', 'userID': 27332384, 'batchID': '1040', 'requestID': '43159046542780527', 'time': '2023-11-14T17:46:00.535153376Z', 'type': 'MARKET_ORDER', 'instrument': 'USD_CHF', 'units': '-1937', 'timeInForce': 'FOK', 'positionFill': 'DEFAULT', 'takeProfitOnFill': {'price': '0.88854', 'timeInForce': 'GTC'}, 'stopLossOnFill': {'price': '0.89136', 'timeInForce': 'GTC', 'triggerMode': 'TOP_OF_BOOK'}, 'reason': 'CLIENT_ORDER'}, 'orderFillTransaction': {'id': '1041', 'accountID': '101-001-27332384-001', 'userID': 27332384, 'batchID': '1040', 'requestID': '43159046542780527', 'time': '2023-11-14T17:46:00.535153376Z', 'type': 'ORDER_FILL', 'orderID': '1040', 'instrument': 'USD_CHF', 'units': '-1937', 'requestedUnits': '-1937', 'price': '0.89035', 'pl': '0.0000', 'quotePL': '0', 'financing': '0.0000', 'baseFinancing': '0', 'commission': '0.0000', 'accountBalance': '99876.0939', 'gainQuoteHomeConversionFactor': '1.117443925158', 'lossQuoteHomeConversionFactor': '1.128674517371', 'guaranteedExecutionFee': '0.0000', 'quoteGuaranteedExecutionFee': '0', 'halfSpreadCost': '0.1740', 'fullVWAP': '0.89035', 'reason': 'MARKET_ORDER', 'tradeOpened': {'price': '0.89035', 'tradeID': '1041', 'units': '-1937', 'guaranteedExecutionFee': '0.0000', 'quoteGuaranteedExecutionFee': '0', 'halfSpreadCost': '0.1740', 'initialMarginRequired': '77.4800'}, 'fullPrice': {'closeoutBid': '0.89035', 'closeoutAsk': '0.89051', 'timestamp': '2023-11-14T17:45:58.579826046Z', 'bids': [{'price': '0.89035', 'liquidity': '10000000'}], 'asks': [{'price': '0.89051', 'liquidity': '10000000'}]}, 'homeConversionFactors': {'gainQuoteHome': {'factor': '1.11744392515836'}, 'lossQuoteHome': {'factor': '1.12867451737100'}, 'gainBaseHome': {'factor': '1'}, 'lossBaseHome': {'factor': '1'}}}, 'relatedTransactionIDs': ['1040', '1041', '1042', '1043'], 'lastTransactionID': '1043'}\n",
            "{'orderCreateTransaction': {'id': '1044', 'accountID': '101-001-27332384-001', 'userID': 27332384, 'batchID': '1044', 'requestID': '43159054095023245', 'time': '2023-11-14T18:16:00.454617275Z', 'type': 'MARKET_ORDER', 'instrument': 'AUD_USD', 'units': '1918', 'timeInForce': 'FOK', 'positionFill': 'DEFAULT', 'takeProfitOnFill': {'price': '0.65036', 'timeInForce': 'GTC'}, 'stopLossOnFill': {'price': '0.64928', 'timeInForce': 'GTC', 'triggerMode': 'TOP_OF_BOOK'}, 'reason': 'CLIENT_ORDER'}, 'orderFillTransaction': {'id': '1045', 'accountID': '101-001-27332384-001', 'userID': 27332384, 'batchID': '1044', 'requestID': '43159054095023245', 'time': '2023-11-14T18:16:00.454617275Z', 'type': 'ORDER_FILL', 'orderID': '1044', 'instrument': 'AUD_USD', 'units': '1918', 'requestedUnits': '1918', 'price': '0.64979', 'pl': '0.0000', 'quotePL': '0', 'financing': '0.0000', 'baseFinancing': '0', 'commission': '0.0000', 'accountBalance': '99876.0939', 'gainQuoteHomeConversionFactor': '1', 'lossQuoteHomeConversionFactor': '1', 'guaranteedExecutionFee': '0.0000', 'quoteGuaranteedExecutionFee': '0', 'halfSpreadCost': '0.1055', 'fullVWAP': '0.64979', 'reason': 'MARKET_ORDER', 'tradeOpened': {'price': '0.64979', 'tradeID': '1045', 'units': '1918', 'guaranteedExecutionFee': '0.0000', 'quoteGuaranteedExecutionFee': '0', 'halfSpreadCost': '0.1055', 'initialMarginRequired': '37.3860'}, 'fullPrice': {'closeoutBid': '0.64968', 'closeoutAsk': '0.64979', 'timestamp': '2023-11-14T18:16:00.048120142Z', 'bids': [{'price': '0.64968', 'liquidity': '10000000'}], 'asks': [{'price': '0.64979', 'liquidity': '10000000'}]}, 'homeConversionFactors': {'gainQuoteHome': {'factor': '1'}, 'lossQuoteHome': {'factor': '1'}, 'gainBaseHome': {'factor': '0.64649130'}, 'lossBaseHome': {'factor': '0.65298870'}}}, 'relatedTransactionIDs': ['1044', '1045', '1046', '1047'], 'lastTransactionID': '1047'}\n",
            "{'orderCreateTransaction': {'id': '1048', 'accountID': '101-001-27332384-001', 'userID': 27332384, 'batchID': '1048', 'requestID': '43159054095023408', 'time': '2023-11-14T18:16:00.588540084Z', 'type': 'MARKET_ORDER', 'instrument': 'USD_CAD', 'units': '-2000', 'timeInForce': 'FOK', 'positionFill': 'DEFAULT', 'takeProfitOnFill': {'price': '1.37054', 'timeInForce': 'GTC'}, 'stopLossOnFill': {'price': '1.37183', 'timeInForce': 'GTC', 'triggerMode': 'TOP_OF_BOOK'}, 'reason': 'CLIENT_ORDER'}, 'orderFillTransaction': {'id': '1049', 'accountID': '101-001-27332384-001', 'userID': 27332384, 'batchID': '1048', 'requestID': '43159054095023408', 'time': '2023-11-14T18:16:00.588540084Z', 'type': 'ORDER_FILL', 'orderID': '1048', 'instrument': 'USD_CAD', 'units': '-2000', 'requestedUnits': '-2000', 'price': '1.37121', 'pl': '0.0000', 'quotePL': '0', 'financing': '0.0000', 'baseFinancing': '0', 'commission': '0.0000', 'accountBalance': '99876.0939', 'gainQuoteHomeConversionFactor': '0.72559150571', 'lossQuoteHomeConversionFactor': '0.732883882652', 'guaranteedExecutionFee': '0.0000', 'quoteGuaranteedExecutionFee': '0', 'halfSpreadCost': '0.1240', 'fullVWAP': '1.37121', 'reason': 'MARKET_ORDER', 'tradeOpened': {'price': '1.37121', 'tradeID': '1049', 'units': '-2000', 'guaranteedExecutionFee': '0.0000', 'quoteGuaranteedExecutionFee': '0', 'halfSpreadCost': '0.1240', 'initialMarginRequired': '40.0000'}, 'fullPrice': {'closeoutBid': '1.37121', 'closeoutAsk': '1.37138', 'timestamp': '2023-11-14T18:15:56.124150447Z', 'bids': [{'price': '1.37121', 'liquidity': '10000000'}], 'asks': [{'price': '1.37138', 'liquidity': '10000000'}]}, 'homeConversionFactors': {'gainQuoteHome': {'factor': '0.72559150571026'}, 'lossQuoteHome': {'factor': '0.73288388265208'}, 'gainBaseHome': {'factor': '1'}, 'lossBaseHome': {'factor': '1'}}}, 'relatedTransactionIDs': ['1048', '1049', '1050', '1051'], 'lastTransactionID': '1051'}\n",
            "{'orderCreateTransaction': {'id': '1052', 'accountID': '101-001-27332384-001', 'userID': 27332384, 'batchID': '1052', 'requestID': '61173452601980472', 'time': '2023-11-14T18:16:00.621715386Z', 'type': 'MARKET_ORDER', 'instrument': 'GBP_AUD', 'units': '-2035', 'timeInForce': 'FOK', 'positionFill': 'DEFAULT', 'takeProfitOnFill': {'price': '1.92132', 'timeInForce': 'GTC'}, 'stopLossOnFill': {'price': '1.92375', 'timeInForce': 'GTC', 'triggerMode': 'TOP_OF_BOOK'}, 'reason': 'CLIENT_ORDER'}, 'orderFillTransaction': {'id': '1053', 'accountID': '101-001-27332384-001', 'userID': 27332384, 'batchID': '1052', 'requestID': '61173452601980472', 'time': '2023-11-14T18:16:00.621715386Z', 'type': 'ORDER_FILL', 'orderID': '1052', 'instrument': 'GBP_AUD', 'units': '-2035', 'requestedUnits': '-2035', 'price': '1.92259', 'pl': '0.0000', 'quotePL': '0', 'financing': '0.0000', 'baseFinancing': '0', 'commission': '0.0000', 'accountBalance': '99876.0939', 'gainQuoteHomeConversionFactor': '0.64649130', 'lossQuoteHomeConversionFactor': '0.65298870', 'guaranteedExecutionFee': '0.0000', 'quoteGuaranteedExecutionFee': '0', 'halfSpreadCost': '0.2512', 'fullVWAP': '1.92259', 'reason': 'MARKET_ORDER', 'tradeOpened': {'price': '1.92259', 'tradeID': '1053', 'units': '-2035', 'guaranteedExecutionFee': '0.0000', 'quoteGuaranteedExecutionFee': '0', 'halfSpreadCost': '0.2512', 'initialMarginRequired': '127.1122'}, 'fullPrice': {'closeoutBid': '1.92259', 'closeoutAsk': '1.92297', 'timestamp': '2023-11-14T18:16:00.478801825Z', 'bids': [{'price': '1.92259', 'liquidity': '10000000'}], 'asks': [{'price': '1.92297', 'liquidity': '10000000'}]}, 'homeConversionFactors': {'gainQuoteHome': {'factor': '0.64649130'}, 'lossQuoteHome': {'factor': '0.65298870'}, 'gainBaseHome': {'factor': '1.24301370'}, 'lossBaseHome': {'factor': '1.25550630'}}}, 'relatedTransactionIDs': ['1052', '1053', '1054', '1055'], 'lastTransactionID': '1055'}\n",
            "{'orderCreateTransaction': {'id': '1056', 'accountID': '101-001-27332384-001', 'userID': 27332384, 'batchID': '1056', 'requestID': '25144655585581048', 'time': '2023-11-14T18:16:00.670670893Z', 'type': 'MARKET_ORDER', 'instrument': 'AUD_JPY', 'units': '1913', 'timeInForce': 'FOK', 'positionFill': 'DEFAULT', 'takeProfitOnFill': {'price': '97.874', 'timeInForce': 'GTC'}, 'stopLossOnFill': {'price': '97.739', 'timeInForce': 'GTC', 'triggerMode': 'TOP_OF_BOOK'}, 'reason': 'CLIENT_ORDER'}, 'orderFillTransaction': {'id': '1057', 'accountID': '101-001-27332384-001', 'userID': 27332384, 'batchID': '1056', 'requestID': '25144655585581048', 'time': '2023-11-14T18:16:00.670670893Z', 'type': 'ORDER_FILL', 'orderID': '1056', 'instrument': 'AUD_JPY', 'units': '1913', 'requestedUnits': '1913', 'price': '97.802', 'pl': '0.0000', 'quotePL': '0', 'financing': '0.0000', 'baseFinancing': '0', 'commission': '0.0000', 'accountBalance': '99876.0939', 'gainQuoteHomeConversionFactor': '0.00661065879', 'lossQuoteHomeConversionFactor': '0.006677097572', 'guaranteedExecutionFee': '0.0000', 'quoteGuaranteedExecutionFee': '0', 'halfSpreadCost': '0.1144', 'fullVWAP': '97.802', 'reason': 'MARKET_ORDER', 'tradeOpened': {'price': '97.802', 'tradeID': '1057', 'units': '1913', 'guaranteedExecutionFee': '0.0000', 'quoteGuaranteedExecutionFee': '0', 'halfSpreadCost': '0.1144', 'initialMarginRequired': '62.1476'}, 'fullPrice': {'closeoutBid': '97.784', 'closeoutAsk': '97.802', 'timestamp': '2023-11-14T18:16:00.397787468Z', 'bids': [{'price': '97.784', 'liquidity': '5000000'}], 'asks': [{'price': '97.802', 'liquidity': '5000000'}]}, 'homeConversionFactors': {'gainQuoteHome': {'factor': '0.00661065879015'}, 'lossQuoteHome': {'factor': '0.00667709757197'}, 'gainBaseHome': {'factor': '0.64649130'}, 'lossBaseHome': {'factor': '0.65298870'}}}, 'relatedTransactionIDs': ['1056', '1057', '1058', '1059'], 'lastTransactionID': '1059'}\n",
            "{'orderCreateTransaction': {'id': '1060', 'accountID': '101-001-27332384-001', 'userID': 27332384, 'batchID': '1060', 'requestID': '25144655585581292', 'time': '2023-11-14T18:16:00.831167912Z', 'type': 'MARKET_ORDER', 'instrument': 'NZD_JPY', 'units': '2016', 'timeInForce': 'FOK', 'positionFill': 'DEFAULT', 'takeProfitOnFill': {'price': '90.302', 'timeInForce': 'GTC'}, 'stopLossOnFill': {'price': '90.122', 'timeInForce': 'GTC', 'triggerMode': 'TOP_OF_BOOK'}, 'reason': 'CLIENT_ORDER'}, 'orderFillTransaction': {'id': '1061', 'accountID': '101-001-27332384-001', 'userID': 27332384, 'batchID': '1060', 'requestID': '25144655585581292', 'time': '2023-11-14T18:16:00.831167912Z', 'type': 'ORDER_FILL', 'orderID': '1060', 'instrument': 'NZD_JPY', 'units': '2016', 'requestedUnits': '2016', 'price': '90.203', 'pl': '0.0000', 'quotePL': '0', 'financing': '0.0000', 'baseFinancing': '0', 'commission': '0.0000', 'accountBalance': '99876.0939', 'gainQuoteHomeConversionFactor': '0.00661065879', 'lossQuoteHomeConversionFactor': '0.006677097572', 'guaranteedExecutionFee': '0.0000', 'quoteGuaranteedExecutionFee': '0', 'halfSpreadCost': '0.2210', 'fullVWAP': '90.203', 'reason': 'MARKET_ORDER', 'tradeOpened': {'price': '90.203', 'tradeID': '1061', 'units': '2016', 'guaranteedExecutionFee': '0.0000', 'quoteGuaranteedExecutionFee': '0', 'halfSpreadCost': '0.2210', 'initialMarginRequired': '60.4094'}, 'fullPrice': {'closeoutBid': '90.170', 'closeoutAsk': '90.203', 'timestamp': '2023-11-14T18:16:00.606363335Z', 'bids': [{'price': '90.170', 'liquidity': '5000000'}], 'asks': [{'price': '90.203', 'liquidity': '5000000'}]}, 'homeConversionFactors': {'gainQuoteHome': {'factor': '0.00661065879015'}, 'lossQuoteHome': {'factor': '0.00667709757197'}, 'gainBaseHome': {'factor': '0.59630350'}, 'lossBaseHome': {'factor': '0.60229650'}}}, 'relatedTransactionIDs': ['1060', '1061', '1062', '1063'], 'lastTransactionID': '1063'}\n",
            "{'orderCreateTransaction': {'id': '1066', 'accountID': '101-001-27332384-001', 'userID': 27332384, 'batchID': '1066', 'requestID': '43159057871060971', 'time': '2023-11-14T18:31:00.403006802Z', 'type': 'MARKET_ORDER', 'instrument': 'EUR_CHF', 'units': '1917', 'timeInForce': 'FOK', 'positionFill': 'DEFAULT', 'takeProfitOnFill': {'price': '0.96792', 'timeInForce': 'GTC'}, 'stopLossOnFill': {'price': '0.96672', 'timeInForce': 'GTC', 'triggerMode': 'TOP_OF_BOOK'}, 'reason': 'CLIENT_ORDER'}, 'orderFillTransaction': {'id': '1067', 'accountID': '101-001-27332384-001', 'userID': 27332384, 'batchID': '1066', 'requestID': '43159057871060971', 'time': '2023-11-14T18:31:00.403006802Z', 'type': 'ORDER_FILL', 'orderID': '1066', 'instrument': 'EUR_CHF', 'units': '1917', 'requestedUnits': '1917', 'price': '0.96736', 'pl': '0.0000', 'quotePL': '0', 'financing': '0.0000', 'baseFinancing': '0', 'commission': '0.0000', 'accountBalance': '99873.9917', 'gainQuoteHomeConversionFactor': '1.118272810315', 'lossQuoteHomeConversionFactor': '1.129511733031', 'guaranteedExecutionFee': '0.0000', 'quoteGuaranteedExecutionFee': '0', 'halfSpreadCost': '0.2155', 'fullVWAP': '0.96736', 'reason': 'MARKET_ORDER', 'tradeOpened': {'price': '0.96736', 'tradeID': '1067', 'units': '1917', 'guaranteedExecutionFee': '0.0000', 'quoteGuaranteedExecutionFee': '0', 'halfSpreadCost': '0.2155', 'initialMarginRequired': '83.3573'}, 'fullPrice': {'closeoutBid': '0.96716', 'closeoutAsk': '0.96736', 'timestamp': '2023-11-14T18:30:39.135108663Z', 'bids': [{'price': '0.96716', 'liquidity': '10000000'}], 'asks': [{'price': '0.96736', 'liquidity': '10000000'}]}, 'homeConversionFactors': {'gainQuoteHome': {'factor': '1.11827281031464'}, 'lossQuoteHome': {'factor': '1.12951173303136'}, 'gainBaseHome': {'factor': '1.08164460'}, 'lossBaseHome': {'factor': '1.09251540'}}}, 'relatedTransactionIDs': ['1066', '1067', '1068', '1069'], 'lastTransactionID': '1069'}\n",
            "{'orderCreateTransaction': {'id': '1070', 'accountID': '101-001-27332384-001', 'userID': 27332384, 'batchID': '1070', 'requestID': '79187854889975755', 'time': '2023-11-14T18:31:00.604302945Z', 'type': 'MARKET_ORDER', 'instrument': 'AUD_JPY', 'units': '2017', 'timeInForce': 'FOK', 'positionFill': 'DEFAULT', 'takeProfitOnFill': {'price': '97.962', 'timeInForce': 'GTC'}, 'stopLossOnFill': {'price': '97.767', 'timeInForce': 'GTC', 'triggerMode': 'TOP_OF_BOOK'}, 'reason': 'CLIENT_ORDER'}, 'orderFillTransaction': {'id': '1071', 'accountID': '101-001-27332384-001', 'userID': 27332384, 'batchID': '1070', 'requestID': '79187854889975755', 'time': '2023-11-14T18:31:00.604302945Z', 'type': 'ORDER_FILL', 'orderID': '1070', 'instrument': 'AUD_JPY', 'units': '2017', 'requestedUnits': '2017', 'price': '97.849', 'pl': '0.0000', 'quotePL': '0', 'financing': '0.0000', 'baseFinancing': '0', 'commission': '0.0000', 'accountBalance': '99873.9917', 'gainQuoteHomeConversionFactor': '0.00660936339', 'lossQuoteHomeConversionFactor': '0.006675789152', 'guaranteedExecutionFee': '0.0000', 'quoteGuaranteedExecutionFee': '0', 'halfSpreadCost': '0.1340', 'fullVWAP': '97.849', 'reason': 'MARKET_ORDER', 'tradeOpened': {'price': '97.849', 'tradeID': '1071', 'units': '2017', 'guaranteedExecutionFee': '0.0000', 'quoteGuaranteedExecutionFee': '0', 'halfSpreadCost': '0.1340', 'initialMarginRequired': '65.5434'}, 'fullPrice': {'closeoutBid': '97.829', 'closeoutAsk': '97.849', 'timestamp': '2023-11-14T18:31:00.089168295Z', 'bids': [{'price': '97.829', 'liquidity': '5000000'}], 'asks': [{'price': '97.849', 'liquidity': '5000000'}]}, 'homeConversionFactors': {'gainQuoteHome': {'factor': '0.00660936338978'}, 'lossQuoteHome': {'factor': '0.00667578915250'}, 'gainBaseHome': {'factor': '0.64666045'}, 'lossBaseHome': {'factor': '0.65315955'}}}, 'relatedTransactionIDs': ['1070', '1071', '1072', '1073'], 'lastTransactionID': '1073'}\n",
            "{'orderCreateTransaction': {'id': '1074', 'accountID': '101-001-27332384-001', 'userID': 27332384, 'batchID': '1074', 'requestID': '25144659357578495', 'time': '2023-11-14T18:31:00.607937995Z', 'type': 'MARKET_ORDER', 'instrument': 'EUR_JPY', 'units': '1921', 'timeInForce': 'FOK', 'positionFill': 'DEFAULT', 'takeProfitOnFill': {'price': '163.735', 'timeInForce': 'GTC'}, 'stopLossOnFill': {'price': '163.582', 'timeInForce': 'GTC', 'triggerMode': 'TOP_OF_BOOK'}, 'reason': 'CLIENT_ORDER'}, 'orderFillTransaction': {'id': '1075', 'accountID': '101-001-27332384-001', 'userID': 27332384, 'batchID': '1074', 'requestID': '25144659357578495', 'time': '2023-11-14T18:31:00.607937995Z', 'type': 'ORDER_FILL', 'orderID': '1074', 'instrument': 'EUR_JPY', 'units': '1921', 'requestedUnits': '1921', 'price': '163.663', 'pl': '0.0000', 'quotePL': '0', 'financing': '0.0000', 'baseFinancing': '0', 'commission': '0.0000', 'accountBalance': '99873.9917', 'gainQuoteHomeConversionFactor': '0.00660936339', 'lossQuoteHomeConversionFactor': '0.006675789152', 'guaranteedExecutionFee': '0.0000', 'quoteGuaranteedExecutionFee': '0', 'halfSpreadCost': '0.1085', 'fullVWAP': '163.663', 'reason': 'MARKET_ORDER', 'tradeOpened': {'price': '163.663', 'tradeID': '1075', 'units': '1921', 'guaranteedExecutionFee': '0.0000', 'quoteGuaranteedExecutionFee': '0', 'halfSpreadCost': '0.1085', 'initialMarginRequired': '104.4150'}, 'fullPrice': {'closeoutBid': '163.646', 'closeoutAsk': '163.663', 'timestamp': '2023-11-14T18:30:56.856081611Z', 'bids': [{'price': '163.646', 'liquidity': '10000000'}], 'asks': [{'price': '163.663', 'liquidity': '10000000'}]}, 'homeConversionFactors': {'gainQuoteHome': {'factor': '0.00660936338978'}, 'lossQuoteHome': {'factor': '0.00667578915250'}, 'gainBaseHome': {'factor': '1.08165455'}, 'lossBaseHome': {'factor': '1.09252545'}}}, 'relatedTransactionIDs': ['1074', '1075', '1076', '1077'], 'lastTransactionID': '1077'}\n",
            "{'orderCreateTransaction': {'id': '1078', 'accountID': '101-001-27332384-001', 'userID': 27332384, 'batchID': '1078', 'requestID': '61173456377960027', 'time': '2023-11-14T18:31:00.748106694Z', 'type': 'MARKET_ORDER', 'instrument': 'NZD_JPY', 'units': '1969', 'timeInForce': 'FOK', 'positionFill': 'DEFAULT', 'takeProfitOnFill': {'price': '90.349', 'timeInForce': 'GTC'}, 'stopLossOnFill': {'price': '90.172', 'timeInForce': 'GTC', 'triggerMode': 'TOP_OF_BOOK'}, 'reason': 'CLIENT_ORDER'}, 'orderFillTransaction': {'id': '1079', 'accountID': '101-001-27332384-001', 'userID': 27332384, 'batchID': '1078', 'requestID': '61173456377960027', 'time': '2023-11-14T18:31:00.748106694Z', 'type': 'ORDER_FILL', 'orderID': '1078', 'instrument': 'NZD_JPY', 'units': '1969', 'requestedUnits': '1969', 'price': '90.249', 'pl': '0.0000', 'quotePL': '0', 'financing': '0.0000', 'baseFinancing': '0', 'commission': '0.0000', 'accountBalance': '99873.9917', 'gainQuoteHomeConversionFactor': '0.00660936339', 'lossQuoteHomeConversionFactor': '0.006675789152', 'guaranteedExecutionFee': '0.0000', 'quoteGuaranteedExecutionFee': '0', 'halfSpreadCost': '0.2158', 'fullVWAP': '90.249', 'reason': 'MARKET_ORDER', 'tradeOpened': {'price': '90.249', 'tradeID': '1079', 'units': '1969', 'guaranteedExecutionFee': '0.0000', 'quoteGuaranteedExecutionFee': '0', 'halfSpreadCost': '0.2158', 'initialMarginRequired': '59.0178'}, 'fullPrice': {'closeoutBid': '90.216', 'closeoutAsk': '90.249', 'timestamp': '2023-11-14T18:31:00.081584089Z', 'bids': [{'price': '90.216', 'liquidity': '5000000'}], 'asks': [{'price': '90.249', 'liquidity': '5000000'}]}, 'homeConversionFactors': {'gainQuoteHome': {'factor': '0.00660936338978'}, 'lossQuoteHome': {'factor': '0.00667578915250'}, 'gainBaseHome': {'factor': '0.59647265'}, 'lossBaseHome': {'factor': '0.60246735'}}}, 'relatedTransactionIDs': ['1078', '1079', '1080', '1081'], 'lastTransactionID': '1081'}\n",
            "{'orderCreateTransaction': {'id': '1084', 'accountID': '101-001-27332384-001', 'userID': 27332384, 'batchID': '1084', 'requestID': '43159061642904622', 'time': '2023-11-14T18:46:00.442610151Z', 'type': 'MARKET_ORDER', 'instrument': 'EUR_CHF', 'units': '2073', 'timeInForce': 'FOK', 'positionFill': 'DEFAULT', 'takeProfitOnFill': {'price': '0.96784', 'timeInForce': 'GTC'}, 'stopLossOnFill': {'price': '0.96682', 'timeInForce': 'GTC', 'triggerMode': 'TOP_OF_BOOK'}, 'reason': 'CLIENT_ORDER'}, 'orderFillTransaction': {'id': '1085', 'accountID': '101-001-27332384-001', 'userID': 27332384, 'batchID': '1084', 'requestID': '43159061642904622', 'time': '2023-11-14T18:46:00.442610151Z', 'type': 'ORDER_FILL', 'orderID': '1084', 'instrument': 'EUR_CHF', 'units': '2073', 'requestedUnits': '2073', 'price': '0.96738', 'pl': '0.0000', 'quotePL': '0', 'financing': '0.0000', 'baseFinancing': '0', 'commission': '0.0000', 'accountBalance': '99875.8088', 'gainQuoteHomeConversionFactor': '1.118574528061', 'lossQuoteHomeConversionFactor': '1.129816483117', 'guaranteedExecutionFee': '0.0000', 'quoteGuaranteedExecutionFee': '0', 'halfSpreadCost': '0.2564', 'fullVWAP': '0.96738', 'reason': 'MARKET_ORDER', 'tradeOpened': {'price': '0.96738', 'tradeID': '1085', 'units': '2073', 'guaranteedExecutionFee': '0.0000', 'quoteGuaranteedExecutionFee': '0', 'halfSpreadCost': '0.2564', 'initialMarginRequired': '90.1664'}, 'fullPrice': {'closeoutBid': '0.96716', 'closeoutAsk': '0.96738', 'timestamp': '2023-11-14T18:46:00.120851255Z', 'bids': [{'price': '0.96716', 'liquidity': '10000000'}], 'asks': [{'price': '0.96738', 'liquidity': '10000000'}]}, 'homeConversionFactors': {'gainQuoteHome': {'factor': '1.11857452806096'}, 'lossQuoteHome': {'factor': '1.12981648311684'}, 'gainBaseHome': {'factor': '1.08195305'}, 'lossBaseHome': {'factor': '1.09282695'}}}, 'relatedTransactionIDs': ['1084', '1085', '1086', '1087'], 'lastTransactionID': '1087'}\n",
            "{'orderCreateTransaction': {'id': '1088', 'accountID': '101-001-27332384-001', 'userID': 27332384, 'batchID': '1088', 'requestID': '43159061642904864', 'time': '2023-11-14T18:46:00.613616576Z', 'type': 'MARKET_ORDER', 'instrument': 'EUR_JPY', 'units': '2029', 'timeInForce': 'FOK', 'positionFill': 'DEFAULT', 'takeProfitOnFill': {'price': '163.766', 'timeInForce': 'GTC'}, 'stopLossOnFill': {'price': '163.601', 'timeInForce': 'GTC', 'triggerMode': 'TOP_OF_BOOK'}, 'reason': 'CLIENT_ORDER'}, 'orderFillTransaction': {'id': '1089', 'accountID': '101-001-27332384-001', 'userID': 27332384, 'batchID': '1088', 'requestID': '43159061642904864', 'time': '2023-11-14T18:46:00.613616576Z', 'type': 'ORDER_FILL', 'orderID': '1088', 'instrument': 'EUR_JPY', 'units': '2029', 'requestedUnits': '2029', 'price': '163.681', 'pl': '0.0000', 'quotePL': '0', 'financing': '0.0000', 'baseFinancing': '0', 'commission': '0.0000', 'accountBalance': '99875.8088', 'gainQuoteHomeConversionFactor': '0.006610483113', 'lossQuoteHomeConversionFactor': '0.006676920129', 'guaranteedExecutionFee': '0.0000', 'quoteGuaranteedExecutionFee': '0', 'halfSpreadCost': '0.1146', 'fullVWAP': '163.681', 'reason': 'MARKET_ORDER', 'tradeOpened': {'price': '163.681', 'tradeID': '1089', 'units': '2029', 'guaranteedExecutionFee': '0.0000', 'quoteGuaranteedExecutionFee': '0', 'halfSpreadCost': '0.1146', 'initialMarginRequired': '110.3157'}, 'fullPrice': {'closeoutBid': '163.664', 'closeoutAsk': '163.681', 'timestamp': '2023-11-14T18:45:55.739170667Z', 'bids': [{'price': '163.664', 'liquidity': '10000000'}], 'asks': [{'price': '163.681', 'liquidity': '10000000'}]}, 'homeConversionFactors': {'gainQuoteHome': {'factor': '0.00661048311317'}, 'lossQuoteHome': {'factor': '0.00667692012939'}, 'gainBaseHome': {'factor': '1.08195305'}, 'lossBaseHome': {'factor': '1.09282695'}}}, 'relatedTransactionIDs': ['1088', '1089', '1090', '1091'], 'lastTransactionID': '1091'}\n",
            "{'orderCreateTransaction': {'id': '1092', 'accountID': '101-001-27332384-001', 'userID': 27332384, 'batchID': '1092', 'requestID': '79187858661835917', 'time': '2023-11-14T18:46:00.765212778Z', 'type': 'MARKET_ORDER', 'instrument': 'NZD_CHF', 'units': '2003', 'timeInForce': 'FOK', 'positionFill': 'DEFAULT', 'takeProfitOnFill': {'price': '0.53388', 'timeInForce': 'GTC'}, 'stopLossOnFill': {'price': '0.53310', 'timeInForce': 'GTC', 'triggerMode': 'TOP_OF_BOOK'}, 'reason': 'CLIENT_ORDER'}, 'orderFillTransaction': {'id': '1093', 'accountID': '101-001-27332384-001', 'userID': 27332384, 'batchID': '1092', 'requestID': '79187858661835917', 'time': '2023-11-14T18:46:00.765212778Z', 'type': 'ORDER_FILL', 'orderID': '1092', 'instrument': 'NZD_CHF', 'units': '2003', 'requestedUnits': '2003', 'price': '0.53362', 'pl': '0.0000', 'quotePL': '0', 'financing': '0.0000', 'baseFinancing': '0', 'commission': '0.0000', 'accountBalance': '99875.8088', 'gainQuoteHomeConversionFactor': '1.118574528061', 'lossQuoteHomeConversionFactor': '1.129816483117', 'guaranteedExecutionFee': '0.0000', 'quoteGuaranteedExecutionFee': '0', 'halfSpreadCost': '0.4391', 'fullVWAP': '0.53362', 'reason': 'MARKET_ORDER', 'tradeOpened': {'price': '0.53362', 'tradeID': '1093', 'units': '2003', 'guaranteedExecutionFee': '0.0000', 'quoteGuaranteedExecutionFee': '0', 'halfSpreadCost': '0.4391', 'initialMarginRequired': '48.0504'}, 'fullPrice': {'closeoutBid': '0.53323', 'closeoutAsk': '0.53362', 'timestamp': '2023-11-14T18:45:53.579128415Z', 'bids': [{'price': '0.53323', 'liquidity': '10000000'}], 'asks': [{'price': '0.53362', 'liquidity': '10000000'}]}, 'homeConversionFactors': {'gainQuoteHome': {'factor': '1.11857452806096'}, 'lossQuoteHome': {'factor': '1.12981648311684'}, 'gainBaseHome': {'factor': '0.59673135'}, 'lossBaseHome': {'factor': '0.60272865'}}}, 'relatedTransactionIDs': ['1092', '1093', '1094', '1095'], 'lastTransactionID': '1095'}\n"
          ]
        }
      ],
      "source": [
        "# for i in range (len(list_of_str_currency)):\n",
        "#     trading_job(currency_pairs[i],list_of_str_currency[i])\n",
        "\n",
        "scheduler = BlockingScheduler()\n",
        "for i in range (len(currency_pairs)):\n",
        "    scheduler.add_job(trading_job, 'cron', args = [currency_pairs[i],list_of_str_currency[i]], day_of_week='mon-fri', hour='00-23', minute='1,16,31,46', start_date='2022-01-12 12:00:00')\n",
        "scheduler.start()\n"
      ]
    },
    {
      "cell_type": "code",
      "execution_count": 10,
      "metadata": {},
      "outputs": [
        {
          "data": {
            "text/plain": [
              "-       9209\n",
              "Buy      397\n",
              "Sell     394\n",
              "Name: count, dtype: int64"
            ]
          },
          "execution_count": 10,
          "metadata": {},
          "output_type": "execute_result"
        }
      ],
      "source": [
        "da= pd.read_csv(\"EURUSD_Candlestick_5_M_ASK_30.09.2019-30.09.2022.csv\")\n",
        "da = da[:10000]\n",
        "signals = []\n",
        "\n",
        "for i in range(0, len(da)):\n",
        "    \n",
        "    block = da.iloc[i:i+15].copy()\n",
        "    calculate_vwap(block)\n",
        "    calculate_bollinger_bands(block)\n",
        "    calculate_rsi(block)\n",
        "    block = block.reset_index(drop=True)\n",
        "    if not block.empty:\n",
        "        signal = signal_generator(block)\n",
        "        signals.append(signal)\n",
        "x = pd.Series(signals)\n",
        "x.value_counts()\n"
      ]
    },
    {
      "cell_type": "code",
      "execution_count": 8,
      "metadata": {},
      "outputs": [],
      "source": [
        "#consider making 65 / 35 RSI + 1 and make above 70 / 30 as + 2 ssss"
      ]
    }
  ],
  "metadata": {
    "colab": {
      "provenance": []
    },
    "kernelspec": {
      "display_name": "Python 3.10.8 64-bit",
      "language": "python",
      "name": "python3"
    },
    "language_info": {
      "codemirror_mode": {
        "name": "ipython",
        "version": 3
      },
      "file_extension": ".py",
      "mimetype": "text/x-python",
      "name": "python",
      "nbconvert_exporter": "python",
      "pygments_lexer": "ipython3",
      "version": "3.10.11"
    },
    "vscode": {
      "interpreter": {
        "hash": "c0ff92a541b5eb8a0f75470c34280cf0dea79e8b819847822bd36e33345fddf3"
      }
    }
  },
  "nbformat": 4,
  "nbformat_minor": 0
}
