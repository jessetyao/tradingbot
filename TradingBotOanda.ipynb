{
  "cells": [
    {
      "cell_type": "code",
      "execution_count": 1,
      "metadata": {
        "id": "HDUx5opJso4E",
        "outputId": "7690265c-ce95-4865-8cca-03d60c47da16"
      },
      "outputs": [],
      "source": [
        "from apscheduler.schedulers.blocking import BlockingScheduler\n",
        "from oandapyV20 import API\n",
        "import oandapyV20.endpoints.orders as orders\n",
        "from oandapyV20.contrib.requests import MarketOrderRequest\n",
        "from oanda_candles import Pair, Gran, CandleClient\n",
        "from oandapyV20.endpoints.instruments import InstrumentsCandles\n",
        "from oandapyV20.contrib.requests import TakeProfitDetails, StopLossDetails\n",
        "import talib\n",
        "import pandas_ta as ta\n",
        "import numpy as np\n",
        "import pandas as pd\n",
        "import random\n"
      ]
    },
    {
      "cell_type": "code",
      "execution_count": 2,
      "metadata": {
        "id": "oh6erbtQso4H"
      },
      "outputs": [],
      "source": [
        "def signal_generator(df):\n",
        "    vwap = df['VWAP']\n",
        "    rsi = df['RSI'].dropna()\n",
        "\n",
        "    close_price = df['Close']\n",
        "    upper_bb = df['UpperBB']\n",
        "    lower_bb = df['LowerBB']\n",
        "    average_rsi = rsi.mean()\n",
        "    bullish = True\n",
        "    bearish = True\n",
        "    sell_count = 0\n",
        "    buy_count = 0\n",
        "    #print(rsi.values)\n",
        "    vwap_threshold = 0.0004\n",
        "    for i in range(len(df)):\n",
        "        if max(df['Open'][i], df['Close'][i]) >= (1 + vwap_threshold) * df['VWAP'][i]:\n",
        "            bearish = False\n",
        "        if min(df['Open'][i], df['Close'][i]) <= (1 - vwap_threshold) * df['VWAP'][i]:\n",
        "            bullish = False\n",
        "\n",
        "    if bullish and bearish:\n",
        "        vwap_signal =  \"Neutral\"  # Neither Bullish nor Bearish\n",
        "    elif bullish:\n",
        "        vwap_signal =  \"Bullish\"\n",
        "        buy_count += 1\n",
        "    elif bearish:\n",
        "        vwap_signal =  \"Bearish\"\n",
        "        sell_count += 1\n",
        "    else:\n",
        "        vwap_signal =  \"Neutral\"\n",
        "\n",
        "    if average_rsi > 70:\n",
        "        rsi_signal = \"Overbought\"\n",
        "        sell_count += 1\n",
        "    elif average_rsi < 30:\n",
        "        rsi_signal = \"Oversold\"\n",
        "        buy_count += 1\n",
        "    else:\n",
        "        rsi_signal = \"Neutral\"\n",
        "        \n",
        "    bb_threshold = 0.2\n",
        "    overbought_signal = (df['Close'] > upper_bb).any()\n",
        "    oversold_signal = (df['Close'] < lower_bb).any()\n",
        "\n",
        "    if overbought_signal:\n",
        "        bb_signal = \"Overbought\"\n",
        "        sell_count += 1\n",
        "    elif oversold_signal:\n",
        "        bb_signal = \"Oversold\"\n",
        "        buy_count += 1\n",
        "    else:\n",
        "        bb_signal = \"Neutral\"\n",
        "\n",
        "    if buy_count >= 2:\n",
        "        #print(vwap_signal, rsi_signal, bb_signal )\n",
        "        return \"Buy\"\n",
        "    elif sell_count >= 2:\n",
        "        #print(vwap_signal, rsi_signal, bb_signal )\n",
        "        return \"Sell\"\n",
        "    else:\n",
        "        return \"-\"\n",
        "    \n"
      ]
    },
    {
      "cell_type": "markdown",
      "metadata": {
        "id": "beYcSPPWso4I"
      },
      "source": [
        "### 3 - Connect to the market and execute trades"
      ]
    },
    {
      "cell_type": "code",
      "execution_count": 3,
      "metadata": {
        "id": "ztFBEJacso4J",
        "outputId": "00070d9d-023c-48c4-da73-8eacf43674d4"
      },
      "outputs": [
        {
          "data": {
            "text/plain": [
              "[{'complete': True,\n",
              "  'volume': 757,\n",
              "  'time': '2023-11-20T19:00:00.000000000Z',\n",
              "  'mid': {'o': '1.09454', 'h': '1.09472', 'l': '1.09408', 'c': '1.09415'}},\n",
              " {'complete': True,\n",
              "  'volume': 588,\n",
              "  'time': '2023-11-20T19:15:00.000000000Z',\n",
              "  'mid': {'o': '1.09416', 'h': '1.09421', 'l': '1.09389', 'c': '1.09420'}},\n",
              " {'complete': False,\n",
              "  'volume': 115,\n",
              "  'time': '2023-11-20T19:30:00.000000000Z',\n",
              "  'mid': {'o': '1.09421', 'h': '1.09434', 'l': '1.09412', 'c': '1.09418'}}]"
            ]
          },
          "execution_count": 3,
          "metadata": {},
          "output_type": "execute_result"
        }
      ],
      "source": [
        "access_token= \"cd7e21b015cb734770f5fcfea9da9c9f-49a95de76ed5cab29ee0d33cee5f004d\"\n",
        "accountID = \"101-001-27332384-001\" #your account ID here\n",
        "list_of_currency = [Pair.EUR_USD, Pair.EUR_GBP, Pair.USD_JPY, Pair.AUD_USD, Pair.USD_CAD, Pair.CAD_JPY, Pair.NZD_USD]\n",
        "def get_candles(n, currency):\n",
        "    client = API(access_token)\n",
        "    request = InstrumentsCandles(instrument=currency, params={\"granularity\": Gran.M15, \"count\": n})\n",
        "    response = client.request(request)\n",
        "    candles = response['candles']\n",
        "    return candles\n",
        "\n",
        "candles = get_candles(3, Pair.EUR_USD)\n",
        "candles\n"
      ]
    },
    {
      "cell_type": "code",
      "execution_count": 4,
      "metadata": {},
      "outputs": [],
      "source": [
        "def calculate_vwap(data):\n",
        "    data['VWAP'] = (((data['High'] + data['Low'] + data['Close']) / 3) * data['Volume']).cumsum() / data['Volume'].cumsum()\n",
        "\n",
        "def calculate_bollinger_bands(data, std_dev=2):\n",
        "    data['SMA'] = data['Close'].mean()\n",
        "    std_dev_values = data['Close'].std()\n",
        "    data['UpperBB'] = data['SMA'] + (std_dev * std_dev_values)\n",
        "    data['LowerBB'] = data['SMA'] - (std_dev * std_dev_values)\n",
        "    \n",
        "def calculate_rsi(data):\n",
        "    data['RSI'] = talib.RSI(data['Close'])"
      ]
    },
    {
      "cell_type": "code",
      "execution_count": 5,
      "metadata": {
        "id": "YDvk2yOSso4J"
      },
      "outputs": [],
      "source": [
        "def trading_job(currency, string_currency):\n",
        "    candles = get_candles(15, currency)\n",
        "    dfstream = pd.DataFrame(columns=['Open','Close','High','Low', 'Volume'])\n",
        "    i=0\n",
        "\n",
        "    for candle in candles:\n",
        "        dfstream.loc[i, 'Open'] = float(candle['mid']['o'])\n",
        "        dfstream.loc[i, 'Close'] = float(candle['mid']['c'])\n",
        "        dfstream.loc[i, 'High'] = float(candle['mid']['h'])\n",
        "        dfstream.loc[i, 'Low'] = float(candle['mid']['l'])\n",
        "        dfstream.loc[i, 'Volume'] = float(candle['volume'])\n",
        "        i += 1\n",
        "\n",
        "    dfstream['Open'] = dfstream['Open'].astype(float)\n",
        "    dfstream['Close'] = dfstream['Close'].astype(float)\n",
        "    dfstream['High'] = dfstream['High'].astype(float)\n",
        "    dfstream['Low'] = dfstream['Low'].astype(float)\n",
        "    dfstream['Volume'] = dfstream['Volume'].astype(float)\n",
        "    calculate_vwap(dfstream)\n",
        "    calculate_bollinger_bands(dfstream)\n",
        "    calculate_rsi(dfstream)\n",
        "\n",
        "    #print(dfstream)\n",
        "    #print(dfstream)\n",
        "    signal = signal_generator(dfstream)#\n",
        "    # EXECUTING ORDERS\n",
        "    #print(\"signal: \" + str(signal))\n",
        "    client = API(access_token)\n",
        "\n",
        "    SLTPRatio = 2.\n",
        "    previous_candleR = abs(dfstream['High'].iloc[-2]-dfstream['Low'].iloc[-2])\n",
        "\n",
        "    SLBuy = float(str(candle['mid']['o']))-previous_candleR\n",
        "    SLSell = float(str(candle['mid']['o']))+previous_candleR\n",
        "\n",
        "    TPBuy = float(str(candle['mid']['o']))+previous_candleR*SLTPRatio\n",
        "    TPSell = float(str(candle['mid']['o']))-previous_candleR*SLTPRatio\n",
        "\n",
        "    #print(dfstream.iloc[:-1,:])\n",
        "    #print(TPBuy, \"  \", SLBuy, \"  \", TPSell, \"  \", SLSell)\n",
        "    #signal = 2\n",
        "\n",
        "    #THE WRONG CODE SELL SOULD BE -2000 and BUY SHOULD BE 2000\n",
        "    #Sell\n",
        "    if signal == \"Sell\":\n",
        "        random_integer = random.randint(-100, 100)\n",
        "        mo = MarketOrderRequest(instrument=string_currency, units=2000 + random_integer, takeProfitOnFill=TakeProfitDetails(price=TPSell).data, stopLossOnFill=StopLossDetails(price=SLSell).data)\n",
        "        r = orders.OrderCreate(accountID, data=mo.data)\n",
        "        rv = client.request(r)\n",
        "        print(rv)\n",
        "    #Buy\n",
        "    elif signal == \"Buy\":\n",
        "        random_integer = random.randint(-100, 100)\n",
        "        mo = MarketOrderRequest(instrument=string_currency, units=-2000 + random_integer, takeProfitOnFill=TakeProfitDetails(price=TPBuy).data, stopLossOnFill=StopLossDetails(price=SLBuy).data)\n",
        "        r = orders.OrderCreate(accountID, data=mo.data)\n",
        "        rv = client.request(r)\n",
        "        print(rv)"
      ]
    },
    {
      "cell_type": "code",
      "execution_count": 6,
      "metadata": {},
      "outputs": [],
      "source": [
        "\n",
        "currency_pairs = [Pair.AUD_CAD, Pair.AUD_JPY, Pair.AUD_NZD, Pair.AUD_USD,\n",
        "    Pair.CAD_CHF, Pair.CAD_JPY,\n",
        "    Pair.EUR_AUD, Pair.EUR_CAD, Pair.EUR_CHF, Pair.EUR_GBP, Pair.EUR_JPY, Pair.EUR_NZD, Pair.EUR_USD,\n",
        "    Pair.GBP_AUD, Pair.GBP_CAD, Pair.GBP_CHF, Pair.GBP_JPY, Pair.GBP_NZD, Pair.GBP_USD,\n",
        "    Pair.NZD_CAD, Pair.NZD_CHF, Pair.NZD_JPY, Pair.NZD_USD,\n",
        "    Pair.USD_CAD, Pair.USD_CHF, Pair.USD_JPY]\n",
        "\n",
        "list_of_str_currency = [\"AUD_CAD\", \"AUD_JPY\", \"AUD_NZD\", \"AUD_USD\",\n",
        "    \"CAD_CHF\", \"CAD_JPY\",\n",
        "    \"EUR_AUD\", \"EUR_CAD\", \"EUR_CHF\", \"EUR_GBP\", \"EUR_JPY\", \"EUR_NZD\", \"EUR_USD\",\n",
        "    \"GBP_AUD\", \"GBP_CAD\", \"GBP_CHF\", \"GBP_JPY\", \"GBP_NZD\", \"GBP_USD\",\n",
        "    \"NZD_CAD\", \"NZD_CHF\", \"NZD_JPY\", \"NZD_USD\",\n",
        "    \"USD_CAD\", \"USD_CHF\", \"USD_JPY\"]\n"
      ]
    },
    {
      "cell_type": "code",
      "execution_count": 7,
      "metadata": {
        "id": "SgGFrNvOso4K"
      },
      "outputs": [
        {
          "name": "stdout",
          "output_type": "stream",
          "text": [
            "{'orderCreateTransaction': {'id': '1818', 'accountID': '101-001-27332384-001', 'userID': 27332384, 'batchID': '1818', 'requestID': '43161251070157368', 'time': '2023-11-20T19:46:00.674394442Z', 'type': 'MARKET_ORDER', 'instrument': 'NZD_USD', 'units': '-1911', 'timeInForce': 'FOK', 'positionFill': 'DEFAULT', 'takeProfitOnFill': {'price': '0.60400', 'timeInForce': 'GTC'}, 'stopLossOnFill': {'price': '0.60289', 'timeInForce': 'GTC', 'triggerMode': 'TOP_OF_BOOK'}, 'reason': 'CLIENT_ORDER'}, 'orderCancelTransaction': {'id': '1819', 'accountID': '101-001-27332384-001', 'userID': 27332384, 'batchID': '1818', 'requestID': '43161251070157368', 'time': '2023-11-20T19:46:00.674394442Z', 'type': 'ORDER_CANCEL', 'orderID': '1818', 'reason': 'TAKE_PROFIT_ON_FILL_LOSS'}, 'relatedTransactionIDs': ['1818', '1819'], 'lastTransactionID': '1819'}\n",
            "{'orderCreateTransaction': {'id': '1820', 'accountID': '101-001-27332384-001', 'userID': 27332384, 'batchID': '1820', 'requestID': '61175649579573927', 'time': '2023-11-20T19:46:00.684312648Z', 'type': 'MARKET_ORDER', 'instrument': 'GBP_CHF', 'units': '-2066', 'timeInForce': 'FOK', 'positionFill': 'DEFAULT', 'takeProfitOnFill': {'price': '1.10722', 'timeInForce': 'GTC'}, 'stopLossOnFill': {'price': '1.10620', 'timeInForce': 'GTC', 'triggerMode': 'TOP_OF_BOOK'}, 'reason': 'CLIENT_ORDER'}, 'orderCancelTransaction': {'id': '1821', 'accountID': '101-001-27332384-001', 'userID': 27332384, 'batchID': '1820', 'requestID': '61175649579573927', 'time': '2023-11-20T19:46:00.684312648Z', 'type': 'ORDER_CANCEL', 'orderID': '1820', 'reason': 'TAKE_PROFIT_ON_FILL_LOSS'}, 'relatedTransactionIDs': ['1820', '1821'], 'lastTransactionID': '1821'}\n",
            "{'orderCreateTransaction': {'id': '1822', 'accountID': '101-001-27332384-001', 'userID': 27332384, 'batchID': '1822', 'requestID': '79190048087636138', 'time': '2023-11-20T19:46:00.762938540Z', 'type': 'MARKET_ORDER', 'instrument': 'NZD_JPY', 'units': '-2012', 'timeInForce': 'FOK', 'positionFill': 'DEFAULT', 'takeProfitOnFill': {'price': '89.593', 'timeInForce': 'GTC'}, 'stopLossOnFill': {'price': '89.419', 'timeInForce': 'GTC', 'triggerMode': 'TOP_OF_BOOK'}, 'reason': 'CLIENT_ORDER'}, 'orderCancelTransaction': {'id': '1823', 'accountID': '101-001-27332384-001', 'userID': 27332384, 'batchID': '1822', 'requestID': '79190048087636138', 'time': '2023-11-20T19:46:00.762938540Z', 'type': 'ORDER_CANCEL', 'orderID': '1822', 'reason': 'TAKE_PROFIT_ON_FILL_LOSS'}, 'relatedTransactionIDs': ['1822', '1823'], 'lastTransactionID': '1823'}\n",
            "{'orderCreateTransaction': {'id': '1824', 'accountID': '101-001-27332384-001', 'userID': 27332384, 'batchID': '1824', 'requestID': '61175649579574227', 'time': '2023-11-20T19:46:00.933962166Z', 'type': 'MARKET_ORDER', 'instrument': 'EUR_CAD', 'units': '1932', 'timeInForce': 'FOK', 'positionFill': 'DEFAULT', 'takeProfitOnFill': {'price': '1.50090', 'timeInForce': 'GTC'}, 'stopLossOnFill': {'price': '1.50222', 'timeInForce': 'GTC', 'triggerMode': 'TOP_OF_BOOK'}, 'reason': 'CLIENT_ORDER'}, 'orderCancelTransaction': {'id': '1825', 'accountID': '101-001-27332384-001', 'userID': 27332384, 'batchID': '1824', 'requestID': '61175649579574227', 'time': '2023-11-20T19:46:00.933962166Z', 'type': 'ORDER_CANCEL', 'orderID': '1824', 'reason': 'TAKE_PROFIT_ON_FILL_LOSS'}, 'relatedTransactionIDs': ['1824', '1825'], 'lastTransactionID': '1825'}\n",
            "{'orderCreateTransaction': {'id': '1826', 'accountID': '101-001-27332384-001', 'userID': 27332384, 'batchID': '1826', 'requestID': '43161251070157727', 'time': '2023-11-20T19:46:00.957706682Z', 'type': 'MARKET_ORDER', 'instrument': 'EUR_GBP', 'units': '2008', 'timeInForce': 'FOK', 'positionFill': 'DEFAULT', 'takeProfitOnFill': {'price': '0.87448', 'timeInForce': 'GTC'}, 'stopLossOnFill': {'price': '0.87487', 'timeInForce': 'GTC', 'triggerMode': 'TOP_OF_BOOK'}, 'reason': 'CLIENT_ORDER'}, 'orderCancelTransaction': {'id': '1827', 'accountID': '101-001-27332384-001', 'userID': 27332384, 'batchID': '1826', 'requestID': '43161251070157727', 'time': '2023-11-20T19:46:00.957706682Z', 'type': 'ORDER_CANCEL', 'orderID': '1826', 'reason': 'TAKE_PROFIT_ON_FILL_LOSS'}, 'relatedTransactionIDs': ['1826', '1827'], 'lastTransactionID': '1827'}\n",
            "{'orderCreateTransaction': {'id': '1828', 'accountID': '101-001-27332384-001', 'userID': 27332384, 'batchID': '1828', 'requestID': '61175649579574265', 'time': '2023-11-20T19:46:00.963610614Z', 'type': 'MARKET_ORDER', 'instrument': 'EUR_CHF', 'units': '-2042', 'timeInForce': 'FOK', 'positionFill': 'DEFAULT', 'takeProfitOnFill': {'price': '0.96839', 'timeInForce': 'GTC'}, 'stopLossOnFill': {'price': '0.96764', 'timeInForce': 'GTC', 'triggerMode': 'TOP_OF_BOOK'}, 'reason': 'CLIENT_ORDER'}, 'orderCancelTransaction': {'id': '1829', 'accountID': '101-001-27332384-001', 'userID': 27332384, 'batchID': '1828', 'requestID': '61175649579574265', 'time': '2023-11-20T19:46:00.963610614Z', 'type': 'ORDER_CANCEL', 'orderID': '1828', 'reason': 'TAKE_PROFIT_ON_FILL_LOSS'}, 'relatedTransactionIDs': ['1828', '1829'], 'lastTransactionID': '1829'}\n",
            "{'orderCreateTransaction': {'id': '1830', 'accountID': '101-001-27332384-001', 'userID': 27332384, 'batchID': '1830', 'requestID': '79190048091830897', 'time': '2023-11-20T19:46:01.110058329Z', 'type': 'MARKET_ORDER', 'instrument': 'AUD_NZD', 'units': '2034', 'timeInForce': 'FOK', 'positionFill': 'DEFAULT', 'takeProfitOnFill': {'price': '1.08644', 'timeInForce': 'GTC'}, 'stopLossOnFill': {'price': '1.08800', 'timeInForce': 'GTC', 'triggerMode': 'TOP_OF_BOOK'}, 'reason': 'CLIENT_ORDER'}, 'orderCancelTransaction': {'id': '1831', 'accountID': '101-001-27332384-001', 'userID': 27332384, 'batchID': '1830', 'requestID': '79190048091830897', 'time': '2023-11-20T19:46:01.110058329Z', 'type': 'ORDER_CANCEL', 'orderID': '1830', 'reason': 'TAKE_PROFIT_ON_FILL_LOSS'}, 'relatedTransactionIDs': ['1830', '1831'], 'lastTransactionID': '1831'}\n",
            "{'orderCreateTransaction': {'id': '1832', 'accountID': '101-001-27332384-001', 'userID': 27332384, 'batchID': '1832', 'requestID': '25146852566613297', 'time': '2023-11-20T19:46:01.149094914Z', 'type': 'MARKET_ORDER', 'instrument': 'GBP_NZD', 'units': '2047', 'timeInForce': 'FOK', 'positionFill': 'DEFAULT', 'takeProfitOnFill': {'price': '2.07144', 'timeInForce': 'GTC'}, 'stopLossOnFill': {'price': '2.07480', 'timeInForce': 'GTC', 'triggerMode': 'TOP_OF_BOOK'}, 'reason': 'CLIENT_ORDER'}, 'orderCancelTransaction': {'id': '1833', 'accountID': '101-001-27332384-001', 'userID': 27332384, 'batchID': '1832', 'requestID': '25146852566613297', 'time': '2023-11-20T19:46:01.149094914Z', 'type': 'ORDER_CANCEL', 'orderID': '1832', 'reason': 'TAKE_PROFIT_ON_FILL_LOSS'}, 'relatedTransactionIDs': ['1832', '1833'], 'lastTransactionID': '1833'}\n",
            "{'orderCreateTransaction': {'id': '1834', 'accountID': '101-001-27332384-001', 'userID': 27332384, 'batchID': '1834', 'requestID': '79190048091830942', 'time': '2023-11-20T19:46:01.151443340Z', 'type': 'MARKET_ORDER', 'instrument': 'CAD_CHF', 'units': '-1993', 'timeInForce': 'FOK', 'positionFill': 'DEFAULT', 'takeProfitOnFill': {'price': '0.64500', 'timeInForce': 'GTC'}, 'stopLossOnFill': {'price': '0.64425', 'timeInForce': 'GTC', 'triggerMode': 'TOP_OF_BOOK'}, 'reason': 'CLIENT_ORDER'}, 'orderCancelTransaction': {'id': '1835', 'accountID': '101-001-27332384-001', 'userID': 27332384, 'batchID': '1834', 'requestID': '79190048091830942', 'time': '2023-11-20T19:46:01.151443340Z', 'type': 'ORDER_CANCEL', 'orderID': '1834', 'reason': 'TAKE_PROFIT_ON_FILL_LOSS'}, 'relatedTransactionIDs': ['1834', '1835'], 'lastTransactionID': '1835'}\n",
            "{'orderCreateTransaction': {'id': '1836', 'accountID': '101-001-27332384-001', 'userID': 27332384, 'batchID': '1836', 'requestID': '25146852566613324', 'time': '2023-11-20T19:46:01.180878678Z', 'type': 'MARKET_ORDER', 'instrument': 'USD_CAD', 'units': '1996', 'timeInForce': 'FOK', 'positionFill': 'DEFAULT', 'takeProfitOnFill': {'price': '1.37145', 'timeInForce': 'GTC'}, 'stopLossOnFill': {'price': '1.37289', 'timeInForce': 'GTC', 'triggerMode': 'TOP_OF_BOOK'}, 'reason': 'CLIENT_ORDER'}, 'orderCancelTransaction': {'id': '1837', 'accountID': '101-001-27332384-001', 'userID': 27332384, 'batchID': '1836', 'requestID': '25146852566613324', 'time': '2023-11-20T19:46:01.180878678Z', 'type': 'ORDER_CANCEL', 'orderID': '1836', 'reason': 'TAKE_PROFIT_ON_FILL_LOSS'}, 'relatedTransactionIDs': ['1836', '1837'], 'lastTransactionID': '1837'}\n",
            "{'orderCreateTransaction': {'id': '1838', 'accountID': '101-001-27332384-001', 'userID': 27332384, 'batchID': '1838', 'requestID': '25146856334113610', 'time': '2023-11-20T20:01:00.552796465Z', 'type': 'MARKET_ORDER', 'instrument': 'GBP_CHF', 'units': '-2064', 'timeInForce': 'FOK', 'positionFill': 'DEFAULT', 'takeProfitOnFill': {'price': '1.10706', 'timeInForce': 'GTC'}, 'stopLossOnFill': {'price': '1.10604', 'timeInForce': 'GTC', 'triggerMode': 'TOP_OF_BOOK'}, 'reason': 'CLIENT_ORDER'}, 'orderCancelTransaction': {'id': '1839', 'accountID': '101-001-27332384-001', 'userID': 27332384, 'batchID': '1838', 'requestID': '25146856334113610', 'time': '2023-11-20T20:01:00.552796465Z', 'type': 'ORDER_CANCEL', 'orderID': '1838', 'reason': 'TAKE_PROFIT_ON_FILL_LOSS'}, 'relatedTransactionIDs': ['1838', '1839'], 'lastTransactionID': '1839'}{'orderCreateTransaction': {'id': '1840', 'accountID': '101-001-27332384-001', 'userID': 27332384, 'batchID': '1840', 'requestID': '43161254846171672', 'time': '2023-11-20T20:01:00.552853601Z', 'type': 'MARKET_ORDER', 'instrument': 'GBP_USD', 'units': '-1911', 'timeInForce': 'FOK', 'positionFill': 'DEFAULT', 'takeProfitOnFill': {'price': '1.25170', 'timeInForce': 'GTC'}, 'stopLossOnFill': {'price': '1.25068', 'timeInForce': 'GTC', 'triggerMode': 'TOP_OF_BOOK'}, 'reason': 'CLIENT_ORDER'}, 'orderCancelTransaction': {'id': '1841', 'accountID': '101-001-27332384-001', 'userID': 27332384, 'batchID': '1840', 'requestID': '43161254846171672', 'time': '2023-11-20T20:01:00.552853601Z', 'type': 'ORDER_CANCEL', 'orderID': '1840', 'reason': 'TAKE_PROFIT_ON_FILL_LOSS'}, 'relatedTransactionIDs': ['1840', '1841'], 'lastTransactionID': '1841'}\n",
            "\n",
            "{'orderCreateTransaction': {'id': '1842', 'accountID': '101-001-27332384-001', 'userID': 27332384, 'batchID': '1842', 'requestID': '43161254846171982', 'time': '2023-11-20T20:01:00.768082489Z', 'type': 'MARKET_ORDER', 'instrument': 'EUR_GBP', 'units': '2025', 'timeInForce': 'FOK', 'positionFill': 'DEFAULT', 'takeProfitOnFill': {'price': '0.87440', 'timeInForce': 'GTC'}, 'stopLossOnFill': {'price': '0.87527', 'timeInForce': 'GTC', 'triggerMode': 'TOP_OF_BOOK'}, 'reason': 'CLIENT_ORDER'}, 'orderCancelTransaction': {'id': '1843', 'accountID': '101-001-27332384-001', 'userID': 27332384, 'batchID': '1842', 'requestID': '43161254846171982', 'time': '2023-11-20T20:01:00.768082489Z', 'type': 'ORDER_CANCEL', 'orderID': '1842', 'reason': 'TAKE_PROFIT_ON_FILL_LOSS'}, 'relatedTransactionIDs': ['1842', '1843'], 'lastTransactionID': '1843'}\n",
            "{'orderCreateTransaction': {'id': '1844', 'accountID': '101-001-27332384-001', 'userID': 27332384, 'batchID': '1844', 'requestID': '25146856334113896', 'time': '2023-11-20T20:01:00.780534393Z', 'type': 'MARKET_ORDER', 'instrument': 'EUR_CAD', 'units': '-1935', 'timeInForce': 'FOK', 'positionFill': 'DEFAULT', 'takeProfitOnFill': {'price': '1.50374', 'timeInForce': 'GTC'}, 'stopLossOnFill': {'price': '1.50137', 'timeInForce': 'GTC', 'triggerMode': 'TOP_OF_BOOK'}, 'reason': 'CLIENT_ORDER'}, 'orderCancelTransaction': {'id': '1845', 'accountID': '101-001-27332384-001', 'userID': 27332384, 'batchID': '1844', 'requestID': '25146856334113896', 'time': '2023-11-20T20:01:00.780534393Z', 'type': 'ORDER_CANCEL', 'orderID': '1844', 'reason': 'TAKE_PROFIT_ON_FILL_LOSS'}, 'relatedTransactionIDs': ['1844', '1845'], 'lastTransactionID': '1845'}\n",
            "{'orderCreateTransaction': {'id': '1846', 'accountID': '101-001-27332384-001', 'userID': 27332384, 'batchID': '1846', 'requestID': '61175657131225078', 'time': '2023-11-20T20:16:00.624032901Z', 'type': 'MARKET_ORDER', 'instrument': 'GBP_CHF', 'units': '-1954', 'timeInForce': 'FOK', 'positionFill': 'DEFAULT', 'takeProfitOnFill': {'price': '1.10686', 'timeInForce': 'GTC'}, 'stopLossOnFill': {'price': '1.10605', 'timeInForce': 'GTC', 'triggerMode': 'TOP_OF_BOOK'}, 'reason': 'CLIENT_ORDER'}, 'orderCancelTransaction': {'id': '1847', 'accountID': '101-001-27332384-001', 'userID': 27332384, 'batchID': '1846', 'requestID': '61175657131225078', 'time': '2023-11-20T20:16:00.624032901Z', 'type': 'ORDER_CANCEL', 'orderID': '1846', 'reason': 'TAKE_PROFIT_ON_FILL_LOSS'}, 'relatedTransactionIDs': ['1846', '1847'], 'lastTransactionID': '1847'}\n",
            "{'orderCreateTransaction': {'id': '1848', 'accountID': '101-001-27332384-001', 'userID': 27332384, 'batchID': '1848', 'requestID': '25146863885856953', 'time': '2023-11-20T20:31:00.494836718Z', 'type': 'MARKET_ORDER', 'instrument': 'GBP_JPY', 'units': '-2012', 'timeInForce': 'FOK', 'positionFill': 'DEFAULT', 'takeProfitOnFill': {'price': '185.678', 'timeInForce': 'GTC'}, 'stopLossOnFill': {'price': '185.555', 'timeInForce': 'GTC', 'triggerMode': 'TOP_OF_BOOK'}, 'reason': 'CLIENT_ORDER'}, 'orderCancelTransaction': {'id': '1849', 'accountID': '101-001-27332384-001', 'userID': 27332384, 'batchID': '1848', 'requestID': '25146863885856953', 'time': '2023-11-20T20:31:00.494836718Z', 'type': 'ORDER_CANCEL', 'orderID': '1848', 'reason': 'TAKE_PROFIT_ON_FILL_LOSS'}, 'relatedTransactionIDs': ['1848', '1849'], 'lastTransactionID': '1849'}\n",
            "{'orderCreateTransaction': {'id': '1850', 'accountID': '101-001-27332384-001', 'userID': 27332384, 'batchID': '1850', 'requestID': '43161262393835107', 'time': '2023-11-20T20:31:00.710491918Z', 'type': 'MARKET_ORDER', 'instrument': 'CAD_JPY', 'units': '-1977', 'timeInForce': 'FOK', 'positionFill': 'DEFAULT', 'takeProfitOnFill': {'price': '108.148', 'timeInForce': 'GTC'}, 'stopLossOnFill': {'price': '108.061', 'timeInForce': 'GTC', 'triggerMode': 'TOP_OF_BOOK'}, 'reason': 'CLIENT_ORDER'}, 'orderCancelTransaction': {'id': '1851', 'accountID': '101-001-27332384-001', 'userID': 27332384, 'batchID': '1850', 'requestID': '43161262393835107', 'time': '2023-11-20T20:31:00.710491918Z', 'type': 'ORDER_CANCEL', 'orderID': '1850', 'reason': 'TAKE_PROFIT_ON_FILL_LOSS'}, 'relatedTransactionIDs': ['1850', '1851'], 'lastTransactionID': '1851'}\n",
            "{'orderCreateTransaction': {'id': '1852', 'accountID': '101-001-27332384-001', 'userID': 27332384, 'batchID': '1852', 'requestID': '25146867661733806', 'time': '2023-11-20T20:46:00.530318114Z', 'type': 'MARKET_ORDER', 'instrument': 'GBP_JPY', 'units': '-1907', 'timeInForce': 'FOK', 'positionFill': 'DEFAULT', 'takeProfitOnFill': {'price': '185.663', 'timeInForce': 'GTC'}, 'stopLossOnFill': {'price': '185.546', 'timeInForce': 'GTC', 'triggerMode': 'TOP_OF_BOOK'}, 'reason': 'CLIENT_ORDER'}, 'orderCancelTransaction': {'id': '1853', 'accountID': '101-001-27332384-001', 'userID': 27332384, 'batchID': '1852', 'requestID': '25146867661733806', 'time': '2023-11-20T20:46:00.530318114Z', 'type': 'ORDER_CANCEL', 'orderID': '1852', 'reason': 'TAKE_PROFIT_ON_FILL_LOSS'}, 'relatedTransactionIDs': ['1852', '1853'], 'lastTransactionID': '1853'}\n",
            "{'orderCreateTransaction': {'id': '1854', 'accountID': '101-001-27332384-001', 'userID': 27332384, 'batchID': '1854', 'requestID': '25146867661734059', 'time': '2023-11-20T20:46:00.754797615Z', 'type': 'MARKET_ORDER', 'instrument': 'USD_JPY', 'units': '-2016', 'timeInForce': 'FOK', 'positionFill': 'DEFAULT', 'takeProfitOnFill': {'price': '148.397', 'timeInForce': 'GTC'}, 'stopLossOnFill': {'price': '148.298', 'timeInForce': 'GTC', 'triggerMode': 'TOP_OF_BOOK'}, 'reason': 'CLIENT_ORDER'}, 'orderCancelTransaction': {'id': '1855', 'accountID': '101-001-27332384-001', 'userID': 27332384, 'batchID': '1854', 'requestID': '25146867661734059', 'time': '2023-11-20T20:46:00.754797615Z', 'type': 'ORDER_CANCEL', 'orderID': '1854', 'reason': 'TAKE_PROFIT_ON_FILL_LOSS'}, 'relatedTransactionIDs': ['1854', '1855'], 'lastTransactionID': '1855'}\n",
            "{'orderCreateTransaction': {'id': '1856', 'accountID': '101-001-27332384-001', 'userID': 27332384, 'batchID': '1856', 'requestID': '61175664678603957', 'time': '2023-11-20T20:46:00.770200045Z', 'type': 'MARKET_ORDER', 'instrument': 'CAD_JPY', 'units': '-1936', 'timeInForce': 'FOK', 'positionFill': 'DEFAULT', 'takeProfitOnFill': {'price': '108.184', 'timeInForce': 'GTC'}, 'stopLossOnFill': {'price': '108.064', 'timeInForce': 'GTC', 'triggerMode': 'TOP_OF_BOOK'}, 'reason': 'CLIENT_ORDER'}, 'orderCancelTransaction': {'id': '1857', 'accountID': '101-001-27332384-001', 'userID': 27332384, 'batchID': '1856', 'requestID': '61175664678603957', 'time': '2023-11-20T20:46:00.770200045Z', 'type': 'ORDER_CANCEL', 'orderID': '1856', 'reason': 'TAKE_PROFIT_ON_FILL_LOSS'}, 'relatedTransactionIDs': ['1856', '1857'], 'lastTransactionID': '1857'}\n",
            "{'orderCreateTransaction': {'id': '1858', 'accountID': '101-001-27332384-001', 'userID': 27332384, 'batchID': '1858', 'requestID': '25146871433428821', 'time': '2023-11-20T21:01:00.487379289Z', 'type': 'MARKET_ORDER', 'instrument': 'NZD_CHF', 'units': '2070', 'timeInForce': 'FOK', 'positionFill': 'DEFAULT', 'takeProfitOnFill': {'price': '0.53345', 'timeInForce': 'GTC'}, 'stopLossOnFill': {'price': '0.53477', 'timeInForce': 'GTC', 'triggerMode': 'TOP_OF_BOOK'}, 'reason': 'CLIENT_ORDER'}, 'orderCancelTransaction': {'id': '1859', 'accountID': '101-001-27332384-001', 'userID': 27332384, 'batchID': '1858', 'requestID': '25146871433428821', 'time': '2023-11-20T21:01:00.487379289Z', 'type': 'ORDER_CANCEL', 'orderID': '1858', 'reason': 'TAKE_PROFIT_ON_FILL_LOSS'}, 'relatedTransactionIDs': ['1858', '1859'], 'lastTransactionID': '1859'}\n",
            "{'orderCreateTransaction': {'id': '1860', 'accountID': '101-001-27332384-001', 'userID': 27332384, 'batchID': '1860', 'requestID': '25146871433428825', 'time': '2023-11-20T21:01:00.494699434Z', 'type': 'MARKET_ORDER', 'instrument': 'GBP_JPY', 'units': '-1926', 'timeInForce': 'FOK', 'positionFill': 'DEFAULT', 'takeProfitOnFill': {'price': '185.653', 'timeInForce': 'GTC'}, 'stopLossOnFill': {'price': '185.458', 'timeInForce': 'GTC', 'triggerMode': 'TOP_OF_BOOK'}, 'reason': 'CLIENT_ORDER'}, 'orderCancelTransaction': {'id': '1861', 'accountID': '101-001-27332384-001', 'userID': 27332384, 'batchID': '1860', 'requestID': '25146871433428825', 'time': '2023-11-20T21:01:00.494699434Z', 'type': 'ORDER_CANCEL', 'orderID': '1860', 'reason': 'TAKE_PROFIT_ON_FILL_LOSS'}, 'relatedTransactionIDs': ['1860', '1861'], 'lastTransactionID': '1861'}\n",
            "{'orderCreateTransaction': {'id': '1862', 'accountID': '101-001-27332384-001', 'userID': 27332384, 'batchID': '1862', 'requestID': '61175668454386703', 'time': '2023-11-20T21:01:00.714037959Z', 'type': 'MARKET_ORDER', 'instrument': 'USD_JPY', 'units': '-1992', 'timeInForce': 'FOK', 'positionFill': 'DEFAULT', 'takeProfitOnFill': {'price': '148.410', 'timeInForce': 'GTC'}, 'stopLossOnFill': {'price': '148.299', 'timeInForce': 'GTC', 'triggerMode': 'TOP_OF_BOOK'}, 'reason': 'CLIENT_ORDER'}, 'orderCancelTransaction': {'id': '1863', 'accountID': '101-001-27332384-001', 'userID': 27332384, 'batchID': '1862', 'requestID': '61175668454386703', 'time': '2023-11-20T21:01:00.714037959Z', 'type': 'ORDER_CANCEL', 'orderID': '1862', 'reason': 'TAKE_PROFIT_ON_FILL_LOSS'}, 'relatedTransactionIDs': ['1862', '1863'], 'lastTransactionID': '1863'}\n",
            "{'orderCreateTransaction': {'id': '1864', 'accountID': '101-001-27332384-001', 'userID': 27332384, 'batchID': '1864', 'requestID': '43161269945662964', 'time': '2023-11-20T21:01:00.718173594Z', 'type': 'MARKET_ORDER', 'instrument': 'CAD_JPY', 'units': '-2089', 'timeInForce': 'FOK', 'positionFill': 'DEFAULT', 'takeProfitOnFill': {'price': '108.184', 'timeInForce': 'GTC'}, 'stopLossOnFill': {'price': '108.025', 'timeInForce': 'GTC', 'triggerMode': 'TOP_OF_BOOK'}, 'reason': 'CLIENT_ORDER'}, 'orderCancelTransaction': {'id': '1865', 'accountID': '101-001-27332384-001', 'userID': 27332384, 'batchID': '1864', 'requestID': '43161269945662964', 'time': '2023-11-20T21:01:00.718173594Z', 'type': 'ORDER_CANCEL', 'orderID': '1864', 'reason': 'TAKE_PROFIT_ON_FILL_LOSS'}, 'relatedTransactionIDs': ['1864', '1865'], 'lastTransactionID': '1865'}\n",
            "{'orderCreateTransaction': {'id': '1866', 'accountID': '101-001-27332384-001', 'userID': 27332384, 'batchID': '1866', 'requestID': '43161273721612246', 'time': '2023-11-20T21:16:00.764165207Z', 'type': 'MARKET_ORDER', 'instrument': 'USD_JPY', 'units': '-2084', 'timeInForce': 'FOK', 'positionFill': 'DEFAULT', 'takeProfitOnFill': {'price': '148.442', 'timeInForce': 'GTC'}, 'stopLossOnFill': {'price': '148.325', 'timeInForce': 'GTC', 'triggerMode': 'TOP_OF_BOOK'}, 'reason': 'CLIENT_ORDER'}, 'orderCancelTransaction': {'id': '1867', 'accountID': '101-001-27332384-001', 'userID': 27332384, 'batchID': '1866', 'requestID': '43161273721612246', 'time': '2023-11-20T21:16:00.764165207Z', 'type': 'ORDER_CANCEL', 'orderID': '1866', 'reason': 'TAKE_PROFIT_ON_FILL_LOSS'}, 'relatedTransactionIDs': ['1866', '1867'], 'lastTransactionID': '1867'}\n",
            "{'orderCreateTransaction': {'id': '1868', 'accountID': '101-001-27332384-001', 'userID': 27332384, 'batchID': '1868', 'requestID': '61175672230159253', 'time': '2023-11-20T21:16:00.954069361Z', 'type': 'MARKET_ORDER', 'instrument': 'GBP_CAD', 'units': '-2082', 'timeInForce': 'FOK', 'positionFill': 'DEFAULT', 'takeProfitOnFill': {'price': '1.71788', 'timeInForce': 'GTC'}, 'stopLossOnFill': {'price': '1.71611', 'timeInForce': 'GTC', 'triggerMode': 'TOP_OF_BOOK'}, 'reason': 'CLIENT_ORDER'}, 'orderCancelTransaction': {'id': '1869', 'accountID': '101-001-27332384-001', 'userID': 27332384, 'batchID': '1868', 'requestID': '61175672230159253', 'time': '2023-11-20T21:16:00.954069361Z', 'type': 'ORDER_CANCEL', 'orderID': '1868', 'reason': 'TAKE_PROFIT_ON_FILL_LOSS'}, 'relatedTransactionIDs': ['1868', '1869'], 'lastTransactionID': '1869'}\n",
            "{'orderCreateTransaction': {'id': '1870', 'accountID': '101-001-27332384-001', 'userID': 27332384, 'batchID': '1870', 'requestID': '43161277493310909', 'time': '2023-11-20T21:31:00.665276369Z', 'type': 'MARKET_ORDER', 'instrument': 'USD_JPY', 'units': '-1992', 'timeInForce': 'FOK', 'positionFill': 'DEFAULT', 'takeProfitOnFill': {'price': '148.460', 'timeInForce': 'GTC'}, 'stopLossOnFill': {'price': '148.349', 'timeInForce': 'GTC', 'triggerMode': 'TOP_OF_BOOK'}, 'reason': 'CLIENT_ORDER'}, 'orderCancelTransaction': {'id': '1871', 'accountID': '101-001-27332384-001', 'userID': 27332384, 'batchID': '1870', 'requestID': '43161277493310909', 'time': '2023-11-20T21:31:00.665276369Z', 'type': 'ORDER_CANCEL', 'orderID': '1870', 'reason': 'TAKE_PROFIT_ON_FILL_LOSS'}, 'relatedTransactionIDs': ['1870', '1871'], 'lastTransactionID': '1871'}\n",
            "{'orderCreateTransaction': {'id': '1872', 'accountID': '101-001-27332384-001', 'userID': 27332384, 'batchID': '1872', 'requestID': '61175679777415425', 'time': '2023-11-20T21:46:00.555702675Z', 'type': 'MARKET_ORDER', 'instrument': 'EUR_AUD', 'units': '1995', 'timeInForce': 'FOK', 'positionFill': 'DEFAULT', 'takeProfitOnFill': {'price': '1.66759', 'timeInForce': 'GTC'}, 'stopLossOnFill': {'price': '1.66870', 'timeInForce': 'GTC', 'triggerMode': 'TOP_OF_BOOK'}, 'reason': 'CLIENT_ORDER'}, 'orderCancelTransaction': {'id': '1873', 'accountID': '101-001-27332384-001', 'userID': 27332384, 'batchID': '1872', 'requestID': '61175679777415425', 'time': '2023-11-20T21:46:00.555702675Z', 'type': 'ORDER_CANCEL', 'orderID': '1872', 'reason': 'TAKE_PROFIT_ON_FILL_LOSS'}, 'relatedTransactionIDs': ['1872', '1873'], 'lastTransactionID': '1873'}\n",
            "{'orderCreateTransaction': {'id': '1874', 'accountID': '101-001-27332384-001', 'userID': 27332384, 'batchID': '1874', 'requestID': '79190078286556804', 'time': '2023-11-20T21:46:00.647425595Z', 'type': 'MARKET_ORDER', 'instrument': 'GBP_JPY', 'units': '-2030', 'timeInForce': 'FOK', 'positionFill': 'DEFAULT', 'takeProfitOnFill': {'price': '185.672', 'timeInForce': 'GTC'}, 'stopLossOnFill': {'price': '185.573', 'timeInForce': 'GTC', 'triggerMode': 'TOP_OF_BOOK'}, 'reason': 'CLIENT_ORDER'}, 'orderCancelTransaction': {'id': '1875', 'accountID': '101-001-27332384-001', 'userID': 27332384, 'batchID': '1874', 'requestID': '79190078286556804', 'time': '2023-11-20T21:46:00.647425595Z', 'type': 'ORDER_CANCEL', 'orderID': '1874', 'reason': 'TAKE_PROFIT_ON_FILL_LOSS'}, 'relatedTransactionIDs': ['1874', '1875'], 'lastTransactionID': '1875'}\n",
            "{'orderCreateTransaction': {'id': '1876', 'accountID': '101-001-27332384-001', 'userID': 27332384, 'batchID': '1876', 'requestID': '61175679777415646', 'time': '2023-11-20T21:46:00.782366696Z', 'type': 'MARKET_ORDER', 'instrument': 'USD_JPY', 'units': '-2024', 'timeInForce': 'FOK', 'positionFill': 'DEFAULT', 'takeProfitOnFill': {'price': '148.540', 'timeInForce': 'GTC'}, 'stopLossOnFill': {'price': '148.375', 'timeInForce': 'GTC', 'triggerMode': 'TOP_OF_BOOK'}, 'reason': 'CLIENT_ORDER'}, 'orderCancelTransaction': {'id': '1877', 'accountID': '101-001-27332384-001', 'userID': 27332384, 'batchID': '1876', 'requestID': '61175679777415646', 'time': '2023-11-20T21:46:00.782366696Z', 'type': 'ORDER_CANCEL', 'orderID': '1876', 'reason': 'TAKE_PROFIT_ON_FILL_LOSS'}, 'relatedTransactionIDs': ['1876', '1877'], 'lastTransactionID': '1877'}\n",
            "{'orderCreateTransaction': {'id': '1878', 'accountID': '101-001-27332384-001', 'userID': 27332384, 'batchID': '1878', 'requestID': '43161281269161897', 'time': '2023-11-20T21:46:00.937644208Z', 'type': 'MARKET_ORDER', 'instrument': 'AUD_CAD', 'units': '-1915', 'timeInForce': 'FOK', 'positionFill': 'DEFAULT', 'takeProfitOnFill': {'price': '0.90082', 'timeInForce': 'GTC'}, 'stopLossOnFill': {'price': '0.89983', 'timeInForce': 'GTC', 'triggerMode': 'TOP_OF_BOOK'}, 'reason': 'CLIENT_ORDER'}, 'orderCancelTransaction': {'id': '1879', 'accountID': '101-001-27332384-001', 'userID': 27332384, 'batchID': '1878', 'requestID': '43161281269161897', 'time': '2023-11-20T21:46:00.937644208Z', 'type': 'ORDER_CANCEL', 'orderID': '1878', 'reason': 'TAKE_PROFIT_ON_FILL_LOSS'}, 'relatedTransactionIDs': ['1878', '1879'], 'lastTransactionID': '1879'}\n",
            "{'orderCreateTransaction': {'id': '1880', 'accountID': '101-001-27332384-001', 'userID': 27332384, 'batchID': '1880', 'requestID': '43161281269161923', 'time': '2023-11-20T21:46:00.956972337Z', 'type': 'MARKET_ORDER', 'instrument': 'USD_CAD', 'units': '-2021', 'timeInForce': 'FOK', 'positionFill': 'DEFAULT', 'takeProfitOnFill': {'price': '1.37323', 'timeInForce': 'GTC'}, 'stopLossOnFill': {'price': '1.37251', 'timeInForce': 'GTC', 'triggerMode': 'TOP_OF_BOOK'}, 'reason': 'CLIENT_ORDER'}, 'orderCancelTransaction': {'id': '1881', 'accountID': '101-001-27332384-001', 'userID': 27332384, 'batchID': '1880', 'requestID': '43161281269161923', 'time': '2023-11-20T21:46:00.956972337Z', 'type': 'ORDER_CANCEL', 'orderID': '1880', 'reason': 'TAKE_PROFIT_ON_FILL_LOSS'}, 'relatedTransactionIDs': ['1880', '1881'], 'lastTransactionID': '1881'}\n",
            "{'orderCreateTransaction': {'id': '1882', 'accountID': '101-001-27332384-001', 'userID': 27332384, 'batchID': '1882', 'requestID': '61175679777415843', 'time': '2023-11-20T21:46:00.977860557Z', 'type': 'MARKET_ORDER', 'instrument': 'EUR_JPY', 'units': '-2082', 'timeInForce': 'FOK', 'positionFill': 'DEFAULT', 'takeProfitOnFill': {'price': '162.462', 'timeInForce': 'GTC'}, 'stopLossOnFill': {'price': '162.333', 'timeInForce': 'GTC', 'triggerMode': 'TOP_OF_BOOK'}, 'reason': 'CLIENT_ORDER'}, 'orderCancelTransaction': {'id': '1883', 'accountID': '101-001-27332384-001', 'userID': 27332384, 'batchID': '1882', 'requestID': '61175679777415843', 'time': '2023-11-20T21:46:00.977860557Z', 'type': 'ORDER_CANCEL', 'orderID': '1882', 'reason': 'TAKE_PROFIT_ON_FILL_LOSS'}, 'relatedTransactionIDs': ['1882', '1883'], 'lastTransactionID': '1883'}\n",
            "{'orderCreateTransaction': {'id': '1884', 'accountID': '101-001-27332384-001', 'userID': 27332384, 'batchID': '1884', 'requestID': '61175683553119020', 'time': '2023-11-20T22:01:00.545770384Z', 'type': 'MARKET_ORDER', 'instrument': 'GBP_JPY', 'units': '-2031', 'timeInForce': 'FOK', 'positionFill': 'DEFAULT', 'takeProfitOnFill': {'price': '185.672', 'timeInForce': 'GTC'}, 'stopLossOnFill': {'price': '185.573', 'timeInForce': 'GTC', 'triggerMode': 'TOP_OF_BOOK'}, 'reason': 'CLIENT_ORDER'}, 'orderCancelTransaction': {'id': '1885', 'accountID': '101-001-27332384-001', 'userID': 27332384, 'batchID': '1884', 'requestID': '61175683553119020', 'time': '2023-11-20T22:01:00.545770384Z', 'type': 'ORDER_CANCEL', 'orderID': '1884', 'reason': 'MARKET_HALTED'}, 'relatedTransactionIDs': ['1884', '1885'], 'lastTransactionID': '1885'}\n",
            "{'orderCreateTransaction': {'id': '1886', 'accountID': '101-001-27332384-001', 'userID': 27332384, 'batchID': '1886', 'requestID': '61175683553119028', 'time': '2023-11-20T22:01:00.549439845Z', 'type': 'MARKET_ORDER', 'instrument': 'EUR_AUD', 'units': '2011', 'timeInForce': 'FOK', 'positionFill': 'DEFAULT', 'takeProfitOnFill': {'price': '1.66759', 'timeInForce': 'GTC'}, 'stopLossOnFill': {'price': '1.66870', 'timeInForce': 'GTC', 'triggerMode': 'TOP_OF_BOOK'}, 'reason': 'CLIENT_ORDER'}, 'orderCancelTransaction': {'id': '1887', 'accountID': '101-001-27332384-001', 'userID': 27332384, 'batchID': '1886', 'requestID': '61175683553119028', 'time': '2023-11-20T22:01:00.549439845Z', 'type': 'ORDER_CANCEL', 'orderID': '1886', 'reason': 'MARKET_HALTED'}, 'relatedTransactionIDs': ['1886', '1887'], 'lastTransactionID': '1887'}\n",
            "{'orderCreateTransaction': {'id': '1888', 'accountID': '101-001-27332384-001', 'userID': 27332384, 'batchID': '1888', 'requestID': '43161285045059343', 'time': '2023-11-20T22:01:00.756858420Z', 'type': 'MARKET_ORDER', 'instrument': 'USD_JPY', 'units': '-1902', 'timeInForce': 'FOK', 'positionFill': 'DEFAULT', 'takeProfitOnFill': {'price': '148.540', 'timeInForce': 'GTC'}, 'stopLossOnFill': {'price': '148.375', 'timeInForce': 'GTC', 'triggerMode': 'TOP_OF_BOOK'}, 'reason': 'CLIENT_ORDER'}, 'orderCancelTransaction': {'id': '1889', 'accountID': '101-001-27332384-001', 'userID': 27332384, 'batchID': '1888', 'requestID': '43161285045059343', 'time': '2023-11-20T22:01:00.756858420Z', 'type': 'ORDER_CANCEL', 'orderID': '1888', 'reason': 'MARKET_HALTED'}, 'relatedTransactionIDs': ['1888', '1889'], 'lastTransactionID': '1889'}\n",
            "{'orderCreateTransaction': {'id': '1890', 'accountID': '101-001-27332384-001', 'userID': 27332384, 'batchID': '1890', 'requestID': '79190082062366578', 'time': '2023-11-20T22:01:00.761897910Z', 'type': 'MARKET_ORDER', 'instrument': 'AUD_CAD', 'units': '-2085', 'timeInForce': 'FOK', 'positionFill': 'DEFAULT', 'takeProfitOnFill': {'price': '0.90082', 'timeInForce': 'GTC'}, 'stopLossOnFill': {'price': '0.89983', 'timeInForce': 'GTC', 'triggerMode': 'TOP_OF_BOOK'}, 'reason': 'CLIENT_ORDER'}, 'orderCancelTransaction': {'id': '1891', 'accountID': '101-001-27332384-001', 'userID': 27332384, 'batchID': '1890', 'requestID': '79190082062366578', 'time': '2023-11-20T22:01:00.761897910Z', 'type': 'ORDER_CANCEL', 'orderID': '1890', 'reason': 'MARKET_HALTED'}, 'relatedTransactionIDs': ['1890', '1891'], 'lastTransactionID': '1891'}\n",
            "{'orderCreateTransaction': {'id': '1892', 'accountID': '101-001-27332384-001', 'userID': 27332384, 'batchID': '1892', 'requestID': '25146886536733960', 'time': '2023-11-20T22:01:00.833600176Z', 'type': 'MARKET_ORDER', 'instrument': 'USD_CAD', 'units': '-1995', 'timeInForce': 'FOK', 'positionFill': 'DEFAULT', 'takeProfitOnFill': {'price': '1.37323', 'timeInForce': 'GTC'}, 'stopLossOnFill': {'price': '1.37251', 'timeInForce': 'GTC', 'triggerMode': 'TOP_OF_BOOK'}, 'reason': 'CLIENT_ORDER'}, 'orderCancelTransaction': {'id': '1893', 'accountID': '101-001-27332384-001', 'userID': 27332384, 'batchID': '1892', 'requestID': '25146886536733960', 'time': '2023-11-20T22:01:00.833600176Z', 'type': 'ORDER_CANCEL', 'orderID': '1892', 'reason': 'MARKET_HALTED'}, 'relatedTransactionIDs': ['1892', '1893'], 'lastTransactionID': '1893'}\n",
            "{'orderCreateTransaction': {'id': '1894', 'accountID': '101-001-27332384-001', 'userID': 27332384, 'batchID': '1894', 'requestID': '61175683553119467', 'time': '2023-11-20T22:01:00.990217808Z', 'type': 'MARKET_ORDER', 'instrument': 'EUR_JPY', 'units': '-1980', 'timeInForce': 'FOK', 'positionFill': 'DEFAULT', 'takeProfitOnFill': {'price': '162.462', 'timeInForce': 'GTC'}, 'stopLossOnFill': {'price': '162.333', 'timeInForce': 'GTC', 'triggerMode': 'TOP_OF_BOOK'}, 'reason': 'CLIENT_ORDER'}, 'orderCancelTransaction': {'id': '1895', 'accountID': '101-001-27332384-001', 'userID': 27332384, 'batchID': '1894', 'requestID': '61175683553119467', 'time': '2023-11-20T22:01:00.990217808Z', 'type': 'ORDER_CANCEL', 'orderID': '1894', 'reason': 'MARKET_HALTED'}, 'relatedTransactionIDs': ['1894', '1895'], 'lastTransactionID': '1895'}\n",
            "{'orderCreateTransaction': {'id': '1896', 'accountID': '101-001-27332384-001', 'userID': 27332384, 'batchID': '1896', 'requestID': '25146890308295486', 'time': '2023-11-20T22:16:00.562069283Z', 'type': 'MARKET_ORDER', 'instrument': 'NZD_CAD', 'units': '-2008', 'timeInForce': 'FOK', 'positionFill': 'DEFAULT', 'takeProfitOnFill': {'price': '0.82912', 'timeInForce': 'GTC'}, 'stopLossOnFill': {'price': '0.82780', 'timeInForce': 'GTC', 'triggerMode': 'TOP_OF_BOOK'}, 'reason': 'CLIENT_ORDER'}, 'orderCancelTransaction': {'id': '1897', 'accountID': '101-001-27332384-001', 'userID': 27332384, 'batchID': '1896', 'requestID': '25146890308295486', 'time': '2023-11-20T22:16:00.562069283Z', 'type': 'ORDER_CANCEL', 'orderID': '1896', 'reason': 'TAKE_PROFIT_ON_FILL_LOSS'}, 'relatedTransactionIDs': ['1896', '1897'], 'lastTransactionID': '1897'}\n",
            "{'orderCreateTransaction': {'id': '1898', 'accountID': '101-001-27332384-001', 'userID': 27332384, 'batchID': '1898', 'requestID': '43161288825102981', 'time': '2023-11-20T22:16:01.006439546Z', 'type': 'MARKET_ORDER', 'instrument': 'EUR_JPY', 'units': '1942', 'timeInForce': 'FOK', 'positionFill': 'DEFAULT', 'takeProfitOnFill': {'price': '162.090', 'timeInForce': 'GTC'}, 'stopLossOnFill': {'price': '162.411', 'timeInForce': 'GTC', 'triggerMode': 'TOP_OF_BOOK'}, 'reason': 'CLIENT_ORDER'}, 'orderCancelTransaction': {'id': '1899', 'accountID': '101-001-27332384-001', 'userID': 27332384, 'batchID': '1898', 'requestID': '43161288825102981', 'time': '2023-11-20T22:16:01.006439546Z', 'type': 'ORDER_CANCEL', 'orderID': '1898', 'reason': 'TAKE_PROFIT_ON_FILL_LOSS'}, 'relatedTransactionIDs': ['1898', '1899'], 'lastTransactionID': '1899'}\n",
            "{'orderCreateTransaction': {'id': '1900', 'accountID': '101-001-27332384-001', 'userID': 27332384, 'batchID': '1900', 'requestID': '43161300144139019', 'time': '2023-11-20T23:01:00.647146396Z', 'type': 'MARKET_ORDER', 'instrument': 'NZD_JPY', 'units': '-2094', 'timeInForce': 'FOK', 'positionFill': 'DEFAULT', 'takeProfitOnFill': {'price': '89.652', 'timeInForce': 'GTC'}, 'stopLossOnFill': {'price': '89.430', 'timeInForce': 'GTC', 'triggerMode': 'TOP_OF_BOOK'}, 'reason': 'CLIENT_ORDER'}, 'orderCancelTransaction': {'id': '1901', 'accountID': '101-001-27332384-001', 'userID': 27332384, 'batchID': '1900', 'requestID': '43161300144139019', 'time': '2023-11-20T23:01:00.647146396Z', 'type': 'ORDER_CANCEL', 'orderID': '1900', 'reason': 'TAKE_PROFIT_ON_FILL_LOSS'}, 'relatedTransactionIDs': ['1900', '1901'], 'lastTransactionID': '1901'}\n",
            "{'orderCreateTransaction': {'id': '1902', 'accountID': '101-001-27332384-001', 'userID': 27332384, 'batchID': '1902', 'requestID': '25146901635620826', 'time': '2023-11-20T23:01:00.723476172Z', 'type': 'MARKET_ORDER', 'instrument': 'EUR_NZD', 'units': '1965', 'timeInForce': 'FOK', 'positionFill': 'DEFAULT', 'takeProfitOnFill': {'price': '1.80979', 'timeInForce': 'GTC'}, 'stopLossOnFill': {'price': '1.81513', 'timeInForce': 'GTC', 'triggerMode': 'TOP_OF_BOOK'}, 'reason': 'CLIENT_ORDER'}, 'orderCancelTransaction': {'id': '1903', 'accountID': '101-001-27332384-001', 'userID': 27332384, 'batchID': '1902', 'requestID': '25146901635620826', 'time': '2023-11-20T23:01:00.723476172Z', 'type': 'ORDER_CANCEL', 'orderID': '1902', 'reason': 'TAKE_PROFIT_ON_FILL_LOSS'}, 'relatedTransactionIDs': ['1902', '1903'], 'lastTransactionID': '1903'}\n",
            "{'orderCreateTransaction': {'id': '1904', 'accountID': '101-001-27332384-001', 'userID': 27332384, 'batchID': '1904', 'requestID': '25146905411348628', 'time': '2023-11-20T23:16:00.777228553Z', 'type': 'MARKET_ORDER', 'instrument': 'NZD_JPY', 'units': '-1985', 'timeInForce': 'FOK', 'positionFill': 'DEFAULT', 'takeProfitOnFill': {'price': '89.687', 'timeInForce': 'GTC'}, 'stopLossOnFill': {'price': '89.492', 'timeInForce': 'GTC', 'triggerMode': 'TOP_OF_BOOK'}, 'reason': 'CLIENT_ORDER'}, 'orderCancelTransaction': {'id': '1905', 'accountID': '101-001-27332384-001', 'userID': 27332384, 'batchID': '1904', 'requestID': '25146905411348628', 'time': '2023-11-20T23:16:00.777228553Z', 'type': 'ORDER_CANCEL', 'orderID': '1904', 'reason': 'TAKE_PROFIT_ON_FILL_LOSS'}, 'relatedTransactionIDs': ['1904', '1905'], 'lastTransactionID': '1905'}\n",
            "{'orderCreateTransaction': {'id': '1906', 'accountID': '101-001-27332384-001', 'userID': 27332384, 'batchID': '1906', 'requestID': '61175702427193007', 'time': '2023-11-20T23:16:00.796504009Z', 'type': 'MARKET_ORDER', 'instrument': 'EUR_NZD', 'units': '2042', 'timeInForce': 'FOK', 'positionFill': 'DEFAULT', 'takeProfitOnFill': {'price': '1.80795', 'timeInForce': 'GTC'}, 'stopLossOnFill': {'price': '1.81407', 'timeInForce': 'GTC', 'triggerMode': 'TOP_OF_BOOK'}, 'reason': 'CLIENT_ORDER'}, 'orderCancelTransaction': {'id': '1907', 'accountID': '101-001-27332384-001', 'userID': 27332384, 'batchID': '1906', 'requestID': '61175702427193007', 'time': '2023-11-20T23:16:00.796504009Z', 'type': 'ORDER_CANCEL', 'orderID': '1906', 'reason': 'TAKE_PROFIT_ON_FILL_LOSS'}, 'relatedTransactionIDs': ['1906', '1907'], 'lastTransactionID': '1907'}\n",
            "{'orderCreateTransaction': {'id': '1908', 'accountID': '101-001-27332384-001', 'userID': 27332384, 'batchID': '1908', 'requestID': '61175702427193194', 'time': '2023-11-20T23:16:00.986411263Z', 'type': 'MARKET_ORDER', 'instrument': 'AUD_NZD', 'units': '2085', 'timeInForce': 'FOK', 'positionFill': 'DEFAULT', 'takeProfitOnFill': {'price': '1.08536', 'timeInForce': 'GTC'}, 'stopLossOnFill': {'price': '1.08725', 'timeInForce': 'GTC', 'triggerMode': 'TOP_OF_BOOK'}, 'reason': 'CLIENT_ORDER'}, 'orderCancelTransaction': {'id': '1909', 'accountID': '101-001-27332384-001', 'userID': 27332384, 'batchID': '1908', 'requestID': '61175702427193194', 'time': '2023-11-20T23:16:00.986411263Z', 'type': 'ORDER_CANCEL', 'orderID': '1908', 'reason': 'TAKE_PROFIT_ON_FILL_LOSS'}, 'relatedTransactionIDs': ['1908', '1909'], 'lastTransactionID': '1909'}\n",
            "{'orderCreateTransaction': {'id': '1910', 'accountID': '101-001-27332384-001', 'userID': 27332384, 'batchID': '1910', 'requestID': '79190100941185451', 'time': '2023-11-20T23:16:01.001889411Z', 'type': 'MARKET_ORDER', 'instrument': 'GBP_NZD', 'units': '2063', 'timeInForce': 'FOK', 'positionFill': 'DEFAULT', 'takeProfitOnFill': {'price': '2.06716', 'timeInForce': 'GTC'}, 'stopLossOnFill': {'price': '2.07298', 'timeInForce': 'GTC', 'triggerMode': 'TOP_OF_BOOK'}, 'reason': 'CLIENT_ORDER'}, 'orderCancelTransaction': {'id': '1911', 'accountID': '101-001-27332384-001', 'userID': 27332384, 'batchID': '1910', 'requestID': '79190100941185451', 'time': '2023-11-20T23:16:01.001889411Z', 'type': 'ORDER_CANCEL', 'orderID': '1910', 'reason': 'TAKE_PROFIT_ON_FILL_LOSS'}, 'relatedTransactionIDs': ['1910', '1911'], 'lastTransactionID': '1911'}\n",
            "{'orderCreateTransaction': {'id': '1912', 'accountID': '101-001-27332384-001', 'userID': 27332384, 'batchID': '1912', 'requestID': '25146909182906429', 'time': '2023-11-20T23:31:00.808805094Z', 'type': 'MARKET_ORDER', 'instrument': 'EUR_NZD', 'units': '1902', 'timeInForce': 'FOK', 'positionFill': 'DEFAULT', 'takeProfitOnFill': {'price': '1.81128', 'timeInForce': 'GTC'}, 'stopLossOnFill': {'price': '1.81260', 'timeInForce': 'GTC', 'triggerMode': 'TOP_OF_BOOK'}, 'reason': 'CLIENT_ORDER'}, 'orderCancelTransaction': {'id': '1913', 'accountID': '101-001-27332384-001', 'userID': 27332384, 'batchID': '1912', 'requestID': '25146909182906429', 'time': '2023-11-20T23:31:00.808805094Z', 'type': 'ORDER_CANCEL', 'orderID': '1912', 'reason': 'TAKE_PROFIT_ON_FILL_LOSS'}, 'relatedTransactionIDs': ['1912', '1913'], 'lastTransactionID': '1913'}\n",
            "{'orderCreateTransaction': {'id': '1914', 'accountID': '101-001-27332384-001', 'userID': 27332384, 'batchID': '1914', 'requestID': '79190104712744916', 'time': '2023-11-20T23:31:00.830418455Z', 'type': 'MARKET_ORDER', 'instrument': 'NZD_JPY', 'units': '-1957', 'timeInForce': 'FOK', 'positionFill': 'DEFAULT', 'takeProfitOnFill': {'price': '89.608', 'timeInForce': 'GTC'}, 'stopLossOnFill': {'price': '89.527', 'timeInForce': 'GTC', 'triggerMode': 'TOP_OF_BOOK'}, 'reason': 'CLIENT_ORDER'}, 'orderCancelTransaction': {'id': '1915', 'accountID': '101-001-27332384-001', 'userID': 27332384, 'batchID': '1914', 'requestID': '79190104712744916', 'time': '2023-11-20T23:31:00.830418455Z', 'type': 'ORDER_CANCEL', 'orderID': '1914', 'reason': 'TAKE_PROFIT_ON_FILL_LOSS'}, 'relatedTransactionIDs': ['1914', '1915'], 'lastTransactionID': '1915'}\n",
            "{'orderCreateTransaction': {'id': '1916', 'accountID': '101-001-27332384-001', 'userID': 27332384, 'batchID': '1916', 'requestID': '79190104716939446', 'time': '2023-11-20T23:31:01.012109674Z', 'type': 'MARKET_ORDER', 'instrument': 'AUD_NZD', 'units': '1990', 'timeInForce': 'FOK', 'positionFill': 'DEFAULT', 'takeProfitOnFill': {'price': '1.08536', 'timeInForce': 'GTC'}, 'stopLossOnFill': {'price': '1.08668', 'timeInForce': 'GTC', 'triggerMode': 'TOP_OF_BOOK'}, 'reason': 'CLIENT_ORDER'}, 'orderCancelTransaction': {'id': '1917', 'accountID': '101-001-27332384-001', 'userID': 27332384, 'batchID': '1916', 'requestID': '79190104716939446', 'time': '2023-11-20T23:31:01.012109674Z', 'type': 'ORDER_CANCEL', 'orderID': '1916', 'reason': 'TAKE_PROFIT_ON_FILL_LOSS'}, 'relatedTransactionIDs': ['1916', '1917'], 'lastTransactionID': '1917'}\n",
            "{'orderCreateTransaction': {'id': '1918', 'accountID': '101-001-27332384-001', 'userID': 27332384, 'batchID': '1918', 'requestID': '61175706207050553', 'time': '2023-11-20T23:31:01.033433541Z', 'type': 'MARKET_ORDER', 'instrument': 'GBP_NZD', 'units': '1971', 'timeInForce': 'FOK', 'positionFill': 'DEFAULT', 'takeProfitOnFill': {'price': '2.07018', 'timeInForce': 'GTC'}, 'stopLossOnFill': {'price': '2.07144', 'timeInForce': 'GTC', 'triggerMode': 'TOP_OF_BOOK'}, 'reason': 'CLIENT_ORDER'}, 'orderCancelTransaction': {'id': '1919', 'accountID': '101-001-27332384-001', 'userID': 27332384, 'batchID': '1918', 'requestID': '61175706207050553', 'time': '2023-11-20T23:31:01.033433541Z', 'type': 'ORDER_CANCEL', 'orderID': '1918', 'reason': 'TAKE_PROFIT_ON_FILL_LOSS'}, 'relatedTransactionIDs': ['1918', '1919'], 'lastTransactionID': '1919'}\n",
            "{'orderCreateTransaction': {'id': '1920', 'accountID': '101-001-27332384-001', 'userID': 27332384, 'batchID': '1920', 'requestID': '61175709978505752', 'time': '2023-11-20T23:46:00.669553032Z', 'type': 'MARKET_ORDER', 'instrument': 'NZD_CHF', 'units': '-2000', 'timeInForce': 'FOK', 'positionFill': 'DEFAULT', 'takeProfitOnFill': {'price': '0.53450', 'timeInForce': 'GTC'}, 'stopLossOnFill': {'price': '0.53396', 'timeInForce': 'GTC', 'triggerMode': 'TOP_OF_BOOK'}, 'reason': 'CLIENT_ORDER'}, 'orderCancelTransaction': {'id': '1921', 'accountID': '101-001-27332384-001', 'userID': 27332384, 'batchID': '1920', 'requestID': '61175709978505752', 'time': '2023-11-20T23:46:00.669553032Z', 'type': 'ORDER_CANCEL', 'orderID': '1920', 'reason': 'TAKE_PROFIT_ON_FILL_LOSS'}, 'relatedTransactionIDs': ['1920', '1921'], 'lastTransactionID': '1921'}\n",
            "{'orderCreateTransaction': {'id': '1922', 'accountID': '101-001-27332384-001', 'userID': 27332384, 'batchID': '1922', 'requestID': '25146912962858041', 'time': '2023-11-20T23:46:01.022575203Z', 'type': 'MARKET_ORDER', 'instrument': 'EUR_NZD', 'units': '1952', 'timeInForce': 'FOK', 'positionFill': 'DEFAULT', 'takeProfitOnFill': {'price': '1.81062', 'timeInForce': 'GTC'}, 'stopLossOnFill': {'price': '1.81323', 'timeInForce': 'GTC', 'triggerMode': 'TOP_OF_BOOK'}, 'reason': 'CLIENT_ORDER'}, 'orderCancelTransaction': {'id': '1923', 'accountID': '101-001-27332384-001', 'userID': 27332384, 'batchID': '1922', 'requestID': '25146912962858041', 'time': '2023-11-20T23:46:01.022575203Z', 'type': 'ORDER_CANCEL', 'orderID': '1922', 'reason': 'TAKE_PROFIT_ON_FILL_LOSS'}, 'relatedTransactionIDs': ['1922', '1923'], 'lastTransactionID': '1923'}\n",
            "{'orderCreateTransaction': {'id': '1924', 'accountID': '101-001-27332384-001', 'userID': 27332384, 'batchID': '1924', 'requestID': '79190108492656994', 'time': '2023-11-20T23:46:01.063974333Z', 'type': 'MARKET_ORDER', 'instrument': 'AUD_NZD', 'units': '2042', 'timeInForce': 'FOK', 'positionFill': 'DEFAULT', 'takeProfitOnFill': {'price': '1.08579', 'timeInForce': 'GTC'}, 'stopLossOnFill': {'price': '1.08696', 'timeInForce': 'GTC', 'triggerMode': 'TOP_OF_BOOK'}, 'reason': 'CLIENT_ORDER'}, 'orderCancelTransaction': {'id': '1925', 'accountID': '101-001-27332384-001', 'userID': 27332384, 'batchID': '1924', 'requestID': '79190108492656994', 'time': '2023-11-20T23:46:01.063974333Z', 'type': 'ORDER_CANCEL', 'orderID': '1924', 'reason': 'TAKE_PROFIT_ON_FILL_LOSS'}, 'relatedTransactionIDs': ['1924', '1925'], 'lastTransactionID': '1925'}\n",
            "{'orderCreateTransaction': {'id': '1926', 'accountID': '101-001-27332384-001', 'userID': 27332384, 'batchID': '1926', 'requestID': '61175713754213965', 'time': '2023-11-21T00:01:00.609902684Z', 'type': 'MARKET_ORDER', 'instrument': 'NZD_CHF', 'units': '-1974', 'timeInForce': 'FOK', 'positionFill': 'DEFAULT', 'takeProfitOnFill': {'price': '0.53448', 'timeInForce': 'GTC'}, 'stopLossOnFill': {'price': '0.53400', 'timeInForce': 'GTC', 'triggerMode': 'TOP_OF_BOOK'}, 'reason': 'CLIENT_ORDER'}, 'orderCancelTransaction': {'id': '1927', 'accountID': '101-001-27332384-001', 'userID': 27332384, 'batchID': '1926', 'requestID': '61175713754213965', 'time': '2023-11-21T00:01:00.609902684Z', 'type': 'ORDER_CANCEL', 'orderID': '1926', 'reason': 'TAKE_PROFIT_ON_FILL_LOSS'}, 'relatedTransactionIDs': ['1926', '1927'], 'lastTransactionID': '1927'}\n",
            "{'orderCreateTransaction': {'id': '1928', 'accountID': '101-001-27332384-001', 'userID': 27332384, 'batchID': '1928', 'requestID': '25146916738631435', 'time': '2023-11-21T00:01:01.218603723Z', 'type': 'MARKET_ORDER', 'instrument': 'AUD_NZD', 'units': '2019', 'timeInForce': 'FOK', 'positionFill': 'DEFAULT', 'takeProfitOnFill': {'price': '1.08513', 'timeInForce': 'GTC'}, 'stopLossOnFill': {'price': '1.08672', 'timeInForce': 'GTC', 'triggerMode': 'TOP_OF_BOOK'}, 'reason': 'CLIENT_ORDER'}, 'orderCancelTransaction': {'id': '1929', 'accountID': '101-001-27332384-001', 'userID': 27332384, 'batchID': '1928', 'requestID': '25146916738631435', 'time': '2023-11-21T00:01:01.218603723Z', 'type': 'ORDER_CANCEL', 'orderID': '1928', 'reason': 'TAKE_PROFIT_ON_FILL_LOSS'}, 'relatedTransactionIDs': ['1928', '1929'], 'lastTransactionID': '1929'}\n"
          ]
        },
        {
          "name": "stderr",
          "output_type": "stream",
          "text": [
            "Run time of job \"trading_job (trigger: cron[day_of_week='mon-fri', hour='0-23', minute='1,16,31,46'], next run at: 2023-11-20 17:16:00 PST)\" was missed by 0:09:32.747359\n",
            "Run time of job \"trading_job (trigger: cron[day_of_week='mon-fri', hour='0-23', minute='1,16,31,46'], next run at: 2023-11-20 17:16:00 PST)\" was missed by 0:09:32.755783\n",
            "Run time of job \"trading_job (trigger: cron[day_of_week='mon-fri', hour='0-23', minute='1,16,31,46'], next run at: 2023-11-20 17:16:00 PST)\" was missed by 0:09:32.758448\n",
            "Run time of job \"trading_job (trigger: cron[day_of_week='mon-fri', hour='0-23', minute='1,16,31,46'], next run at: 2023-11-20 17:16:00 PST)\" was missed by 0:09:32.758717\n",
            "Run time of job \"trading_job (trigger: cron[day_of_week='mon-fri', hour='0-23', minute='1,16,31,46'], next run at: 2023-11-20 17:16:00 PST)\" was missed by 0:09:32.758868\n",
            "Run time of job \"trading_job (trigger: cron[day_of_week='mon-fri', hour='0-23', minute='1,16,31,46'], next run at: 2023-11-20 17:16:00 PST)\" was missed by 0:09:32.759104\n",
            "Run time of job \"trading_job (trigger: cron[day_of_week='mon-fri', hour='0-23', minute='1,16,31,46'], next run at: 2023-11-20 17:16:00 PST)\" was missed by 0:09:32.759376\n",
            "Run time of job \"trading_job (trigger: cron[day_of_week='mon-fri', hour='0-23', minute='1,16,31,46'], next run at: 2023-11-20 17:16:00 PST)\" was missed by 0:09:32.759589\n",
            "Run time of job \"trading_job (trigger: cron[day_of_week='mon-fri', hour='0-23', minute='1,16,31,46'], next run at: 2023-11-20 17:16:00 PST)\" was missed by 0:09:32.760041\n",
            "Run time of job \"trading_job (trigger: cron[day_of_week='mon-fri', hour='0-23', minute='1,16,31,46'], next run at: 2023-11-20 17:16:00 PST)\" was missed by 0:09:32.760758\n",
            "Run time of job \"trading_job (trigger: cron[day_of_week='mon-fri', hour='0-23', minute='1,16,31,46'], next run at: 2023-11-20 17:16:00 PST)\" was missed by 0:09:32.760881\n",
            "Run time of job \"trading_job (trigger: cron[day_of_week='mon-fri', hour='0-23', minute='1,16,31,46'], next run at: 2023-11-20 17:16:00 PST)\" was missed by 0:09:32.761185\n",
            "Run time of job \"trading_job (trigger: cron[day_of_week='mon-fri', hour='0-23', minute='1,16,31,46'], next run at: 2023-11-20 17:16:00 PST)\" was missed by 0:09:32.762397\n",
            "Run time of job \"trading_job (trigger: cron[day_of_week='mon-fri', hour='0-23', minute='1,16,31,46'], next run at: 2023-11-20 17:16:00 PST)\" was missed by 0:09:32.764122\n",
            "Run time of job \"trading_job (trigger: cron[day_of_week='mon-fri', hour='0-23', minute='1,16,31,46'], next run at: 2023-11-20 17:16:00 PST)\" was missed by 0:09:32.765394\n",
            "Run time of job \"trading_job (trigger: cron[day_of_week='mon-fri', hour='0-23', minute='1,16,31,46'], next run at: 2023-11-20 17:16:00 PST)\" was missed by 0:09:32.766672\n",
            "Run time of job \"trading_job (trigger: cron[day_of_week='mon-fri', hour='0-23', minute='1,16,31,46'], next run at: 2023-11-20 17:16:00 PST)\" was missed by 0:09:32.767470\n",
            "Run time of job \"trading_job (trigger: cron[day_of_week='mon-fri', hour='0-23', minute='1,16,31,46'], next run at: 2023-11-20 17:16:00 PST)\" was missed by 0:09:32.768160\n",
            "Run time of job \"trading_job (trigger: cron[day_of_week='mon-fri', hour='0-23', minute='1,16,31,46'], next run at: 2023-11-20 17:16:00 PST)\" was missed by 0:09:32.768899\n",
            "Run time of job \"trading_job (trigger: cron[day_of_week='mon-fri', hour='0-23', minute='1,16,31,46'], next run at: 2023-11-20 17:16:00 PST)\" was missed by 0:09:32.770118\n",
            "Run time of job \"trading_job (trigger: cron[day_of_week='mon-fri', hour='0-23', minute='1,16,31,46'], next run at: 2023-11-20 17:16:00 PST)\" was missed by 0:09:32.770817\n",
            "Run time of job \"trading_job (trigger: cron[day_of_week='mon-fri', hour='0-23', minute='1,16,31,46'], next run at: 2023-11-20 17:16:00 PST)\" was missed by 0:09:32.771844\n",
            "Run time of job \"trading_job (trigger: cron[day_of_week='mon-fri', hour='0-23', minute='1,16,31,46'], next run at: 2023-11-20 17:16:00 PST)\" was missed by 0:09:32.772778\n",
            "Run time of job \"trading_job (trigger: cron[day_of_week='mon-fri', hour='0-23', minute='1,16,31,46'], next run at: 2023-11-20 17:16:00 PST)\" was missed by 0:09:32.773682\n",
            "Run time of job \"trading_job (trigger: cron[day_of_week='mon-fri', hour='0-23', minute='1,16,31,46'], next run at: 2023-11-20 17:16:00 PST)\" was missed by 0:09:32.774362\n",
            "Run time of job \"trading_job (trigger: cron[day_of_week='mon-fri', hour='0-23', minute='1,16,31,46'], next run at: 2023-11-20 17:16:00 PST)\" was missed by 0:09:32.775542\n"
          ]
        },
        {
          "name": "stdout",
          "output_type": "stream",
          "text": [
            "{'orderCreateTransaction': {'id': '1930', 'accountID': '101-001-27332384-001', 'userID': 27332384, 'batchID': '1930', 'requestID': '79190131134918639', 'time': '2023-11-21T01:16:00.500695470Z', 'type': 'MARKET_ORDER', 'instrument': 'NZD_USD', 'units': '1975', 'timeInForce': 'FOK', 'positionFill': 'DEFAULT', 'takeProfitOnFill': {'price': '0.60340', 'timeInForce': 'GTC'}, 'stopLossOnFill': {'price': '0.60496', 'timeInForce': 'GTC', 'triggerMode': 'TOP_OF_BOOK'}, 'reason': 'CLIENT_ORDER'}, 'orderCancelTransaction': {'id': '1931', 'accountID': '101-001-27332384-001', 'userID': 27332384, 'batchID': '1930', 'requestID': '79190131134918639', 'time': '2023-11-21T01:16:00.500695470Z', 'type': 'ORDER_CANCEL', 'orderID': '1930', 'reason': 'TAKE_PROFIT_ON_FILL_LOSS'}, 'relatedTransactionIDs': ['1930', '1931'], 'lastTransactionID': '1931'}\n",
            "{'orderCreateTransaction': {'id': '1932', 'accountID': '101-001-27332384-001', 'userID': 27332384, 'batchID': '1932', 'requestID': '25146935609376461', 'time': '2023-11-21T01:16:00.663327606Z', 'type': 'MARKET_ORDER', 'instrument': 'EUR_CAD', 'units': '1902', 'timeInForce': 'FOK', 'positionFill': 'DEFAULT', 'takeProfitOnFill': {'price': '1.50009', 'timeInForce': 'GTC'}, 'stopLossOnFill': {'price': '1.50249', 'timeInForce': 'GTC', 'triggerMode': 'TOP_OF_BOOK'}, 'reason': 'CLIENT_ORDER'}, 'orderCancelTransaction': {'id': '1933', 'accountID': '101-001-27332384-001', 'userID': 27332384, 'batchID': '1932', 'requestID': '25146935609376461', 'time': '2023-11-21T01:16:00.663327606Z', 'type': 'ORDER_CANCEL', 'orderID': '1932', 'reason': 'TAKE_PROFIT_ON_FILL_LOSS'}, 'relatedTransactionIDs': ['1932', '1933'], 'lastTransactionID': '1933'}\n",
            "{'orderCreateTransaction': {'id': '1934', 'accountID': '101-001-27332384-001', 'userID': 27332384, 'batchID': '1934', 'requestID': '43161337894318647', 'time': '2023-11-21T01:31:00.618724156Z', 'type': 'MARKET_ORDER', 'instrument': 'NZD_CHF', 'units': '2014', 'timeInForce': 'FOK', 'positionFill': 'DEFAULT', 'takeProfitOnFill': {'price': '0.53364', 'timeInForce': 'GTC'}, 'stopLossOnFill': {'price': '0.53580', 'timeInForce': 'GTC', 'triggerMode': 'TOP_OF_BOOK'}, 'reason': 'CLIENT_ORDER'}, 'orderCancelTransaction': {'id': '1935', 'accountID': '101-001-27332384-001', 'userID': 27332384, 'batchID': '1934', 'requestID': '43161337894318647', 'time': '2023-11-21T01:31:00.618724156Z', 'type': 'ORDER_CANCEL', 'orderID': '1934', 'reason': 'TAKE_PROFIT_ON_FILL_LOSS'}, 'relatedTransactionIDs': ['1934', '1935'], 'lastTransactionID': '1935'}\n",
            "{'orderCreateTransaction': {'id': '1942', 'accountID': '101-001-27332384-001', 'userID': 27332384, 'batchID': '1942', 'requestID': '61175736400176930', 'time': '2023-11-21T01:31:00.631985154Z', 'type': 'MARKET_ORDER', 'instrument': 'NZD_USD', 'units': '1928', 'timeInForce': 'FOK', 'positionFill': 'DEFAULT', 'takeProfitOnFill': {'price': '0.60294', 'timeInForce': 'GTC'}, 'stopLossOnFill': {'price': '0.60711', 'timeInForce': 'GTC', 'triggerMode': 'TOP_OF_BOOK'}, 'reason': 'CLIENT_ORDER'}, 'orderCancelTransaction': {'id': '1943', 'accountID': '101-001-27332384-001', 'userID': 27332384, 'batchID': '1942', 'requestID': '61175736400176930', 'time': '2023-11-21T01:31:00.631985154Z', 'type': 'ORDER_CANCEL', 'orderID': '1942', 'reason': 'TAKE_PROFIT_ON_FILL_LOSS'}, 'relatedTransactionIDs': ['1942', '1943'], 'lastTransactionID': '1943'}\n",
            "{'orderCreateTransaction': {'id': '1938', 'accountID': '101-001-27332384-001', 'userID': 27332384, 'batchID': '1938', 'requestID': '79190134910786610', 'time': '2023-11-21T01:31:00.630135630Z', 'type': 'MARKET_ORDER', 'instrument': 'EUR_USD', 'units': '1911', 'timeInForce': 'FOK', 'positionFill': 'DEFAULT', 'takeProfitOnFill': {'price': '1.09304', 'timeInForce': 'GTC'}, 'stopLossOnFill': {'price': '1.09703', 'timeInForce': 'GTC', 'triggerMode': 'TOP_OF_BOOK'}, 'reason': 'CLIENT_ORDER'}, 'orderCancelTransaction': {'id': '1939', 'accountID': '101-001-27332384-001', 'userID': 27332384, 'batchID': '1938', 'requestID': '79190134910786610', 'time': '2023-11-21T01:31:00.630135630Z', 'type': 'ORDER_CANCEL', 'orderID': '1938', 'reason': 'TAKE_PROFIT_ON_FILL_LOSS'}, 'relatedTransactionIDs': ['1938', '1939'], 'lastTransactionID': '1939'}\n",
            "{'orderCreateTransaction': {'id': '1936', 'accountID': '101-001-27332384-001', 'userID': 27332384, 'batchID': '1936', 'requestID': '25146939385261908', 'time': '2023-11-21T01:31:00.628297602Z', 'type': 'MARKET_ORDER', 'instrument': 'NZD_CAD', 'units': '1932', 'timeInForce': 'FOK', 'positionFill': 'DEFAULT', 'takeProfitOnFill': {'price': '0.82783', 'timeInForce': 'GTC'}, 'stopLossOnFill': {'price': '0.83194', 'timeInForce': 'GTC', 'triggerMode': 'TOP_OF_BOOK'}, 'reason': 'CLIENT_ORDER'}, 'orderCancelTransaction': {'id': '1937', 'accountID': '101-001-27332384-001', 'userID': 27332384, 'batchID': '1936', 'requestID': '25146939385261908', 'time': '2023-11-21T01:31:00.628297602Z', 'type': 'ORDER_CANCEL', 'orderID': '1936', 'reason': 'TAKE_PROFIT_ON_FILL_LOSS'}, 'relatedTransactionIDs': ['1936', '1937'], 'lastTransactionID': '1937'}\n",
            "{'orderCreateTransaction': {'id': '1940', 'accountID': '101-001-27332384-001', 'userID': 27332384, 'batchID': '1940', 'requestID': '61175736400176928', 'time': '2023-11-21T01:31:00.630911916Z', 'type': 'MARKET_ORDER', 'instrument': 'GBP_USD', 'units': '1945', 'timeInForce': 'FOK', 'positionFill': 'DEFAULT', 'takeProfitOnFill': {'price': '1.24884', 'timeInForce': 'GTC'}, 'stopLossOnFill': {'price': '1.25406', 'timeInForce': 'GTC', 'triggerMode': 'TOP_OF_BOOK'}, 'reason': 'CLIENT_ORDER'}, 'orderCancelTransaction': {'id': '1941', 'accountID': '101-001-27332384-001', 'userID': 27332384, 'batchID': '1940', 'requestID': '61175736400176928', 'time': '2023-11-21T01:31:00.630911916Z', 'type': 'ORDER_CANCEL', 'orderID': '1940', 'reason': 'TAKE_PROFIT_ON_FILL_LOSS'}, 'relatedTransactionIDs': ['1940', '1941'], 'lastTransactionID': '1941'}\n",
            "{'orderCreateTransaction': {'id': '1944', 'accountID': '101-001-27332384-001', 'userID': 27332384, 'batchID': '1944', 'requestID': '79190134910786891', 'time': '2023-11-21T01:31:00.855749077Z', 'type': 'MARKET_ORDER', 'instrument': 'AUD_USD', 'units': '2078', 'timeInForce': 'FOK', 'positionFill': 'DEFAULT', 'takeProfitOnFill': {'price': '0.65474', 'timeInForce': 'GTC'}, 'stopLossOnFill': {'price': '0.65909', 'timeInForce': 'GTC', 'triggerMode': 'TOP_OF_BOOK'}, 'reason': 'CLIENT_ORDER'}, 'orderCancelTransaction': {'id': '1945', 'accountID': '101-001-27332384-001', 'userID': 27332384, 'batchID': '1944', 'requestID': '79190134910786891', 'time': '2023-11-21T01:31:00.855749077Z', 'type': 'ORDER_CANCEL', 'orderID': '1944', 'reason': 'TAKE_PROFIT_ON_FILL_LOSS'}, 'relatedTransactionIDs': ['1944', '1945'], 'lastTransactionID': '1945'}\n",
            "{'orderCreateTransaction': {'id': '1946', 'accountID': '101-001-27332384-001', 'userID': 27332384, 'batchID': '1946', 'requestID': '61175736404371720', 'time': '2023-11-21T01:31:01.053728164Z', 'type': 'MARKET_ORDER', 'instrument': 'GBP_NZD', 'units': '-2012', 'timeInForce': 'FOK', 'positionFill': 'DEFAULT', 'takeProfitOnFill': {'price': '2.07203', 'timeInForce': 'GTC'}, 'stopLossOnFill': {'price': '2.06534', 'timeInForce': 'GTC', 'triggerMode': 'TOP_OF_BOOK'}, 'reason': 'CLIENT_ORDER'}, 'orderCancelTransaction': {'id': '1947', 'accountID': '101-001-27332384-001', 'userID': 27332384, 'batchID': '1946', 'requestID': '61175736404371720', 'time': '2023-11-21T01:31:01.053728164Z', 'type': 'ORDER_CANCEL', 'orderID': '1946', 'reason': 'TAKE_PROFIT_ON_FILL_LOSS'}, 'relatedTransactionIDs': ['1946', '1947'], 'lastTransactionID': '1947'}\n",
            "{'orderCreateTransaction': {'id': '1948', 'accountID': '101-001-27332384-001', 'userID': 27332384, 'batchID': '1948', 'requestID': '61175736404371729', 'time': '2023-11-21T01:31:01.059988917Z', 'type': 'MARKET_ORDER', 'instrument': 'AUD_CAD', 'units': '2024', 'timeInForce': 'FOK', 'positionFill': 'DEFAULT', 'takeProfitOnFill': {'price': '0.89908', 'timeInForce': 'GTC'}, 'stopLossOnFill': {'price': '0.90310', 'timeInForce': 'GTC', 'triggerMode': 'TOP_OF_BOOK'}, 'reason': 'CLIENT_ORDER'}, 'orderCancelTransaction': {'id': '1949', 'accountID': '101-001-27332384-001', 'userID': 27332384, 'batchID': '1948', 'requestID': '61175736404371729', 'time': '2023-11-21T01:31:01.059988917Z', 'type': 'ORDER_CANCEL', 'orderID': '1948', 'reason': 'TAKE_PROFIT_ON_FILL_LOSS'}, 'relatedTransactionIDs': ['1948', '1949'], 'lastTransactionID': '1949'}\n",
            "{'orderCreateTransaction': {'id': '1950', 'accountID': '101-001-27332384-001', 'userID': 27332384, 'batchID': '1950', 'requestID': '43161337898513575', 'time': '2023-11-21T01:31:01.063693024Z', 'type': 'MARKET_ORDER', 'instrument': 'EUR_NZD', 'units': '-2043', 'timeInForce': 'FOK', 'positionFill': 'DEFAULT', 'takeProfitOnFill': {'price': '1.81324', 'timeInForce': 'GTC'}, 'stopLossOnFill': {'price': '1.80700', 'timeInForce': 'GTC', 'triggerMode': 'TOP_OF_BOOK'}, 'reason': 'CLIENT_ORDER'}, 'orderCancelTransaction': {'id': '1951', 'accountID': '101-001-27332384-001', 'userID': 27332384, 'batchID': '1950', 'requestID': '43161337898513575', 'time': '2023-11-21T01:31:01.063693024Z', 'type': 'ORDER_CANCEL', 'orderID': '1950', 'reason': 'TAKE_PROFIT_ON_FILL_LOSS'}, 'relatedTransactionIDs': ['1950', '1951'], 'lastTransactionID': '1951'}\n",
            "{'orderCreateTransaction': {'id': '1952', 'accountID': '101-001-27332384-001', 'userID': 27332384, 'batchID': '1952', 'requestID': '25146939389456769', 'time': '2023-11-21T01:31:01.078058359Z', 'type': 'MARKET_ORDER', 'instrument': 'USD_CAD', 'units': '-2095', 'timeInForce': 'FOK', 'positionFill': 'DEFAULT', 'takeProfitOnFill': {'price': '1.37331', 'timeInForce': 'GTC'}, 'stopLossOnFill': {'price': '1.37025', 'timeInForce': 'GTC', 'triggerMode': 'TOP_OF_BOOK'}, 'reason': 'CLIENT_ORDER'}, 'orderCancelTransaction': {'id': '1953', 'accountID': '101-001-27332384-001', 'userID': 27332384, 'batchID': '1952', 'requestID': '25146939389456769', 'time': '2023-11-21T01:31:01.078058359Z', 'type': 'ORDER_CANCEL', 'orderID': '1952', 'reason': 'TAKE_PROFIT_ON_FILL_LOSS'}, 'relatedTransactionIDs': ['1952', '1953'], 'lastTransactionID': '1953'}\n",
            "{'orderCreateTransaction': {'id': '1954', 'accountID': '101-001-27332384-001', 'userID': 27332384, 'batchID': '1954', 'requestID': '79190138690873972', 'time': '2023-11-21T01:46:01.043540385Z', 'type': 'MARKET_ORDER', 'instrument': 'CAD_CHF', 'units': '2050', 'timeInForce': 'FOK', 'positionFill': 'DEFAULT', 'takeProfitOnFill': {'price': '0.64374', 'timeInForce': 'GTC'}, 'stopLossOnFill': {'price': '0.64485', 'timeInForce': 'GTC', 'triggerMode': 'TOP_OF_BOOK'}, 'reason': 'CLIENT_ORDER'}, 'orderCancelTransaction': {'id': '1955', 'accountID': '101-001-27332384-001', 'userID': 27332384, 'batchID': '1954', 'requestID': '79190138690873972', 'time': '2023-11-21T01:46:01.043540385Z', 'type': 'ORDER_CANCEL', 'orderID': '1954', 'reason': 'TAKE_PROFIT_ON_FILL_LOSS'}, 'relatedTransactionIDs': ['1954', '1955'], 'lastTransactionID': '1955'}\n",
            "{'orderCreateTransaction': {'id': '1956', 'accountID': '101-001-27332384-001', 'userID': 27332384, 'batchID': '1956', 'requestID': '61175743951750333', 'time': '2023-11-21T02:01:00.914268805Z', 'type': 'MARKET_ORDER', 'instrument': 'CAD_CHF', 'units': '2094', 'timeInForce': 'FOK', 'positionFill': 'DEFAULT', 'takeProfitOnFill': {'price': '0.64422', 'timeInForce': 'GTC'}, 'stopLossOnFill': {'price': '0.64458', 'timeInForce': 'GTC', 'triggerMode': 'TOP_OF_BOOK'}, 'reason': 'CLIENT_ORDER'}, 'orderCancelTransaction': {'id': '1957', 'accountID': '101-001-27332384-001', 'userID': 27332384, 'batchID': '1956', 'requestID': '61175743951750333', 'time': '2023-11-21T02:01:00.914268805Z', 'type': 'ORDER_CANCEL', 'orderID': '1956', 'reason': 'TAKE_PROFIT_ON_FILL_LOSS'}, 'relatedTransactionIDs': ['1956', '1957'], 'lastTransactionID': '1957'}\n",
            "{'orderCreateTransaction': {'id': '1958', 'accountID': '101-001-27332384-001', 'userID': 27332384, 'batchID': '1958', 'requestID': '79190146238303226', 'time': '2023-11-21T02:16:00.532568440Z', 'type': 'MARKET_ORDER', 'instrument': 'GBP_USD', 'units': '2007', 'timeInForce': 'FOK', 'positionFill': 'DEFAULT', 'takeProfitOnFill': {'price': '1.24974', 'timeInForce': 'GTC'}, 'stopLossOnFill': {'price': '1.25424', 'timeInForce': 'GTC', 'triggerMode': 'TOP_OF_BOOK'}, 'reason': 'CLIENT_ORDER'}, 'orderCancelTransaction': {'id': '1959', 'accountID': '101-001-27332384-001', 'userID': 27332384, 'batchID': '1958', 'requestID': '79190146238303226', 'time': '2023-11-21T02:16:00.532568440Z', 'type': 'ORDER_CANCEL', 'orderID': '1958', 'reason': 'TAKE_PROFIT_ON_FILL_LOSS'}, 'relatedTransactionIDs': ['1958', '1959'], 'lastTransactionID': '1959'}\n",
            "{'orderCreateTransaction': {'id': '1960', 'accountID': '101-001-27332384-001', 'userID': 27332384, 'batchID': '1960', 'requestID': '25146950708678808', 'time': '2023-11-21T02:16:00.763058672Z', 'type': 'MARKET_ORDER', 'instrument': 'EUR_GBP', 'units': '-2036', 'timeInForce': 'FOK', 'positionFill': 'DEFAULT', 'takeProfitOnFill': {'price': '0.87554', 'timeInForce': 'GTC'}, 'stopLossOnFill': {'price': '0.87401', 'timeInForce': 'GTC', 'triggerMode': 'TOP_OF_BOOK'}, 'reason': 'CLIENT_ORDER'}, 'orderCancelTransaction': {'id': '1961', 'accountID': '101-001-27332384-001', 'userID': 27332384, 'batchID': '1960', 'requestID': '25146950708678808', 'time': '2023-11-21T02:16:00.763058672Z', 'type': 'ORDER_CANCEL', 'orderID': '1960', 'reason': 'TAKE_PROFIT_ON_FILL_LOSS'}, 'relatedTransactionIDs': ['1960', '1961'], 'lastTransactionID': '1961'}\n",
            "{'orderCreateTransaction': {'id': '1962', 'accountID': '101-001-27332384-001', 'userID': 27332384, 'batchID': '1962', 'requestID': '43161349217855725', 'time': '2023-11-21T02:16:00.941737495Z', 'type': 'MARKET_ORDER', 'instrument': 'AUD_NZD', 'units': '-2060', 'timeInForce': 'FOK', 'positionFill': 'DEFAULT', 'takeProfitOnFill': {'price': '1.08664', 'timeInForce': 'GTC'}, 'stopLossOnFill': {'price': '1.08295', 'timeInForce': 'GTC', 'triggerMode': 'TOP_OF_BOOK'}, 'reason': 'CLIENT_ORDER'}, 'orderCancelTransaction': {'id': '1963', 'accountID': '101-001-27332384-001', 'userID': 27332384, 'batchID': '1962', 'requestID': '43161349217855725', 'time': '2023-11-21T02:16:00.941737495Z', 'type': 'ORDER_CANCEL', 'orderID': '1962', 'reason': 'TAKE_PROFIT_ON_FILL_LOSS'}, 'relatedTransactionIDs': ['1962', '1963'], 'lastTransactionID': '1963'}\n",
            "{'orderCreateTransaction': {'id': '1964', 'accountID': '101-001-27332384-001', 'userID': 27332384, 'batchID': '1964', 'requestID': '25146950708679033', 'time': '2023-11-21T02:16:00.949394118Z', 'type': 'MARKET_ORDER', 'instrument': 'CAD_CHF', 'units': '1923', 'timeInForce': 'FOK', 'positionFill': 'DEFAULT', 'takeProfitOnFill': {'price': '0.64383', 'timeInForce': 'GTC'}, 'stopLossOnFill': {'price': '0.64458', 'timeInForce': 'GTC', 'triggerMode': 'TOP_OF_BOOK'}, 'reason': 'CLIENT_ORDER'}, 'orderCancelTransaction': {'id': '1965', 'accountID': '101-001-27332384-001', 'userID': 27332384, 'batchID': '1964', 'requestID': '25146950708679033', 'time': '2023-11-21T02:16:00.949394118Z', 'type': 'ORDER_CANCEL', 'orderID': '1964', 'reason': 'TAKE_PROFIT_ON_FILL_LOSS'}, 'relatedTransactionIDs': ['1964', '1965'], 'lastTransactionID': '1965'}\n",
            "{'orderCreateTransaction': {'id': '1966', 'accountID': '101-001-27332384-001', 'userID': 27332384, 'batchID': '1966', 'requestID': '25146950708679034', 'time': '2023-11-21T02:16:00.950066337Z', 'type': 'MARKET_ORDER', 'instrument': 'GBP_CAD', 'units': '2029', 'timeInForce': 'FOK', 'positionFill': 'DEFAULT', 'takeProfitOnFill': {'price': '1.71486', 'timeInForce': 'GTC'}, 'stopLossOnFill': {'price': '1.71954', 'timeInForce': 'GTC', 'triggerMode': 'TOP_OF_BOOK'}, 'reason': 'CLIENT_ORDER'}, 'orderCancelTransaction': {'id': '1967', 'accountID': '101-001-27332384-001', 'userID': 27332384, 'batchID': '1966', 'requestID': '25146950708679034', 'time': '2023-11-21T02:16:00.950066337Z', 'type': 'ORDER_CANCEL', 'orderID': '1966', 'reason': 'TAKE_PROFIT_ON_FILL_LOSS'}, 'relatedTransactionIDs': ['1966', '1967'], 'lastTransactionID': '1967'}\n",
            "{'orderCreateTransaction': {'id': '1968', 'accountID': '101-001-27332384-001', 'userID': 27332384, 'batchID': '1968', 'requestID': '43161352993719610', 'time': '2023-11-21T02:31:00.651806241Z', 'type': 'MARKET_ORDER', 'instrument': 'EUR_GBP', 'units': '-2081', 'timeInForce': 'FOK', 'positionFill': 'DEFAULT', 'takeProfitOnFill': {'price': '0.87544', 'timeInForce': 'GTC'}, 'stopLossOnFill': {'price': '0.87376', 'timeInForce': 'GTC', 'triggerMode': 'TOP_OF_BOOK'}, 'reason': 'CLIENT_ORDER'}, 'orderCancelTransaction': {'id': '1969', 'accountID': '101-001-27332384-001', 'userID': 27332384, 'batchID': '1968', 'requestID': '43161352993719610', 'time': '2023-11-21T02:31:00.651806241Z', 'type': 'ORDER_CANCEL', 'orderID': '1968', 'reason': 'TAKE_PROFIT_ON_FILL_LOSS'}, 'relatedTransactionIDs': ['1968', '1969'], 'lastTransactionID': '1969'}\n",
            "{'orderCreateTransaction': {'id': '1970', 'accountID': '101-001-27332384-001', 'userID': 27332384, 'batchID': '1970', 'requestID': '61175751503379461', 'time': '2023-11-21T02:31:00.859795990Z', 'type': 'MARKET_ORDER', 'instrument': 'GBP_CAD', 'units': '1900', 'timeInForce': 'FOK', 'positionFill': 'DEFAULT', 'takeProfitOnFill': {'price': '1.71612', 'timeInForce': 'GTC'}, 'stopLossOnFill': {'price': '1.71987', 'timeInForce': 'GTC', 'triggerMode': 'TOP_OF_BOOK'}, 'reason': 'CLIENT_ORDER'}, 'orderCancelTransaction': {'id': '1971', 'accountID': '101-001-27332384-001', 'userID': 27332384, 'batchID': '1970', 'requestID': '61175751503379461', 'time': '2023-11-21T02:31:00.859795990Z', 'type': 'ORDER_CANCEL', 'orderID': '1970', 'reason': 'TAKE_PROFIT_ON_FILL_LOSS'}, 'relatedTransactionIDs': ['1970', '1971'], 'lastTransactionID': '1971'}\n",
            "{'orderCreateTransaction': {'id': '1972', 'accountID': '101-001-27332384-001', 'userID': 27332384, 'batchID': '1972', 'requestID': '43161375640301772', 'time': '2023-11-21T04:01:00.886870421Z', 'type': 'MARKET_ORDER', 'instrument': 'AUD_NZD', 'units': '1901', 'timeInForce': 'FOK', 'positionFill': 'DEFAULT', 'takeProfitOnFill': {'price': '1.08328', 'timeInForce': 'GTC'}, 'stopLossOnFill': {'price': '1.08454', 'timeInForce': 'GTC', 'triggerMode': 'TOP_OF_BOOK'}, 'reason': 'CLIENT_ORDER'}, 'orderCancelTransaction': {'id': '1973', 'accountID': '101-001-27332384-001', 'userID': 27332384, 'batchID': '1972', 'requestID': '43161375640301772', 'time': '2023-11-21T04:01:00.886870421Z', 'type': 'ORDER_CANCEL', 'orderID': '1972', 'reason': 'TAKE_PROFIT_ON_FILL_LOSS'}, 'relatedTransactionIDs': ['1972', '1973'], 'lastTransactionID': '1973'}\n",
            "{'orderCreateTransaction': {'id': '1974', 'accountID': '101-001-27332384-001', 'userID': 27332384, 'batchID': '1974', 'requestID': '61175777929762373', 'time': '2023-11-21T04:16:01.058950857Z', 'type': 'MARKET_ORDER', 'instrument': 'AUD_NZD', 'units': '2006', 'timeInForce': 'FOK', 'positionFill': 'DEFAULT', 'takeProfitOnFill': {'price': '1.08362', 'timeInForce': 'GTC'}, 'stopLossOnFill': {'price': '1.08494', 'timeInForce': 'GTC', 'triggerMode': 'TOP_OF_BOOK'}, 'reason': 'CLIENT_ORDER'}, 'orderCancelTransaction': {'id': '1975', 'accountID': '101-001-27332384-001', 'userID': 27332384, 'batchID': '1974', 'requestID': '61175777929762373', 'time': '2023-11-21T04:16:01.058950857Z', 'type': 'ORDER_CANCEL', 'orderID': '1974', 'reason': 'TAKE_PROFIT_ON_FILL_LOSS'}, 'relatedTransactionIDs': ['1974', '1975'], 'lastTransactionID': '1975'}\n",
            "{'orderCreateTransaction': {'id': '1976', 'accountID': '101-001-27332384-001', 'userID': 27332384, 'batchID': '1976', 'requestID': '61175781701255541', 'time': '2023-11-21T04:31:00.716944309Z', 'type': 'MARKET_ORDER', 'instrument': 'USD_CAD', 'units': '1949', 'timeInForce': 'FOK', 'positionFill': 'DEFAULT', 'takeProfitOnFill': {'price': '1.37004', 'timeInForce': 'GTC'}, 'stopLossOnFill': {'price': '1.37130', 'timeInForce': 'GTC', 'triggerMode': 'TOP_OF_BOOK'}, 'reason': 'CLIENT_ORDER'}, 'orderCancelTransaction': {'id': '1977', 'accountID': '101-001-27332384-001', 'userID': 27332384, 'batchID': '1976', 'requestID': '61175781701255541', 'time': '2023-11-21T04:31:00.716944309Z', 'type': 'ORDER_CANCEL', 'orderID': '1976', 'reason': 'TAKE_PROFIT_ON_FILL_LOSS'}, 'relatedTransactionIDs': ['1976', '1977'], 'lastTransactionID': '1977'}\n",
            "{'orderCreateTransaction': {'id': '1978', 'accountID': '101-001-27332384-001', 'userID': 27332384, 'batchID': '1978', 'requestID': '61175781701255556', 'time': '2023-11-21T04:31:00.736292227Z', 'type': 'MARKET_ORDER', 'instrument': 'EUR_CAD', 'units': '-2004', 'timeInForce': 'FOK', 'positionFill': 'DEFAULT', 'takeProfitOnFill': {'price': '1.50326', 'timeInForce': 'GTC'}, 'stopLossOnFill': {'price': '1.50266', 'timeInForce': 'GTC', 'triggerMode': 'TOP_OF_BOOK'}, 'reason': 'CLIENT_ORDER'}, 'orderCancelTransaction': {'id': '1979', 'accountID': '101-001-27332384-001', 'userID': 27332384, 'batchID': '1978', 'requestID': '61175781701255556', 'time': '2023-11-21T04:31:00.736292227Z', 'type': 'ORDER_CANCEL', 'orderID': '1978', 'reason': 'TAKE_PROFIT_ON_FILL_LOSS'}, 'relatedTransactionIDs': ['1978', '1979'], 'lastTransactionID': '1979'}\n",
            "{'orderCreateTransaction': {'id': '1980', 'accountID': '101-001-27332384-001', 'userID': 27332384, 'batchID': '1980', 'requestID': '61175781701255721', 'time': '2023-11-21T04:31:00.910659055Z', 'type': 'MARKET_ORDER', 'instrument': 'GBP_CAD', 'units': '-1933', 'timeInForce': 'FOK', 'positionFill': 'DEFAULT', 'takeProfitOnFill': {'price': '1.71902', 'timeInForce': 'GTC'}, 'stopLossOnFill': {'price': '1.71830', 'timeInForce': 'GTC', 'triggerMode': 'TOP_OF_BOOK'}, 'reason': 'CLIENT_ORDER'}, 'orderCancelTransaction': {'id': '1981', 'accountID': '101-001-27332384-001', 'userID': 27332384, 'batchID': '1980', 'requestID': '61175781701255721', 'time': '2023-11-21T04:31:00.910659055Z', 'type': 'ORDER_CANCEL', 'orderID': '1980', 'reason': 'TAKE_PROFIT_ON_FILL_LOSS'}, 'relatedTransactionIDs': ['1980', '1981'], 'lastTransactionID': '1981'}\n"
          ]
        }
      ],
      "source": [
        "# for i in range (len(list_of_str_currency)):\n",
        "#     trading_job(currency_pairs[i],list_of_str_currency[i])\n",
        "\n",
        "scheduler = BlockingScheduler()\n",
        "for i in range (len(currency_pairs)):\n",
        "    scheduler.add_job(trading_job, 'cron', args = [currency_pairs[i],list_of_str_currency[i]], day_of_week='mon-fri', hour='00-23', minute='1,16,31,46', start_date='2022-01-12 12:00:00')\n",
        "scheduler.start()\n"
      ]
    },
    {
      "cell_type": "code",
      "execution_count": 10,
      "metadata": {},
      "outputs": [
        {
          "data": {
            "text/plain": [
              "-       9209\n",
              "Buy      397\n",
              "Sell     394\n",
              "Name: count, dtype: int64"
            ]
          },
          "execution_count": 10,
          "metadata": {},
          "output_type": "execute_result"
        }
      ],
      "source": [
        "da= pd.read_csv(\"EURUSD_Candlestick_5_M_ASK_30.09.2019-30.09.2022.csv\")\n",
        "da = da[:10000]\n",
        "signals = []\n",
        "\n",
        "for i in range(0, len(da)):\n",
        "    \n",
        "    block = da.iloc[i:i+15].copy()\n",
        "    calculate_vwap(block)\n",
        "    calculate_bollinger_bands(block)\n",
        "    calculate_rsi(block)\n",
        "    block = block.reset_index(drop=True)\n",
        "    if not block.empty:\n",
        "        signal = signal_generator(block)\n",
        "        signals.append(signal)\n",
        "x = pd.Series(signals)\n",
        "x.value_counts()\n",
        "\n"
      ]
    },
    {
      "cell_type": "code",
      "execution_count": 8,
      "metadata": {},
      "outputs": [],
      "source": [
        "#consider making 65 / 35 RSI + 1 and make above 70 / 30 as + 2 ssss"
      ]
    }
  ],
  "metadata": {
    "colab": {
      "provenance": []
    },
    "kernelspec": {
      "display_name": "Python 3.10.8 64-bit",
      "language": "python",
      "name": "python3"
    },
    "language_info": {
      "codemirror_mode": {
        "name": "ipython",
        "version": 3
      },
      "file_extension": ".py",
      "mimetype": "text/x-python",
      "name": "python",
      "nbconvert_exporter": "python",
      "pygments_lexer": "ipython3",
      "version": "3.10.11"
    },
    "vscode": {
      "interpreter": {
        "hash": "c0ff92a541b5eb8a0f75470c34280cf0dea79e8b819847822bd36e33345fddf3"
      }
    }
  },
  "nbformat": 4,
  "nbformat_minor": 0
}
