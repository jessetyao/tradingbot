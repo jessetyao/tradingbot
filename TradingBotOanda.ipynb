{
  "cells": [
    {
      "cell_type": "markdown",
      "metadata": {
        "id": "JQLimjSTso4B"
      },
      "source": [
        "### 1 - Import test data"
      ]
    },
    {
      "cell_type": "code",
      "execution_count": 207,
      "metadata": {
        "id": "HDUx5opJso4E",
        "outputId": "7690265c-ce95-4865-8cca-03d60c47da16"
      },
      "outputs": [],
      "source": [
        "import yfinance as yf\n",
        "import pandas as pd\n",
        "\n",
        "# dataF = yf.download(\"EURUSD=X\", start=\"2023-9-15\", end=\"2023-11-1\", interval='15m')\n",
        "# dataF.iloc[:,:]\n",
        "#dataF.Open.iloc"
      ]
    },
    {
      "cell_type": "markdown",
      "metadata": {
        "id": "th37JO7Lso4G"
      },
      "source": [
        "### 2 - Define your signal function"
      ]
    },
    {
      "cell_type": "code",
      "execution_count": 208,
      "metadata": {
        "id": "oh6erbtQso4H"
      },
      "outputs": [],
      "source": [
        "def signal_generator(df):\n",
        "    vwap = df['VWAP']\n",
        "    rsi = df['RSI']\n",
        "    close_price = df['Close']\n",
        "    upper_bb = df['UpperBB']\n",
        "    lower_bb = df['LowerBB']\n",
        "\n",
        "    if close_price > vwap:\n",
        "        vwap_signal = \"Bullish\"\n",
        "    else:\n",
        "        vwap_signal = \"Bearish\"\n",
        "\n",
        "    if rsi > 70:\n",
        "        rsi_signal = \"Overbought\"\n",
        "    elif rsi < 30:\n",
        "        rsi_signal = \"Oversold\"\n",
        "    else:\n",
        "        rsi_signal = \"Neutral\"\n",
        "\n",
        "    if close_price > upper_bb:\n",
        "        bb_signal = \"Overbought\"\n",
        "    elif close_price < lower_bb:\n",
        "        bb_signal = \"Oversold\"\n",
        "    else:\n",
        "        bb_signal = \"Neutral\"\n",
        "\n",
        "    if vwap_signal == \"Bullish\" and rsi_signal == \"Oversold\" and bb_signal == \"Oversold\":\n",
        "        signal = 2\n",
        "    elif vwap_signal == \"Bearish\" and rsi_signal == \"Overbought\" and bb_signal == \"Overbought\":\n",
        "        signal = 1\n",
        "    else:\n",
        "        signal = 0\n",
        "\n",
        "\n",
        "    return signal\n",
        "\n"
      ]
    },
    {
      "cell_type": "markdown",
      "metadata": {
        "id": "beYcSPPWso4I"
      },
      "source": [
        "### 3 - Connect to the market and execute trades"
      ]
    },
    {
      "cell_type": "code",
      "execution_count": 209,
      "metadata": {
        "id": "vViuxkdHso4I"
      },
      "outputs": [],
      "source": [
        "from apscheduler.schedulers.blocking import BlockingScheduler\n",
        "from oandapyV20 import API\n",
        "import oandapyV20.endpoints.orders as orders\n",
        "from oandapyV20.contrib.requests import MarketOrderRequest\n",
        "from oanda_candles import Pair, Gran, CandleClient\n",
        "from oandapyV20.endpoints.instruments import InstrumentsCandles\n",
        "from oandapyV20.contrib.requests import TakeProfitDetails, StopLossDetails\n",
        "import talib\n",
        "import pandas_ta as ta\n",
        "\n"
      ]
    },
    {
      "cell_type": "code",
      "execution_count": 210,
      "metadata": {
        "id": "ztFBEJacso4J",
        "outputId": "00070d9d-023c-48c4-da73-8eacf43674d4"
      },
      "outputs": [],
      "source": [
        "access_token= \"cd7e21b015cb734770f5fcfea9da9c9f-49a95de76ed5cab29ee0d33cee5f004d\"\n",
        "accountID = \"101-001-27332384-001\" #your account ID here\n",
        "list_of_currency = [Pair.EUR_USD, Pair.EUR_GBP, Pair.USD_JPY, Pair.AUD_USD, Pair.USD_CAD, Pair.CAD_JPY, Pair.NZD_USD]\n",
        "def get_candles(n, currency):\n",
        "    client = API(access_token)\n",
        "    request = InstrumentsCandles(instrument=currency, params={\"granularity\": Gran.M15, \"count\": n})\n",
        "    response = client.request(request)\n",
        "    candles = response['candles']\n",
        "    return candles\n",
        "\n",
        "candles = get_candles(3, Pair.EUR_USD)\n",
        "\n"
      ]
    },
    {
      "cell_type": "code",
      "execution_count": 211,
      "metadata": {},
      "outputs": [],
      "source": [
        "def calculate_vwap(data):\n",
        "    data['VWAP'] = (((data['High'] + data['Low'] + data['Close']) / 3) * data['Volume']).cumsum() / data['Volume'].cumsum()\n",
        "\n",
        "    \n",
        "# Calculate Bollinger Bands\n",
        "def calculate_bollinger_bands(data, period=20, std_dev=2):\n",
        "    data['SMA'] = sum(data) / len(data)\n",
        "    data['UpperBB'] = data['SMA'] + (std_dev * data['Close'].rolling(window=period).std())\n",
        "    data['LowerBB'] = data['SMA'] - (std_dev * data['Close'].rolling(window=period).std())\n",
        "\n",
        "# Calculate RSI\n",
        "def calculate_rsi(data, period=14):\n",
        "    data['RSI'] = talib.RSI(data['Close'], timeperiod=period)"
      ]
    },
    {
      "cell_type": "code",
      "execution_count": 214,
      "metadata": {
        "id": "YDvk2yOSso4J"
      },
      "outputs": [],
      "source": [
        "def trading_job(currency, string_currency):\n",
        "    candles = get_candles(30, currency)\n",
        "    dfstream = pd.DataFrame(columns=['Open','Close','High','Low', 'Volume'])\n",
        "    i=0\n",
        "    for candle in candles:\n",
        "        dfstream.loc[i, 'Open'] = float(candle['mid']['o'])\n",
        "        dfstream.loc[i, 'Close'] = float(candle['mid']['c'])\n",
        "        dfstream.loc[i, 'High'] = float(candle['mid']['h'])\n",
        "        dfstream.loc[i, 'Low'] = float(candle['mid']['l'])\n",
        "        dfstream.loc[i, 'Volume'] = float(candle['volume'])\n",
        "        i += 1\n",
        "\n",
        "    dfstream['Open'] = dfstream['Open'].astype(float)\n",
        "    dfstream['Close'] = dfstream['Close'].astype(float)\n",
        "    dfstream['High'] = dfstream['High'].astype(float)\n",
        "    dfstream['Low'] = dfstream['Low'].astype(float)\n",
        "    dfstream['Volume'] = dfstream['Volume'].astype(float)\n",
        "    calculate_vwap(dfstream)\n",
        "    #calculate_bollinger_bands(dfstream)\n",
        "    my_bbands = ta.bbands(dfstream.Close, length=14, std=2.0)\n",
        "    dfstream=dfstream.join(my_bbands)\n",
        "\n",
        "    calculate_rsi(dfstream)\n",
        "\n",
        "    print(dfstream)\n",
        "\n",
        "    signal = signal_generator(dfstream.iloc[:-1,:])#\n",
        "    # EXECUTING ORDERS\n",
        "    print(\"signal: \" + str(signal))\n",
        "    client = API(access_token)\n",
        "\n",
        "    SLTPRatio = 2.\n",
        "    previous_candleR = abs(dfstream['High'].iloc[-2]-dfstream['Low'].iloc[-2])\n",
        "\n",
        "    SLBuy = float(str(candle['mid']['o']))-previous_candleR\n",
        "    SLSell = float(str(candle['mid']['o']))+previous_candleR\n",
        "\n",
        "    TPBuy = float(str(candle['mid']['o']))+previous_candleR*SLTPRatio\n",
        "    TPSell = float(str(candle['mid']['o']))-previous_candleR*SLTPRatio\n",
        "\n",
        "    #print(dfstream.iloc[:-1,:])\n",
        "    #print(TPBuy, \"  \", SLBuy, \"  \", TPSell, \"  \", SLSell)\n",
        "    #signal = 2\n",
        "    #Sell\n",
        "    if signal == 1:\n",
        "        mo = MarketOrderRequest(instrument=string_currency, units=-25000, takeProfitOnFill=TakeProfitDetails(price=TPSell).data, stopLossOnFill=StopLossDetails(price=SLSell).data)\n",
        "        r = orders.OrderCreate(accountID, data=mo.data)\n",
        "        rv = client.request(r)\n",
        "        print(rv)\n",
        "    #Buy\n",
        "    elif signal == 2:\n",
        "        mo = MarketOrderRequest(instrument=string_currency, units=25000, takeProfitOnFill=TakeProfitDetails(price=TPBuy).data, stopLossOnFill=StopLossDetails(price=SLBuy).data)\n",
        "        r = orders.OrderCreate(accountID, data=mo.data)\n",
        "        rv = client.request(r)\n",
        "        print(rv)"
      ]
    },
    {
      "cell_type": "code",
      "execution_count": 215,
      "metadata": {
        "id": "SgGFrNvOso4K"
      },
      "outputs": [
        {
          "name": "stdout",
          "output_type": "stream",
          "text": [
            "       Open    Close     High      Low  Volume      VWAP  BBL_14_2.0  \\\n",
            "0   1.07070  1.07085  1.07098  1.07068   289.0  1.070837         NaN   \n",
            "1   1.07086  1.07090  1.07095  1.07084   280.0  1.070866         NaN   \n",
            "2   1.07090  1.07090  1.07096  1.07085   221.0  1.070877         NaN   \n",
            "3   1.07087  1.07112  1.07114  1.07084   163.0  1.070903         NaN   \n",
            "4   1.07114  1.07072  1.07129  1.07060   302.0  1.070895         NaN   \n",
            "5   1.07071  1.07040  1.07074  1.07034   322.0  1.070813         NaN   \n",
            "6   1.07038  1.07050  1.07054  1.07024   342.0  1.070744         NaN   \n",
            "7   1.07051  1.07034  1.07051  1.07028   454.0  1.070674         NaN   \n",
            "8   1.07034  1.07038  1.07054  1.07028   475.0  1.070628         NaN   \n",
            "9   1.07037  1.07081  1.07094  1.07033   617.0  1.070640         NaN   \n",
            "10  1.07080  1.07122  1.07126  1.07051   795.0  1.070706         NaN   \n",
            "11  1.07125  1.07122  1.07147  1.07112   576.0  1.070774         NaN   \n",
            "12  1.07122  1.07152  1.07159  1.07111   429.0  1.070825         NaN   \n",
            "13  1.07152  1.07136  1.07157  1.07130   321.0  1.070859    1.070142   \n",
            "14  1.07136  1.07116  1.07157  1.07111   427.0  1.070889    1.070150   \n",
            "15  1.07116  1.07096  1.07122  1.07088   505.0  1.070899    1.070153   \n",
            "16  1.07094  1.07095  1.07101  1.07084   375.0  1.070901    1.070156   \n",
            "17  1.07092  1.07098  1.07114  1.07090   312.0  1.070905    1.070155   \n",
            "18  1.07097  1.07069  1.07097  1.07066   239.0  1.070901    1.070150   \n",
            "19  1.07068  1.07080  1.07088  1.07067   407.0  1.070895    1.070228   \n",
            "20  1.07080  1.07110  1.07110  1.07079   321.0  1.070899    1.070307   \n",
            "21  1.07110  1.07096  1.07118  1.07094   296.0  1.070903    1.070449   \n",
            "22  1.07096  1.07104  1.07112  1.07094   236.0  1.070907    1.070617   \n",
            "23  1.07106  1.07089  1.07119  1.07089   290.0  1.070910    1.070634   \n",
            "24  1.07090  1.07096  1.07102  1.07088   313.0  1.070911    1.070622   \n",
            "25  1.07094  1.07082  1.07097  1.07079   284.0  1.070910    1.070592   \n",
            "26  1.07082  1.07080  1.07086  1.07070   295.0  1.070906    1.070635   \n",
            "27  1.07084  1.07024  1.07084  1.07024   508.0  1.070883    1.070452   \n",
            "28  1.07028  1.07021  1.07052  1.07014   382.0  1.070862    1.070291   \n",
            "29  1.07022  1.07052  1.07055  1.07022   314.0  1.070850    1.070246   \n",
            "\n",
            "    BBM_14_2.0  BBU_14_2.0  BBB_14_2.0  BBP_14_2.0        RSI  \n",
            "0          NaN         NaN         NaN         NaN        NaN  \n",
            "1          NaN         NaN         NaN         NaN        NaN  \n",
            "2          NaN         NaN         NaN         NaN        NaN  \n",
            "3          NaN         NaN         NaN         NaN        NaN  \n",
            "4          NaN         NaN         NaN         NaN        NaN  \n",
            "5          NaN         NaN         NaN         NaN        NaN  \n",
            "6          NaN         NaN         NaN         NaN        NaN  \n",
            "7          NaN         NaN         NaN         NaN        NaN  \n",
            "8          NaN         NaN         NaN         NaN        NaN  \n",
            "9          NaN         NaN         NaN         NaN        NaN  \n",
            "10         NaN         NaN         NaN         NaN        NaN  \n",
            "11         NaN         NaN         NaN         NaN        NaN  \n",
            "12         NaN         NaN         NaN         NaN        NaN  \n",
            "13    1.070874    1.071607    0.136768    0.831634        NaN  \n",
            "14    1.070896    1.071643    0.139441    0.676506  55.555556  \n",
            "15    1.070901    1.071648    0.139575    0.539664  51.574098  \n",
            "16    1.070904    1.071652    0.139655    0.530566  51.375841  \n",
            "17    1.070894    1.071634    0.138142    0.557940  51.972319  \n",
            "18    1.070892    1.071634    0.138549    0.363759  46.086856  \n",
            "19    1.070921    1.071614    0.129430    0.412910  48.470513  \n",
            "20    1.070964    1.071621    0.122683    0.603836  54.392875  \n",
            "21    1.071008    1.071567    0.104414    0.457205  51.422678  \n",
            "22    1.071055    1.071493    0.081697    0.482858  53.001995  \n",
            "23    1.071061    1.071487    0.079643    0.299872  49.736867  \n",
            "24    1.071042    1.071462    0.078380    0.402150  51.246277  \n",
            "25    1.071014    1.071435    0.078780    0.270581  48.133017  \n",
            "26    1.070962    1.071289    0.061131    0.252334  47.687317  \n",
            "27    1.070882    1.071313    0.080400   -0.245822  37.278513  \n",
            "28    1.070814    1.071338    0.097754   -0.077292  36.814917  \n",
            "29    1.070783    1.071320    0.100350    0.255375  44.496125  \n"
          ]
        },
        {
          "ename": "KeyError",
          "evalue": "'UpperBB'",
          "output_type": "error",
          "traceback": [
            "\u001b[0;31m---------------------------------------------------------------------------\u001b[0m",
            "\u001b[0;31mKeyError\u001b[0m                                  Traceback (most recent call last)",
            "File \u001b[0;32m/Library/Frameworks/Python.framework/Versions/3.10/lib/python3.10/site-packages/pandas/core/indexes/base.py:3790\u001b[0m, in \u001b[0;36mIndex.get_loc\u001b[0;34m(self, key)\u001b[0m\n\u001b[1;32m   3789\u001b[0m \u001b[39mtry\u001b[39;00m:\n\u001b[0;32m-> 3790\u001b[0m     \u001b[39mreturn\u001b[39;00m \u001b[39mself\u001b[39;49m\u001b[39m.\u001b[39;49m_engine\u001b[39m.\u001b[39;49mget_loc(casted_key)\n\u001b[1;32m   3791\u001b[0m \u001b[39mexcept\u001b[39;00m \u001b[39mKeyError\u001b[39;00m \u001b[39mas\u001b[39;00m err:\n",
            "File \u001b[0;32mindex.pyx:152\u001b[0m, in \u001b[0;36mpandas._libs.index.IndexEngine.get_loc\u001b[0;34m()\u001b[0m\n",
            "File \u001b[0;32mindex.pyx:181\u001b[0m, in \u001b[0;36mpandas._libs.index.IndexEngine.get_loc\u001b[0;34m()\u001b[0m\n",
            "File \u001b[0;32mpandas/_libs/hashtable_class_helper.pxi:7080\u001b[0m, in \u001b[0;36mpandas._libs.hashtable.PyObjectHashTable.get_item\u001b[0;34m()\u001b[0m\n",
            "File \u001b[0;32mpandas/_libs/hashtable_class_helper.pxi:7088\u001b[0m, in \u001b[0;36mpandas._libs.hashtable.PyObjectHashTable.get_item\u001b[0;34m()\u001b[0m\n",
            "\u001b[0;31mKeyError\u001b[0m: 'UpperBB'",
            "\nThe above exception was the direct cause of the following exception:\n",
            "\u001b[0;31mKeyError\u001b[0m                                  Traceback (most recent call last)",
            "\u001b[1;32m/Users/bobsprite/git/tradingbot/TradingBotOanda.ipynb Cell 10\u001b[0m line \u001b[0;36m5\n\u001b[1;32m      <a href='vscode-notebook-cell:/Users/bobsprite/git/tradingbot/TradingBotOanda.ipynb#X12sZmlsZQ%3D%3D?line=1'>2</a>\u001b[0m list_of_str_currency \u001b[39m=\u001b[39m [\u001b[39m\"\u001b[39m\u001b[39mEUR_USD\u001b[39m\u001b[39m\"\u001b[39m, \u001b[39m\"\u001b[39m\u001b[39mEUR_GBP\u001b[39m\u001b[39m\"\u001b[39m, \u001b[39m\"\u001b[39m\u001b[39mUSD_JPY\u001b[39m\u001b[39m\"\u001b[39m, \u001b[39m\"\u001b[39m\u001b[39mAUD_USD\u001b[39m\u001b[39m\"\u001b[39m,\u001b[39m\"\u001b[39m\u001b[39mUSD_CAD\u001b[39m\u001b[39m\"\u001b[39m,\u001b[39m\"\u001b[39m\u001b[39mCAD_JPY\u001b[39m\u001b[39m\"\u001b[39m,\u001b[39m\"\u001b[39m\u001b[39mNZD_USD\u001b[39m\u001b[39m\"\u001b[39m]\n\u001b[1;32m      <a href='vscode-notebook-cell:/Users/bobsprite/git/tradingbot/TradingBotOanda.ipynb#X12sZmlsZQ%3D%3D?line=3'>4</a>\u001b[0m \u001b[39mfor\u001b[39;00m i \u001b[39min\u001b[39;00m \u001b[39mrange\u001b[39m (\u001b[39mlen\u001b[39m(list_of_str_currency)):\n\u001b[0;32m----> <a href='vscode-notebook-cell:/Users/bobsprite/git/tradingbot/TradingBotOanda.ipynb#X12sZmlsZQ%3D%3D?line=4'>5</a>\u001b[0m     trading_job(list_of_currency[i],list_of_str_currency[i])\n\u001b[1;32m      <a href='vscode-notebook-cell:/Users/bobsprite/git/tradingbot/TradingBotOanda.ipynb#X12sZmlsZQ%3D%3D?line=7'>8</a>\u001b[0m \u001b[39m# scheduler = BlockingScheduler()\u001b[39;00m\n\u001b[1;32m      <a href='vscode-notebook-cell:/Users/bobsprite/git/tradingbot/TradingBotOanda.ipynb#X12sZmlsZQ%3D%3D?line=8'>9</a>\u001b[0m \u001b[39m# for i in range (len(list_of_str_currency)):\u001b[39;00m\n\u001b[1;32m     <a href='vscode-notebook-cell:/Users/bobsprite/git/tradingbot/TradingBotOanda.ipynb#X12sZmlsZQ%3D%3D?line=9'>10</a>\u001b[0m \u001b[39m#     scheduler.add_job(trading_job, 'cron', args = [list_of_currency[i],list_of_str_currency[i]], day_of_week='mon-fri', hour='00-23', minute='1,11,21,31,41,51', start_date='2022-01-12 12:00:00')\u001b[39;00m\n\u001b[1;32m     <a href='vscode-notebook-cell:/Users/bobsprite/git/tradingbot/TradingBotOanda.ipynb#X12sZmlsZQ%3D%3D?line=10'>11</a>\u001b[0m \u001b[39m# scheduler.start()\u001b[39;00m\n",
            "\u001b[1;32m/Users/bobsprite/git/tradingbot/TradingBotOanda.ipynb Cell 10\u001b[0m line \u001b[0;36m2\n\u001b[1;32m     <a href='vscode-notebook-cell:/Users/bobsprite/git/tradingbot/TradingBotOanda.ipynb#X12sZmlsZQ%3D%3D?line=22'>23</a>\u001b[0m calculate_rsi(dfstream)\n\u001b[1;32m     <a href='vscode-notebook-cell:/Users/bobsprite/git/tradingbot/TradingBotOanda.ipynb#X12sZmlsZQ%3D%3D?line=24'>25</a>\u001b[0m \u001b[39mprint\u001b[39m(dfstream)\n\u001b[0;32m---> <a href='vscode-notebook-cell:/Users/bobsprite/git/tradingbot/TradingBotOanda.ipynb#X12sZmlsZQ%3D%3D?line=26'>27</a>\u001b[0m signal \u001b[39m=\u001b[39m signal_generator(dfstream\u001b[39m.\u001b[39;49miloc[:\u001b[39m-\u001b[39;49m\u001b[39m1\u001b[39;49m,:])\u001b[39m#\u001b[39;00m\n\u001b[1;32m     <a href='vscode-notebook-cell:/Users/bobsprite/git/tradingbot/TradingBotOanda.ipynb#X12sZmlsZQ%3D%3D?line=27'>28</a>\u001b[0m \u001b[39m# EXECUTING ORDERS\u001b[39;00m\n\u001b[1;32m     <a href='vscode-notebook-cell:/Users/bobsprite/git/tradingbot/TradingBotOanda.ipynb#X12sZmlsZQ%3D%3D?line=28'>29</a>\u001b[0m \u001b[39mprint\u001b[39m(\u001b[39m\"\u001b[39m\u001b[39msignal: \u001b[39m\u001b[39m\"\u001b[39m \u001b[39m+\u001b[39m \u001b[39mstr\u001b[39m(signal))\n",
            "\u001b[1;32m/Users/bobsprite/git/tradingbot/TradingBotOanda.ipynb Cell 10\u001b[0m line \u001b[0;36m5\n\u001b[1;32m      <a href='vscode-notebook-cell:/Users/bobsprite/git/tradingbot/TradingBotOanda.ipynb#X12sZmlsZQ%3D%3D?line=2'>3</a>\u001b[0m rsi \u001b[39m=\u001b[39m df[\u001b[39m'\u001b[39m\u001b[39mRSI\u001b[39m\u001b[39m'\u001b[39m]\n\u001b[1;32m      <a href='vscode-notebook-cell:/Users/bobsprite/git/tradingbot/TradingBotOanda.ipynb#X12sZmlsZQ%3D%3D?line=3'>4</a>\u001b[0m close_price \u001b[39m=\u001b[39m df[\u001b[39m'\u001b[39m\u001b[39mClose\u001b[39m\u001b[39m'\u001b[39m]\n\u001b[0;32m----> <a href='vscode-notebook-cell:/Users/bobsprite/git/tradingbot/TradingBotOanda.ipynb#X12sZmlsZQ%3D%3D?line=4'>5</a>\u001b[0m upper_bb \u001b[39m=\u001b[39m df[\u001b[39m'\u001b[39;49m\u001b[39mUpperBB\u001b[39;49m\u001b[39m'\u001b[39;49m]\n\u001b[1;32m      <a href='vscode-notebook-cell:/Users/bobsprite/git/tradingbot/TradingBotOanda.ipynb#X12sZmlsZQ%3D%3D?line=5'>6</a>\u001b[0m lower_bb \u001b[39m=\u001b[39m df[\u001b[39m'\u001b[39m\u001b[39mLowerBB\u001b[39m\u001b[39m'\u001b[39m]\n\u001b[1;32m      <a href='vscode-notebook-cell:/Users/bobsprite/git/tradingbot/TradingBotOanda.ipynb#X12sZmlsZQ%3D%3D?line=7'>8</a>\u001b[0m \u001b[39mif\u001b[39;00m close_price \u001b[39m>\u001b[39m vwap:\n",
            "File \u001b[0;32m/Library/Frameworks/Python.framework/Versions/3.10/lib/python3.10/site-packages/pandas/core/frame.py:3893\u001b[0m, in \u001b[0;36mDataFrame.__getitem__\u001b[0;34m(self, key)\u001b[0m\n\u001b[1;32m   3891\u001b[0m \u001b[39mif\u001b[39;00m \u001b[39mself\u001b[39m\u001b[39m.\u001b[39mcolumns\u001b[39m.\u001b[39mnlevels \u001b[39m>\u001b[39m \u001b[39m1\u001b[39m:\n\u001b[1;32m   3892\u001b[0m     \u001b[39mreturn\u001b[39;00m \u001b[39mself\u001b[39m\u001b[39m.\u001b[39m_getitem_multilevel(key)\n\u001b[0;32m-> 3893\u001b[0m indexer \u001b[39m=\u001b[39m \u001b[39mself\u001b[39;49m\u001b[39m.\u001b[39;49mcolumns\u001b[39m.\u001b[39;49mget_loc(key)\n\u001b[1;32m   3894\u001b[0m \u001b[39mif\u001b[39;00m is_integer(indexer):\n\u001b[1;32m   3895\u001b[0m     indexer \u001b[39m=\u001b[39m [indexer]\n",
            "File \u001b[0;32m/Library/Frameworks/Python.framework/Versions/3.10/lib/python3.10/site-packages/pandas/core/indexes/base.py:3797\u001b[0m, in \u001b[0;36mIndex.get_loc\u001b[0;34m(self, key)\u001b[0m\n\u001b[1;32m   3792\u001b[0m     \u001b[39mif\u001b[39;00m \u001b[39misinstance\u001b[39m(casted_key, \u001b[39mslice\u001b[39m) \u001b[39mor\u001b[39;00m (\n\u001b[1;32m   3793\u001b[0m         \u001b[39misinstance\u001b[39m(casted_key, abc\u001b[39m.\u001b[39mIterable)\n\u001b[1;32m   3794\u001b[0m         \u001b[39mand\u001b[39;00m \u001b[39many\u001b[39m(\u001b[39misinstance\u001b[39m(x, \u001b[39mslice\u001b[39m) \u001b[39mfor\u001b[39;00m x \u001b[39min\u001b[39;00m casted_key)\n\u001b[1;32m   3795\u001b[0m     ):\n\u001b[1;32m   3796\u001b[0m         \u001b[39mraise\u001b[39;00m InvalidIndexError(key)\n\u001b[0;32m-> 3797\u001b[0m     \u001b[39mraise\u001b[39;00m \u001b[39mKeyError\u001b[39;00m(key) \u001b[39mfrom\u001b[39;00m \u001b[39merr\u001b[39;00m\n\u001b[1;32m   3798\u001b[0m \u001b[39mexcept\u001b[39;00m \u001b[39mTypeError\u001b[39;00m:\n\u001b[1;32m   3799\u001b[0m     \u001b[39m# If we have a listlike key, _check_indexing_error will raise\u001b[39;00m\n\u001b[1;32m   3800\u001b[0m     \u001b[39m#  InvalidIndexError. Otherwise we fall through and re-raise\u001b[39;00m\n\u001b[1;32m   3801\u001b[0m     \u001b[39m#  the TypeError.\u001b[39;00m\n\u001b[1;32m   3802\u001b[0m     \u001b[39mself\u001b[39m\u001b[39m.\u001b[39m_check_indexing_error(key)\n",
            "\u001b[0;31mKeyError\u001b[0m: 'UpperBB'"
          ]
        }
      ],
      "source": [
        "list_of_currency = [Pair.EUR_USD, Pair.EUR_GBP, Pair.USD_JPY, Pair.AUD_USD, Pair.USD_CAD, Pair.CAD_JPY, Pair.NZD_USD]\n",
        "list_of_str_currency = [\"EUR_USD\", \"EUR_GBP\", \"USD_JPY\", \"AUD_USD\",\"USD_CAD\",\"CAD_JPY\",\"NZD_USD\"]\n",
        "\n",
        "for i in range (len(list_of_str_currency)):\n",
        "    trading_job(list_of_currency[i],list_of_str_currency[i])\n",
        "\n",
        "\n",
        "# scheduler = BlockingScheduler()\n",
        "# for i in range (len(list_of_str_currency)):\n",
        "#     scheduler.add_job(trading_job, 'cron', args = [list_of_currency[i],list_of_str_currency[i]], day_of_week='mon-fri', hour='00-23', minute='1,11,21,31,41,51', start_date='2022-01-12 12:00:00')\n",
        "# scheduler.start()"
      ]
    },
    {
      "cell_type": "code",
      "execution_count": null,
      "metadata": {},
      "outputs": [],
      "source": []
    }
  ],
  "metadata": {
    "colab": {
      "provenance": []
    },
    "kernelspec": {
      "display_name": "Python 3.10.8 64-bit",
      "language": "python",
      "name": "python3"
    },
    "language_info": {
      "codemirror_mode": {
        "name": "ipython",
        "version": 3
      },
      "file_extension": ".py",
      "mimetype": "text/x-python",
      "name": "python",
      "nbconvert_exporter": "python",
      "pygments_lexer": "ipython3",
      "version": "3.10.11"
    },
    "vscode": {
      "interpreter": {
        "hash": "c0ff92a541b5eb8a0f75470c34280cf0dea79e8b819847822bd36e33345fddf3"
      }
    }
  },
  "nbformat": 4,
  "nbformat_minor": 0
}
