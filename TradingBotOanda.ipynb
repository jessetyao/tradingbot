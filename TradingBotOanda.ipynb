{
  "cells": [
    {
      "cell_type": "markdown",
      "metadata": {
        "id": "JQLimjSTso4B"
      },
      "source": [
        "### 1 - Import test data"
      ]
    },
    {
      "cell_type": "code",
      "execution_count": 16,
      "metadata": {
        "id": "HDUx5opJso4E",
        "outputId": "7690265c-ce95-4865-8cca-03d60c47da16"
      },
      "outputs": [
        {
          "name": "stdout",
          "output_type": "stream",
          "text": [
            "[*********************100%%**********************]  1 of 1 completed\n"
          ]
        },
        {
          "data": {
            "text/html": [
              "<div>\n",
              "<style scoped>\n",
              "    .dataframe tbody tr th:only-of-type {\n",
              "        vertical-align: middle;\n",
              "    }\n",
              "\n",
              "    .dataframe tbody tr th {\n",
              "        vertical-align: top;\n",
              "    }\n",
              "\n",
              "    .dataframe thead th {\n",
              "        text-align: right;\n",
              "    }\n",
              "</style>\n",
              "<table border=\"1\" class=\"dataframe\">\n",
              "  <thead>\n",
              "    <tr style=\"text-align: right;\">\n",
              "      <th></th>\n",
              "      <th>Open</th>\n",
              "      <th>High</th>\n",
              "      <th>Low</th>\n",
              "      <th>Close</th>\n",
              "      <th>Adj Close</th>\n",
              "      <th>Volume</th>\n",
              "    </tr>\n",
              "    <tr>\n",
              "      <th>Datetime</th>\n",
              "      <th></th>\n",
              "      <th></th>\n",
              "      <th></th>\n",
              "      <th></th>\n",
              "      <th></th>\n",
              "      <th></th>\n",
              "    </tr>\n",
              "  </thead>\n",
              "  <tbody>\n",
              "    <tr>\n",
              "      <th>2023-09-07 00:00:00</th>\n",
              "      <td>1.072731</td>\n",
              "      <td>1.072846</td>\n",
              "      <td>1.072616</td>\n",
              "      <td>1.072616</td>\n",
              "      <td>1.072616</td>\n",
              "      <td>0</td>\n",
              "    </tr>\n",
              "    <tr>\n",
              "      <th>2023-09-07 00:15:00</th>\n",
              "      <td>1.072616</td>\n",
              "      <td>1.072616</td>\n",
              "      <td>1.072501</td>\n",
              "      <td>1.072616</td>\n",
              "      <td>1.072616</td>\n",
              "      <td>0</td>\n",
              "    </tr>\n",
              "    <tr>\n",
              "      <th>2023-09-07 00:30:00</th>\n",
              "      <td>1.072616</td>\n",
              "      <td>1.072731</td>\n",
              "      <td>1.072501</td>\n",
              "      <td>1.072501</td>\n",
              "      <td>1.072501</td>\n",
              "      <td>0</td>\n",
              "    </tr>\n",
              "    <tr>\n",
              "      <th>2023-09-07 00:45:00</th>\n",
              "      <td>1.072501</td>\n",
              "      <td>1.072616</td>\n",
              "      <td>1.072501</td>\n",
              "      <td>1.072616</td>\n",
              "      <td>1.072616</td>\n",
              "      <td>0</td>\n",
              "    </tr>\n",
              "    <tr>\n",
              "      <th>2023-09-07 01:00:00</th>\n",
              "      <td>1.072731</td>\n",
              "      <td>1.072731</td>\n",
              "      <td>1.072501</td>\n",
              "      <td>1.072501</td>\n",
              "      <td>1.072501</td>\n",
              "      <td>0</td>\n",
              "    </tr>\n",
              "    <tr>\n",
              "      <th>...</th>\n",
              "      <td>...</td>\n",
              "      <td>...</td>\n",
              "      <td>...</td>\n",
              "      <td>...</td>\n",
              "      <td>...</td>\n",
              "      <td>...</td>\n",
              "    </tr>\n",
              "    <tr>\n",
              "      <th>2023-10-31 22:45:00</th>\n",
              "      <td>1.058089</td>\n",
              "      <td>1.058313</td>\n",
              "      <td>1.058089</td>\n",
              "      <td>1.058201</td>\n",
              "      <td>1.058201</td>\n",
              "      <td>0</td>\n",
              "    </tr>\n",
              "    <tr>\n",
              "      <th>2023-10-31 23:00:00</th>\n",
              "      <td>1.058313</td>\n",
              "      <td>1.058313</td>\n",
              "      <td>1.058089</td>\n",
              "      <td>1.058089</td>\n",
              "      <td>1.058089</td>\n",
              "      <td>0</td>\n",
              "    </tr>\n",
              "    <tr>\n",
              "      <th>2023-10-31 23:15:00</th>\n",
              "      <td>1.058089</td>\n",
              "      <td>1.058201</td>\n",
              "      <td>1.058089</td>\n",
              "      <td>1.058089</td>\n",
              "      <td>1.058089</td>\n",
              "      <td>0</td>\n",
              "    </tr>\n",
              "    <tr>\n",
              "      <th>2023-10-31 23:30:00</th>\n",
              "      <td>1.058201</td>\n",
              "      <td>1.058201</td>\n",
              "      <td>1.058089</td>\n",
              "      <td>1.058201</td>\n",
              "      <td>1.058201</td>\n",
              "      <td>0</td>\n",
              "    </tr>\n",
              "    <tr>\n",
              "      <th>2023-10-31 23:45:00</th>\n",
              "      <td>1.058201</td>\n",
              "      <td>1.058201</td>\n",
              "      <td>1.058089</td>\n",
              "      <td>1.058201</td>\n",
              "      <td>1.058201</td>\n",
              "      <td>0</td>\n",
              "    </tr>\n",
              "  </tbody>\n",
              "</table>\n",
              "<p>3696 rows × 6 columns</p>\n",
              "</div>"
            ],
            "text/plain": [
              "                         Open      High       Low     Close  Adj Close  Volume\n",
              "Datetime                                                                      \n",
              "2023-09-07 00:00:00  1.072731  1.072846  1.072616  1.072616   1.072616       0\n",
              "2023-09-07 00:15:00  1.072616  1.072616  1.072501  1.072616   1.072616       0\n",
              "2023-09-07 00:30:00  1.072616  1.072731  1.072501  1.072501   1.072501       0\n",
              "2023-09-07 00:45:00  1.072501  1.072616  1.072501  1.072616   1.072616       0\n",
              "2023-09-07 01:00:00  1.072731  1.072731  1.072501  1.072501   1.072501       0\n",
              "...                       ...       ...       ...       ...        ...     ...\n",
              "2023-10-31 22:45:00  1.058089  1.058313  1.058089  1.058201   1.058201       0\n",
              "2023-10-31 23:00:00  1.058313  1.058313  1.058089  1.058089   1.058089       0\n",
              "2023-10-31 23:15:00  1.058089  1.058201  1.058089  1.058089   1.058089       0\n",
              "2023-10-31 23:30:00  1.058201  1.058201  1.058089  1.058201   1.058201       0\n",
              "2023-10-31 23:45:00  1.058201  1.058201  1.058089  1.058201   1.058201       0\n",
              "\n",
              "[3696 rows x 6 columns]"
            ]
          },
          "execution_count": 16,
          "metadata": {},
          "output_type": "execute_result"
        }
      ],
      "source": [
        "import yfinance as yf\n",
        "import pandas as pd\n",
        "\n",
        "dataF = yf.download(\"EURUSD=X\", start=\"2023-9-7\", end=\"2023-11-1\", interval='15m')\n",
        "dataF.iloc[:,:]\n",
        "#dataF.Open.iloc"
      ]
    },
    {
      "cell_type": "markdown",
      "metadata": {
        "id": "th37JO7Lso4G"
      },
      "source": [
        "### 2 - Define your signal function"
      ]
    },
    {
      "cell_type": "code",
      "execution_count": 17,
      "metadata": {
        "id": "oh6erbtQso4H"
      },
      "outputs": [],
      "source": [
        "def signal_generator(df):\n",
        "    open = df.Open.iloc[-1]\n",
        "    close = df.Close.iloc[-1]\n",
        "    previous_open = df.Open.iloc[-2]\n",
        "    previous_close = df.Close.iloc[-2]\n",
        "\n",
        "    # Bearish Pattern\n",
        "    if (open>close and\n",
        "    previous_open<previous_close and\n",
        "    close<previous_open and\n",
        "    open>=previous_close):\n",
        "        return 1\n",
        "\n",
        "    # Bullish Pattern\n",
        "    elif (open<close and\n",
        "        previous_open>previous_close and\n",
        "        close>previous_open and\n",
        "        open<=previous_close):\n",
        "        return 2\n",
        "\n",
        "    # No clear pattern\n",
        "    else:\n",
        "        return 0\n",
        "\n",
        "signal = []\n",
        "signal.append(0)\n",
        "for i in range(1,len(dataF)):\n",
        "    df = dataF[i-1:i+1]\n",
        "    signal.append(signal_generator(df))\n",
        "#signal_generator(data)\n",
        "dataF[\"signal\"] = signal"
      ]
    },
    {
      "cell_type": "code",
      "execution_count": 18,
      "metadata": {
        "id": "-837Y7Elso4H",
        "outputId": "1456dcc4-0afe-48f1-cf77-c001ea7446a5"
      },
      "outputs": [
        {
          "data": {
            "text/plain": [
              "signal\n",
              "0    3399\n",
              "1     154\n",
              "2     143\n",
              "Name: count, dtype: int64"
            ]
          },
          "execution_count": 18,
          "metadata": {},
          "output_type": "execute_result"
        }
      ],
      "source": [
        "dataF.signal.value_counts()\n",
        "#dataF.iloc[:, :]"
      ]
    },
    {
      "cell_type": "markdown",
      "metadata": {
        "id": "beYcSPPWso4I"
      },
      "source": [
        "### 3 - Connect to the market and execute trades"
      ]
    },
    {
      "cell_type": "code",
      "execution_count": 19,
      "metadata": {
        "id": "vViuxkdHso4I"
      },
      "outputs": [],
      "source": [
        "from apscheduler.schedulers.blocking import BlockingScheduler\n",
        "from oandapyV20 import API\n",
        "import oandapyV20.endpoints.orders as orders\n",
        "from oandapyV20.contrib.requests import MarketOrderRequest\n",
        "from oanda_candles import Pair, Gran, CandleClient\n",
        "from oandapyV20.contrib.requests import TakeProfitDetails, StopLossDetails"
      ]
    },
    {
      "cell_type": "code",
      "execution_count": 20,
      "metadata": {
        "id": "ztFBEJacso4J",
        "outputId": "00070d9d-023c-48c4-da73-8eacf43674d4"
      },
      "outputs": [
        {
          "name": "stdout",
          "output_type": "stream",
          "text": [
            "True\n",
            "True\n",
            "True\n"
          ]
        }
      ],
      "source": [
        "access_token= \"cd7e21b015cb734770f5fcfea9da9c9f-49a95de76ed5cab29ee0d33cee5f004d\"\n",
        "accountID = \"101-001-27332384-001\" #your account ID here\n",
        "def get_candles(n):\n",
        "    client = CandleClient(access_token, real=False)\n",
        "    collector = client.get_collector(Pair.EUR_USD, Gran.M15)\n",
        "    candles = collector.grab(n)\n",
        "    return candles\n",
        "\n",
        "candles = get_candles(3)\n",
        "for candle in candles:\n",
        "    print(float(str(candle.bid.o))>1)\n"
      ]
    },
    {
      "cell_type": "code",
      "execution_count": 24,
      "metadata": {
        "id": "YDvk2yOSso4J"
      },
      "outputs": [],
      "source": [
        "def trading_job():\n",
        "    candles = get_candles(3)\n",
        "    dfstream = pd.DataFrame(columns=['Open','Close','High','Low'])\n",
        "\n",
        "    i=0\n",
        "    for candle in candles:\n",
        "        dfstream.loc[i, ['Open']] = float(str(candle.bid.o))\n",
        "        dfstream.loc[i, ['Close']] = float(str(candle.bid.c))\n",
        "        dfstream.loc[i, ['High']] = float(str(candle.bid.h))\n",
        "        dfstream.loc[i, ['Low']] = float(str(candle.bid.l))\n",
        "        i=i+1\n",
        "\n",
        "    dfstream['Open'] = dfstream['Open'].astype(float)\n",
        "    dfstream['Close'] = dfstream['Close'].astype(float)\n",
        "    dfstream['High'] = dfstream['High'].astype(float)\n",
        "    dfstream['Low'] = dfstream['Low'].astype(float)\n",
        "\n",
        "    signal = signal_generator(dfstream.iloc[:-1,:])#\n",
        "\n",
        "    # EXECUTING ORDERS\n",
        "    client = API(access_token)\n",
        "\n",
        "    SLTPRatio = 2.\n",
        "    previous_candleR = abs(dfstream['High'].iloc[-2]-dfstream['Low'].iloc[-2])\n",
        "\n",
        "    SLBuy = float(str(candle.bid.o))-previous_candleR\n",
        "    SLSell = float(str(candle.bid.o))+previous_candleR\n",
        "\n",
        "    TPBuy = float(str(candle.bid.o))+previous_candleR*SLTPRatio\n",
        "    TPSell = float(str(candle.bid.o))-previous_candleR*SLTPRatio\n",
        "\n",
        "    print(dfstream.iloc[:-1,:])\n",
        "    print(TPBuy, \"  \", SLBuy, \"  \", TPSell, \"  \", SLSell)\n",
        "    signal = 2\n",
        "    #Sell\n",
        "    if signal == 1:\n",
        "        mo = MarketOrderRequest(instrument=\"EUR_USD\", units=-1000, takeProfitOnFill=TakeProfitDetails(price=TPSell).data, stopLossOnFill=StopLossDetails(price=SLSell).data)\n",
        "        r = orders.OrderCreate(accountID, data=mo.data)\n",
        "        rv = client.request(r)\n",
        "        print(rv)\n",
        "    #Buy\n",
        "    elif signal == 2:\n",
        "        mo = MarketOrderRequest(instrument=\"EUR_USD\", units=1000, takeProfitOnFill=TakeProfitDetails(price=TPBuy).data, stopLossOnFill=StopLossDetails(price=SLBuy).data)\n",
        "        r = orders.OrderCreate(accountID, data=mo.data)\n",
        "        rv = client.request(r)\n",
        "        print(rv)"
      ]
    },
    {
      "cell_type": "markdown",
      "metadata": {
        "id": "oZdxbGm-so4K"
      },
      "source": [
        "### 4 - Executing orders automatically with a scheduler"
      ]
    },
    {
      "cell_type": "code",
      "execution_count": 25,
      "metadata": {
        "id": "SgGFrNvOso4K"
      },
      "outputs": [
        {
          "name": "stdout",
          "output_type": "stream",
          "text": [
            "      Open    Close     High      Low\n",
            "0  1.07267  1.07297  1.07297  1.07259\n",
            "1  1.07297  1.07304  1.07320  1.07294\n",
            "1.0735499999999998    1.07277    1.07251    1.0732899999999999\n",
            "{'orderCreateTransaction': {'id': '14', 'accountID': '101-001-27332384-001', 'userID': 27332384, 'batchID': '14', 'requestID': '25141190429682750', 'time': '2023-11-05T04:46:43.548031521Z', 'type': 'MARKET_ORDER', 'instrument': 'EUR_USD', 'units': '1000', 'timeInForce': 'FOK', 'positionFill': 'DEFAULT', 'takeProfitOnFill': {'price': '1.07355', 'timeInForce': 'GTC'}, 'stopLossOnFill': {'price': '1.07277', 'timeInForce': 'GTC', 'triggerMode': 'TOP_OF_BOOK'}, 'reason': 'CLIENT_ORDER'}, 'orderCancelTransaction': {'id': '15', 'accountID': '101-001-27332384-001', 'userID': 27332384, 'batchID': '14', 'requestID': '25141190429682750', 'time': '2023-11-05T04:46:43.548031521Z', 'type': 'ORDER_CANCEL', 'orderID': '14', 'reason': 'MARKET_HALTED'}, 'relatedTransactionIDs': ['14', '15'], 'lastTransactionID': '15'}\n"
          ]
        }
      ],
      "source": [
        "trading_job()\n",
        "\n",
        "#scheduler = BlockingScheduler()\n",
        "#scheduler.add_job(trading_job, 'cron', day_of_week='mon-fri', hour='00-23', minute='1,16,31,46', start_date='2022-01-12 12:00:00', timezone='America/Chicago')\n",
        "#scheduler.start()"
      ]
    },
    {
      "cell_type": "code",
      "execution_count": null,
      "metadata": {},
      "outputs": [],
      "source": []
    }
  ],
  "metadata": {
    "colab": {
      "provenance": []
    },
    "kernelspec": {
      "display_name": "Python 3.10.8 64-bit",
      "language": "python",
      "name": "python3"
    },
    "language_info": {
      "codemirror_mode": {
        "name": "ipython",
        "version": 3
      },
      "file_extension": ".py",
      "mimetype": "text/x-python",
      "name": "python",
      "nbconvert_exporter": "python",
      "pygments_lexer": "ipython3",
      "version": "3.10.11"
    },
    "vscode": {
      "interpreter": {
        "hash": "c0ff92a541b5eb8a0f75470c34280cf0dea79e8b819847822bd36e33345fddf3"
      }
    }
  },
  "nbformat": 4,
  "nbformat_minor": 0
}
