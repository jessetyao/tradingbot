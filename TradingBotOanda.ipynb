{
  "cells": [
    {
      "cell_type": "code",
      "execution_count": 4,
      "metadata": {
        "id": "HDUx5opJso4E",
        "outputId": "7690265c-ce95-4865-8cca-03d60c47da16"
      },
      "outputs": [],
      "source": [
        "from apscheduler.schedulers.blocking import BlockingScheduler\n",
        "from oandapyV20 import API\n",
        "import oandapyV20.endpoints.orders as orders\n",
        "from oandapyV20.contrib.requests import MarketOrderRequest\n",
        "from oanda_candles import Pair, Gran, CandleClient\n",
        "from oandapyV20.endpoints.instruments import InstrumentsCandles\n",
        "from oandapyV20.contrib.requests import TakeProfitDetails, StopLossDetails\n",
        "import talib\n",
        "import pandas_ta as ta\n",
        "import numpy as np\n",
        "import pandas as pd\n",
        "import random\n"
      ]
    },
    {
      "cell_type": "code",
      "execution_count": 5,
      "metadata": {
        "id": "oh6erbtQso4H"
      },
      "outputs": [],
      "source": [
        "def signal_generator(df):\n",
        "    vwap = df['VWAP']\n",
        "    rsi = df['RSI'].dropna()\n",
        "\n",
        "    close_price = df['Close']\n",
        "    upper_bb = df['UpperBB']\n",
        "    lower_bb = df['LowerBB']\n",
        "    average_rsi = rsi.mean()\n",
        "    bullish = True\n",
        "    bearish = True\n",
        "    sell_count = 0\n",
        "    buy_count = 0\n",
        "    #print(rsi.values)\n",
        "    vwap_threshold = 0.0004\n",
        "    for i in range(len(df)):\n",
        "        if max(df['Open'][i], df['Close'][i]) >= (1 + vwap_threshold) * df['VWAP'][i]:\n",
        "            bearish = False\n",
        "        if min(df['Open'][i], df['Close'][i]) <= (1 - vwap_threshold) * df['VWAP'][i]:\n",
        "            bullish = False\n",
        "\n",
        "    if bullish and bearish:\n",
        "        vwap_signal =  \"Neutral\"  # Neither Bullish nor Bearish\n",
        "    elif bullish:\n",
        "        vwap_signal =  \"Bullish\"\n",
        "        buy_count += 1\n",
        "    elif bearish:\n",
        "        vwap_signal =  \"Bearish\"\n",
        "        sell_count += 1\n",
        "    else:\n",
        "        vwap_signal =  \"Neutral\"\n",
        "\n",
        "    if average_rsi > 70:\n",
        "        rsi_signal = \"Overbought\"\n",
        "        sell_count += 1\n",
        "    elif average_rsi < 30:\n",
        "        rsi_signal = \"Oversold\"\n",
        "        buy_count += 1\n",
        "    else:\n",
        "        rsi_signal = \"Neutral\"\n",
        "        \n",
        "    bb_threshold = 0.2\n",
        "    overbought_signal = (df['Close'] > upper_bb).any()\n",
        "    oversold_signal = (df['Close'] < lower_bb).any()\n",
        "\n",
        "    if overbought_signal:\n",
        "        bb_signal = \"Overbought\"\n",
        "        sell_count += 1\n",
        "    elif oversold_signal:\n",
        "        bb_signal = \"Oversold\"\n",
        "        buy_count += 1\n",
        "    else:\n",
        "        bb_signal = \"Neutral\"\n",
        "\n",
        "    if buy_count >= 2:\n",
        "        #print(vwap_signal, rsi_signal, bb_signal )\n",
        "        return \"Buy\"\n",
        "    elif sell_count >= 2:\n",
        "        #print(vwap_signal, rsi_signal, bb_signal )\n",
        "        return \"Sell\"\n",
        "    else:\n",
        "        return \"-\"\n",
        "    \n"
      ]
    },
    {
      "cell_type": "markdown",
      "metadata": {
        "id": "beYcSPPWso4I"
      },
      "source": [
        "### 3 - Connect to the market and execute trades"
      ]
    },
    {
      "cell_type": "code",
      "execution_count": 6,
      "metadata": {
        "id": "ztFBEJacso4J",
        "outputId": "00070d9d-023c-48c4-da73-8eacf43674d4"
      },
      "outputs": [
        {
          "data": {
            "text/plain": [
              "[{'complete': True,\n",
              "  'volume': 627,\n",
              "  'time': '2023-12-04T03:30:00.000000000Z',\n",
              "  'mid': {'o': '1.08856', 'h': '1.08860', 'l': '1.08836', 'c': '1.08848'}},\n",
              " {'complete': True,\n",
              "  'volume': 486,\n",
              "  'time': '2023-12-04T03:45:00.000000000Z',\n",
              "  'mid': {'o': '1.08849', 'h': '1.08854', 'l': '1.08801', 'c': '1.08801'}},\n",
              " {'complete': False,\n",
              "  'volume': 349,\n",
              "  'time': '2023-12-04T04:00:00.000000000Z',\n",
              "  'mid': {'o': '1.08800', 'h': '1.08806', 'l': '1.08765', 'c': '1.08771'}}]"
            ]
          },
          "execution_count": 6,
          "metadata": {},
          "output_type": "execute_result"
        }
      ],
      "source": [
        "access_token= \"cd7e21b015cb734770f5fcfea9da9c9f-49a95de76ed5cab29ee0d33cee5f004d\"\n",
        "accountID = \"101-001-27332384-001\" #your account ID here\n",
        "list_of_currency = [Pair.EUR_USD, Pair.EUR_GBP, Pair.USD_JPY, Pair.AUD_USD, Pair.USD_CAD, Pair.CAD_JPY, Pair.NZD_USD]\n",
        "def get_candles(n, currency):\n",
        "    client = API(access_token)\n",
        "    request = InstrumentsCandles(instrument=currency, params={\"granularity\": Gran.M15, \"count\": n})\n",
        "    response = client.request(request)\n",
        "    candles = response['candles']\n",
        "    return candles\n",
        "\n",
        "candles = get_candles(3, Pair.EUR_USD)\n",
        "candles\n"
      ]
    },
    {
      "cell_type": "code",
      "execution_count": 7,
      "metadata": {},
      "outputs": [],
      "source": [
        "def calculate_vwap(data):\n",
        "    data['VWAP'] = (((data['High'] + data['Low'] + data['Close']) / 3) * data['Volume']).cumsum() / data['Volume'].cumsum()\n",
        "\n",
        "def calculate_bollinger_bands(data, std_dev=2):\n",
        "    data['SMA'] = data['Close'].mean()\n",
        "    std_dev_values = data['Close'].std()\n",
        "    data['UpperBB'] = data['SMA'] + (std_dev * std_dev_values)\n",
        "    data['LowerBB'] = data['SMA'] - (std_dev * std_dev_values)\n",
        "    \n",
        "def calculate_rsi(data):\n",
        "    data['RSI'] = talib.RSI(data['Close'])"
      ]
    },
    {
      "cell_type": "code",
      "execution_count": 8,
      "metadata": {
        "id": "YDvk2yOSso4J"
      },
      "outputs": [],
      "source": [
        "def trading_job(currency, string_currency):\n",
        "    candles = get_candles(15, currency)\n",
        "    dfstream = pd.DataFrame(columns=['Open','Close','High','Low', 'Volume'])\n",
        "    i=0\n",
        "\n",
        "    for candle in candles:\n",
        "        dfstream.loc[i, 'Open'] = float(candle['mid']['o'])\n",
        "        dfstream.loc[i, 'Close'] = float(candle['mid']['c'])\n",
        "        dfstream.loc[i, 'High'] = float(candle['mid']['h'])\n",
        "        dfstream.loc[i, 'Low'] = float(candle['mid']['l'])\n",
        "        dfstream.loc[i, 'Volume'] = float(candle['volume'])\n",
        "        i += 1\n",
        "\n",
        "    dfstream['Open'] = dfstream['Open'].astype(float)\n",
        "    dfstream['Close'] = dfstream['Close'].astype(float)\n",
        "    dfstream['High'] = dfstream['High'].astype(float)\n",
        "    dfstream['Low'] = dfstream['Low'].astype(float)\n",
        "    dfstream['Volume'] = dfstream['Volume'].astype(float)\n",
        "    calculate_vwap(dfstream)\n",
        "    calculate_bollinger_bands(dfstream)\n",
        "    calculate_rsi(dfstream)\n",
        "\n",
        "    #print(dfstream)\n",
        "    #print(dfstream)\n",
        "    signal = signal_generator(dfstream)#\n",
        "    # EXECUTING ORDERS\n",
        "    #print(\"signal: \" + str(signal))\n",
        "    client = API(access_token)\n",
        "\n",
        "    SLTPRatio = 2.\n",
        "    previous_candleR = abs(dfstream['High'].iloc[-2]-dfstream['Low'].iloc[-2])\n",
        "\n",
        "    SLBuy = float(str(candle['mid']['o']))-previous_candleR\n",
        "    SLSell = float(str(candle['mid']['o']))+previous_candleR\n",
        "\n",
        "    TPBuy = float(str(candle['mid']['o']))+previous_candleR*SLTPRatio\n",
        "    TPSell = float(str(candle['mid']['o']))-previous_candleR*SLTPRatio\n",
        "\n",
        "    #print(dfstream.iloc[:-1,:])\n",
        "    #print(TPBuy, \"  \", SLBuy, \"  \", TPSell, \"  \", SLSell)\n",
        "    #signal = 2\n",
        "\n",
        "    #THE WRONG CODE SELL SOULD BE -2000 and BUY SHOULD BE 2000\n",
        "    #Sell\n",
        "    if signal == \"Sell\":\n",
        "        random_integer = random.randint(-100, 100)\n",
        "        mo = MarketOrderRequest(instrument=string_currency, units=2000 + random_integer, takeProfitOnFill=TakeProfitDetails(price=TPSell).data, stopLossOnFill=StopLossDetails(price=SLSell).data)\n",
        "        r = orders.OrderCreate(accountID, data=mo.data)\n",
        "        rv = client.request(r)\n",
        "        print(rv)\n",
        "    #Buy\n",
        "    elif signal == \"Buy\":\n",
        "        random_integer = random.randint(-100, 100)\n",
        "        mo = MarketOrderRequest(instrument=string_currency, units=-2000 + random_integer, takeProfitOnFill=TakeProfitDetails(price=TPBuy).data, stopLossOnFill=StopLossDetails(price=SLBuy).data)\n",
        "        r = orders.OrderCreate(accountID, data=mo.data)\n",
        "        rv = client.request(r)\n",
        "        print(rv)"
      ]
    },
    {
      "cell_type": "code",
      "execution_count": 9,
      "metadata": {},
      "outputs": [],
      "source": [
        "\n",
        "currency_pairs = [Pair.AUD_CAD, Pair.AUD_JPY, Pair.AUD_NZD, Pair.AUD_USD,\n",
        "    Pair.CAD_CHF, Pair.CAD_JPY,\n",
        "    Pair.EUR_AUD, Pair.EUR_CAD, Pair.EUR_CHF, Pair.EUR_GBP, Pair.EUR_JPY, Pair.EUR_NZD, Pair.EUR_USD,\n",
        "    Pair.GBP_AUD, Pair.GBP_CAD, Pair.GBP_CHF, Pair.GBP_JPY, Pair.GBP_NZD, Pair.GBP_USD,\n",
        "    Pair.NZD_CAD, Pair.NZD_CHF, Pair.NZD_JPY, Pair.NZD_USD,\n",
        "    Pair.USD_CAD, Pair.USD_CHF, Pair.USD_JPY]\n",
        "\n",
        "list_of_str_currency = [\"AUD_CAD\", \"AUD_JPY\", \"AUD_NZD\", \"AUD_USD\",\n",
        "    \"CAD_CHF\", \"CAD_JPY\",\n",
        "    \"EUR_AUD\", \"EUR_CAD\", \"EUR_CHF\", \"EUR_GBP\", \"EUR_JPY\", \"EUR_NZD\", \"EUR_USD\",\n",
        "    \"GBP_AUD\", \"GBP_CAD\", \"GBP_CHF\", \"GBP_JPY\", \"GBP_NZD\", \"GBP_USD\",\n",
        "    \"NZD_CAD\", \"NZD_CHF\", \"NZD_JPY\", \"NZD_USD\",\n",
        "    \"USD_CAD\", \"USD_CHF\", \"USD_JPY\"]\n"
      ]
    },
    {
      "cell_type": "code",
      "execution_count": 10,
      "metadata": {
        "id": "SgGFrNvOso4K"
      },
      "outputs": [
        {
          "name": "stderr",
          "output_type": "stream",
          "text": [
            "Run time of job \"trading_job (trigger: cron[day_of_week='mon-fri', hour='0-23', minute='1,16,31,46'], next run at: 2023-12-04 00:01:00 PST)\" was missed by 0:00:40.370600\n",
            "Run time of job \"trading_job (trigger: cron[day_of_week='mon-fri', hour='0-23', minute='1,16,31,46'], next run at: 2023-12-04 09:01:00 PST)\" was missed by 0:00:40.380668\n",
            "Run time of job \"trading_job (trigger: cron[day_of_week='mon-fri', hour='0-23', minute='1,16,31,46'], next run at: 2023-12-04 09:01:00 PST)\" was missed by 0:00:40.458439\n",
            "Run time of job \"trading_job (trigger: cron[day_of_week='mon-fri', hour='0-23', minute='1,16,31,46'], next run at: 2023-12-04 09:01:00 PST)\" was missed by 0:00:40.461832\n",
            "Run time of job \"trading_job (trigger: cron[day_of_week='mon-fri', hour='0-23', minute='1,16,31,46'], next run at: 2023-12-04 09:01:00 PST)\" was missed by 0:00:40.462822\n",
            "Run time of job \"trading_job (trigger: cron[day_of_week='mon-fri', hour='0-23', minute='1,16,31,46'], next run at: 2023-12-04 09:01:00 PST)\" was missed by 0:00:40.463892\n",
            "Run time of job \"trading_job (trigger: cron[day_of_week='mon-fri', hour='0-23', minute='1,16,31,46'], next run at: 2023-12-04 09:01:00 PST)\" was missed by 0:00:40.465062\n",
            "Run time of job \"trading_job (trigger: cron[day_of_week='mon-fri', hour='0-23', minute='1,16,31,46'], next run at: 2023-12-04 09:01:00 PST)\" was missed by 0:00:40.467580\n",
            "Run time of job \"trading_job (trigger: cron[day_of_week='mon-fri', hour='0-23', minute='1,16,31,46'], next run at: 2023-12-04 09:01:00 PST)\" was missed by 0:00:40.468764\n",
            "Run time of job \"trading_job (trigger: cron[day_of_week='mon-fri', hour='0-23', minute='1,16,31,46'], next run at: 2023-12-04 09:01:00 PST)\" was missed by 0:00:40.470197\n",
            "Run time of job \"trading_job (trigger: cron[day_of_week='mon-fri', hour='0-23', minute='1,16,31,46'], next run at: 2023-12-04 09:01:00 PST)\" was missed by 0:00:40.470250\n",
            "Run time of job \"trading_job (trigger: cron[day_of_week='mon-fri', hour='0-23', minute='1,16,31,46'], next run at: 2023-12-04 09:01:00 PST)\" was missed by 0:00:40.471400\n",
            "Run time of job \"trading_job (trigger: cron[day_of_week='mon-fri', hour='0-23', minute='1,16,31,46'], next run at: 2023-12-04 09:01:00 PST)\" was missed by 0:00:40.483685\n",
            "Run time of job \"trading_job (trigger: cron[day_of_week='mon-fri', hour='0-23', minute='1,16,31,46'], next run at: 2023-12-04 09:01:00 PST)\" was missed by 0:00:40.485516\n",
            "Run time of job \"trading_job (trigger: cron[day_of_week='mon-fri', hour='0-23', minute='1,16,31,46'], next run at: 2023-12-04 09:01:00 PST)\" was missed by 0:00:40.487023\n",
            "Run time of job \"trading_job (trigger: cron[day_of_week='mon-fri', hour='0-23', minute='1,16,31,46'], next run at: 2023-12-04 09:01:00 PST)\" was missed by 0:00:40.487881\n",
            "Run time of job \"trading_job (trigger: cron[day_of_week='mon-fri', hour='0-23', minute='1,16,31,46'], next run at: 2023-12-04 09:01:00 PST)\" was missed by 0:00:40.488588\n",
            "Run time of job \"trading_job (trigger: cron[day_of_week='mon-fri', hour='0-23', minute='1,16,31,46'], next run at: 2023-12-04 09:01:00 PST)\" was missed by 0:00:40.489141\n",
            "Run time of job \"trading_job (trigger: cron[day_of_week='mon-fri', hour='0-23', minute='1,16,31,46'], next run at: 2023-12-04 09:01:00 PST)\" was missed by 0:00:40.489630\n",
            "Run time of job \"trading_job (trigger: cron[day_of_week='mon-fri', hour='0-23', minute='1,16,31,46'], next run at: 2023-12-04 09:01:00 PST)\" was missed by 0:00:40.490242\n",
            "Run time of job \"trading_job (trigger: cron[day_of_week='mon-fri', hour='0-23', minute='1,16,31,46'], next run at: 2023-12-04 09:01:00 PST)\" was missed by 0:00:40.491059\n",
            "Run time of job \"trading_job (trigger: cron[day_of_week='mon-fri', hour='0-23', minute='1,16,31,46'], next run at: 2023-12-04 09:01:00 PST)\" was missed by 0:00:40.491715\n",
            "Run time of job \"trading_job (trigger: cron[day_of_week='mon-fri', hour='0-23', minute='1,16,31,46'], next run at: 2023-12-04 09:01:00 PST)\" was missed by 0:00:40.492153\n",
            "Run time of job \"trading_job (trigger: cron[day_of_week='mon-fri', hour='0-23', minute='1,16,31,46'], next run at: 2023-12-04 09:01:00 PST)\" was missed by 0:00:40.492679\n",
            "Run time of job \"trading_job (trigger: cron[day_of_week='mon-fri', hour='0-23', minute='1,16,31,46'], next run at: 2023-12-04 09:01:00 PST)\" was missed by 0:00:40.493095\n",
            "Run time of job \"trading_job (trigger: cron[day_of_week='mon-fri', hour='0-23', minute='1,16,31,46'], next run at: 2023-12-04 09:01:00 PST)\" was missed by 0:00:40.493558\n",
            "Run time of job \"trading_job (trigger: cron[day_of_week='mon-fri', hour='0-23', minute='1,16,31,46'], next run at: 2023-12-04 09:16:00 PST)\" was missed by 0:00:01.217907\n",
            "Run time of job \"trading_job (trigger: cron[day_of_week='mon-fri', hour='0-23', minute='1,16,31,46'], next run at: 2023-12-04 09:16:00 PST)\" was missed by 0:00:01.224647\n",
            "Run time of job \"trading_job (trigger: cron[day_of_week='mon-fri', hour='0-23', minute='1,16,31,46'], next run at: 2023-12-04 09:16:00 PST)\" was missed by 0:00:01.234198\n",
            "Run time of job \"trading_job (trigger: cron[day_of_week='mon-fri', hour='0-23', minute='1,16,31,46'], next run at: 2023-12-04 09:16:00 PST)\" was missed by 0:00:01.237564\n",
            "Run time of job \"trading_job (trigger: cron[day_of_week='mon-fri', hour='0-23', minute='1,16,31,46'], next run at: 2023-12-04 09:16:00 PST)\" was missed by 0:00:01.239002\n",
            "Run time of job \"trading_job (trigger: cron[day_of_week='mon-fri', hour='0-23', minute='1,16,31,46'], next run at: 2023-12-04 09:16:00 PST)\" was missed by 0:00:01.240225\n",
            "Run time of job \"trading_job (trigger: cron[day_of_week='mon-fri', hour='0-23', minute='1,16,31,46'], next run at: 2023-12-04 09:16:00 PST)\" was missed by 0:00:01.241589\n",
            "Run time of job \"trading_job (trigger: cron[day_of_week='mon-fri', hour='0-23', minute='1,16,31,46'], next run at: 2023-12-04 09:16:00 PST)\" was missed by 0:00:01.242895\n",
            "Run time of job \"trading_job (trigger: cron[day_of_week='mon-fri', hour='0-23', minute='1,16,31,46'], next run at: 2023-12-04 09:16:00 PST)\" was missed by 0:00:01.244152\n",
            "Run time of job \"trading_job (trigger: cron[day_of_week='mon-fri', hour='0-23', minute='1,16,31,46'], next run at: 2023-12-04 09:16:00 PST)\" was missed by 0:00:01.248741\n",
            "Run time of job \"trading_job (trigger: cron[day_of_week='mon-fri', hour='0-23', minute='1,16,31,46'], next run at: 2023-12-04 09:16:00 PST)\" was missed by 0:00:01.248840\n",
            "Run time of job \"trading_job (trigger: cron[day_of_week='mon-fri', hour='0-23', minute='1,16,31,46'], next run at: 2023-12-04 09:16:00 PST)\" was missed by 0:00:01.249141\n",
            "Run time of job \"trading_job (trigger: cron[day_of_week='mon-fri', hour='0-23', minute='1,16,31,46'], next run at: 2023-12-04 09:16:00 PST)\" was missed by 0:00:01.249493\n",
            "Run time of job \"trading_job (trigger: cron[day_of_week='mon-fri', hour='0-23', minute='1,16,31,46'], next run at: 2023-12-04 09:16:00 PST)\" was missed by 0:00:01.249810\n",
            "Run time of job \"trading_job (trigger: cron[day_of_week='mon-fri', hour='0-23', minute='1,16,31,46'], next run at: 2023-12-04 09:16:00 PST)\" was missed by 0:00:01.250097\n",
            "Run time of job \"trading_job (trigger: cron[day_of_week='mon-fri', hour='0-23', minute='1,16,31,46'], next run at: 2023-12-04 09:16:00 PST)\" was missed by 0:00:01.250384\n",
            "Job \"trading_job (trigger: cron[day_of_week='mon-fri', hour='0-23', minute='1,16,31,46'], next run at: 2023-12-04 09:31:00 PST)\" raised an exception\n",
            "Traceback (most recent call last):\n",
            "  File \"/Library/Frameworks/Python.framework/Versions/3.10/lib/python3.10/site-packages/apscheduler/executors/base.py\", line 125, in run_job\n",
            "    retval = job.func(*job.args, **job.kwargs)\n",
            "  File \"/var/folders/k2/1_w7z8xn0fb3dh35c1nd4k5c0000gn/T/ipykernel_7934/1286393951.py\", line 49, in trading_job\n",
            "    rv = client.request(r)\n",
            "  File \"/Library/Frameworks/Python.framework/Versions/3.10/lib/python3.10/site-packages/oandapyV20/oandapyV20.py\", line 305, in request\n",
            "    response = self.__request(method, url,\n",
            "  File \"/Library/Frameworks/Python.framework/Versions/3.10/lib/python3.10/site-packages/oandapyV20/oandapyV20.py\", line 242, in __request\n",
            "    raise V20Error(response.status_code,\n",
            "oandapyV20.exceptions.V20Error: {\"errorMessage\":\"Service unavailable, please try again later.\"}\n"
          ]
        },
        {
          "name": "stdout",
          "output_type": "stream",
          "text": [
            "{'orderCreateTransaction': {'id': '2092', 'accountID': '101-001-27332384-001', 'userID': 27332384, 'batchID': '2092', 'requestID': '79195083779274305', 'time': '2023-12-04T17:16:02.198494116Z', 'type': 'MARKET_ORDER', 'instrument': 'NZD_CHF', 'units': '2089', 'timeInForce': 'FOK', 'positionFill': 'DEFAULT', 'takeProfitOnFill': {'price': '0.53804', 'timeInForce': 'GTC'}, 'stopLossOnFill': {'price': '0.53879', 'timeInForce': 'GTC', 'triggerMode': 'TOP_OF_BOOK'}, 'reason': 'CLIENT_ORDER'}, 'orderCancelTransaction': {'id': '2093', 'accountID': '101-001-27332384-001', 'userID': 27332384, 'batchID': '2092', 'requestID': '79195083779274305', 'time': '2023-12-04T17:16:02.198494116Z', 'type': 'ORDER_CANCEL', 'orderID': '2092', 'reason': 'TAKE_PROFIT_ON_FILL_LOSS'}, 'relatedTransactionIDs': ['2092', '2093'], 'lastTransactionID': '2093'}\n",
            "{'orderCreateTransaction': {'id': '2094', 'accountID': '101-001-27332384-001', 'userID': 27332384, 'batchID': '2094', 'requestID': '43166290528127493', 'time': '2023-12-04T17:31:00.482708545Z', 'type': 'MARKET_ORDER', 'instrument': 'EUR_CHF', 'units': '2014', 'timeInForce': 'FOK', 'positionFill': 'DEFAULT', 'takeProfitOnFill': {'price': '0.94380', 'timeInForce': 'GTC'}, 'stopLossOnFill': {'price': '0.94578', 'timeInForce': 'GTC', 'triggerMode': 'TOP_OF_BOOK'}, 'reason': 'CLIENT_ORDER'}, 'orderCancelTransaction': {'id': '2095', 'accountID': '101-001-27332384-001', 'userID': 27332384, 'batchID': '2094', 'requestID': '43166290528127493', 'time': '2023-12-04T17:31:00.482708545Z', 'type': 'ORDER_CANCEL', 'orderID': '2094', 'reason': 'TAKE_PROFIT_ON_FILL_LOSS'}, 'relatedTransactionIDs': ['2094', '2095'], 'lastTransactionID': '2095'}\n",
            "{'orderCreateTransaction': {'id': '2096', 'accountID': '101-001-27332384-001', 'userID': 27332384, 'batchID': '2096', 'requestID': '43166290528127830', 'time': '2023-12-04T17:31:00.699611179Z', 'type': 'MARKET_ORDER', 'instrument': 'GBP_CHF', 'units': '2043', 'timeInForce': 'FOK', 'positionFill': 'DEFAULT', 'takeProfitOnFill': {'price': '1.10146', 'timeInForce': 'GTC'}, 'stopLossOnFill': {'price': '1.10317', 'timeInForce': 'GTC', 'triggerMode': 'TOP_OF_BOOK'}, 'reason': 'CLIENT_ORDER'}, 'orderCancelTransaction': {'id': '2097', 'accountID': '101-001-27332384-001', 'userID': 27332384, 'batchID': '2096', 'requestID': '43166290528127830', 'time': '2023-12-04T17:31:00.699611179Z', 'type': 'ORDER_CANCEL', 'orderID': '2096', 'reason': 'TAKE_PROFIT_ON_FILL_LOSS'}, 'relatedTransactionIDs': ['2096', '2097'], 'lastTransactionID': '2097'}{'orderCreateTransaction': {'id': '2098', 'accountID': '101-001-27332384-001', 'userID': 27332384, 'batchID': '2098', 'requestID': '61180689035595194', 'time': '2023-12-04T17:31:00.702688532Z', 'type': 'MARKET_ORDER', 'instrument': 'NZD_CHF', 'units': '1995', 'timeInForce': 'FOK', 'positionFill': 'DEFAULT', 'takeProfitOnFill': {'price': '0.53816', 'timeInForce': 'GTC'}, 'stopLossOnFill': {'price': '0.53882', 'timeInForce': 'GTC', 'triggerMode': 'TOP_OF_BOOK'}, 'reason': 'CLIENT_ORDER'}, 'orderCancelTransaction': {'id': '2099', 'accountID': '101-001-27332384-001', 'userID': 27332384, 'batchID': '2098', 'requestID': '61180689035595194', 'time': '2023-12-04T17:31:00.702688532Z', 'type': 'ORDER_CANCEL', 'orderID': '2098', 'reason': 'TAKE_PROFIT_ON_FILL_LOSS'}, 'relatedTransactionIDs': ['2098', '2099'], 'lastTransactionID': '2099'}\n",
            "\n",
            "{'orderCreateTransaction': {'id': '2100', 'accountID': '101-001-27332384-001', 'userID': 27332384, 'batchID': '2100', 'requestID': '25151895790709420', 'time': '2023-12-04T17:46:00.915537104Z', 'type': 'MARKET_ORDER', 'instrument': 'GBP_CHF', 'units': '1929', 'timeInForce': 'FOK', 'positionFill': 'DEFAULT', 'takeProfitOnFill': {'price': '1.10030', 'timeInForce': 'GTC'}, 'stopLossOnFill': {'price': '1.10270', 'timeInForce': 'GTC', 'triggerMode': 'TOP_OF_BOOK'}, 'reason': 'CLIENT_ORDER'}, 'orderCancelTransaction': {'id': '2101', 'accountID': '101-001-27332384-001', 'userID': 27332384, 'batchID': '2100', 'requestID': '25151895790709420', 'time': '2023-12-04T17:46:00.915537104Z', 'type': 'ORDER_CANCEL', 'orderID': '2100', 'reason': 'TAKE_PROFIT_ON_FILL_LOSS'}, 'relatedTransactionIDs': ['2100', '2101'], 'lastTransactionID': '2101'}\n",
            "{'orderCreateTransaction': {'id': '2102', 'accountID': '101-001-27332384-001', 'userID': 27332384, 'batchID': '2102', 'requestID': '43166294304227413', 'time': '2023-12-04T17:46:01.120474594Z', 'type': 'MARKET_ORDER', 'instrument': 'AUD_NZD', 'units': '2041', 'timeInForce': 'FOK', 'positionFill': 'DEFAULT', 'takeProfitOnFill': {'price': '1.07214', 'timeInForce': 'GTC'}, 'stopLossOnFill': {'price': '1.07367', 'timeInForce': 'GTC', 'triggerMode': 'TOP_OF_BOOK'}, 'reason': 'CLIENT_ORDER'}, 'orderCancelTransaction': {'id': '2103', 'accountID': '101-001-27332384-001', 'userID': 27332384, 'batchID': '2102', 'requestID': '43166294304227413', 'time': '2023-12-04T17:46:01.120474594Z', 'type': 'ORDER_CANCEL', 'orderID': '2102', 'reason': 'TAKE_PROFIT_ON_FILL_LOSS'}, 'relatedTransactionIDs': ['2102', '2103'], 'lastTransactionID': '2103'}\n",
            "{'orderCreateTransaction': {'id': '2104', 'accountID': '101-001-27332384-001', 'userID': 27332384, 'batchID': '2104', 'requestID': '61180696587868472', 'time': '2023-12-04T18:01:00.464867178Z', 'type': 'MARKET_ORDER', 'instrument': 'GBP_AUD', 'units': '-1918', 'timeInForce': 'FOK', 'positionFill': 'DEFAULT', 'takeProfitOnFill': {'price': '1.90804', 'timeInForce': 'GTC'}, 'stopLossOnFill': {'price': '1.90576', 'timeInForce': 'GTC', 'triggerMode': 'TOP_OF_BOOK'}, 'reason': 'CLIENT_ORDER'}, 'orderCancelTransaction': {'id': '2105', 'accountID': '101-001-27332384-001', 'userID': 27332384, 'batchID': '2104', 'requestID': '61180696587868472', 'time': '2023-12-04T18:01:00.464867178Z', 'type': 'ORDER_CANCEL', 'orderID': '2104', 'reason': 'TAKE_PROFIT_ON_FILL_LOSS'}, 'relatedTransactionIDs': ['2104', '2105'], 'lastTransactionID': '2105'}{'orderCreateTransaction': {'id': '2106', 'accountID': '101-001-27332384-001', 'userID': 27332384, 'batchID': '2106', 'requestID': '25151899566712793', 'time': '2023-12-04T18:01:00.469931396Z', 'type': 'MARKET_ORDER', 'instrument': 'AUD_CAD', 'units': '2095', 'timeInForce': 'FOK', 'positionFill': 'DEFAULT', 'takeProfitOnFill': {'price': '0.89513', 'timeInForce': 'GTC'}, 'stopLossOnFill': {'price': '0.89621', 'timeInForce': 'GTC', 'triggerMode': 'TOP_OF_BOOK'}, 'reason': 'CLIENT_ORDER'}, 'orderCancelTransaction': {'id': '2107', 'accountID': '101-001-27332384-001', 'userID': 27332384, 'batchID': '2106', 'requestID': '25151899566712793', 'time': '2023-12-04T18:01:00.469931396Z', 'type': 'ORDER_CANCEL', 'orderID': '2106', 'reason': 'TAKE_PROFIT_ON_FILL_LOSS'}, 'relatedTransactionIDs': ['2106', '2107'], 'lastTransactionID': '2107'}\n",
            "\n",
            "{'orderCreateTransaction': {'id': '2108', 'accountID': '101-001-27332384-001', 'userID': 27332384, 'batchID': '2108', 'requestID': '79195095094845457', 'time': '2023-12-04T18:01:00.832764283Z', 'type': 'MARKET_ORDER', 'instrument': 'AUD_NZD', 'units': '2063', 'timeInForce': 'FOK', 'positionFill': 'DEFAULT', 'takeProfitOnFill': {'price': '1.07214', 'timeInForce': 'GTC'}, 'stopLossOnFill': {'price': '1.07367', 'timeInForce': 'GTC', 'triggerMode': 'TOP_OF_BOOK'}, 'reason': 'CLIENT_ORDER'}, 'orderCancelTransaction': {'id': '2109', 'accountID': '101-001-27332384-001', 'userID': 27332384, 'batchID': '2108', 'requestID': '79195095094845457', 'time': '2023-12-04T18:01:00.832764283Z', 'type': 'ORDER_CANCEL', 'orderID': '2108', 'reason': 'MARKET_HALTED'}, 'relatedTransactionIDs': ['2108', '2109'], 'lastTransactionID': '2109'}\n",
            "{'orderCreateTransaction': {'id': '2110', 'accountID': '101-001-27332384-001', 'userID': 27332384, 'batchID': '2110', 'requestID': '61180700359807435', 'time': '2023-12-04T18:16:00.450885950Z', 'type': 'MARKET_ORDER', 'instrument': 'AUD_CAD', 'units': '2014', 'timeInForce': 'FOK', 'positionFill': 'DEFAULT', 'takeProfitOnFill': {'price': '0.89465', 'timeInForce': 'GTC'}, 'stopLossOnFill': {'price': '0.89597', 'timeInForce': 'GTC', 'triggerMode': 'TOP_OF_BOOK'}, 'reason': 'CLIENT_ORDER'}, 'orderCancelTransaction': {'id': '2111', 'accountID': '101-001-27332384-001', 'userID': 27332384, 'batchID': '2110', 'requestID': '61180700359807435', 'time': '2023-12-04T18:16:00.450885950Z', 'type': 'ORDER_CANCEL', 'orderID': '2110', 'reason': 'TAKE_PROFIT_ON_FILL_LOSS'}, 'relatedTransactionIDs': ['2110', '2111'], 'lastTransactionID': '2111'}\n",
            "{'orderCreateTransaction': {'id': '2112', 'accountID': '101-001-27332384-001', 'userID': 27332384, 'batchID': '2112', 'requestID': '43166301852155161', 'time': '2023-12-04T18:16:00.644579448Z', 'type': 'MARKET_ORDER', 'instrument': 'NZD_CHF', 'units': '-2011', 'timeInForce': 'FOK', 'positionFill': 'DEFAULT', 'takeProfitOnFill': {'price': '0.53855', 'timeInForce': 'GTC'}, 'stopLossOnFill': {'price': '0.53735', 'timeInForce': 'GTC', 'triggerMode': 'TOP_OF_BOOK'}, 'reason': 'CLIENT_ORDER'}, 'orderCancelTransaction': {'id': '2113', 'accountID': '101-001-27332384-001', 'userID': 27332384, 'batchID': '2112', 'requestID': '43166301852155161', 'time': '2023-12-04T18:16:00.644579448Z', 'type': 'ORDER_CANCEL', 'orderID': '2112', 'reason': 'TAKE_PROFIT_ON_FILL_LOSS'}, 'relatedTransactionIDs': ['2112', '2113'], 'lastTransactionID': '2113'}\n",
            "{'orderCreateTransaction': {'id': '2114', 'accountID': '101-001-27332384-001', 'userID': 27332384, 'batchID': '2114', 'requestID': '61180700359807924', 'time': '2023-12-04T18:16:00.790969153Z', 'type': 'MARKET_ORDER', 'instrument': 'AUD_NZD', 'units': '1970', 'timeInForce': 'FOK', 'positionFill': 'DEFAULT', 'takeProfitOnFill': {'price': '1.07280', 'timeInForce': 'GTC'}, 'stopLossOnFill': {'price': '1.07361', 'timeInForce': 'GTC', 'triggerMode': 'TOP_OF_BOOK'}, 'reason': 'CLIENT_ORDER'}, 'orderCancelTransaction': {'id': '2115', 'accountID': '101-001-27332384-001', 'userID': 27332384, 'batchID': '2114', 'requestID': '61180700359807924', 'time': '2023-12-04T18:16:00.790969153Z', 'type': 'ORDER_CANCEL', 'orderID': '2114', 'reason': 'TAKE_PROFIT_ON_FILL_LOSS'}, 'relatedTransactionIDs': ['2114', '2115'], 'lastTransactionID': '2115'}\n",
            "{'orderCreateTransaction': {'id': '2116', 'accountID': '101-001-27332384-001', 'userID': 27332384, 'batchID': '2116', 'requestID': '79195102646900159', 'time': '2023-12-04T18:31:00.469777463Z', 'type': 'MARKET_ORDER', 'instrument': 'EUR_AUD', 'units': '-2024', 'timeInForce': 'FOK', 'positionFill': 'DEFAULT', 'takeProfitOnFill': {'price': '1.63884', 'timeInForce': 'GTC'}, 'stopLossOnFill': {'price': '1.63626', 'timeInForce': 'GTC', 'triggerMode': 'TOP_OF_BOOK'}, 'reason': 'CLIENT_ORDER'}, 'orderCancelTransaction': {'id': '2117', 'accountID': '101-001-27332384-001', 'userID': 27332384, 'batchID': '2116', 'requestID': '79195102646900159', 'time': '2023-12-04T18:31:00.469777463Z', 'type': 'ORDER_CANCEL', 'orderID': '2116', 'reason': 'TAKE_PROFIT_ON_FILL_LOSS'}, 'relatedTransactionIDs': ['2116', '2117'], 'lastTransactionID': '2117'}{'orderCreateTransaction': {'id': '2118', 'accountID': '101-001-27332384-001', 'userID': 27332384, 'batchID': '2118', 'requestID': '43166305628225270', 'time': '2023-12-04T18:31:00.471728101Z', 'type': 'MARKET_ORDER', 'instrument': 'CAD_JPY', 'units': '-1970', 'timeInForce': 'FOK', 'positionFill': 'DEFAULT', 'takeProfitOnFill': {'price': '108.964', 'timeInForce': 'GTC'}, 'stopLossOnFill': {'price': '108.736', 'timeInForce': 'GTC', 'triggerMode': 'TOP_OF_BOOK'}, 'reason': 'CLIENT_ORDER'}, 'orderCancelTransaction': {'id': '2119', 'accountID': '101-001-27332384-001', 'userID': 27332384, 'batchID': '2118', 'requestID': '43166305628225270', 'time': '2023-12-04T18:31:00.471728101Z', 'type': 'ORDER_CANCEL', 'orderID': '2118', 'reason': 'TAKE_PROFIT_ON_FILL_LOSS'}, 'relatedTransactionIDs': ['2118', '2119'], 'lastTransactionID': '2119'}\n",
            "\n",
            "{'orderCreateTransaction': {'id': '2120', 'accountID': '101-001-27332384-001', 'userID': 27332384, 'batchID': '2120', 'requestID': '43166305628225274', 'time': '2023-12-04T18:31:00.473821592Z', 'type': 'MARKET_ORDER', 'instrument': 'AUD_CAD', 'units': '1985', 'timeInForce': 'FOK', 'positionFill': 'DEFAULT', 'takeProfitOnFill': {'price': '0.89420', 'timeInForce': 'GTC'}, 'stopLossOnFill': {'price': '0.89570', 'timeInForce': 'GTC', 'triggerMode': 'TOP_OF_BOOK'}, 'reason': 'CLIENT_ORDER'}, 'orderCancelTransaction': {'id': '2121', 'accountID': '101-001-27332384-001', 'userID': 27332384, 'batchID': '2120', 'requestID': '43166305628225274', 'time': '2023-12-04T18:31:00.473821592Z', 'type': 'ORDER_CANCEL', 'orderID': '2120', 'reason': 'TAKE_PROFIT_ON_FILL_LOSS'}, 'relatedTransactionIDs': ['2120', '2121'], 'lastTransactionID': '2121'}\n",
            "{'orderCreateTransaction': {'id': '2122', 'accountID': '101-001-27332384-001', 'userID': 27332384, 'batchID': '2122', 'requestID': '43166305628225779', 'time': '2023-12-04T18:31:00.855373956Z', 'type': 'MARKET_ORDER', 'instrument': 'NZD_CHF', 'units': '-2034', 'timeInForce': 'FOK', 'positionFill': 'DEFAULT', 'takeProfitOnFill': {'price': '0.53834', 'timeInForce': 'GTC'}, 'stopLossOnFill': {'price': '0.53678', 'timeInForce': 'GTC', 'triggerMode': 'TOP_OF_BOOK'}, 'reason': 'CLIENT_ORDER'}, 'orderCancelTransaction': {'id': '2123', 'accountID': '101-001-27332384-001', 'userID': 27332384, 'batchID': '2122', 'requestID': '43166305628225779', 'time': '2023-12-04T18:31:00.855373956Z', 'type': 'ORDER_CANCEL', 'orderID': '2122', 'reason': 'TAKE_PROFIT_ON_FILL_LOSS'}, 'relatedTransactionIDs': ['2122', '2123'], 'lastTransactionID': '2123'}\n",
            "{'orderCreateTransaction': {'id': '2124', 'accountID': '101-001-27332384-001', 'userID': 27332384, 'batchID': '2124', 'requestID': '61180704135926676', 'time': '2023-12-04T18:31:00.865665114Z', 'type': 'MARKET_ORDER', 'instrument': 'GBP_JPY', 'units': '-2022', 'timeInForce': 'FOK', 'positionFill': 'DEFAULT', 'takeProfitOnFill': {'price': '186.036', 'timeInForce': 'GTC'}, 'stopLossOnFill': {'price': '185.796', 'timeInForce': 'GTC', 'triggerMode': 'TOP_OF_BOOK'}, 'reason': 'CLIENT_ORDER'}, 'orderCancelTransaction': {'id': '2125', 'accountID': '101-001-27332384-001', 'userID': 27332384, 'batchID': '2124', 'requestID': '61180704135926676', 'time': '2023-12-04T18:31:00.865665114Z', 'type': 'ORDER_CANCEL', 'orderID': '2124', 'reason': 'TAKE_PROFIT_ON_FILL_LOSS'}, 'relatedTransactionIDs': ['2124', '2125'], 'lastTransactionID': '2125'}\n",
            "{'orderCreateTransaction': {'id': '2126', 'accountID': '101-001-27332384-001', 'userID': 27332384, 'batchID': '2126', 'requestID': '43166305628225809', 'time': '2023-12-04T18:31:00.879676898Z', 'type': 'MARKET_ORDER', 'instrument': 'EUR_NZD', 'units': '2036', 'timeInForce': 'FOK', 'positionFill': 'DEFAULT', 'takeProfitOnFill': {'price': '1.75502', 'timeInForce': 'GTC'}, 'stopLossOnFill': {'price': '1.75976', 'timeInForce': 'GTC', 'triggerMode': 'TOP_OF_BOOK'}, 'reason': 'CLIENT_ORDER'}, 'orderCancelTransaction': {'id': '2127', 'accountID': '101-001-27332384-001', 'userID': 27332384, 'batchID': '2126', 'requestID': '43166305628225809', 'time': '2023-12-04T18:31:00.879676898Z', 'type': 'ORDER_CANCEL', 'orderID': '2126', 'reason': 'TAKE_PROFIT_ON_FILL_LOSS'}, 'relatedTransactionIDs': ['2126', '2127'], 'lastTransactionID': '2127'}\n",
            "{'orderCreateTransaction': {'id': '2128', 'accountID': '101-001-27332384-001', 'userID': 27332384, 'batchID': '2128', 'requestID': '25151910890352730', 'time': '2023-12-04T18:46:00.689617923Z', 'type': 'MARKET_ORDER', 'instrument': 'NZD_CHF', 'units': '-1953', 'timeInForce': 'FOK', 'positionFill': 'DEFAULT', 'takeProfitOnFill': {'price': '0.53836', 'timeInForce': 'GTC'}, 'stopLossOnFill': {'price': '0.53722', 'timeInForce': 'GTC', 'triggerMode': 'TOP_OF_BOOK'}, 'reason': 'CLIENT_ORDER'}, 'orderCancelTransaction': {'id': '2129', 'accountID': '101-001-27332384-001', 'userID': 27332384, 'batchID': '2128', 'requestID': '25151910890352730', 'time': '2023-12-04T18:46:00.689617923Z', 'type': 'ORDER_CANCEL', 'orderID': '2128', 'reason': 'TAKE_PROFIT_ON_FILL_LOSS'}, 'relatedTransactionIDs': ['2128', '2129'], 'lastTransactionID': '2129'}\n",
            "{'orderCreateTransaction': {'id': '2130', 'accountID': '101-001-27332384-001', 'userID': 27332384, 'batchID': '2130', 'requestID': '61180707911952916', 'time': '2023-12-04T18:46:00.701079199Z', 'type': 'MARKET_ORDER', 'instrument': 'NZD_JPY', 'units': '-2096', 'timeInForce': 'FOK', 'positionFill': 'DEFAULT', 'takeProfitOnFill': {'price': '90.860', 'timeInForce': 'GTC'}, 'stopLossOnFill': {'price': '90.650', 'timeInForce': 'GTC', 'triggerMode': 'TOP_OF_BOOK'}, 'reason': 'CLIENT_ORDER'}, 'orderCancelTransaction': {'id': '2131', 'accountID': '101-001-27332384-001', 'userID': 27332384, 'batchID': '2130', 'requestID': '61180707911952916', 'time': '2023-12-04T18:46:00.701079199Z', 'type': 'ORDER_CANCEL', 'orderID': '2130', 'reason': 'TAKE_PROFIT_ON_FILL_LOSS'}, 'relatedTransactionIDs': ['2130', '2131'], 'lastTransactionID': '2131'}\n",
            "{'orderCreateTransaction': {'id': '2132', 'accountID': '101-001-27332384-001', 'userID': 27332384, 'batchID': '2132', 'requestID': '25151910890352921', 'time': '2023-12-04T18:46:00.862703092Z', 'type': 'MARKET_ORDER', 'instrument': 'EUR_CAD', 'units': '-1930', 'timeInForce': 'FOK', 'positionFill': 'DEFAULT', 'takeProfitOnFill': {'price': '1.46688', 'timeInForce': 'GTC'}, 'stopLossOnFill': {'price': '1.46469', 'timeInForce': 'GTC', 'triggerMode': 'TOP_OF_BOOK'}, 'reason': 'CLIENT_ORDER'}, 'orderCancelTransaction': {'id': '2133', 'accountID': '101-001-27332384-001', 'userID': 27332384, 'batchID': '2132', 'requestID': '25151910890352921', 'time': '2023-12-04T18:46:00.862703092Z', 'type': 'ORDER_CANCEL', 'orderID': '2132', 'reason': 'TAKE_PROFIT_ON_FILL_LOSS'}, 'relatedTransactionIDs': ['2132', '2133'], 'lastTransactionID': '2133'}\n"
          ]
        }
      ],
      "source": [
        "# for i in range (len(list_of_str_currency)):\n",
        "#     trading_job(currency_pairs[i],list_of_str_currency\n",
        "# [i])\n",
        "\n",
        "scheduler = BlockingScheduler()\n",
        "for i in range (len(currency_pairs)):\n",
        "    scheduler.add_job(trading_job, 'cron', args = [currency_pairs[i],list_of_str_currency[i]], day_of_week='mon-fri', hour='00-23', minute='1,16,31,46', start_date='2022-01-12 12:00:00')\n",
        "scheduler.start()\n"
      ]
    },
    {
      "cell_type": "code",
      "execution_count": null,
      "metadata": {},
      "outputs": [
        {
          "data": {
            "text/plain": [
              "-       9209\n",
              "Buy      397\n",
              "Sell     394\n",
              "Name: count, dtype: int64"
            ]
          },
          "execution_count": 10,
          "metadata": {},
          "output_type": "execute_result"
        }
      ],
      "source": [
        "da= pd.read_csv(\"EURUSD_Candlestick_5_M_ASK_30.09.2019-30.09.2022.csv\")\n",
        "da = da[:10000]\n",
        "signals = []\n",
        "\n",
        "for i in range(0, len(da)):\n",
        "    \n",
        "    block = da.iloc[i:i+15].copy()\n",
        "    calculate_vwap(block)\n",
        "    calculate_bollinger_bands(block)\n",
        "    calculate_rsi(block)\n",
        "    block = block.reset_index(drop=True)\n",
        "    if not block.empty:\n",
        "        signal = signal_generator(block)\n",
        "        signals.append(signal)\n",
        "x = pd.Series(signals)\n",
        "x.value_counts()\n",
        "\n"
      ]
    },
    {
      "cell_type": "code",
      "execution_count": 8,
      "metadata": {},
      "outputs": [],
      "source": [
        "#consider making 65 / 35 RSI + 1 and make above 70 / 30 as + 2 ssss"
      ]
    }
  ],
  "metadata": {
    "colab": {
      "provenance": []
    },
    "kernelspec": {
      "display_name": "Python 3.10.8 64-bit",
      "language": "python",
      "name": "python3"
    },
    "language_info": {
      "codemirror_mode": {
        "name": "ipython",
        "version": 3
      },
      "file_extension": ".py",
      "mimetype": "text/x-python",
      "name": "python",
      "nbconvert_exporter": "python",
      "pygments_lexer": "ipython3",
      "version": "3.10.11"
    },
    "vscode": {
      "interpreter": {
        "hash": "c0ff92a541b5eb8a0f75470c34280cf0dea79e8b819847822bd36e33345fddf3"
      }
    }
  },
  "nbformat": 4,
  "nbformat_minor": 0
}
