{
  "cells": [
    {
      "cell_type": "code",
      "execution_count": 1,
      "metadata": {
        "id": "HDUx5opJso4E",
        "outputId": "7690265c-ce95-4865-8cca-03d60c47da16"
      },
      "outputs": [],
      "source": [
        "from apscheduler.schedulers.blocking import BlockingScheduler\n",
        "from oandapyV20 import API\n",
        "import oandapyV20.endpoints.orders as orders\n",
        "from oandapyV20.contrib.requests import MarketOrderRequest\n",
        "from oanda_candles import Pair, Gran, CandleClient\n",
        "from oandapyV20.endpoints.instruments import InstrumentsCandles\n",
        "from oandapyV20.contrib.requests import TakeProfitDetails, StopLossDetails\n",
        "import talib\n",
        "import pandas_ta as ta\n",
        "import numpy as np\n",
        "import pandas as pd\n",
        "import random\n"
      ]
    },
    {
      "cell_type": "code",
      "execution_count": 2,
      "metadata": {
        "id": "oh6erbtQso4H"
      },
      "outputs": [],
      "source": [
        "def signal_generator(df):\n",
        "    vwap = df['VWAP']\n",
        "    rsi = df['RSI'].dropna()\n",
        "\n",
        "    close_price = df['Close']\n",
        "    upper_bb = df['UpperBB']\n",
        "    lower_bb = df['LowerBB']\n",
        "    average_rsi = rsi.mean()\n",
        "    bullish = True\n",
        "    bearish = True\n",
        "    sell_count = 0\n",
        "    buy_count = 0\n",
        "    #print(rsi.values)\n",
        "    vwap_threshold = 0.0004\n",
        "    for i in range(len(df)):\n",
        "        if max(df['Open'][i], df['Close'][i]) >= (1 + vwap_threshold) * df['VWAP'][i]:\n",
        "            bearish = False\n",
        "        if min(df['Open'][i], df['Close'][i]) <= (1 - vwap_threshold) * df['VWAP'][i]:\n",
        "            bullish = False\n",
        "\n",
        "    if bullish and bearish:\n",
        "        vwap_signal =  \"Neutral\"  # Neither Bullish nor Bearish\n",
        "    elif bullish:\n",
        "        vwap_signal =  \"Bullish\"\n",
        "        buy_count += 1\n",
        "    elif bearish:\n",
        "        vwap_signal =  \"Bearish\"\n",
        "        sell_count += 1\n",
        "    else:\n",
        "        vwap_signal =  \"Neutral\"\n",
        "\n",
        "    if average_rsi > 70:\n",
        "        rsi_signal = \"Overbought\"\n",
        "        sell_count += 1\n",
        "    elif average_rsi < 30:\n",
        "        rsi_signal = \"Oversold\"\n",
        "        buy_count += 1\n",
        "    else:\n",
        "        rsi_signal = \"Neutral\"\n",
        "        \n",
        "    bb_threshold = 0.2\n",
        "    overbought_signal = (df['Close'] > upper_bb).any()\n",
        "    oversold_signal = (df['Close'] < lower_bb).any()\n",
        "\n",
        "    if overbought_signal:\n",
        "        bb_signal = \"Overbought\"\n",
        "        sell_count += 1\n",
        "    elif oversold_signal:\n",
        "        bb_signal = \"Oversold\"\n",
        "        buy_count += 1\n",
        "    else:\n",
        "        bb_signal = \"Neutral\"\n",
        "\n",
        "    if buy_count >= 2:\n",
        "        #print(vwap_signal, rsi_signal, bb_signal )\n",
        "        return \"Buy\"\n",
        "    elif sell_count >= 2:\n",
        "        #print(vwap_signal, rsi_signal, bb_signal )\n",
        "        return \"Sell\"\n",
        "    else:\n",
        "        return \"-\"\n",
        "    \n"
      ]
    },
    {
      "cell_type": "markdown",
      "metadata": {
        "id": "beYcSPPWso4I"
      },
      "source": [
        "### 3 - Connect to the market and execute trades"
      ]
    },
    {
      "cell_type": "code",
      "execution_count": 3,
      "metadata": {
        "id": "ztFBEJacso4J",
        "outputId": "00070d9d-023c-48c4-da73-8eacf43674d4"
      },
      "outputs": [
        {
          "data": {
            "text/plain": [
              "[{'complete': True,\n",
              "  'volume': 932,\n",
              "  'time': '2023-11-15T07:30:00.000000000Z',\n",
              "  'mid': {'o': '1.08692', 'h': '1.08732', 'l': '1.08674', 'c': '1.08712'}},\n",
              " {'complete': True,\n",
              "  'volume': 1172,\n",
              "  'time': '2023-11-15T07:45:00.000000000Z',\n",
              "  'mid': {'o': '1.08712', 'h': '1.08746', 'l': '1.08657', 'c': '1.08730'}},\n",
              " {'complete': False,\n",
              "  'volume': 253,\n",
              "  'time': '2023-11-15T08:00:00.000000000Z',\n",
              "  'mid': {'o': '1.08732', 'h': '1.08756', 'l': '1.08702', 'c': '1.08738'}}]"
            ]
          },
          "execution_count": 3,
          "metadata": {},
          "output_type": "execute_result"
        }
      ],
      "source": [
        "access_token= \"cd7e21b015cb734770f5fcfea9da9c9f-49a95de76ed5cab29ee0d33cee5f004d\"\n",
        "accountID = \"101-001-27332384-001\" #your account ID here\n",
        "list_of_currency = [Pair.EUR_USD, Pair.EUR_GBP, Pair.USD_JPY, Pair.AUD_USD, Pair.USD_CAD, Pair.CAD_JPY, Pair.NZD_USD]\n",
        "def get_candles(n, currency):\n",
        "    client = API(access_token)\n",
        "    request = InstrumentsCandles(instrument=currency, params={\"granularity\": Gran.M15, \"count\": n})\n",
        "    response = client.request(request)\n",
        "    candles = response['candles']\n",
        "    return candles\n",
        "\n",
        "candles = get_candles(3, Pair.EUR_USD)\n",
        "candles\n"
      ]
    },
    {
      "cell_type": "code",
      "execution_count": 4,
      "metadata": {},
      "outputs": [],
      "source": [
        "def calculate_vwap(data):\n",
        "    data['VWAP'] = (((data['High'] + data['Low'] + data['Close']) / 3) * data['Volume']).cumsum() / data['Volume'].cumsum()\n",
        "\n",
        "def calculate_bollinger_bands(data, std_dev=2):\n",
        "    data['SMA'] = data['Close'].mean()\n",
        "    std_dev_values = data['Close'].std()\n",
        "    data['UpperBB'] = data['SMA'] + (std_dev * std_dev_values)\n",
        "    data['LowerBB'] = data['SMA'] - (std_dev * std_dev_values)\n",
        "    \n",
        "def calculate_rsi(data):\n",
        "    data['RSI'] = talib.RSI(data['Close'])"
      ]
    },
    {
      "cell_type": "code",
      "execution_count": 5,
      "metadata": {
        "id": "YDvk2yOSso4J"
      },
      "outputs": [],
      "source": [
        "def trading_job(currency, string_currency):\n",
        "    candles = get_candles(15, currency)\n",
        "    dfstream = pd.DataFrame(columns=['Open','Close','High','Low', 'Volume'])\n",
        "    i=0\n",
        "\n",
        "    for candle in candles:\n",
        "        dfstream.loc[i, 'Open'] = float(candle['mid']['o'])\n",
        "        dfstream.loc[i, 'Close'] = float(candle['mid']['c'])\n",
        "        dfstream.loc[i, 'High'] = float(candle['mid']['h'])\n",
        "        dfstream.loc[i, 'Low'] = float(candle['mid']['l'])\n",
        "        dfstream.loc[i, 'Volume'] = float(candle['volume'])\n",
        "        i += 1\n",
        "\n",
        "    dfstream['Open'] = dfstream['Open'].astype(float)\n",
        "    dfstream['Close'] = dfstream['Close'].astype(float)\n",
        "    dfstream['High'] = dfstream['High'].astype(float)\n",
        "    dfstream['Low'] = dfstream['Low'].astype(float)\n",
        "    dfstream['Volume'] = dfstream['Volume'].astype(float)\n",
        "    calculate_vwap(dfstream)\n",
        "    calculate_bollinger_bands(dfstream)\n",
        "    calculate_rsi(dfstream)\n",
        "\n",
        "    #print(dfstream)\n",
        "    #print(dfstream)\n",
        "    signal = signal_generator(dfstream)#\n",
        "    # EXECUTING ORDERS\n",
        "    #print(\"signal: \" + str(signal))\n",
        "    client = API(access_token)\n",
        "\n",
        "    SLTPRatio = 2.\n",
        "    previous_candleR = abs(dfstream['High'].iloc[-2]-dfstream['Low'].iloc[-2])\n",
        "\n",
        "    SLBuy = float(str(candle['mid']['o']))-previous_candleR\n",
        "    SLSell = float(str(candle['mid']['o']))+previous_candleR\n",
        "\n",
        "    TPBuy = float(str(candle['mid']['o']))+previous_candleR*SLTPRatio\n",
        "    TPSell = float(str(candle['mid']['o']))-previous_candleR*SLTPRatio\n",
        "\n",
        "    #print(dfstream.iloc[:-1,:])\n",
        "    #print(TPBuy, \"  \", SLBuy, \"  \", TPSell, \"  \", SLSell)\n",
        "    #signal = 2\n",
        "    #Sell\n",
        "    if signal == \"Sell\":\n",
        "        random_integer = random.randint(-100, 100)\n",
        "        mo = MarketOrderRequest(instrument=string_currency, units=-2000 + random_integer, takeProfitOnFill=TakeProfitDetails(price=TPSell).data, stopLossOnFill=StopLossDetails(price=SLSell).data)\n",
        "        r = orders.OrderCreate(accountID, data=mo.data)\n",
        "        rv = client.request(r)\n",
        "        print(rv)\n",
        "    #Buy\n",
        "    elif signal == \"Buy\":\n",
        "        random_integer = random.randint(-100, 100)\n",
        "        mo = MarketOrderRequest(instrument=string_currency, units=2000 + random_integer, takeProfitOnFill=TakeProfitDetails(price=TPBuy).data, stopLossOnFill=StopLossDetails(price=SLBuy).data)\n",
        "        r = orders.OrderCreate(accountID, data=mo.data)\n",
        "        rv = client.request(r)\n",
        "        print(rv)"
      ]
    },
    {
      "cell_type": "code",
      "execution_count": 6,
      "metadata": {},
      "outputs": [],
      "source": [
        "\n",
        "currency_pairs = [Pair.AUD_CAD, Pair.AUD_JPY, Pair.AUD_NZD, Pair.AUD_USD,\n",
        "    Pair.CAD_CHF, Pair.CAD_JPY,\n",
        "    Pair.EUR_AUD, Pair.EUR_CAD, Pair.EUR_CHF, Pair.EUR_GBP, Pair.EUR_JPY, Pair.EUR_NZD, Pair.EUR_USD,\n",
        "    Pair.GBP_AUD, Pair.GBP_CAD, Pair.GBP_CHF, Pair.GBP_JPY, Pair.GBP_NZD, Pair.GBP_USD,\n",
        "    Pair.NZD_CAD, Pair.NZD_CHF, Pair.NZD_JPY, Pair.NZD_USD,\n",
        "    Pair.USD_CAD, Pair.USD_CHF, Pair.USD_JPY]\n",
        "\n",
        "list_of_str_currency = [\"AUD_CAD\", \"AUD_JPY\", \"AUD_NZD\", \"AUD_USD\",\n",
        "    \"CAD_CHF\", \"CAD_JPY\",\n",
        "    \"EUR_AUD\", \"EUR_CAD\", \"EUR_CHF\", \"EUR_GBP\", \"EUR_JPY\", \"EUR_NZD\", \"EUR_USD\",\n",
        "    \"GBP_AUD\", \"GBP_CAD\", \"GBP_CHF\", \"GBP_JPY\", \"GBP_NZD\", \"GBP_USD\",\n",
        "    \"NZD_CAD\", \"NZD_CHF\", \"NZD_JPY\", \"NZD_USD\",\n",
        "    \"USD_CAD\", \"USD_CHF\", \"USD_JPY\"]\n"
      ]
    },
    {
      "cell_type": "code",
      "execution_count": 7,
      "metadata": {
        "id": "SgGFrNvOso4K"
      },
      "outputs": [
        {
          "name": "stdout",
          "output_type": "stream",
          "text": [
            "{'orderCreateTransaction': {'id': '1205', 'accountID': '101-001-27332384-001', 'userID': 27332384, 'batchID': '1205', 'requestID': '61173663996282073', 'time': '2023-11-15T08:16:00.375757422Z', 'type': 'MARKET_ORDER', 'instrument': 'NZD_CAD', 'units': '-1941', 'timeInForce': 'FOK', 'positionFill': 'DEFAULT', 'takeProfitOnFill': {'price': '0.82458', 'timeInForce': 'GTC'}, 'stopLossOnFill': {'price': '0.82638', 'timeInForce': 'GTC', 'triggerMode': 'TOP_OF_BOOK'}, 'reason': 'CLIENT_ORDER'}, 'orderFillTransaction': {'id': '1206', 'accountID': '101-001-27332384-001', 'userID': 27332384, 'batchID': '1205', 'requestID': '61173663996282073', 'time': '2023-11-15T08:16:00.375757422Z', 'type': 'ORDER_FILL', 'orderID': '1205', 'instrument': 'NZD_CAD', 'units': '-1941', 'requestedUnits': '-1941', 'price': '0.82573', 'pl': '0.0000', 'quotePL': '0', 'financing': '0.0000', 'baseFinancing': '0', 'commission': '0.0000', 'accountBalance': '99866.1254', 'gainQuoteHomeConversionFactor': '0.727115947081', 'lossQuoteHomeConversionFactor': '0.734423645041', 'guaranteedExecutionFee': '0.0000', 'quoteGuaranteedExecutionFee': '0', 'halfSpreadCost': '0.3546', 'fullVWAP': '0.82573', 'reason': 'MARKET_ORDER', 'tradeOpened': {'price': '0.82573', 'tradeID': '1206', 'units': '-1941', 'guaranteedExecutionFee': '0.0000', 'quoteGuaranteedExecutionFee': '0', 'halfSpreadCost': '0.3546', 'initialMarginRequired': '35.1476'}, 'fullPrice': {'closeoutBid': '0.82573', 'closeoutAsk': '0.82623', 'timestamp': '2023-11-15T08:16:00.139853658Z', 'bids': [{'price': '0.82573', 'liquidity': '10000000'}], 'asks': [{'price': '0.82623', 'liquidity': '10000000'}]}, 'homeConversionFactors': {'gainQuoteHome': {'factor': '0.72711594708056'}, 'lossQuoteHome': {'factor': '0.73442364504116'}, 'gainBaseHome': {'factor': '0.60058200'}, 'lossBaseHome': {'factor': '0.60661800'}}}, 'relatedTransactionIDs': ['1205', '1206', '1207', '1208'], 'lastTransactionID': '1208'}\n",
            "{'orderCreateTransaction': {'id': '1209', 'accountID': '101-001-27332384-001', 'userID': 27332384, 'batchID': '1209', 'requestID': '43159265488933056', 'time': '2023-11-15T08:16:00.579096706Z', 'type': 'MARKET_ORDER', 'instrument': 'CAD_JPY', 'units': '1962', 'timeInForce': 'FOK', 'positionFill': 'DEFAULT', 'takeProfitOnFill': {'price': '110.258', 'timeInForce': 'GTC'}, 'stopLossOnFill': {'price': '110.048', 'timeInForce': 'GTC', 'triggerMode': 'TOP_OF_BOOK'}, 'reason': 'CLIENT_ORDER'}, 'orderFillTransaction': {'id': '1210', 'accountID': '101-001-27332384-001', 'userID': 27332384, 'batchID': '1209', 'requestID': '43159265488933056', 'time': '2023-11-15T08:16:00.579096706Z', 'type': 'ORDER_FILL', 'orderID': '1209', 'instrument': 'CAD_JPY', 'units': '1962', 'requestedUnits': '1962', 'price': '110.124', 'pl': '0.0000', 'quotePL': '0', 'financing': '0.0000', 'baseFinancing': '0', 'commission': '0.0000', 'accountBalance': '99866.1254', 'gainQuoteHomeConversionFactor': '0.006603923883', 'lossQuoteHomeConversionFactor': '0.006670294977', 'guaranteedExecutionFee': '0.0000', 'quoteGuaranteedExecutionFee': '0', 'halfSpreadCost': '0.2474', 'fullVWAP': '110.124', 'reason': 'MARKET_ORDER', 'tradeOpened': {'price': '110.124', 'tradeID': '1210', 'units': '1962', 'guaranteedExecutionFee': '0.0000', 'quoteGuaranteedExecutionFee': '0', 'halfSpreadCost': '0.2474', 'initialMarginRequired': '71.6885'}, 'fullPrice': {'closeoutBid': '110.086', 'closeoutAsk': '110.124', 'timestamp': '2023-11-15T08:15:56.267745938Z', 'bids': [{'price': '110.086', 'liquidity': '5000000'}], 'asks': [{'price': '110.124', 'liquidity': '5000000'}]}, 'homeConversionFactors': {'gainQuoteHome': {'factor': '0.00660392388265'}, 'lossQuoteHome': {'factor': '0.00667029497695'}, 'gainBaseHome': {'factor': '0.72711594708056'}, 'lossBaseHome': {'factor': '0.73442364504116'}}}, 'relatedTransactionIDs': ['1209', '1210', '1211', '1212'], 'lastTransactionID': '1212'}\n",
            "{'orderCreateTransaction': {'id': '1213', 'accountID': '101-001-27332384-001', 'userID': 27332384, 'batchID': '1213', 'requestID': '43159265488933077', 'time': '2023-11-15T08:16:00.590695759Z', 'type': 'MARKET_ORDER', 'instrument': 'USD_CHF', 'units': '1922', 'timeInForce': 'FOK', 'positionFill': 'DEFAULT', 'takeProfitOnFill': {'price': '0.88912', 'timeInForce': 'GTC'}, 'stopLossOnFill': {'price': '0.88654', 'timeInForce': 'GTC', 'triggerMode': 'TOP_OF_BOOK'}, 'reason': 'CLIENT_ORDER'}, 'orderFillTransaction': {'id': '1214', 'accountID': '101-001-27332384-001', 'userID': 27332384, 'batchID': '1213', 'requestID': '43159265488933077', 'time': '2023-11-15T08:16:00.590695759Z', 'type': 'ORDER_FILL', 'orderID': '1213', 'instrument': 'USD_CHF', 'units': '1922', 'requestedUnits': '1922', 'price': '0.88743', 'pl': '0.0000', 'quotePL': '0', 'financing': '0.0000', 'baseFinancing': '0', 'commission': '0.0000', 'accountBalance': '99866.1254', 'gainQuoteHomeConversionFactor': '1.12132892475', 'lossQuoteHomeConversionFactor': '1.132598562185', 'guaranteedExecutionFee': '0.0000', 'quoteGuaranteedExecutionFee': '0', 'halfSpreadCost': '0.1841', 'fullVWAP': '0.88743', 'reason': 'MARKET_ORDER', 'tradeOpened': {'price': '0.88743', 'tradeID': '1214', 'units': '1922', 'guaranteedExecutionFee': '0.0000', 'quoteGuaranteedExecutionFee': '0', 'halfSpreadCost': '0.1841', 'initialMarginRequired': '76.8800'}, 'fullPrice': {'closeoutBid': '0.88726', 'closeoutAsk': '0.88743', 'timestamp': '2023-11-15T08:16:00.024527599Z', 'bids': [{'price': '0.88726', 'liquidity': '10000000'}], 'asks': [{'price': '0.88743', 'liquidity': '10000000'}]}, 'homeConversionFactors': {'gainQuoteHome': {'factor': '1.12132892474999'}, 'lossQuoteHome': {'factor': '1.13259856218467'}, 'gainBaseHome': {'factor': '1'}, 'lossBaseHome': {'factor': '1'}}}, 'relatedTransactionIDs': ['1213', '1214', '1215', '1216'], 'lastTransactionID': '1216'}\n"
          ]
        },
        {
          "name": "stderr",
          "output_type": "stream",
          "text": [
            "Run time of job \"trading_job (trigger: cron[day_of_week='mon-fri', hour='0-23', minute='1,16,31,46'], next run at: 2023-11-15 09:46:00 PST)\" was missed by 0:06:41.978586\n",
            "Run time of job \"trading_job (trigger: cron[day_of_week='mon-fri', hour='0-23', minute='1,16,31,46'], next run at: 2023-11-15 09:46:00 PST)\" was missed by 0:06:41.987802\n",
            "Run time of job \"trading_job (trigger: cron[day_of_week='mon-fri', hour='0-23', minute='1,16,31,46'], next run at: 2023-11-15 09:46:00 PST)\" was missed by 0:06:42.000513\n",
            "Run time of job \"trading_job (trigger: cron[day_of_week='mon-fri', hour='0-23', minute='1,16,31,46'], next run at: 2023-11-15 09:46:00 PST)\" was missed by 0:06:42.020707\n",
            "Run time of job \"trading_job (trigger: cron[day_of_week='mon-fri', hour='0-23', minute='1,16,31,46'], next run at: 2023-11-15 09:46:00 PST)\" was missed by 0:06:42.026897\n",
            "Run time of job \"trading_job (trigger: cron[day_of_week='mon-fri', hour='0-23', minute='1,16,31,46'], next run at: 2023-11-15 09:46:00 PST)\" was missed by 0:06:42.027036\n",
            "Run time of job \"trading_job (trigger: cron[day_of_week='mon-fri', hour='0-23', minute='1,16,31,46'], next run at: 2023-11-15 09:46:00 PST)\" was missed by 0:06:42.027270\n",
            "Run time of job \"trading_job (trigger: cron[day_of_week='mon-fri', hour='0-23', minute='1,16,31,46'], next run at: 2023-11-15 09:46:00 PST)\" was missed by 0:06:42.033544\n",
            "Run time of job \"trading_job (trigger: cron[day_of_week='mon-fri', hour='0-23', minute='1,16,31,46'], next run at: 2023-11-15 09:46:00 PST)\" was missed by 0:06:42.035891\n",
            "Run time of job \"trading_job (trigger: cron[day_of_week='mon-fri', hour='0-23', minute='1,16,31,46'], next run at: 2023-11-15 09:46:00 PST)\" was missed by 0:06:42.035964\n",
            "Run time of job \"trading_job (trigger: cron[day_of_week='mon-fri', hour='0-23', minute='1,16,31,46'], next run at: 2023-11-15 09:46:00 PST)\" was missed by 0:06:42.036240\n",
            "Run time of job \"trading_job (trigger: cron[day_of_week='mon-fri', hour='0-23', minute='1,16,31,46'], next run at: 2023-11-15 09:46:00 PST)\" was missed by 0:06:42.036396\n",
            "Run time of job \"trading_job (trigger: cron[day_of_week='mon-fri', hour='0-23', minute='1,16,31,46'], next run at: 2023-11-15 09:46:00 PST)\" was missed by 0:06:42.037276\n",
            "Run time of job \"trading_job (trigger: cron[day_of_week='mon-fri', hour='0-23', minute='1,16,31,46'], next run at: 2023-11-15 09:46:00 PST)\" was missed by 0:06:42.037914\n",
            "Run time of job \"trading_job (trigger: cron[day_of_week='mon-fri', hour='0-23', minute='1,16,31,46'], next run at: 2023-11-15 09:46:00 PST)\" was missed by 0:06:42.038436\n",
            "Run time of job \"trading_job (trigger: cron[day_of_week='mon-fri', hour='0-23', minute='1,16,31,46'], next run at: 2023-11-15 09:46:00 PST)\" was missed by 0:06:42.038852\n",
            "Run time of job \"trading_job (trigger: cron[day_of_week='mon-fri', hour='0-23', minute='1,16,31,46'], next run at: 2023-11-15 09:46:00 PST)\" was missed by 0:06:42.039397\n",
            "Run time of job \"trading_job (trigger: cron[day_of_week='mon-fri', hour='0-23', minute='1,16,31,46'], next run at: 2023-11-15 09:46:00 PST)\" was missed by 0:06:42.039780\n",
            "Run time of job \"trading_job (trigger: cron[day_of_week='mon-fri', hour='0-23', minute='1,16,31,46'], next run at: 2023-11-15 09:46:00 PST)\" was missed by 0:06:42.040212\n",
            "Run time of job \"trading_job (trigger: cron[day_of_week='mon-fri', hour='0-23', minute='1,16,31,46'], next run at: 2023-11-15 09:46:00 PST)\" was missed by 0:06:42.040774\n",
            "Run time of job \"trading_job (trigger: cron[day_of_week='mon-fri', hour='0-23', minute='1,16,31,46'], next run at: 2023-11-15 09:46:00 PST)\" was missed by 0:06:42.041266\n",
            "Run time of job \"trading_job (trigger: cron[day_of_week='mon-fri', hour='0-23', minute='1,16,31,46'], next run at: 2023-11-15 09:46:00 PST)\" was missed by 0:06:42.041675\n",
            "Run time of job \"trading_job (trigger: cron[day_of_week='mon-fri', hour='0-23', minute='1,16,31,46'], next run at: 2023-11-15 09:46:00 PST)\" was missed by 0:06:42.042076\n",
            "Run time of job \"trading_job (trigger: cron[day_of_week='mon-fri', hour='0-23', minute='1,16,31,46'], next run at: 2023-11-15 09:46:00 PST)\" was missed by 0:06:42.042443\n",
            "Run time of job \"trading_job (trigger: cron[day_of_week='mon-fri', hour='0-23', minute='1,16,31,46'], next run at: 2023-11-15 09:46:00 PST)\" was missed by 0:06:42.042825\n",
            "Run time of job \"trading_job (trigger: cron[day_of_week='mon-fri', hour='0-23', minute='1,16,31,46'], next run at: 2023-11-15 09:46:00 PST)\" was missed by 0:06:42.043221\n",
            "Run time of job \"trading_job (trigger: cron[day_of_week='mon-fri', hour='0-23', minute='1,16,31,46'], next run at: 2023-11-15 10:01:00 PST)\" was missed by 0:00:01.008081\n",
            "Run time of job \"trading_job (trigger: cron[day_of_week='mon-fri', hour='0-23', minute='1,16,31,46'], next run at: 2023-11-15 10:01:00 PST)\" was missed by 0:00:01.016470\n",
            "Run time of job \"trading_job (trigger: cron[day_of_week='mon-fri', hour='0-23', minute='1,16,31,46'], next run at: 2023-11-15 10:01:00 PST)\" was missed by 0:00:01.043314\n",
            "Run time of job \"trading_job (trigger: cron[day_of_week='mon-fri', hour='0-23', minute='1,16,31,46'], next run at: 2023-11-15 10:01:00 PST)\" was missed by 0:00:01.044836\n",
            "Run time of job \"trading_job (trigger: cron[day_of_week='mon-fri', hour='0-23', minute='1,16,31,46'], next run at: 2023-11-15 10:01:00 PST)\" was missed by 0:00:01.046259\n",
            "Run time of job \"trading_job (trigger: cron[day_of_week='mon-fri', hour='0-23', minute='1,16,31,46'], next run at: 2023-11-15 10:01:00 PST)\" was missed by 0:00:01.048773\n",
            "Run time of job \"trading_job (trigger: cron[day_of_week='mon-fri', hour='0-23', minute='1,16,31,46'], next run at: 2023-11-15 10:01:00 PST)\" was missed by 0:00:01.050331\n",
            "Run time of job \"trading_job (trigger: cron[day_of_week='mon-fri', hour='0-23', minute='1,16,31,46'], next run at: 2023-11-15 10:01:00 PST)\" was missed by 0:00:01.051678\n",
            "Run time of job \"trading_job (trigger: cron[day_of_week='mon-fri', hour='0-23', minute='1,16,31,46'], next run at: 2023-11-15 10:01:00 PST)\" was missed by 0:00:01.052955\n",
            "Run time of job \"trading_job (trigger: cron[day_of_week='mon-fri', hour='0-23', minute='1,16,31,46'], next run at: 2023-11-15 10:01:00 PST)\" was missed by 0:00:01.054243\n",
            "Run time of job \"trading_job (trigger: cron[day_of_week='mon-fri', hour='0-23', minute='1,16,31,46'], next run at: 2023-11-15 10:01:00 PST)\" was missed by 0:00:01.054342\n",
            "Run time of job \"trading_job (trigger: cron[day_of_week='mon-fri', hour='0-23', minute='1,16,31,46'], next run at: 2023-11-15 10:01:00 PST)\" was missed by 0:00:01.054752\n",
            "Run time of job \"trading_job (trigger: cron[day_of_week='mon-fri', hour='0-23', minute='1,16,31,46'], next run at: 2023-11-15 10:01:00 PST)\" was missed by 0:00:01.055103\n",
            "Run time of job \"trading_job (trigger: cron[day_of_week='mon-fri', hour='0-23', minute='1,16,31,46'], next run at: 2023-11-15 10:01:00 PST)\" was missed by 0:00:01.055437\n",
            "Run time of job \"trading_job (trigger: cron[day_of_week='mon-fri', hour='0-23', minute='1,16,31,46'], next run at: 2023-11-15 10:01:00 PST)\" was missed by 0:00:01.055721\n",
            "Run time of job \"trading_job (trigger: cron[day_of_week='mon-fri', hour='0-23', minute='1,16,31,46'], next run at: 2023-11-15 10:01:00 PST)\" was missed by 0:00:01.056014\n"
          ]
        },
        {
          "name": "stdout",
          "output_type": "stream",
          "text": [
            "{'orderCreateTransaction': {'id': '1223', 'accountID': '101-001-27332384-001', 'userID': 27332384, 'batchID': '1223', 'requestID': '43159416480923560', 'time': '2023-11-15T18:16:00.493191097Z', 'type': 'MARKET_ORDER', 'instrument': 'GBP_JPY', 'units': '1985', 'timeInForce': 'FOK', 'positionFill': 'DEFAULT', 'takeProfitOnFill': {'price': '187.902', 'timeInForce': 'GTC'}, 'stopLossOnFill': {'price': '187.674', 'timeInForce': 'GTC', 'triggerMode': 'TOP_OF_BOOK'}, 'reason': 'CLIENT_ORDER'}, 'orderFillTransaction': {'id': '1224', 'accountID': '101-001-27332384-001', 'userID': 27332384, 'batchID': '1223', 'requestID': '43159416480923560', 'time': '2023-11-15T18:16:00.493191097Z', 'type': 'ORDER_FILL', 'orderID': '1223', 'instrument': 'GBP_JPY', 'units': '1985', 'requestedUnits': '1985', 'price': '187.756', 'pl': '0.0000', 'quotePL': '0', 'financing': '0.0000', 'baseFinancing': '0', 'commission': '0.0000', 'accountBalance': '99867.8385', 'gainQuoteHomeConversionFactor': '0.006579621704', 'lossQuoteHomeConversionFactor': '0.006645748556', 'guaranteedExecutionFee': '0.0000', 'quoteGuaranteedExecutionFee': '0', 'halfSpreadCost': '0.2231', 'fullVWAP': '187.756', 'reason': 'MARKET_ORDER', 'tradeOpened': {'price': '187.756', 'tradeID': '1224', 'units': '1985', 'guaranteedExecutionFee': '0.0000', 'quoteGuaranteedExecutionFee': '0', 'halfSpreadCost': '0.2231', 'initialMarginRequired': '123.2169'}, 'fullPrice': {'closeoutBid': '187.722', 'closeoutAsk': '187.756', 'timestamp': '2023-11-15T18:16:00.471768860Z', 'bids': [{'price': '187.722', 'liquidity': '10000000'}], 'asks': [{'price': '187.756', 'liquidity': '10000000'}]}, 'homeConversionFactors': {'gainQuoteHome': {'factor': '0.00657962170447'}, 'lossQuoteHome': {'factor': '0.00664574855577'}, 'gainBaseHome': {'factor': '1.23527260'}, 'lossBaseHome': {'factor': '1.24768740'}}}, 'relatedTransactionIDs': ['1223', '1224', '1225', '1226'], 'lastTransactionID': '1226'}\n",
            "{'orderCreateTransaction': {'id': '1227', 'accountID': '101-001-27332384-001', 'userID': 27332384, 'batchID': '1227', 'requestID': '79188213502982172', 'time': '2023-11-15T18:16:00.625814334Z', 'type': 'MARKET_ORDER', 'instrument': 'EUR_NZD', 'units': '-1974', 'timeInForce': 'FOK', 'positionFill': 'DEFAULT', 'takeProfitOnFill': {'price': '1.79960', 'timeInForce': 'GTC'}, 'stopLossOnFill': {'price': '1.80164', 'timeInForce': 'GTC', 'triggerMode': 'TOP_OF_BOOK'}, 'reason': 'CLIENT_ORDER'}, 'orderFillTransaction': {'id': '1228', 'accountID': '101-001-27332384-001', 'userID': 27332384, 'batchID': '1227', 'requestID': '79188213502982172', 'time': '2023-11-15T18:16:00.625814334Z', 'type': 'ORDER_FILL', 'orderID': '1227', 'instrument': 'EUR_NZD', 'units': '-1974', 'requestedUnits': '-1974', 'price': '1.80071', 'pl': '0.0000', 'quotePL': '0', 'financing': '0.0000', 'baseFinancing': '0', 'commission': '0.0000', 'accountBalance': '99867.8385', 'gainQuoteHomeConversionFactor': '0.59941785', 'lossQuoteHomeConversionFactor': '0.60544215', 'guaranteedExecutionFee': '0.0000', 'quoteGuaranteedExecutionFee': '0', 'halfSpreadCost': '0.3330', 'fullVWAP': '1.80071', 'reason': 'MARKET_ORDER', 'tradeOpened': {'price': '1.80071', 'tradeID': '1228', 'units': '-1974', 'guaranteedExecutionFee': '0.0000', 'quoteGuaranteedExecutionFee': '0', 'halfSpreadCost': '0.3330', 'initialMarginRequired': '64.2454'}, 'fullPrice': {'closeoutBid': '1.80071', 'closeoutAsk': '1.80127', 'timestamp': '2023-11-15T18:16:00.252171174Z', 'bids': [{'price': '1.80071', 'liquidity': '10000000'}], 'asks': [{'price': '1.80127', 'liquidity': '10000000'}]}, 'homeConversionFactors': {'gainQuoteHome': {'factor': '0.59941785'}, 'lossQuoteHome': {'factor': '0.60544215'}, 'gainBaseHome': {'factor': '1.07943570'}, 'lossBaseHome': {'factor': '1.09028430'}}}, 'relatedTransactionIDs': ['1227', '1228', '1229', '1230'], 'lastTransactionID': '1230'}\n",
            "{'orderCreateTransaction': {'id': '1231', 'accountID': '101-001-27332384-001', 'userID': 27332384, 'batchID': '1231', 'requestID': '25145017970562960', 'time': '2023-11-15T18:16:00.851447863Z', 'type': 'MARKET_ORDER', 'instrument': 'AUD_NZD', 'units': '2042', 'timeInForce': 'FOK', 'positionFill': 'DEFAULT', 'takeProfitOnFill': {'price': '1.08164', 'timeInForce': 'GTC'}, 'stopLossOnFill': {'price': '1.08074', 'timeInForce': 'GTC', 'triggerMode': 'TOP_OF_BOOK'}, 'reason': 'CLIENT_ORDER'}, 'orderFillTransaction': {'id': '1232', 'accountID': '101-001-27332384-001', 'userID': 27332384, 'batchID': '1231', 'requestID': '25145017970562960', 'time': '2023-11-15T18:16:00.851447863Z', 'type': 'ORDER_FILL', 'orderID': '1231', 'instrument': 'AUD_NZD', 'units': '2042', 'requestedUnits': '2042', 'price': '1.08111', 'pl': '0.0000', 'quotePL': '0', 'financing': '0.0000', 'baseFinancing': '0', 'commission': '0.0000', 'accountBalance': '99867.8385', 'gainQuoteHomeConversionFactor': '0.59941785', 'lossQuoteHomeConversionFactor': '0.60544215', 'guaranteedExecutionFee': '0.0000', 'quoteGuaranteedExecutionFee': '0', 'halfSpreadCost': '0.2030', 'fullVWAP': '1.08111', 'reason': 'MARKET_ORDER', 'tradeOpened': {'price': '1.08111', 'tradeID': '1232', 'units': '2042', 'guaranteedExecutionFee': '0.0000', 'quoteGuaranteedExecutionFee': '0', 'halfSpreadCost': '0.2030', 'initialMarginRequired': '39.8901'}, 'fullPrice': {'closeoutBid': '1.08078', 'closeoutAsk': '1.08111', 'timestamp': '2023-11-15T18:16:00.475846401Z', 'bids': [{'price': '1.08078', 'liquidity': '10000000'}], 'asks': [{'price': '1.08111', 'liquidity': '10000000'}]}, 'homeConversionFactors': {'gainQuoteHome': {'factor': '0.59941785'}, 'lossQuoteHome': {'factor': '0.60544215'}, 'gainBaseHome': {'factor': '0.64790420'}, 'lossBaseHome': {'factor': '0.65441580'}}}, 'relatedTransactionIDs': ['1231', '1232', '1233', '1234'], 'lastTransactionID': '1234'}\n",
            "{'orderCreateTransaction': {'id': '1237', 'accountID': '101-001-27332384-001', 'userID': 27332384, 'batchID': '1237', 'requestID': '61173818767148300', 'time': '2023-11-15T18:31:00.736098901Z', 'type': 'MARKET_ORDER', 'instrument': 'GBP_JPY', 'units': '1968', 'timeInForce': 'FOK', 'positionFill': 'DEFAULT', 'takeProfitOnFill': {'price': '187.974', 'timeInForce': 'GTC'}, 'stopLossOnFill': {'price': '187.698', 'timeInForce': 'GTC', 'triggerMode': 'TOP_OF_BOOK'}, 'reason': 'CLIENT_ORDER'}, 'orderFillTransaction': {'id': '1238', 'accountID': '101-001-27332384-001', 'userID': 27332384, 'batchID': '1237', 'requestID': '61173818767148300', 'time': '2023-11-15T18:31:00.736098901Z', 'type': 'ORDER_FILL', 'orderID': '1237', 'instrument': 'GBP_JPY', 'units': '1968', 'requestedUnits': '1968', 'price': '187.809', 'pl': '0.0000', 'quotePL': '0', 'financing': '0.0000', 'baseFinancing': '0', 'commission': '0.0000', 'accountBalance': '99867.3808', 'gainQuoteHomeConversionFactor': '0.006577381758', 'lossQuoteHomeConversionFactor': '0.006643486097', 'guaranteedExecutionFee': '0.0000', 'quoteGuaranteedExecutionFee': '0', 'halfSpreadCost': '0.1951', 'fullVWAP': '187.809', 'reason': 'MARKET_ORDER', 'tradeOpened': {'price': '187.809', 'tradeID': '1238', 'units': '1968', 'guaranteedExecutionFee': '0.0000', 'quoteGuaranteedExecutionFee': '0', 'halfSpreadCost': '0.1951', 'initialMarginRequired': '122.1538'}, 'fullPrice': {'closeoutBid': '187.779', 'closeoutAsk': '187.809', 'timestamp': '2023-11-15T18:31:00.562037566Z', 'bids': [{'price': '187.779', 'liquidity': '10000000'}], 'asks': [{'price': '187.809', 'liquidity': '10000000'}]}, 'homeConversionFactors': {'gainQuoteHome': {'factor': '0.00657738175773'}, 'lossQuoteHome': {'factor': '0.00664348609701'}, 'gainBaseHome': {'factor': '1.23519300'}, 'lossBaseHome': {'factor': '1.24760700'}}}, 'relatedTransactionIDs': ['1237', '1238', '1239', '1240'], 'lastTransactionID': '1240'}\n",
            "{'orderCreateTransaction': {'id': '1243', 'accountID': '101-001-27332384-001', 'userID': 27332384, 'batchID': '1243', 'requestID': '43159424033167109', 'time': '2023-11-15T18:46:00.472984708Z', 'type': 'MARKET_ORDER', 'instrument': 'AUD_JPY', 'units': '2061', 'timeInForce': 'FOK', 'positionFill': 'DEFAULT', 'takeProfitOnFill': {'price': '98.606', 'timeInForce': 'GTC'}, 'stopLossOnFill': {'price': '98.453', 'timeInForce': 'GTC', 'triggerMode': 'TOP_OF_BOOK'}, 'reason': 'CLIENT_ORDER'}, 'orderFillTransaction': {'id': '1244', 'accountID': '101-001-27332384-001', 'userID': 27332384, 'batchID': '1243', 'requestID': '43159424033167109', 'time': '2023-11-15T18:46:00.472984708Z', 'type': 'ORDER_FILL', 'orderID': '1243', 'instrument': 'AUD_JPY', 'units': '2061', 'requestedUnits': '2061', 'price': '98.509', 'pl': '0.0000', 'quotePL': '0', 'financing': '0.0000', 'baseFinancing': '0', 'commission': '0.0000', 'accountBalance': '99866.2699', 'gainQuoteHomeConversionFactor': '0.006575121609', 'lossQuoteHomeConversionFactor': '0.006641203233', 'guaranteedExecutionFee': '0.0000', 'quoteGuaranteedExecutionFee': '0', 'halfSpreadCost': '0.1430', 'fullVWAP': '98.509', 'reason': 'MARKET_ORDER', 'tradeOpened': {'price': '98.509', 'tradeID': '1244', 'units': '2061', 'guaranteedExecutionFee': '0.0000', 'quoteGuaranteedExecutionFee': '0', 'halfSpreadCost': '0.1430', 'initialMarginRequired': '67.0742'}, 'fullPrice': {'closeoutBid': '98.488', 'closeoutAsk': '98.509', 'timestamp': '2023-11-15T18:45:53.523047108Z', 'bids': [{'price': '98.488', 'liquidity': '5000000'}], 'asks': [{'price': '98.509', 'liquidity': '5000000'}]}, 'homeConversionFactors': {'gainQuoteHome': {'factor': '0.00657512160856'}, 'lossQuoteHome': {'factor': '0.00664120323276'}, 'gainBaseHome': {'factor': '0.64763555'}, 'lossBaseHome': {'factor': '0.65414445'}}}, 'relatedTransactionIDs': ['1243', '1244', '1245', '1246'], 'lastTransactionID': '1246'}\n",
            "{'orderCreateTransaction': {'id': '1247', 'accountID': '101-001-27332384-001', 'userID': 27332384, 'batchID': '1247', 'requestID': '43159424033167112', 'time': '2023-11-15T18:46:00.474912313Z', 'type': 'MARKET_ORDER', 'instrument': 'GBP_JPY', 'units': '2096', 'timeInForce': 'FOK', 'positionFill': 'DEFAULT', 'takeProfitOnFill': {'price': '188.006', 'timeInForce': 'GTC'}, 'stopLossOnFill': {'price': '187.736', 'timeInForce': 'GTC', 'triggerMode': 'TOP_OF_BOOK'}, 'reason': 'CLIENT_ORDER'}, 'orderFillTransaction': {'id': '1248', 'accountID': '101-001-27332384-001', 'userID': 27332384, 'batchID': '1247', 'requestID': '43159424033167112', 'time': '2023-11-15T18:46:00.474912313Z', 'type': 'ORDER_FILL', 'orderID': '1247', 'instrument': 'GBP_JPY', 'units': '2096', 'requestedUnits': '2096', 'price': '187.851', 'pl': '0.0000', 'quotePL': '0', 'financing': '0.0000', 'baseFinancing': '0', 'commission': '0.0000', 'accountBalance': '99866.2699', 'gainQuoteHomeConversionFactor': '0.006575121609', 'lossQuoteHomeConversionFactor': '0.006641203233', 'guaranteedExecutionFee': '0.0000', 'quoteGuaranteedExecutionFee': '0', 'halfSpreadCost': '0.2216', 'fullVWAP': '187.851', 'reason': 'MARKET_ORDER', 'tradeOpened': {'price': '187.851', 'tradeID': '1248', 'units': '2096', 'guaranteedExecutionFee': '0.0000', 'quoteGuaranteedExecutionFee': '0', 'halfSpreadCost': '0.2216', 'initialMarginRequired': '130.0830'}, 'fullPrice': {'closeoutBid': '187.819', 'closeoutAsk': '187.851', 'timestamp': '2023-11-15T18:46:00.272460396Z', 'bids': [{'price': '187.819', 'liquidity': '10000000'}], 'asks': [{'price': '187.851', 'liquidity': '10000000'}]}, 'homeConversionFactors': {'gainQuoteHome': {'factor': '0.00657512160856'}, 'lossQuoteHome': {'factor': '0.00664120323276'}, 'gainBaseHome': {'factor': '1.23504375'}, 'lossBaseHome': {'factor': '1.24745625'}}}, 'relatedTransactionIDs': ['1247', '1248', '1249', '1250'], 'lastTransactionID': '1250'}\n",
            "{'orderCreateTransaction': {'id': '1251', 'accountID': '101-001-27332384-001', 'userID': 27332384, 'batchID': '1251', 'requestID': '25145025522643866', 'time': '2023-11-15T18:46:00.519104201Z', 'type': 'MARKET_ORDER', 'instrument': 'EUR_AUD', 'units': '-1907', 'timeInForce': 'FOK', 'positionFill': 'DEFAULT', 'takeProfitOnFill': {'price': '1.66392', 'timeInForce': 'GTC'}, 'stopLossOnFill': {'price': '1.66686', 'timeInForce': 'GTC', 'triggerMode': 'TOP_OF_BOOK'}, 'reason': 'CLIENT_ORDER'}, 'orderFillTransaction': {'id': '1252', 'accountID': '101-001-27332384-001', 'userID': 27332384, 'batchID': '1251', 'requestID': '25145025522643866', 'time': '2023-11-15T18:46:00.519104201Z', 'type': 'ORDER_FILL', 'orderID': '1251', 'instrument': 'EUR_AUD', 'units': '-1907', 'requestedUnits': '-1907', 'price': '1.66586', 'pl': '0.0000', 'quotePL': '0', 'financing': '0.0000', 'baseFinancing': '0', 'commission': '0.0000', 'accountBalance': '99866.2699', 'gainQuoteHomeConversionFactor': '0.64763555', 'lossQuoteHomeConversionFactor': '0.65414445', 'guaranteedExecutionFee': '0.0000', 'quoteGuaranteedExecutionFee': '0', 'halfSpreadCost': '0.1924', 'fullVWAP': '1.66586', 'reason': 'MARKET_ORDER', 'tradeOpened': {'price': '1.66586', 'tradeID': '1252', 'units': '-1907', 'guaranteedExecutionFee': '0.0000', 'quoteGuaranteedExecutionFee': '0', 'halfSpreadCost': '0.1924', 'initialMarginRequired': '62.0385'}, 'fullPrice': {'closeoutBid': '1.66586', 'closeoutAsk': '1.66617', 'timestamp': '2023-11-15T18:46:00.283691334Z', 'bids': [{'price': '1.66586', 'liquidity': '10000000'}], 'asks': [{'price': '1.66617', 'liquidity': '10000000'}]}, 'homeConversionFactors': {'gainQuoteHome': {'factor': '0.64763555'}, 'lossQuoteHome': {'factor': '0.65414445'}, 'gainBaseHome': {'factor': '1.07897800'}, 'lossBaseHome': {'factor': '1.08982200'}}}, 'relatedTransactionIDs': ['1251', '1252', '1253', '1254'], 'lastTransactionID': '1254'}\n",
            "{'orderCreateTransaction': {'id': '1255', 'accountID': '101-001-27332384-001', 'userID': 27332384, 'batchID': '1255', 'requestID': '79188221050909267', 'time': '2023-11-15T18:46:00.796981599Z', 'type': 'MARKET_ORDER', 'instrument': 'GBP_AUD', 'units': '-1911', 'timeInForce': 'FOK', 'positionFill': 'DEFAULT', 'takeProfitOnFill': {'price': '1.90457', 'timeInForce': 'GTC'}, 'stopLossOnFill': {'price': '1.90799', 'timeInForce': 'GTC', 'triggerMode': 'TOP_OF_BOOK'}, 'reason': 'CLIENT_ORDER'}, 'orderFillTransaction': {'id': '1256', 'accountID': '101-001-27332384-001', 'userID': 27332384, 'batchID': '1255', 'requestID': '79188221050909267', 'time': '2023-11-15T18:46:00.796981599Z', 'type': 'ORDER_FILL', 'orderID': '1255', 'instrument': 'GBP_AUD', 'units': '-1911', 'requestedUnits': '-1911', 'price': '1.90679', 'pl': '0.0000', 'quotePL': '0', 'financing': '0.0000', 'baseFinancing': '0', 'commission': '0.0000', 'accountBalance': '99866.2699', 'gainQuoteHomeConversionFactor': '0.64763555', 'lossQuoteHomeConversionFactor': '0.65414445', 'guaranteedExecutionFee': '0.0000', 'quoteGuaranteedExecutionFee': '0', 'halfSpreadCost': '0.2363', 'fullVWAP': '1.90679', 'reason': 'MARKET_ORDER', 'tradeOpened': {'price': '1.90679', 'tradeID': '1256', 'units': '-1911', 'guaranteedExecutionFee': '0.0000', 'quoteGuaranteedExecutionFee': '0', 'halfSpreadCost': '0.2363', 'initialMarginRequired': '118.6014'}, 'fullPrice': {'closeoutBid': '1.90679', 'closeoutAsk': '1.90717', 'timestamp': '2023-11-15T18:46:00.120403466Z', 'bids': [{'price': '1.90679', 'liquidity': '10000000'}], 'asks': [{'price': '1.90717', 'liquidity': '10000000'}]}, 'homeConversionFactors': {'gainQuoteHome': {'factor': '0.64763555'}, 'lossQuoteHome': {'factor': '0.65414445'}, 'gainBaseHome': {'factor': '1.23504375'}, 'lossBaseHome': {'factor': '1.24745625'}}}, 'relatedTransactionIDs': ['1255', '1256', '1257', '1258'], 'lastTransactionID': '1258'}\n",
            "{'orderCreateTransaction': {'id': '1259', 'accountID': '101-001-27332384-001', 'userID': 27332384, 'batchID': '1259', 'requestID': '25145025522644358', 'time': '2023-11-15T18:46:00.854589922Z', 'type': 'MARKET_ORDER', 'instrument': 'NZD_JPY', 'units': '1911', 'timeInForce': 'FOK', 'positionFill': 'DEFAULT', 'takeProfitOnFill': {'price': '91.154', 'timeInForce': 'GTC'}, 'stopLossOnFill': {'price': '91.037', 'timeInForce': 'GTC', 'triggerMode': 'TOP_OF_BOOK'}, 'reason': 'CLIENT_ORDER'}, 'orderFillTransaction': {'id': '1260', 'accountID': '101-001-27332384-001', 'userID': 27332384, 'batchID': '1259', 'requestID': '25145025522644358', 'time': '2023-11-15T18:46:00.854589922Z', 'type': 'ORDER_FILL', 'orderID': '1259', 'instrument': 'NZD_JPY', 'units': '1911', 'requestedUnits': '1911', 'price': '91.086', 'pl': '0.0000', 'quotePL': '0', 'financing': '0.0000', 'baseFinancing': '0', 'commission': '0.0000', 'accountBalance': '99866.2699', 'gainQuoteHomeConversionFactor': '0.006575121609', 'lossQuoteHomeConversionFactor': '0.006641203233', 'guaranteedExecutionFee': '0.0000', 'quoteGuaranteedExecutionFee': '0', 'halfSpreadCost': '0.2147', 'fullVWAP': '91.086', 'reason': 'MARKET_ORDER', 'tradeOpened': {'price': '91.086', 'tradeID': '1260', 'units': '1911', 'guaranteedExecutionFee': '0.0000', 'quoteGuaranteedExecutionFee': '0', 'halfSpreadCost': '0.2147', 'initialMarginRequired': '57.5287'}, 'fullPrice': {'closeoutBid': '91.052', 'closeoutAsk': '91.086', 'timestamp': '2023-11-15T18:46:00.180464914Z', 'bids': [{'price': '91.052', 'liquidity': '5000000'}], 'asks': [{'price': '91.086', 'liquidity': '5000000'}]}, 'homeConversionFactors': {'gainQuoteHome': {'factor': '0.00657512160856'}, 'lossQuoteHome': {'factor': '0.00664120323276'}, 'gainBaseHome': {'factor': '0.59906960'}, 'lossBaseHome': {'factor': '0.60509040'}}}, 'relatedTransactionIDs': ['1259', '1260', '1261', '1262'], 'lastTransactionID': '1262'}\n",
            "{'orderCreateTransaction': {'id': '1265', 'accountID': '101-001-27332384-001', 'userID': 27332384, 'batchID': '1265', 'requestID': '61173826314767591', 'time': '2023-11-15T19:01:00.593496021Z', 'type': 'MARKET_ORDER', 'instrument': 'EUR_NZD', 'units': '-1941', 'timeInForce': 'FOK', 'positionFill': 'DEFAULT', 'takeProfitOnFill': {'price': '1.79972', 'timeInForce': 'GTC'}, 'stopLossOnFill': {'price': '1.80185', 'timeInForce': 'GTC', 'triggerMode': 'TOP_OF_BOOK'}, 'reason': 'CLIENT_ORDER'}, 'orderFillTransaction': {'id': '1266', 'accountID': '101-001-27332384-001', 'userID': 27332384, 'batchID': '1265', 'requestID': '61173826314767591', 'time': '2023-11-15T19:01:00.593496021Z', 'type': 'ORDER_FILL', 'orderID': '1265', 'instrument': 'EUR_NZD', 'units': '-1941', 'requestedUnits': '-1941', 'price': '1.80091', 'pl': '0.0000', 'quotePL': '0', 'financing': '0.0000', 'baseFinancing': '0', 'commission': '0.0000', 'accountBalance': '99868.1750', 'gainQuoteHomeConversionFactor': '0.59916910', 'lossQuoteHomeConversionFactor': '0.60519090', 'guaranteedExecutionFee': '0.0000', 'quoteGuaranteedExecutionFee': '0', 'halfSpreadCost': '0.3214', 'fullVWAP': '1.80091', 'reason': 'MARKET_ORDER', 'tradeOpened': {'price': '1.80091', 'tradeID': '1266', 'units': '-1941', 'guaranteedExecutionFee': '0.0000', 'quoteGuaranteedExecutionFee': '0', 'halfSpreadCost': '0.3214', 'initialMarginRequired': '63.1504'}, 'fullPrice': {'closeoutBid': '1.80091', 'closeoutAsk': '1.80146', 'timestamp': '2023-11-15T19:01:00.380773779Z', 'bids': [{'price': '1.80091', 'liquidity': '10000000'}], 'asks': [{'price': '1.80146', 'liquidity': '10000000'}]}, 'homeConversionFactors': {'gainQuoteHome': {'factor': '0.59916910'}, 'lossQuoteHome': {'factor': '0.60519090'}, 'gainBaseHome': {'factor': '1.07907750'}, 'lossBaseHome': {'factor': '1.08992250'}}}, 'relatedTransactionIDs': ['1265', '1266', '1267', '1268'], 'lastTransactionID': '1268'}\n",
            "{'orderCreateTransaction': {'id': '1269', 'accountID': '101-001-27332384-001', 'userID': 27332384, 'batchID': '1269', 'requestID': '61173826314767643', 'time': '2023-11-15T19:01:00.628058395Z', 'type': 'MARKET_ORDER', 'instrument': 'NZD_JPY', 'units': '2041', 'timeInForce': 'FOK', 'positionFill': 'DEFAULT', 'takeProfitOnFill': {'price': '91.262', 'timeInForce': 'GTC'}, 'stopLossOnFill': {'price': '91.067', 'timeInForce': 'GTC', 'triggerMode': 'TOP_OF_BOOK'}, 'reason': 'CLIENT_ORDER'}, 'orderFillTransaction': {'id': '1270', 'accountID': '101-001-27332384-001', 'userID': 27332384, 'batchID': '1269', 'requestID': '61173826314767643', 'time': '2023-11-15T19:01:00.628058395Z', 'type': 'ORDER_FILL', 'orderID': '1269', 'instrument': 'NZD_JPY', 'units': '2041', 'requestedUnits': '2041', 'price': '91.138', 'pl': '0.0000', 'quotePL': '0', 'financing': '0.0000', 'baseFinancing': '0', 'commission': '0.0000', 'accountBalance': '99868.1750', 'gainQuoteHomeConversionFactor': '0.006572667623', 'lossQuoteHomeConversionFactor': '0.006638724584', 'guaranteedExecutionFee': '0.0000', 'quoteGuaranteedExecutionFee': '0', 'halfSpreadCost': '0.2359', 'fullVWAP': '91.138', 'reason': 'MARKET_ORDER', 'tradeOpened': {'price': '91.138', 'tradeID': '1270', 'units': '2041', 'guaranteedExecutionFee': '0.0000', 'quoteGuaranteedExecutionFee': '0', 'halfSpreadCost': '0.2359', 'initialMarginRequired': '61.4525'}, 'fullPrice': {'closeoutBid': '91.103', 'closeoutAsk': '91.138', 'timestamp': '2023-11-15T19:01:00.459303563Z', 'bids': [{'price': '91.103', 'liquidity': '5000000'}], 'asks': [{'price': '91.138', 'liquidity': '5000000'}]}, 'homeConversionFactors': {'gainQuoteHome': {'factor': '0.00657266762340'}, 'lossQuoteHome': {'factor': '0.00663872458444'}, 'gainBaseHome': {'factor': '0.59916910'}, 'lossBaseHome': {'factor': '0.60519090'}}}, 'relatedTransactionIDs': ['1269', '1270', '1271', '1272'], 'lastTransactionID': '1272'}\n",
            "{'orderCreateTransaction': {'id': '1275', 'accountID': '101-001-27332384-001', 'userID': 27332384, 'batchID': '1275', 'requestID': '25145029298626724', 'time': '2023-11-15T19:01:00.796404293Z', 'type': 'MARKET_ORDER', 'instrument': 'GBP_NZD', 'units': '-2062', 'timeInForce': 'FOK', 'positionFill': 'DEFAULT', 'takeProfitOnFill': {'price': '2.06040', 'timeInForce': 'GTC'}, 'stopLossOnFill': {'price': '2.06214', 'timeInForce': 'GTC', 'triggerMode': 'TOP_OF_BOOK'}, 'reason': 'CLIENT_ORDER'}, 'orderCancelTransaction': {'id': '1276', 'accountID': '101-001-27332384-001', 'userID': 27332384, 'batchID': '1275', 'requestID': '25145029298626724', 'time': '2023-11-15T19:01:00.796404293Z', 'type': 'ORDER_CANCEL', 'orderID': '1275', 'reason': 'STOP_LOSS_ON_FILL_LOSS'}, 'relatedTransactionIDs': ['1275', '1276'], 'lastTransactionID': '1276'}{'orderCreateTransaction': {'id': '1273', 'accountID': '101-001-27332384-001', 'userID': 27332384, 'batchID': '1273', 'requestID': '25145029298626712', 'time': '2023-11-15T19:01:00.787559435Z', 'type': 'MARKET_ORDER', 'instrument': 'AUD_NZD', 'units': '-2071', 'timeInForce': 'FOK', 'positionFill': 'DEFAULT', 'takeProfitOnFill': {'price': '1.08045', 'timeInForce': 'GTC'}, 'stopLossOnFill': {'price': '1.08117', 'timeInForce': 'GTC', 'triggerMode': 'TOP_OF_BOOK'}, 'reason': 'CLIENT_ORDER'}, 'orderCancelTransaction': {'id': '1274', 'accountID': '101-001-27332384-001', 'userID': 27332384, 'batchID': '1273', 'requestID': '25145029298626712', 'time': '2023-11-15T19:01:00.787559435Z', 'type': 'ORDER_CANCEL', 'orderID': '1273', 'reason': 'STOP_LOSS_ON_FILL_LOSS'}, 'relatedTransactionIDs': ['1273', '1274'], 'lastTransactionID': '1274'}\n",
            "\n",
            "{'orderCreateTransaction': {'id': '1281', 'accountID': '101-001-27332384-001', 'userID': 27332384, 'batchID': '1281', 'requestID': '79188228598843009', 'time': '2023-11-15T19:16:00.784952359Z', 'type': 'MARKET_ORDER', 'instrument': 'AUD_NZD', 'units': '-1960', 'timeInForce': 'FOK', 'positionFill': 'DEFAULT', 'takeProfitOnFill': {'price': '1.08045', 'timeInForce': 'GTC'}, 'stopLossOnFill': {'price': '1.08123', 'timeInForce': 'GTC', 'triggerMode': 'TOP_OF_BOOK'}, 'reason': 'CLIENT_ORDER'}, 'orderFillTransaction': {'id': '1282', 'accountID': '101-001-27332384-001', 'userID': 27332384, 'batchID': '1281', 'requestID': '79188228598843009', 'time': '2023-11-15T19:16:00.784952359Z', 'type': 'ORDER_FILL', 'orderID': '1281', 'instrument': 'AUD_NZD', 'units': '-1960', 'requestedUnits': '-1960', 'price': '1.08071', 'pl': '0.0000', 'quotePL': '0', 'financing': '0.0000', 'baseFinancing': '0', 'commission': '0.0000', 'accountBalance': '99868.8225', 'gainQuoteHomeConversionFactor': '0.59905965', 'lossQuoteHomeConversionFactor': '0.60508035', 'guaranteedExecutionFee': '0.0000', 'quoteGuaranteedExecutionFee': '0', 'halfSpreadCost': '0.2065', 'fullVWAP': '1.08071', 'reason': 'MARKET_ORDER', 'tradeOpened': {'price': '1.08071', 'tradeID': '1282', 'units': '-1960', 'guaranteedExecutionFee': '0.0000', 'quoteGuaranteedExecutionFee': '0', 'halfSpreadCost': '0.2065', 'initialMarginRequired': '38.2612'}, 'fullPrice': {'closeoutBid': '1.08071', 'closeoutAsk': '1.08106', 'timestamp': '2023-11-15T19:15:59.891450324Z', 'bids': [{'price': '1.08071', 'liquidity': '10000000'}], 'asks': [{'price': '1.08106', 'liquidity': '10000000'}]}, 'homeConversionFactors': {'gainQuoteHome': {'factor': '0.59905965'}, 'lossQuoteHome': {'factor': '0.60508035'}, 'gainBaseHome': {'factor': '0.64744650'}, 'lossBaseHome': {'factor': '0.65395350'}}}, 'relatedTransactionIDs': ['1281', '1282', '1283', '1284'], 'lastTransactionID': '1284'}\n",
            "{'orderCreateTransaction': {'id': '1289', 'accountID': '101-001-27332384-001', 'userID': 27332384, 'batchID': '1289', 'requestID': '25145036846427842', 'time': '2023-11-15T19:31:00.477077066Z', 'type': 'MARKET_ORDER', 'instrument': 'NZD_CAD', 'units': '-1960', 'timeInForce': 'FOK', 'positionFill': 'DEFAULT', 'takeProfitOnFill': {'price': '0.82333', 'timeInForce': 'GTC'}, 'stopLossOnFill': {'price': '0.82420', 'timeInForce': 'GTC', 'triggerMode': 'TOP_OF_BOOK'}, 'reason': 'CLIENT_ORDER'}, 'orderFillTransaction': {'id': '1290', 'accountID': '101-001-27332384-001', 'userID': 27332384, 'batchID': '1289', 'requestID': '25145036846427842', 'time': '2023-11-15T19:31:00.477077066Z', 'type': 'ORDER_FILL', 'orderID': '1289', 'instrument': 'NZD_CAD', 'units': '-1960', 'requestedUnits': '-1960', 'price': '0.82372', 'pl': '0.0000', 'quotePL': '0', 'financing': '0.0000', 'baseFinancing': '0', 'commission': '0.0000', 'accountBalance': '99866.4718', 'gainQuoteHomeConversionFactor': '0.727288678635', 'lossQuoteHomeConversionFactor': '0.734598112592', 'guaranteedExecutionFee': '0.0000', 'quoteGuaranteedExecutionFee': '0', 'halfSpreadCost': '0.3367', 'fullVWAP': '0.82372', 'reason': 'MARKET_ORDER', 'tradeOpened': {'price': '0.82372', 'tradeID': '1290', 'units': '-1960', 'guaranteedExecutionFee': '0.0000', 'quoteGuaranteedExecutionFee': '0', 'halfSpreadCost': '0.3367', 'initialMarginRequired': '35.4129'}, 'fullPrice': {'closeoutBid': '0.82372', 'closeoutAsk': '0.82419', 'timestamp': '2023-11-15T19:30:49.539560125Z', 'bids': [{'price': '0.82372', 'liquidity': '10000000'}], 'asks': [{'price': '0.82419', 'liquidity': '10000000'}]}, 'homeConversionFactors': {'gainQuoteHome': {'factor': '0.72728867863543'}, 'lossQuoteHome': {'factor': '0.73459811259157'}, 'gainBaseHome': {'factor': '0.59924870'}, 'lossBaseHome': {'factor': '0.60527130'}}}, 'relatedTransactionIDs': ['1289', '1290', '1291', '1292'], 'lastTransactionID': '1292'}\n",
            "{'orderCreateTransaction': {'id': '1297', 'accountID': '101-001-27332384-001', 'userID': 27332384, 'batchID': '1297', 'requestID': '43159435357234262', 'time': '2023-11-15T19:31:00.515660382Z', 'type': 'MARKET_ORDER', 'instrument': 'CAD_CHF', 'units': '1928', 'timeInForce': 'FOK', 'positionFill': 'DEFAULT', 'takeProfitOnFill': {'price': '0.64968', 'timeInForce': 'GTC'}, 'stopLossOnFill': {'price': '0.64914', 'timeInForce': 'GTC', 'triggerMode': 'TOP_OF_BOOK'}, 'reason': 'CLIENT_ORDER'}, 'orderFillTransaction': {'id': '1298', 'accountID': '101-001-27332384-001', 'userID': 27332384, 'batchID': '1297', 'requestID': '43159435357234262', 'time': '2023-11-15T19:31:00.515660382Z', 'type': 'ORDER_FILL', 'orderID': '1297', 'instrument': 'CAD_CHF', 'units': '1928', 'requestedUnits': '1928', 'price': '0.64945', 'pl': '0.0000', 'quotePL': '0', 'financing': '0.0000', 'baseFinancing': '0', 'commission': '0.0000', 'accountBalance': '99866.4718', 'gainQuoteHomeConversionFactor': '1.120047734663', 'lossQuoteHomeConversionFactor': '1.131304495816', 'guaranteedExecutionFee': '0.0000', 'quoteGuaranteedExecutionFee': '0', 'halfSpreadCost': '0.2387', 'fullVWAP': '0.64945', 'reason': 'MARKET_ORDER', 'tradeOpened': {'price': '0.64945', 'tradeID': '1298', 'units': '1928', 'guaranteedExecutionFee': '0.0000', 'quoteGuaranteedExecutionFee': '0', 'halfSpreadCost': '0.2387', 'initialMarginRequired': '56.3704'}, 'fullPrice': {'closeoutBid': '0.64923', 'closeoutAsk': '0.64945', 'timestamp': '2023-11-15T19:30:51.616688124Z', 'bids': [{'price': '0.64923', 'liquidity': '10000000'}], 'asks': [{'price': '0.64945', 'liquidity': '10000000'}]}, 'homeConversionFactors': {'gainQuoteHome': {'factor': '1.12004773466342'}, 'lossQuoteHome': {'factor': '1.13130449581582'}, 'gainBaseHome': {'factor': '0.72728867863543'}, 'lossBaseHome': {'factor': '0.73459811259157'}}}, 'relatedTransactionIDs': ['1297', '1298', '1299', '1300'], 'lastTransactionID': '1300'}\n",
            "{'orderCreateTransaction': {'id': '1293', 'accountID': '101-001-27332384-001', 'userID': 27332384, 'batchID': '1293', 'requestID': '79188232374796660', 'time': '2023-11-15T19:31:00.514752052Z', 'type': 'MARKET_ORDER', 'instrument': 'GBP_CAD', 'units': '-1908', 'timeInForce': 'FOK', 'positionFill': 'DEFAULT', 'takeProfitOnFill': {'price': '1.69798', 'timeInForce': 'GTC'}, 'stopLossOnFill': {'price': '1.69930', 'timeInForce': 'GTC', 'triggerMode': 'TOP_OF_BOOK'}, 'reason': 'CLIENT_ORDER'}, 'orderFillTransaction': {'id': '1294', 'accountID': '101-001-27332384-001', 'userID': 27332384, 'batchID': '1293', 'requestID': '79188232374796660', 'time': '2023-11-15T19:31:00.514752052Z', 'type': 'ORDER_FILL', 'orderID': '1293', 'instrument': 'GBP_CAD', 'units': '-1908', 'requestedUnits': '-1908', 'price': '1.69868', 'pl': '0.0000', 'quotePL': '0', 'financing': '0.0000', 'baseFinancing': '0', 'commission': '0.0000', 'accountBalance': '99866.4718', 'gainQuoteHomeConversionFactor': '0.727288678635', 'lossQuoteHomeConversionFactor': '0.734598112592', 'guaranteedExecutionFee': '0.0000', 'quoteGuaranteedExecutionFee': '0', 'halfSpreadCost': '0.2859', 'fullVWAP': '1.69868', 'reason': 'MARKET_ORDER', 'tradeOpened': {'price': '1.69868', 'tradeID': '1294', 'units': '-1908', 'guaranteedExecutionFee': '0.0000', 'quoteGuaranteedExecutionFee': '0', 'halfSpreadCost': '0.2859', 'initialMarginRequired': '118.4677'}, 'fullPrice': {'closeoutBid': '1.69868', 'closeoutAsk': '1.69909', 'timestamp': '2023-11-15T19:31:00.264942384Z', 'bids': [{'price': '1.69868', 'liquidity': '10000000'}], 'asks': [{'price': '1.69909', 'liquidity': '10000000'}]}, 'homeConversionFactors': {'gainQuoteHome': {'factor': '0.72728867863543'}, 'lossQuoteHome': {'factor': '0.73459811259157'}, 'gainBaseHome': {'factor': '1.23559100'}, 'lossBaseHome': {'factor': '1.24800900'}}}, 'relatedTransactionIDs': ['1293', '1294', '1295', '1296'], 'lastTransactionID': '1296'}\n",
            "{'orderCreateTransaction': {'id': '1305', 'accountID': '101-001-27332384-001', 'userID': 27332384, 'batchID': '1305', 'requestID': '25145036846427918', 'time': '2023-11-15T19:31:00.529284667Z', 'type': 'MARKET_ORDER', 'instrument': 'EUR_USD', 'units': '-1957', 'timeInForce': 'FOK', 'positionFill': 'DEFAULT', 'takeProfitOnFill': {'price': '1.08347', 'timeInForce': 'GTC'}, 'stopLossOnFill': {'price': '1.08527', 'timeInForce': 'GTC', 'triggerMode': 'TOP_OF_BOOK'}, 'reason': 'CLIENT_ORDER'}, 'orderFillTransaction': {'id': '1306', 'accountID': '101-001-27332384-001', 'userID': 27332384, 'batchID': '1305', 'requestID': '25145036846427918', 'time': '2023-11-15T19:31:00.529284667Z', 'type': 'ORDER_FILL', 'orderID': '1305', 'instrument': 'EUR_USD', 'units': '-1957', 'requestedUnits': '-1957', 'price': '1.08460', 'pl': '0.0000', 'quotePL': '0', 'financing': '0.0000', 'baseFinancing': '0', 'commission': '0.0000', 'accountBalance': '99866.4718', 'gainQuoteHomeConversionFactor': '1', 'lossQuoteHomeConversionFactor': '1', 'guaranteedExecutionFee': '0.0000', 'quoteGuaranteedExecutionFee': '0', 'halfSpreadCost': '0.1370', 'fullVWAP': '1.08460', 'reason': 'MARKET_ORDER', 'tradeOpened': {'price': '1.08460', 'tradeID': '1306', 'units': '-1957', 'guaranteedExecutionFee': '0.0000', 'quoteGuaranteedExecutionFee': '0', 'halfSpreadCost': '0.1370', 'initialMarginRequired': '42.4540'}, 'fullPrice': {'closeoutBid': '1.08460', 'closeoutAsk': '1.08474', 'timestamp': '2023-11-15T19:30:57.278610290Z', 'bids': [{'price': '1.08460', 'liquidity': '10000000'}], 'asks': [{'price': '1.08474', 'liquidity': '10000000'}]}, 'homeConversionFactors': {'gainQuoteHome': {'factor': '1'}, 'lossQuoteHome': {'factor': '1'}, 'gainBaseHome': {'factor': '1.07924665'}, 'lossBaseHome': {'factor': '1.09009335'}}}, 'relatedTransactionIDs': ['1305', '1306', '1307', '1308'], 'lastTransactionID': '1308'}\n",
            "{'orderCreateTransaction': {'id': '1301', 'accountID': '101-001-27332384-001', 'userID': 27332384, 'batchID': '1301', 'requestID': '25145036846427903', 'time': '2023-11-15T19:31:00.522934792Z', 'type': 'MARKET_ORDER', 'instrument': 'AUD_CAD', 'units': '-1918', 'timeInForce': 'FOK', 'positionFill': 'DEFAULT', 'takeProfitOnFill': {'price': '0.88988', 'timeInForce': 'GTC'}, 'stopLossOnFill': {'price': '0.89081', 'timeInForce': 'GTC', 'triggerMode': 'TOP_OF_BOOK'}, 'reason': 'CLIENT_ORDER'}, 'orderFillTransaction': {'id': '1302', 'accountID': '101-001-27332384-001', 'userID': 27332384, 'batchID': '1301', 'requestID': '25145036846427903', 'time': '2023-11-15T19:31:00.522934792Z', 'type': 'ORDER_FILL', 'orderID': '1301', 'instrument': 'AUD_CAD', 'units': '-1918', 'requestedUnits': '-1918', 'price': '0.89041', 'pl': '0.0000', 'quotePL': '0', 'financing': '0.0000', 'baseFinancing': '0', 'commission': '0.0000', 'accountBalance': '99866.4718', 'gainQuoteHomeConversionFactor': '0.727288678635', 'lossQuoteHomeConversionFactor': '0.734598112592', 'guaranteedExecutionFee': '0.0000', 'quoteGuaranteedExecutionFee': '0', 'halfSpreadCost': '0.1612', 'fullVWAP': '0.89041', 'reason': 'MARKET_ORDER', 'tradeOpened': {'price': '0.89041', 'tradeID': '1302', 'units': '-1918', 'guaranteedExecutionFee': '0.0000', 'quoteGuaranteedExecutionFee': '0', 'halfSpreadCost': '0.1612', 'initialMarginRequired': '37.4545'}, 'fullPrice': {'closeoutBid': '0.89041', 'closeoutAsk': '0.89064', 'timestamp': '2023-11-15T19:30:49.475102020Z', 'bids': [{'price': '0.89041', 'liquidity': '10000000'}], 'asks': [{'price': '0.89064', 'liquidity': '10000000'}]}, 'homeConversionFactors': {'gainQuoteHome': {'factor': '0.72728867863543'}, 'lossQuoteHome': {'factor': '0.73459811259157'}, 'gainBaseHome': {'factor': '0.64767535'}, 'lossBaseHome': {'factor': '0.65418465'}}}, 'relatedTransactionIDs': ['1301', '1302', '1303', '1304'], 'lastTransactionID': '1304'}\n",
            "{'orderCreateTransaction': {'id': '1309', 'accountID': '101-001-27332384-001', 'userID': 27332384, 'batchID': '1309', 'requestID': '79188232374796859', 'time': '2023-11-15T19:31:00.680801811Z', 'type': 'MARKET_ORDER', 'instrument': 'EUR_GBP', 'units': '1914', 'timeInForce': 'FOK', 'positionFill': 'DEFAULT', 'takeProfitOnFill': {'price': '0.87390', 'timeInForce': 'GTC'}, 'stopLossOnFill': {'price': '0.87324', 'timeInForce': 'GTC', 'triggerMode': 'TOP_OF_BOOK'}, 'reason': 'CLIENT_ORDER'}, 'orderFillTransaction': {'id': '1310', 'accountID': '101-001-27332384-001', 'userID': 27332384, 'batchID': '1309', 'requestID': '79188232374796859', 'time': '2023-11-15T19:31:00.680801811Z', 'type': 'ORDER_FILL', 'orderID': '1309', 'instrument': 'EUR_GBP', 'units': '1914', 'requestedUnits': '1914', 'price': '0.87351', 'pl': '0.0000', 'quotePL': '0', 'financing': '0.0000', 'baseFinancing': '0', 'commission': '0.0000', 'accountBalance': '99866.4718', 'gainQuoteHomeConversionFactor': '1.23559100', 'lossQuoteHomeConversionFactor': '1.24800900', 'guaranteedExecutionFee': '0.0000', 'quoteGuaranteedExecutionFee': '0', 'halfSpreadCost': '0.1545', 'fullVWAP': '0.87351', 'reason': 'MARKET_ORDER', 'tradeOpened': {'price': '0.87351', 'tradeID': '1310', 'units': '1914', 'guaranteedExecutionFee': '0.0000', 'quoteGuaranteedExecutionFee': '0', 'halfSpreadCost': '0.1545', 'initialMarginRequired': '103.8029'}, 'fullPrice': {'closeoutBid': '0.87338', 'closeoutAsk': '0.87351', 'timestamp': '2023-11-15T19:31:00.632047368Z', 'bids': [{'price': '0.87338', 'liquidity': '10000000'}], 'asks': [{'price': '0.87351', 'liquidity': '10000000'}]}, 'homeConversionFactors': {'gainQuoteHome': {'factor': '1.23559100'}, 'lossQuoteHome': {'factor': '1.24800900'}, 'gainBaseHome': {'factor': '1.07924665'}, 'lossBaseHome': {'factor': '1.09009335'}}}, 'relatedTransactionIDs': ['1309', '1310', '1311', '1312'], 'lastTransactionID': '1312'}\n",
            "{'orderCreateTransaction': {'id': '1313', 'accountID': '101-001-27332384-001', 'userID': 27332384, 'batchID': '1313', 'requestID': '25145036846428416', 'time': '2023-11-15T19:31:00.901842922Z', 'type': 'MARKET_ORDER', 'instrument': 'GBP_CHF', 'units': '-1983', 'timeInForce': 'FOK', 'positionFill': 'DEFAULT', 'takeProfitOnFill': {'price': '1.10240', 'timeInForce': 'GTC'}, 'stopLossOnFill': {'price': '1.10348', 'timeInForce': 'GTC', 'triggerMode': 'TOP_OF_BOOK'}, 'reason': 'CLIENT_ORDER'}, 'orderFillTransaction': {'id': '1314', 'accountID': '101-001-27332384-001', 'userID': 27332384, 'batchID': '1313', 'requestID': '25145036846428416', 'time': '2023-11-15T19:31:00.901842922Z', 'type': 'ORDER_FILL', 'orderID': '1313', 'instrument': 'GBP_CHF', 'units': '-1983', 'requestedUnits': '-1983', 'price': '1.10299', 'pl': '0.0000', 'quotePL': '0', 'financing': '0.0000', 'baseFinancing': '0', 'commission': '0.0000', 'accountBalance': '99866.4718', 'gainQuoteHomeConversionFactor': '1.120047734663', 'lossQuoteHomeConversionFactor': '1.131304495816', 'guaranteedExecutionFee': '0.0000', 'quoteGuaranteedExecutionFee': '0', 'halfSpreadCost': '0.3683', 'fullVWAP': '1.10299', 'reason': 'MARKET_ORDER', 'tradeOpened': {'price': '1.10299', 'tradeID': '1314', 'units': '-1983', 'guaranteedExecutionFee': '0.0000', 'quoteGuaranteedExecutionFee': '0', 'halfSpreadCost': '0.3683', 'initialMarginRequired': '123.1245'}, 'fullPrice': {'closeoutBid': '1.10299', 'closeoutAsk': '1.10332', 'timestamp': '2023-11-15T19:31:00.398176893Z', 'bids': [{'price': '1.10299', 'liquidity': '10000000'}], 'asks': [{'price': '1.10332', 'liquidity': '10000000'}]}, 'homeConversionFactors': {'gainQuoteHome': {'factor': '1.12004773466342'}, 'lossQuoteHome': {'factor': '1.13130449581582'}, 'gainBaseHome': {'factor': '1.23559100'}, 'lossBaseHome': {'factor': '1.24800900'}}}, 'relatedTransactionIDs': ['1313', '1314', '1315', '1316'], 'lastTransactionID': '1316'}\n"
          ]
        },
        {
          "name": "stderr",
          "output_type": "stream",
          "text": [
            "Run time of job \"trading_job (trigger: cron[day_of_week='mon-fri', hour='0-23', minute='1,16,31,46'], next run at: 2023-11-15 12:16:00 PST)\" was missed by 0:04:52.738483\n",
            "Run time of job \"trading_job (trigger: cron[day_of_week='mon-fri', hour='0-23', minute='1,16,31,46'], next run at: 2023-11-15 12:16:00 PST)\" was missed by 0:04:52.746776\n",
            "Run time of job \"trading_job (trigger: cron[day_of_week='mon-fri', hour='0-23', minute='1,16,31,46'], next run at: 2023-11-15 12:16:00 PST)\" was missed by 0:04:52.748410\n",
            "Run time of job \"trading_job (trigger: cron[day_of_week='mon-fri', hour='0-23', minute='1,16,31,46'], next run at: 2023-11-15 12:16:00 PST)\" was missed by 0:04:52.750060\n",
            "Run time of job \"trading_job (trigger: cron[day_of_week='mon-fri', hour='0-23', minute='1,16,31,46'], next run at: 2023-11-15 12:16:00 PST)\" was missed by 0:04:52.746026\n",
            "Run time of job \"trading_job (trigger: cron[day_of_week='mon-fri', hour='0-23', minute='1,16,31,46'], next run at: 2023-11-15 12:16:00 PST)\" was missed by 0:04:52.746182\n",
            "Run time of job \"trading_job (trigger: cron[day_of_week='mon-fri', hour='0-23', minute='1,16,31,46'], next run at: 2023-11-15 12:16:00 PST)\" was missed by 0:04:52.747063\n",
            "Run time of job \"trading_job (trigger: cron[day_of_week='mon-fri', hour='0-23', minute='1,16,31,46'], next run at: 2023-11-15 12:16:00 PST)\" was missed by 0:04:52.747141\n",
            "Run time of job \"trading_job (trigger: cron[day_of_week='mon-fri', hour='0-23', minute='1,16,31,46'], next run at: 2023-11-15 12:16:00 PST)\" was missed by 0:04:52.747429\n",
            "Run time of job \"trading_job (trigger: cron[day_of_week='mon-fri', hour='0-23', minute='1,16,31,46'], next run at: 2023-11-15 12:16:00 PST)\" was missed by 0:04:52.742679\n",
            "Run time of job \"trading_job (trigger: cron[day_of_week='mon-fri', hour='0-23', minute='1,16,31,46'], next run at: 2023-11-15 12:16:00 PST)\" was missed by 0:04:52.747518\n",
            "Run time of job \"trading_job (trigger: cron[day_of_week='mon-fri', hour='0-23', minute='1,16,31,46'], next run at: 2023-11-15 12:16:00 PST)\" was missed by 0:04:52.742822\n",
            "Run time of job \"trading_job (trigger: cron[day_of_week='mon-fri', hour='0-23', minute='1,16,31,46'], next run at: 2023-11-15 12:16:00 PST)\" was missed by 0:04:52.743058\n",
            "Run time of job \"trading_job (trigger: cron[day_of_week='mon-fri', hour='0-23', minute='1,16,31,46'], next run at: 2023-11-15 12:16:00 PST)\" was missed by 0:04:52.752458\n",
            "Run time of job \"trading_job (trigger: cron[day_of_week='mon-fri', hour='0-23', minute='1,16,31,46'], next run at: 2023-11-15 12:16:00 PST)\" was missed by 0:04:52.754156\n",
            "Run time of job \"trading_job (trigger: cron[day_of_week='mon-fri', hour='0-23', minute='1,16,31,46'], next run at: 2023-11-15 12:16:00 PST)\" was missed by 0:04:52.755913\n",
            "Run time of job \"trading_job (trigger: cron[day_of_week='mon-fri', hour='0-23', minute='1,16,31,46'], next run at: 2023-11-15 12:16:00 PST)\" was missed by 0:04:52.757118\n",
            "Run time of job \"trading_job (trigger: cron[day_of_week='mon-fri', hour='0-23', minute='1,16,31,46'], next run at: 2023-11-15 12:16:00 PST)\" was missed by 0:04:52.758538\n",
            "Run time of job \"trading_job (trigger: cron[day_of_week='mon-fri', hour='0-23', minute='1,16,31,46'], next run at: 2023-11-15 12:16:00 PST)\" was missed by 0:04:52.759416\n",
            "Run time of job \"trading_job (trigger: cron[day_of_week='mon-fri', hour='0-23', minute='1,16,31,46'], next run at: 2023-11-15 12:16:00 PST)\" was missed by 0:04:52.760482\n",
            "Run time of job \"trading_job (trigger: cron[day_of_week='mon-fri', hour='0-23', minute='1,16,31,46'], next run at: 2023-11-15 12:16:00 PST)\" was missed by 0:04:52.761428\n",
            "Run time of job \"trading_job (trigger: cron[day_of_week='mon-fri', hour='0-23', minute='1,16,31,46'], next run at: 2023-11-15 12:16:00 PST)\" was missed by 0:04:52.762483\n",
            "Run time of job \"trading_job (trigger: cron[day_of_week='mon-fri', hour='0-23', minute='1,16,31,46'], next run at: 2023-11-15 12:16:00 PST)\" was missed by 0:04:52.763229\n",
            "Run time of job \"trading_job (trigger: cron[day_of_week='mon-fri', hour='0-23', minute='1,16,31,46'], next run at: 2023-11-15 12:16:00 PST)\" was missed by 0:04:52.763885\n",
            "Run time of job \"trading_job (trigger: cron[day_of_week='mon-fri', hour='0-23', minute='1,16,31,46'], next run at: 2023-11-15 12:16:00 PST)\" was missed by 0:04:52.764729\n",
            "Run time of job \"trading_job (trigger: cron[day_of_week='mon-fri', hour='0-23', minute='1,16,31,46'], next run at: 2023-11-15 12:16:00 PST)\" was missed by 0:04:52.765644\n",
            "Run time of job \"trading_job (trigger: cron[day_of_week='mon-fri', hour='0-23', minute='1,16,31,46'], next run at: 2023-11-15 13:31:00 PST)\" was missed by 0:01:01.417489\n",
            "Run time of job \"trading_job (trigger: cron[day_of_week='mon-fri', hour='0-23', minute='1,16,31,46'], next run at: 2023-11-15 13:31:00 PST)\" was missed by 0:01:01.433710\n",
            "Run time of job \"trading_job (trigger: cron[day_of_week='mon-fri', hour='0-23', minute='1,16,31,46'], next run at: 2023-11-15 13:31:00 PST)\" was missed by 0:01:01.435529\n",
            "Run time of job \"trading_job (trigger: cron[day_of_week='mon-fri', hour='0-23', minute='1,16,31,46'], next run at: 2023-11-15 13:31:00 PST)\" was missed by 0:01:01.437092\n",
            "Run time of job \"trading_job (trigger: cron[day_of_week='mon-fri', hour='0-23', minute='1,16,31,46'], next run at: 2023-11-15 13:31:00 PST)\" was missed by 0:01:01.437395\n",
            "Run time of job \"trading_job (trigger: cron[day_of_week='mon-fri', hour='0-23', minute='1,16,31,46'], next run at: 2023-11-15 13:31:00 PST)\" was missed by 0:01:01.437560\n",
            "Run time of job \"trading_job (trigger: cron[day_of_week='mon-fri', hour='0-23', minute='1,16,31,46'], next run at: 2023-11-15 13:31:00 PST)\" was missed by 0:01:01.437923\n",
            "Run time of job \"trading_job (trigger: cron[day_of_week='mon-fri', hour='0-23', minute='1,16,31,46'], next run at: 2023-11-15 13:31:00 PST)\" was missed by 0:01:01.438273\n",
            "Run time of job \"trading_job (trigger: cron[day_of_week='mon-fri', hour='0-23', minute='1,16,31,46'], next run at: 2023-11-15 13:31:00 PST)\" was missed by 0:01:01.438739\n",
            "Run time of job \"trading_job (trigger: cron[day_of_week='mon-fri', hour='0-23', minute='1,16,31,46'], next run at: 2023-11-15 13:31:00 PST)\" was missed by 0:01:01.438866\n",
            "Run time of job \"trading_job (trigger: cron[day_of_week='mon-fri', hour='0-23', minute='1,16,31,46'], next run at: 2023-11-15 13:31:00 PST)\" was missed by 0:01:01.439076\n",
            "Run time of job \"trading_job (trigger: cron[day_of_week='mon-fri', hour='0-23', minute='1,16,31,46'], next run at: 2023-11-15 13:31:00 PST)\" was missed by 0:01:01.439177\n",
            "Run time of job \"trading_job (trigger: cron[day_of_week='mon-fri', hour='0-23', minute='1,16,31,46'], next run at: 2023-11-15 13:31:00 PST)\" was missed by 0:01:01.440240\n",
            "Run time of job \"trading_job (trigger: cron[day_of_week='mon-fri', hour='0-23', minute='1,16,31,46'], next run at: 2023-11-15 13:31:00 PST)\" was missed by 0:01:01.441386\n",
            "Run time of job \"trading_job (trigger: cron[day_of_week='mon-fri', hour='0-23', minute='1,16,31,46'], next run at: 2023-11-15 13:31:00 PST)\" was missed by 0:01:01.442127\n",
            "Run time of job \"trading_job (trigger: cron[day_of_week='mon-fri', hour='0-23', minute='1,16,31,46'], next run at: 2023-11-15 13:31:00 PST)\" was missed by 0:01:01.442909\n",
            "Run time of job \"trading_job (trigger: cron[day_of_week='mon-fri', hour='0-23', minute='1,16,31,46'], next run at: 2023-11-15 13:31:00 PST)\" was missed by 0:01:01.443797\n",
            "Run time of job \"trading_job (trigger: cron[day_of_week='mon-fri', hour='0-23', minute='1,16,31,46'], next run at: 2023-11-15 13:31:00 PST)\" was missed by 0:01:01.444673\n",
            "Run time of job \"trading_job (trigger: cron[day_of_week='mon-fri', hour='0-23', minute='1,16,31,46'], next run at: 2023-11-15 13:31:00 PST)\" was missed by 0:01:01.445521\n",
            "Run time of job \"trading_job (trigger: cron[day_of_week='mon-fri', hour='0-23', minute='1,16,31,46'], next run at: 2023-11-15 13:31:00 PST)\" was missed by 0:01:01.446579\n",
            "Run time of job \"trading_job (trigger: cron[day_of_week='mon-fri', hour='0-23', minute='1,16,31,46'], next run at: 2023-11-15 13:31:00 PST)\" was missed by 0:01:01.447667\n",
            "Run time of job \"trading_job (trigger: cron[day_of_week='mon-fri', hour='0-23', minute='1,16,31,46'], next run at: 2023-11-15 13:31:00 PST)\" was missed by 0:01:01.448293\n",
            "Run time of job \"trading_job (trigger: cron[day_of_week='mon-fri', hour='0-23', minute='1,16,31,46'], next run at: 2023-11-15 13:31:00 PST)\" was missed by 0:01:01.448868\n",
            "Run time of job \"trading_job (trigger: cron[day_of_week='mon-fri', hour='0-23', minute='1,16,31,46'], next run at: 2023-11-15 13:31:00 PST)\" was missed by 0:01:01.449525\n",
            "Run time of job \"trading_job (trigger: cron[day_of_week='mon-fri', hour='0-23', minute='1,16,31,46'], next run at: 2023-11-15 13:31:00 PST)\" was missed by 0:01:01.450262\n",
            "Run time of job \"trading_job (trigger: cron[day_of_week='mon-fri', hour='0-23', minute='1,16,31,46'], next run at: 2023-11-15 13:31:00 PST)\" was missed by 0:01:01.450897\n"
          ]
        },
        {
          "name": "stdout",
          "output_type": "stream",
          "text": [
            "{'orderCreateTransaction': {'id': '1329', 'accountID': '101-001-27332384-001', 'userID': 27332384, 'batchID': '1329', 'requestID': '25145067045625554', 'time': '2023-11-15T21:31:00.435203495Z', 'type': 'MARKET_ORDER', 'instrument': 'EUR_AUD', 'units': '2052', 'timeInForce': 'FOK', 'positionFill': 'DEFAULT', 'takeProfitOnFill': {'price': '1.66806', 'timeInForce': 'GTC'}, 'stopLossOnFill': {'price': '1.66566', 'timeInForce': 'GTC', 'triggerMode': 'TOP_OF_BOOK'}, 'reason': 'CLIENT_ORDER'}, 'orderFillTransaction': {'id': '1330', 'accountID': '101-001-27332384-001', 'userID': 27332384, 'batchID': '1329', 'requestID': '25145067045625554', 'time': '2023-11-15T21:31:00.435203495Z', 'type': 'ORDER_FILL', 'orderID': '1329', 'instrument': 'EUR_AUD', 'units': '2052', 'requestedUnits': '2052', 'price': '1.66655', 'pl': '0.0000', 'quotePL': '0', 'financing': '0.0000', 'baseFinancing': '0', 'commission': '0.0000', 'accountBalance': '99861.7920', 'gainQuoteHomeConversionFactor': '0.64764550', 'lossQuoteHomeConversionFactor': '0.65415450', 'guaranteedExecutionFee': '0.0000', 'quoteGuaranteedExecutionFee': '0', 'halfSpreadCost': '0.2337', 'fullVWAP': '1.66655', 'reason': 'MARKET_ORDER', 'tradeOpened': {'price': '1.66655', 'tradeID': '1330', 'units': '2052', 'guaranteedExecutionFee': '0.0000', 'quoteGuaranteedExecutionFee': '0', 'halfSpreadCost': '0.2337', 'initialMarginRequired': '66.7717'}, 'fullPrice': {'closeoutBid': '1.66620', 'closeoutAsk': '1.66655', 'timestamp': '2023-11-15T21:30:48.911074405Z', 'bids': [{'price': '1.66620', 'liquidity': '10000000'}], 'asks': [{'price': '1.66655', 'liquidity': '10000000'}]}, 'homeConversionFactors': {'gainQuoteHome': {'factor': '0.64764550'}, 'lossQuoteHome': {'factor': '0.65415450'}, 'gainBaseHome': {'factor': '1.07923670'}, 'lossBaseHome': {'factor': '1.09008330'}}}, 'relatedTransactionIDs': ['1329', '1330', '1331', '1332'], 'lastTransactionID': '1332'}\n",
            "{'orderCreateTransaction': {'id': '1333', 'accountID': '101-001-27332384-001', 'userID': 27332384, 'batchID': '1333', 'requestID': '61173864064868446', 'time': '2023-11-15T21:31:00.442784327Z', 'type': 'MARKET_ORDER', 'instrument': 'USD_JPY', 'units': '2001', 'timeInForce': 'FOK', 'positionFill': 'DEFAULT', 'takeProfitOnFill': {'price': '151.446', 'timeInForce': 'GTC'}, 'stopLossOnFill': {'price': '151.356', 'timeInForce': 'GTC', 'triggerMode': 'TOP_OF_BOOK'}, 'reason': 'CLIENT_ORDER'}, 'orderFillTransaction': {'id': '1334', 'accountID': '101-001-27332384-001', 'userID': 27332384, 'batchID': '1333', 'requestID': '61173864064868446', 'time': '2023-11-15T21:31:00.442784327Z', 'type': 'ORDER_FILL', 'orderID': '1333', 'instrument': 'USD_JPY', 'units': '2001', 'requestedUnits': '2001', 'price': '151.382', 'pl': '0.0000', 'quotePL': '0', 'financing': '0.0000', 'baseFinancing': '0', 'commission': '0.0000', 'accountBalance': '99861.7920', 'gainQuoteHomeConversionFactor': '0.006573166968', 'lossQuoteHomeConversionFactor': '0.006639228948', 'guaranteedExecutionFee': '0.0000', 'quoteGuaranteedExecutionFee': '0', 'halfSpreadCost': '0.1190', 'fullVWAP': '151.382', 'reason': 'MARKET_ORDER', 'tradeOpened': {'price': '151.382', 'tradeID': '1334', 'units': '2001', 'guaranteedExecutionFee': '0.0000', 'quoteGuaranteedExecutionFee': '0', 'halfSpreadCost': '0.1190', 'initialMarginRequired': '100.0500'}, 'fullPrice': {'closeoutBid': '151.364', 'closeoutAsk': '151.382', 'timestamp': '2023-11-15T21:31:00.421959845Z', 'bids': [{'price': '151.364', 'liquidity': '10000000'}], 'asks': [{'price': '151.382', 'liquidity': '10000000'}]}, 'homeConversionFactors': {'gainQuoteHome': {'factor': '0.00657316696847'}, 'lossQuoteHome': {'factor': '0.00663922894805'}, 'gainBaseHome': {'factor': '1'}, 'lossBaseHome': {'factor': '1'}}}, 'relatedTransactionIDs': ['1333', '1334', '1335', '1336'], 'lastTransactionID': '1336'}\n",
            "{'orderCreateTransaction': {'id': '1337', 'accountID': '101-001-27332384-001', 'userID': 27332384, 'batchID': '1337', 'requestID': '25145067045625777', 'time': '2023-11-15T21:31:00.604259631Z', 'type': 'MARKET_ORDER', 'instrument': 'EUR_CHF', 'units': '-1935', 'timeInForce': 'FOK', 'positionFill': 'DEFAULT', 'takeProfitOnFill': {'price': '0.96254', 'timeInForce': 'GTC'}, 'stopLossOnFill': {'price': '0.96338', 'timeInForce': 'GTC', 'triggerMode': 'TOP_OF_BOOK'}, 'reason': 'CLIENT_ORDER'}, 'orderFillTransaction': {'id': '1338', 'accountID': '101-001-27332384-001', 'userID': 27332384, 'batchID': '1337', 'requestID': '25145067045625777', 'time': '2023-11-15T21:31:00.604259631Z', 'type': 'ORDER_FILL', 'orderID': '1337', 'instrument': 'EUR_CHF', 'units': '-1935', 'requestedUnits': '-1935', 'price': '0.96295', 'pl': '0.0000', 'quotePL': '0', 'financing': '0.0000', 'baseFinancing': '0', 'commission': '0.0000', 'accountBalance': '99861.7920', 'gainQuoteHomeConversionFactor': '1.120621698597', 'lossQuoteHomeConversionFactor': '1.131884228231', 'guaranteedExecutionFee': '0.0000', 'quoteGuaranteedExecutionFee': '0', 'halfSpreadCost': '0.2397', 'fullVWAP': '0.96295', 'reason': 'MARKET_ORDER', 'tradeOpened': {'price': '0.96295', 'tradeID': '1338', 'units': '-1935', 'guaranteedExecutionFee': '0.0000', 'quoteGuaranteedExecutionFee': '0', 'halfSpreadCost': '0.2397', 'initialMarginRequired': '83.9527'}, 'fullPrice': {'closeoutBid': '0.96295', 'closeoutAsk': '0.96317', 'timestamp': '2023-11-15T21:30:49.657327119Z', 'bids': [{'price': '0.96295', 'liquidity': '10000000'}], 'asks': [{'price': '0.96317', 'liquidity': '10000000'}]}, 'homeConversionFactors': {'gainQuoteHome': {'factor': '1.12062169859703'}, 'lossQuoteHome': {'factor': '1.13188422823117'}, 'gainBaseHome': {'factor': '1.07923670'}, 'lossBaseHome': {'factor': '1.09008330'}}}, 'relatedTransactionIDs': ['1337', '1338', '1339', '1340'], 'lastTransactionID': '1340'}\n",
            "{'orderCreateTransaction': {'id': '1341', 'accountID': '101-001-27332384-001', 'userID': 27332384, 'batchID': '1341', 'requestID': '25145067045625793', 'time': '2023-11-15T21:31:00.614884228Z', 'type': 'MARKET_ORDER', 'instrument': 'GBP_AUD', 'units': '2015', 'timeInForce': 'FOK', 'positionFill': 'DEFAULT', 'takeProfitOnFill': {'price': '1.90910', 'timeInForce': 'GTC'}, 'stopLossOnFill': {'price': '1.90622', 'timeInForce': 'GTC', 'triggerMode': 'TOP_OF_BOOK'}, 'reason': 'CLIENT_ORDER'}, 'orderFillTransaction': {'id': '1342', 'accountID': '101-001-27332384-001', 'userID': 27332384, 'batchID': '1341', 'requestID': '25145067045625793', 'time': '2023-11-15T21:31:00.614884228Z', 'type': 'ORDER_FILL', 'orderID': '1341', 'instrument': 'GBP_AUD', 'units': '2015', 'requestedUnits': '2015', 'price': '1.90744', 'pl': '0.0000', 'quotePL': '0', 'financing': '0.0000', 'baseFinancing': '0', 'commission': '0.0000', 'accountBalance': '99861.7920', 'gainQuoteHomeConversionFactor': '0.64764550', 'lossQuoteHomeConversionFactor': '0.65415450', 'guaranteedExecutionFee': '0.0000', 'quoteGuaranteedExecutionFee': '0', 'halfSpreadCost': '0.2951', 'fullVWAP': '1.90744', 'reason': 'MARKET_ORDER', 'tradeOpened': {'price': '1.90744', 'tradeID': '1342', 'units': '2015', 'guaranteedExecutionFee': '0.0000', 'quoteGuaranteedExecutionFee': '0', 'halfSpreadCost': '0.2951', 'initialMarginRequired': '125.0721'}, 'fullPrice': {'closeoutBid': '1.90699', 'closeoutAsk': '1.90744', 'timestamp': '2023-11-15T21:31:00.519047985Z', 'bids': [{'price': '1.90699', 'liquidity': '10000000'}], 'asks': [{'price': '1.90744', 'liquidity': '10000000'}]}, 'homeConversionFactors': {'gainQuoteHome': {'factor': '0.64764550'}, 'lossQuoteHome': {'factor': '0.65415450'}, 'gainBaseHome': {'factor': '1.23520295'}, 'lossBaseHome': {'factor': '1.24761705'}}}, 'relatedTransactionIDs': ['1341', '1342', '1343', '1344'], 'lastTransactionID': '1344'}\n",
            "{'orderCreateTransaction': {'id': '1345', 'accountID': '101-001-27332384-001', 'userID': 27332384, 'batchID': '1345', 'requestID': '79188262573970634', 'time': '2023-11-15T21:31:00.697753789Z', 'type': 'MARKET_ORDER', 'instrument': 'NZD_JPY', 'units': '2000', 'timeInForce': 'FOK', 'positionFill': 'DEFAULT', 'takeProfitOnFill': {'price': '91.214', 'timeInForce': 'GTC'}, 'stopLossOnFill': {'price': '91.118', 'timeInForce': 'GTC', 'triggerMode': 'TOP_OF_BOOK'}, 'reason': 'CLIENT_ORDER'}, 'orderFillTransaction': {'id': '1346', 'accountID': '101-001-27332384-001', 'userID': 27332384, 'batchID': '1345', 'requestID': '79188262573970634', 'time': '2023-11-15T21:31:00.697753789Z', 'type': 'ORDER_FILL', 'orderID': '1345', 'instrument': 'NZD_JPY', 'units': '2000', 'requestedUnits': '2000', 'price': '91.171', 'pl': '0.0000', 'quotePL': '0', 'financing': '0.0000', 'baseFinancing': '0', 'commission': '0.0000', 'accountBalance': '99861.7920', 'gainQuoteHomeConversionFactor': '0.006573166968', 'lossQuoteHomeConversionFactor': '0.006639228948', 'guaranteedExecutionFee': '0.0000', 'quoteGuaranteedExecutionFee': '0', 'halfSpreadCost': '0.2312', 'fullVWAP': '91.171', 'reason': 'MARKET_ORDER', 'tradeOpened': {'price': '91.171', 'tradeID': '1346', 'units': '2000', 'guaranteedExecutionFee': '0.0000', 'quoteGuaranteedExecutionFee': '0', 'halfSpreadCost': '0.2312', 'initialMarginRequired': '60.2440'}, 'fullPrice': {'closeoutBid': '91.136', 'closeoutAsk': '91.171', 'timestamp': '2023-11-15T21:31:00.365031052Z', 'bids': [{'price': '91.136', 'liquidity': '5000000'}], 'asks': [{'price': '91.171', 'liquidity': '5000000'}]}, 'homeConversionFactors': {'gainQuoteHome': {'factor': '0.00657316696847'}, 'lossQuoteHome': {'factor': '0.00663922894805'}, 'gainBaseHome': {'factor': '0.59942780'}, 'lossBaseHome': {'factor': '0.60545220'}}}, 'relatedTransactionIDs': ['1345', '1346', '1347', '1348'], 'lastTransactionID': '1348'}\n",
            "{'orderCreateTransaction': {'id': '1349', 'accountID': '101-001-27332384-001', 'userID': 27332384, 'batchID': '1349', 'requestID': '25145067045625987', 'time': '2023-11-15T21:31:00.764412005Z', 'type': 'MARKET_ORDER', 'instrument': 'EUR_JPY', 'units': '2084', 'timeInForce': 'FOK', 'positionFill': 'DEFAULT', 'takeProfitOnFill': {'price': '164.279', 'timeInForce': 'GTC'}, 'stopLossOnFill': {'price': '164.153', 'timeInForce': 'GTC', 'triggerMode': 'TOP_OF_BOOK'}, 'reason': 'CLIENT_ORDER'}, 'orderFillTransaction': {'id': '1350', 'accountID': '101-001-27332384-001', 'userID': 27332384, 'batchID': '1349', 'requestID': '25145067045625987', 'time': '2023-11-15T21:31:00.764412005Z', 'type': 'ORDER_FILL', 'orderID': '1349', 'instrument': 'EUR_JPY', 'units': '2084', 'requestedUnits': '2084', 'price': '164.197', 'pl': '0.0000', 'quotePL': '0', 'financing': '0.0000', 'baseFinancing': '0', 'commission': '0.0000', 'accountBalance': '99861.7920', 'gainQuoteHomeConversionFactor': '0.006573166968', 'lossQuoteHomeConversionFactor': '0.006639228948', 'guaranteedExecutionFee': '0.0000', 'quoteGuaranteedExecutionFee': '0', 'halfSpreadCost': '0.1101', 'fullVWAP': '164.197', 'reason': 'MARKET_ORDER', 'tradeOpened': {'price': '164.197', 'tradeID': '1350', 'units': '2084', 'guaranteedExecutionFee': '0.0000', 'quoteGuaranteedExecutionFee': '0', 'halfSpreadCost': '0.1101', 'initialMarginRequired': '113.0216'}, 'fullPrice': {'closeoutBid': '164.181', 'closeoutAsk': '164.197', 'timestamp': '2023-11-15T21:31:00.443851555Z', 'bids': [{'price': '164.181', 'liquidity': '10000000'}], 'asks': [{'price': '164.197', 'liquidity': '10000000'}]}, 'homeConversionFactors': {'gainQuoteHome': {'factor': '0.00657316696847'}, 'lossQuoteHome': {'factor': '0.00663922894805'}, 'gainBaseHome': {'factor': '1.07923670'}, 'lossBaseHome': {'factor': '1.09008330'}}}, 'relatedTransactionIDs': ['1349', '1350', '1351', '1352'], 'lastTransactionID': '1352'}\n"
          ]
        },
        {
          "name": "stderr",
          "output_type": "stream",
          "text": [
            "Run time of job \"trading_job (trigger: cron[day_of_week='mon-fri', hour='0-23', minute='1,16,31,46'], next run at: 2023-11-15 14:01:00 PST)\" was missed by 0:02:19.458885\n",
            "Run time of job \"trading_job (trigger: cron[day_of_week='mon-fri', hour='0-23', minute='1,16,31,46'], next run at: 2023-11-15 14:01:00 PST)\" was missed by 0:02:19.468842\n",
            "Run time of job \"trading_job (trigger: cron[day_of_week='mon-fri', hour='0-23', minute='1,16,31,46'], next run at: 2023-11-15 14:01:00 PST)\" was missed by 0:02:19.469248\n",
            "Run time of job \"trading_job (trigger: cron[day_of_week='mon-fri', hour='0-23', minute='1,16,31,46'], next run at: 2023-11-15 14:01:00 PST)\" was missed by 0:02:19.469379\n",
            "Run time of job \"trading_job (trigger: cron[day_of_week='mon-fri', hour='0-23', minute='1,16,31,46'], next run at: 2023-11-15 14:01:00 PST)\" was missed by 0:02:19.469503\n",
            "Run time of job \"trading_job (trigger: cron[day_of_week='mon-fri', hour='0-23', minute='1,16,31,46'], next run at: 2023-11-15 14:01:00 PST)\" was missed by 0:02:19.469662\n",
            "Run time of job \"trading_job (trigger: cron[day_of_week='mon-fri', hour='0-23', minute='1,16,31,46'], next run at: 2023-11-15 14:01:00 PST)\" was missed by 0:02:19.469839\n",
            "Run time of job \"trading_job (trigger: cron[day_of_week='mon-fri', hour='0-23', minute='1,16,31,46'], next run at: 2023-11-15 14:01:00 PST)\" was missed by 0:02:19.470070\n",
            "Run time of job \"trading_job (trigger: cron[day_of_week='mon-fri', hour='0-23', minute='1,16,31,46'], next run at: 2023-11-15 14:01:00 PST)\" was missed by 0:02:19.470239\n",
            "Run time of job \"trading_job (trigger: cron[day_of_week='mon-fri', hour='0-23', minute='1,16,31,46'], next run at: 2023-11-15 14:01:00 PST)\" was missed by 0:02:19.470654\n",
            "Run time of job \"trading_job (trigger: cron[day_of_week='mon-fri', hour='0-23', minute='1,16,31,46'], next run at: 2023-11-15 14:01:00 PST)\" was missed by 0:02:19.471279\n",
            "Run time of job \"trading_job (trigger: cron[day_of_week='mon-fri', hour='0-23', minute='1,16,31,46'], next run at: 2023-11-15 14:01:00 PST)\" was missed by 0:02:19.471401\n",
            "Run time of job \"trading_job (trigger: cron[day_of_week='mon-fri', hour='0-23', minute='1,16,31,46'], next run at: 2023-11-15 14:01:00 PST)\" was missed by 0:02:19.472252\n",
            "Run time of job \"trading_job (trigger: cron[day_of_week='mon-fri', hour='0-23', minute='1,16,31,46'], next run at: 2023-11-15 14:01:00 PST)\" was missed by 0:02:19.474215\n",
            "Run time of job \"trading_job (trigger: cron[day_of_week='mon-fri', hour='0-23', minute='1,16,31,46'], next run at: 2023-11-15 14:01:00 PST)\" was missed by 0:02:19.475740\n",
            "Run time of job \"trading_job (trigger: cron[day_of_week='mon-fri', hour='0-23', minute='1,16,31,46'], next run at: 2023-11-15 14:01:00 PST)\" was missed by 0:02:19.476768\n",
            "Run time of job \"trading_job (trigger: cron[day_of_week='mon-fri', hour='0-23', minute='1,16,31,46'], next run at: 2023-11-15 14:01:00 PST)\" was missed by 0:02:19.477779\n",
            "Run time of job \"trading_job (trigger: cron[day_of_week='mon-fri', hour='0-23', minute='1,16,31,46'], next run at: 2023-11-15 14:01:00 PST)\" was missed by 0:02:19.478547\n",
            "Run time of job \"trading_job (trigger: cron[day_of_week='mon-fri', hour='0-23', minute='1,16,31,46'], next run at: 2023-11-15 14:01:00 PST)\" was missed by 0:02:19.479609\n",
            "Run time of job \"trading_job (trigger: cron[day_of_week='mon-fri', hour='0-23', minute='1,16,31,46'], next run at: 2023-11-15 14:01:00 PST)\" was missed by 0:02:19.480452\n",
            "Run time of job \"trading_job (trigger: cron[day_of_week='mon-fri', hour='0-23', minute='1,16,31,46'], next run at: 2023-11-15 14:01:00 PST)\" was missed by 0:02:19.481512\n",
            "Run time of job \"trading_job (trigger: cron[day_of_week='mon-fri', hour='0-23', minute='1,16,31,46'], next run at: 2023-11-15 14:01:00 PST)\" was missed by 0:02:19.482462\n",
            "Run time of job \"trading_job (trigger: cron[day_of_week='mon-fri', hour='0-23', minute='1,16,31,46'], next run at: 2023-11-15 14:01:00 PST)\" was missed by 0:02:19.483179\n",
            "Run time of job \"trading_job (trigger: cron[day_of_week='mon-fri', hour='0-23', minute='1,16,31,46'], next run at: 2023-11-15 14:01:00 PST)\" was missed by 0:02:19.483991\n",
            "Run time of job \"trading_job (trigger: cron[day_of_week='mon-fri', hour='0-23', minute='1,16,31,46'], next run at: 2023-11-15 14:01:00 PST)\" was missed by 0:02:19.484824\n",
            "Run time of job \"trading_job (trigger: cron[day_of_week='mon-fri', hour='0-23', minute='1,16,31,46'], next run at: 2023-11-15 14:01:00 PST)\" was missed by 0:02:19.485565\n"
          ]
        },
        {
          "name": "stdout",
          "output_type": "stream",
          "text": [
            "{'orderCreateTransaction': {'id': '1362', 'accountID': '101-001-27332384-001', 'userID': 27332384, 'batchID': '1362', 'requestID': '25145074597202533', 'time': '2023-11-15T22:01:00.685754552Z', 'type': 'MARKET_ORDER', 'instrument': 'USD_JPY', 'units': '2040', 'timeInForce': 'FOK', 'positionFill': 'DEFAULT', 'takeProfitOnFill': {'price': '151.423', 'timeInForce': 'GTC'}, 'stopLossOnFill': {'price': '151.354', 'timeInForce': 'GTC', 'triggerMode': 'TOP_OF_BOOK'}, 'reason': 'CLIENT_ORDER'}, 'orderCancelTransaction': {'id': '1363', 'accountID': '101-001-27332384-001', 'userID': 27332384, 'batchID': '1362', 'requestID': '25145074597202533', 'time': '2023-11-15T22:01:00.685754552Z', 'type': 'ORDER_CANCEL', 'orderID': '1362', 'reason': 'MARKET_HALTED'}, 'relatedTransactionIDs': ['1362', '1363'], 'lastTransactionID': '1363'}{'orderCreateTransaction': {'id': '1360', 'accountID': '101-001-27332384-001', 'userID': 27332384, 'batchID': '1360', 'requestID': '25145074597202525', 'time': '2023-11-15T22:01:00.678453297Z', 'type': 'MARKET_ORDER', 'instrument': 'EUR_AUD', 'units': '2019', 'timeInForce': 'FOK', 'positionFill': 'DEFAULT', 'takeProfitOnFill': {'price': '1.66713', 'timeInForce': 'GTC'}, 'stopLossOnFill': {'price': '1.66617', 'timeInForce': 'GTC', 'triggerMode': 'TOP_OF_BOOK'}, 'reason': 'CLIENT_ORDER'}, 'orderCancelTransaction': {'id': '1361', 'accountID': '101-001-27332384-001', 'userID': 27332384, 'batchID': '1360', 'requestID': '25145074597202525', 'time': '2023-11-15T22:01:00.678453297Z', 'type': 'ORDER_CANCEL', 'orderID': '1360', 'reason': 'MARKET_HALTED'}, 'relatedTransactionIDs': ['1360', '1361'], 'lastTransactionID': '1361'}\n",
            "\n",
            "{'orderCreateTransaction': {'id': '1364', 'accountID': '101-001-27332384-001', 'userID': 27332384, 'batchID': '1364', 'requestID': '43159473104078125', 'time': '2023-11-15T22:01:00.898797599Z', 'type': 'MARKET_ORDER', 'instrument': 'GBP_AUD', 'units': '1922', 'timeInForce': 'FOK', 'positionFill': 'DEFAULT', 'takeProfitOnFill': {'price': '1.90832', 'timeInForce': 'GTC'}, 'stopLossOnFill': {'price': '1.90670', 'timeInForce': 'GTC', 'triggerMode': 'TOP_OF_BOOK'}, 'reason': 'CLIENT_ORDER'}, 'orderCancelTransaction': {'id': '1365', 'accountID': '101-001-27332384-001', 'userID': 27332384, 'batchID': '1364', 'requestID': '43159473104078125', 'time': '2023-11-15T22:01:00.898797599Z', 'type': 'ORDER_CANCEL', 'orderID': '1364', 'reason': 'MARKET_HALTED'}, 'relatedTransactionIDs': ['1364', '1365'], 'lastTransactionID': '1365'}\n",
            "{'orderCreateTransaction': {'id': '1368', 'accountID': '101-001-27332384-001', 'userID': 27332384, 'batchID': '1368', 'requestID': '25145074597202795', 'time': '2023-11-15T22:01:00.902350425Z', 'type': 'MARKET_ORDER', 'instrument': 'EUR_CHF', 'units': '-2021', 'timeInForce': 'FOK', 'positionFill': 'DEFAULT', 'takeProfitOnFill': {'price': '0.96278', 'timeInForce': 'GTC'}, 'stopLossOnFill': {'price': '0.96350', 'timeInForce': 'GTC', 'triggerMode': 'TOP_OF_BOOK'}, 'reason': 'CLIENT_ORDER'}, 'orderCancelTransaction': {'id': '1369', 'accountID': '101-001-27332384-001', 'userID': 27332384, 'batchID': '1368', 'requestID': '25145074597202795', 'time': '2023-11-15T22:01:00.902350425Z', 'type': 'ORDER_CANCEL', 'orderID': '1368', 'reason': 'MARKET_HALTED'}, 'relatedTransactionIDs': ['1368', '1369'], 'lastTransactionID': '1369'}\n",
            "{'orderCreateTransaction': {'id': '1366', 'accountID': '101-001-27332384-001', 'userID': 27332384, 'batchID': '1366', 'requestID': '25145074597202793', 'time': '2023-11-15T22:01:00.900624285Z', 'type': 'MARKET_ORDER', 'instrument': 'AUD_USD', 'units': '-2034', 'timeInForce': 'FOK', 'positionFill': 'DEFAULT', 'takeProfitOnFill': {'price': '0.65058', 'timeInForce': 'GTC'}, 'stopLossOnFill': {'price': '0.65103', 'timeInForce': 'GTC', 'triggerMode': 'TOP_OF_BOOK'}, 'reason': 'CLIENT_ORDER'}, 'orderCancelTransaction': {'id': '1367', 'accountID': '101-001-27332384-001', 'userID': 27332384, 'batchID': '1366', 'requestID': '25145074597202793', 'time': '2023-11-15T22:01:00.900624285Z', 'type': 'ORDER_CANCEL', 'orderID': '1366', 'reason': 'MARKET_HALTED'}, 'relatedTransactionIDs': ['1366', '1367'], 'lastTransactionID': '1367'}\n",
            "{'orderCreateTransaction': {'id': '1370', 'accountID': '101-001-27332384-001', 'userID': 27332384, 'batchID': '1370', 'requestID': '43159473108272741', 'time': '2023-11-15T22:01:01.167429969Z', 'type': 'MARKET_ORDER', 'instrument': 'EUR_JPY', 'units': '2076', 'timeInForce': 'FOK', 'positionFill': 'DEFAULT', 'takeProfitOnFill': {'price': '164.242', 'timeInForce': 'GTC'}, 'stopLossOnFill': {'price': '164.176', 'timeInForce': 'GTC', 'triggerMode': 'TOP_OF_BOOK'}, 'reason': 'CLIENT_ORDER'}, 'orderCancelTransaction': {'id': '1371', 'accountID': '101-001-27332384-001', 'userID': 27332384, 'batchID': '1370', 'requestID': '43159473108272741', 'time': '2023-11-15T22:01:01.167429969Z', 'type': 'ORDER_CANCEL', 'orderID': '1370', 'reason': 'MARKET_HALTED'}, 'relatedTransactionIDs': ['1370', '1371'], 'lastTransactionID': '1371'}\n",
            "{'orderCreateTransaction': {'id': '1372', 'accountID': '101-001-27332384-001', 'userID': 27332384, 'batchID': '1372', 'requestID': '43159473108272742', 'time': '2023-11-15T22:01:01.167975914Z', 'type': 'MARKET_ORDER', 'instrument': 'NZD_JPY', 'units': '1992', 'timeInForce': 'FOK', 'positionFill': 'DEFAULT', 'takeProfitOnFill': {'price': '91.196', 'timeInForce': 'GTC'}, 'stopLossOnFill': {'price': '91.103', 'timeInForce': 'GTC', 'triggerMode': 'TOP_OF_BOOK'}, 'reason': 'CLIENT_ORDER'}, 'orderCancelTransaction': {'id': '1373', 'accountID': '101-001-27332384-001', 'userID': 27332384, 'batchID': '1372', 'requestID': '43159473108272742', 'time': '2023-11-15T22:01:01.167975914Z', 'type': 'ORDER_CANCEL', 'orderID': '1372', 'reason': 'MARKET_HALTED'}, 'relatedTransactionIDs': ['1372', '1373'], 'lastTransactionID': '1373'}\n"
          ]
        }
      ],
      "source": [
        "# for i in range (len(list_of_str_currency)):\n",
        "#     trading_job(currency_pairs[i],list_of_str_currency[i])\n",
        "\n",
        "scheduler = BlockingScheduler()\n",
        "for i in range (len(currency_pairs)):\n",
        "    scheduler.add_job(trading_job, 'cron', args = [currency_pairs[i],list_of_str_currency[i]], day_of_week='mon-fri', hour='00-23', minute='1,16,31,46', start_date='2022-01-12 12:00:00')\n",
        "scheduler.start()\n"
      ]
    },
    {
      "cell_type": "code",
      "execution_count": 10,
      "metadata": {},
      "outputs": [
        {
          "data": {
            "text/plain": [
              "-       9209\n",
              "Buy      397\n",
              "Sell     394\n",
              "Name: count, dtype: int64"
            ]
          },
          "execution_count": 10,
          "metadata": {},
          "output_type": "execute_result"
        }
      ],
      "source": [
        "da= pd.read_csv(\"EURUSD_Candlestick_5_M_ASK_30.09.2019-30.09.2022.csv\")\n",
        "da = da[:10000]\n",
        "signals = []\n",
        "\n",
        "for i in range(0, len(da)):\n",
        "    \n",
        "    block = da.iloc[i:i+15].copy()\n",
        "    calculate_vwap(block)\n",
        "    calculate_bollinger_bands(block)\n",
        "    calculate_rsi(block)\n",
        "    block = block.reset_index(drop=True)\n",
        "    if not block.empty:\n",
        "        signal = signal_generator(block)\n",
        "        signals.append(signal)\n",
        "x = pd.Series(signals)\n",
        "x.value_counts()\n",
        "\n"
      ]
    },
    {
      "cell_type": "code",
      "execution_count": 8,
      "metadata": {},
      "outputs": [],
      "source": [
        "#consider making 65 / 35 RSI + 1 and make above 70 / 30 as + 2 ssss"
      ]
    }
  ],
  "metadata": {
    "colab": {
      "provenance": []
    },
    "kernelspec": {
      "display_name": "Python 3.10.8 64-bit",
      "language": "python",
      "name": "python3"
    },
    "language_info": {
      "codemirror_mode": {
        "name": "ipython",
        "version": 3
      },
      "file_extension": ".py",
      "mimetype": "text/x-python",
      "name": "python",
      "nbconvert_exporter": "python",
      "pygments_lexer": "ipython3",
      "version": "3.10.11"
    },
    "vscode": {
      "interpreter": {
        "hash": "c0ff92a541b5eb8a0f75470c34280cf0dea79e8b819847822bd36e33345fddf3"
      }
    }
  },
  "nbformat": 4,
  "nbformat_minor": 0
}
