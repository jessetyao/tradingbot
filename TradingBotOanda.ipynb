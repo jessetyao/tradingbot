{
  "cells": [
    {
      "cell_type": "code",
      "execution_count": 1,
      "metadata": {
        "id": "HDUx5opJso4E",
        "outputId": "7690265c-ce95-4865-8cca-03d60c47da16"
      },
      "outputs": [],
      "source": [
        "from apscheduler.schedulers.blocking import BlockingScheduler\n",
        "from oandapyV20 import API\n",
        "import oandapyV20.endpoints.orders as orders\n",
        "from oandapyV20.contrib.requests import MarketOrderRequest\n",
        "from oanda_candles import Pair, Gran, CandleClient\n",
        "from oandapyV20.endpoints.instruments import InstrumentsCandles\n",
        "from oandapyV20.contrib.requests import TakeProfitDetails, StopLossDetails\n",
        "import talib\n",
        "import pandas_ta as ta\n",
        "import numpy as np\n",
        "import pandas as pd\n",
        "import random\n"
      ]
    },
    {
      "cell_type": "code",
      "execution_count": 2,
      "metadata": {
        "id": "oh6erbtQso4H"
      },
      "outputs": [],
      "source": [
        "def signal_generator(df):\n",
        "    vwap = df['VWAP']\n",
        "    rsi = df['RSI'].dropna()\n",
        "\n",
        "    close_price = df['Close']\n",
        "    upper_bb = df['UpperBB']\n",
        "    lower_bb = df['LowerBB']\n",
        "    average_rsi = rsi.mean()\n",
        "    bullish = True\n",
        "    bearish = True\n",
        "    sell_count = 0\n",
        "    buy_count = 0\n",
        "    #print(rsi.values)\n",
        "    vwap_threshold = 0.0004\n",
        "    for i in range(len(df)):\n",
        "        if max(df['Open'][i], df['Close'][i]) >= (1 + vwap_threshold) * df['VWAP'][i]:\n",
        "            bearish = False\n",
        "        if min(df['Open'][i], df['Close'][i]) <= (1 - vwap_threshold) * df['VWAP'][i]:\n",
        "            bullish = False\n",
        "\n",
        "    if bullish and bearish:\n",
        "        vwap_signal =  \"Neutral\"  # Neither Bullish nor Bearish\n",
        "    elif bullish:\n",
        "        vwap_signal =  \"Bullish\"\n",
        "        buy_count += 1\n",
        "    elif bearish:\n",
        "        vwap_signal =  \"Bearish\"\n",
        "        sell_count += 1\n",
        "    else:\n",
        "        vwap_signal =  \"Neutral\"\n",
        "\n",
        "    if average_rsi > 70:\n",
        "        rsi_signal = \"Overbought\"\n",
        "        sell_count += 1\n",
        "    elif average_rsi < 30:\n",
        "        rsi_signal = \"Oversold\"\n",
        "        buy_count += 1\n",
        "    else:\n",
        "        rsi_signal = \"Neutral\"\n",
        "        \n",
        "    bb_threshold = 0.2\n",
        "    overbought_signal = (df['Close'] > upper_bb).any()\n",
        "    oversold_signal = (df['Close'] < lower_bb).any()\n",
        "\n",
        "    if overbought_signal:\n",
        "        bb_signal = \"Overbought\"\n",
        "        sell_count += 1\n",
        "    elif oversold_signal:\n",
        "        bb_signal = \"Oversold\"\n",
        "        buy_count += 1\n",
        "    else:\n",
        "        bb_signal = \"Neutral\"\n",
        "\n",
        "    if buy_count >= 2:\n",
        "        #print(vwap_signal, rsi_signal, bb_signal )\n",
        "        return \"Buy\"\n",
        "    elif sell_count >= 2:\n",
        "        #print(vwap_signal, rsi_signal, bb_signal )\n",
        "        return \"Sell\"\n",
        "    else:\n",
        "        return \"-\"\n",
        "    \n"
      ]
    },
    {
      "cell_type": "markdown",
      "metadata": {
        "id": "beYcSPPWso4I"
      },
      "source": [
        "### 3 - Connect to the market and execute trades"
      ]
    },
    {
      "cell_type": "code",
      "execution_count": 3,
      "metadata": {
        "id": "ztFBEJacso4J",
        "outputId": "00070d9d-023c-48c4-da73-8eacf43674d4"
      },
      "outputs": [
        {
          "data": {
            "text/plain": [
              "[{'complete': True,\n",
              "  'volume': 108,\n",
              "  'time': '2023-11-16T23:30:00.000000000Z',\n",
              "  'mid': {'o': '1.08557', 'h': '1.08558', 'l': '1.08546', 'c': '1.08550'}},\n",
              " {'complete': True,\n",
              "  'volume': 105,\n",
              "  'time': '2023-11-16T23:45:00.000000000Z',\n",
              "  'mid': {'o': '1.08552', 'h': '1.08552', 'l': '1.08528', 'c': '1.08532'}},\n",
              " {'complete': False,\n",
              "  'volume': 119,\n",
              "  'time': '2023-11-17T00:00:00.000000000Z',\n",
              "  'mid': {'o': '1.08532', 'h': '1.08550', 'l': '1.08532', 'c': '1.08547'}}]"
            ]
          },
          "execution_count": 3,
          "metadata": {},
          "output_type": "execute_result"
        }
      ],
      "source": [
        "access_token= \"cd7e21b015cb734770f5fcfea9da9c9f-49a95de76ed5cab29ee0d33cee5f004d\"\n",
        "accountID = \"101-001-27332384-001\" #your account ID here\n",
        "list_of_currency = [Pair.EUR_USD, Pair.EUR_GBP, Pair.USD_JPY, Pair.AUD_USD, Pair.USD_CAD, Pair.CAD_JPY, Pair.NZD_USD]\n",
        "def get_candles(n, currency):\n",
        "    client = API(access_token)\n",
        "    request = InstrumentsCandles(instrument=currency, params={\"granularity\": Gran.M15, \"count\": n})\n",
        "    response = client.request(request)\n",
        "    candles = response['candles']\n",
        "    return candles\n",
        "\n",
        "candles = get_candles(3, Pair.EUR_USD)\n",
        "candles\n"
      ]
    },
    {
      "cell_type": "code",
      "execution_count": 4,
      "metadata": {},
      "outputs": [],
      "source": [
        "def calculate_vwap(data):\n",
        "    data['VWAP'] = (((data['High'] + data['Low'] + data['Close']) / 3) * data['Volume']).cumsum() / data['Volume'].cumsum()\n",
        "\n",
        "def calculate_bollinger_bands(data, std_dev=2):\n",
        "    data['SMA'] = data['Close'].mean()\n",
        "    std_dev_values = data['Close'].std()\n",
        "    data['UpperBB'] = data['SMA'] + (std_dev * std_dev_values)\n",
        "    data['LowerBB'] = data['SMA'] - (std_dev * std_dev_values)\n",
        "    \n",
        "def calculate_rsi(data):\n",
        "    data['RSI'] = talib.RSI(data['Close'])"
      ]
    },
    {
      "cell_type": "code",
      "execution_count": 5,
      "metadata": {
        "id": "YDvk2yOSso4J"
      },
      "outputs": [],
      "source": [
        "def trading_job(currency, string_currency):\n",
        "    candles = get_candles(15, currency)\n",
        "    dfstream = pd.DataFrame(columns=['Open','Close','High','Low', 'Volume'])\n",
        "    i=0\n",
        "\n",
        "    for candle in candles:\n",
        "        dfstream.loc[i, 'Open'] = float(candle['mid']['o'])\n",
        "        dfstream.loc[i, 'Close'] = float(candle['mid']['c'])\n",
        "        dfstream.loc[i, 'High'] = float(candle['mid']['h'])\n",
        "        dfstream.loc[i, 'Low'] = float(candle['mid']['l'])\n",
        "        dfstream.loc[i, 'Volume'] = float(candle['volume'])\n",
        "        i += 1\n",
        "\n",
        "    dfstream['Open'] = dfstream['Open'].astype(float)\n",
        "    dfstream['Close'] = dfstream['Close'].astype(float)\n",
        "    dfstream['High'] = dfstream['High'].astype(float)\n",
        "    dfstream['Low'] = dfstream['Low'].astype(float)\n",
        "    dfstream['Volume'] = dfstream['Volume'].astype(float)\n",
        "    calculate_vwap(dfstream)\n",
        "    calculate_bollinger_bands(dfstream)\n",
        "    calculate_rsi(dfstream)\n",
        "\n",
        "    #print(dfstream)\n",
        "    #print(dfstream)\n",
        "    signal = signal_generator(dfstream)#\n",
        "    # EXECUTING ORDERS\n",
        "    #print(\"signal: \" + str(signal))\n",
        "    client = API(access_token)\n",
        "\n",
        "    SLTPRatio = 2.\n",
        "    previous_candleR = abs(dfstream['High'].iloc[-2]-dfstream['Low'].iloc[-2])\n",
        "\n",
        "    SLBuy = float(str(candle['mid']['o']))-previous_candleR\n",
        "    SLSell = float(str(candle['mid']['o']))+previous_candleR\n",
        "\n",
        "    TPBuy = float(str(candle['mid']['o']))+previous_candleR*SLTPRatio\n",
        "    TPSell = float(str(candle['mid']['o']))-previous_candleR*SLTPRatio\n",
        "\n",
        "    #print(dfstream.iloc[:-1,:])\n",
        "    #print(TPBuy, \"  \", SLBuy, \"  \", TPSell, \"  \", SLSell)\n",
        "    #signal = 2\n",
        "    #Sell\n",
        "    if signal == \"Sell\":\n",
        "        random_integer = random.randint(-100, 100)\n",
        "        mo = MarketOrderRequest(instrument=string_currency, units=-2000 + random_integer, takeProfitOnFill=TakeProfitDetails(price=TPSell).data, stopLossOnFill=StopLossDetails(price=SLSell).data)\n",
        "        r = orders.OrderCreate(accountID, data=mo.data)\n",
        "        rv = client.request(r)\n",
        "        print(rv)\n",
        "    #Buy\n",
        "    elif signal == \"Buy\":\n",
        "        random_integer = random.randint(-100, 100)\n",
        "        mo = MarketOrderRequest(instrument=string_currency, units=2000 + random_integer, takeProfitOnFill=TakeProfitDetails(price=TPBuy).data, stopLossOnFill=StopLossDetails(price=SLBuy).data)\n",
        "        r = orders.OrderCreate(accountID, data=mo.data)\n",
        "        rv = client.request(r)\n",
        "        print(rv)"
      ]
    },
    {
      "cell_type": "code",
      "execution_count": 6,
      "metadata": {},
      "outputs": [],
      "source": [
        "\n",
        "currency_pairs = [Pair.AUD_CAD, Pair.AUD_JPY, Pair.AUD_NZD, Pair.AUD_USD,\n",
        "    Pair.CAD_CHF, Pair.CAD_JPY,\n",
        "    Pair.EUR_AUD, Pair.EUR_CAD, Pair.EUR_CHF, Pair.EUR_GBP, Pair.EUR_JPY, Pair.EUR_NZD, Pair.EUR_USD,\n",
        "    Pair.GBP_AUD, Pair.GBP_CAD, Pair.GBP_CHF, Pair.GBP_JPY, Pair.GBP_NZD, Pair.GBP_USD,\n",
        "    Pair.NZD_CAD, Pair.NZD_CHF, Pair.NZD_JPY, Pair.NZD_USD,\n",
        "    Pair.USD_CAD, Pair.USD_CHF, Pair.USD_JPY]\n",
        "\n",
        "list_of_str_currency = [\"AUD_CAD\", \"AUD_JPY\", \"AUD_NZD\", \"AUD_USD\",\n",
        "    \"CAD_CHF\", \"CAD_JPY\",\n",
        "    \"EUR_AUD\", \"EUR_CAD\", \"EUR_CHF\", \"EUR_GBP\", \"EUR_JPY\", \"EUR_NZD\", \"EUR_USD\",\n",
        "    \"GBP_AUD\", \"GBP_CAD\", \"GBP_CHF\", \"GBP_JPY\", \"GBP_NZD\", \"GBP_USD\",\n",
        "    \"NZD_CAD\", \"NZD_CHF\", \"NZD_JPY\", \"NZD_USD\",\n",
        "    \"USD_CAD\", \"USD_CHF\", \"USD_JPY\"]\n"
      ]
    },
    {
      "cell_type": "code",
      "execution_count": 7,
      "metadata": {
        "id": "SgGFrNvOso4K"
      },
      "outputs": [
        {
          "name": "stdout",
          "output_type": "stream",
          "text": [
            "{'orderCreateTransaction': {'id': '1394', 'accountID': '101-001-27332384-001', 'userID': 27332384, 'batchID': '1394', 'requestID': '61174267976947490', 'time': '2023-11-17T00:16:00.407354877Z', 'type': 'MARKET_ORDER', 'instrument': 'EUR_USD', 'units': '1909', 'timeInForce': 'FOK', 'positionFill': 'DEFAULT', 'takeProfitOnFill': {'price': '1.08600', 'timeInForce': 'GTC'}, 'stopLossOnFill': {'price': '1.08504', 'timeInForce': 'GTC', 'triggerMode': 'TOP_OF_BOOK'}, 'reason': 'CLIENT_ORDER'}, 'orderFillTransaction': {'id': '1395', 'accountID': '101-001-27332384-001', 'userID': 27332384, 'batchID': '1394', 'requestID': '61174267976947490', 'time': '2023-11-17T00:16:00.407354877Z', 'type': 'ORDER_FILL', 'orderID': '1394', 'instrument': 'EUR_USD', 'units': '1909', 'requestedUnits': '1909', 'price': '1.08530', 'pl': '0.0000', 'quotePL': '0', 'financing': '0.0000', 'baseFinancing': '0', 'commission': '0.0000', 'accountBalance': '99847.2197', 'gainQuoteHomeConversionFactor': '1', 'lossQuoteHomeConversionFactor': '1', 'guaranteedExecutionFee': '0.0000', 'quoteGuaranteedExecutionFee': '0', 'halfSpreadCost': '0.1623', 'fullVWAP': '1.08530', 'reason': 'MARKET_ORDER', 'tradeOpened': {'price': '1.08530', 'tradeID': '1395', 'units': '1909', 'guaranteedExecutionFee': '0.0000', 'quoteGuaranteedExecutionFee': '0', 'halfSpreadCost': '0.1623', 'initialMarginRequired': '41.4337'}, 'fullPrice': {'closeoutBid': '1.08513', 'closeoutAsk': '1.08530', 'timestamp': '2023-11-17T00:15:45.228183287Z', 'bids': [{'price': '1.08513', 'liquidity': '10000000'}], 'asks': [{'price': '1.08530', 'liquidity': '10000000'}]}, 'homeConversionFactors': {'gainQuoteHome': {'factor': '1'}, 'lossQuoteHome': {'factor': '1'}, 'gainBaseHome': {'factor': '1.07979390'}, 'lossBaseHome': {'factor': '1.09064610'}}}, 'relatedTransactionIDs': ['1394', '1395', '1396', '1397'], 'lastTransactionID': '1397'}\n",
            "{'orderCreateTransaction': {'id': '1398', 'accountID': '101-001-27332384-001', 'userID': 27332384, 'batchID': '1398', 'requestID': '79188666485309400', 'time': '2023-11-17T00:16:00.443833255Z', 'type': 'MARKET_ORDER', 'instrument': 'USD_CHF', 'units': '-1989', 'timeInForce': 'FOK', 'positionFill': 'DEFAULT', 'takeProfitOnFill': {'price': '0.88780', 'timeInForce': 'GTC'}, 'stopLossOnFill': {'price': '0.88867', 'timeInForce': 'GTC', 'triggerMode': 'TOP_OF_BOOK'}, 'reason': 'CLIENT_ORDER'}, 'orderFillTransaction': {'id': '1399', 'accountID': '101-001-27332384-001', 'userID': 27332384, 'batchID': '1398', 'requestID': '79188666485309400', 'time': '2023-11-17T00:16:00.443833255Z', 'type': 'ORDER_FILL', 'orderID': '1398', 'instrument': 'USD_CHF', 'units': '-1989', 'requestedUnits': '-1989', 'price': '0.88839', 'pl': '0.0000', 'quotePL': '0', 'financing': '0.0000', 'baseFinancing': '0', 'commission': '0.0000', 'accountBalance': '99847.2197', 'gainQuoteHomeConversionFactor': '1.11989016096', 'lossQuoteHomeConversionFactor': '1.131145338457', 'guaranteedExecutionFee': '0.0000', 'quoteGuaranteedExecutionFee': '0', 'halfSpreadCost': '0.2127', 'fullVWAP': '0.88839', 'reason': 'MARKET_ORDER', 'tradeOpened': {'price': '0.88839', 'tradeID': '1399', 'units': '-1989', 'guaranteedExecutionFee': '0.0000', 'quoteGuaranteedExecutionFee': '0', 'halfSpreadCost': '0.2127', 'initialMarginRequired': '79.5600'}, 'fullPrice': {'closeoutBid': '0.88839', 'closeoutAsk': '0.88858', 'timestamp': '2023-11-17T00:15:56.142225510Z', 'bids': [{'price': '0.88839', 'liquidity': '10000000'}], 'asks': [{'price': '0.88858', 'liquidity': '10000000'}]}, 'homeConversionFactors': {'gainQuoteHome': {'factor': '1.11989016095995'}, 'lossQuoteHome': {'factor': '1.13114533845703'}, 'gainBaseHome': {'factor': '1'}, 'lossBaseHome': {'factor': '1'}}}, 'relatedTransactionIDs': ['1398', '1399', '1400', '1401'], 'lastTransactionID': '1401'}\n",
            "{'orderCreateTransaction': {'id': '1402', 'accountID': '101-001-27332384-001', 'userID': 27332384, 'batchID': '1402', 'requestID': '79188666485309595', 'time': '2023-11-17T00:16:00.605290722Z', 'type': 'MARKET_ORDER', 'instrument': 'GBP_USD', 'units': '2028', 'timeInForce': 'FOK', 'positionFill': 'DEFAULT', 'takeProfitOnFill': {'price': '1.24205', 'timeInForce': 'GTC'}, 'stopLossOnFill': {'price': '1.24115', 'timeInForce': 'GTC', 'triggerMode': 'TOP_OF_BOOK'}, 'reason': 'CLIENT_ORDER'}, 'orderFillTransaction': {'id': '1403', 'accountID': '101-001-27332384-001', 'userID': 27332384, 'batchID': '1402', 'requestID': '79188666485309595', 'time': '2023-11-17T00:16:00.605290722Z', 'type': 'ORDER_FILL', 'orderID': '1402', 'instrument': 'GBP_USD', 'units': '2028', 'requestedUnits': '2028', 'price': '1.24144', 'pl': '0.0000', 'quotePL': '0', 'financing': '0.0000', 'baseFinancing': '0', 'commission': '0.0000', 'accountBalance': '99847.2197', 'gainQuoteHomeConversionFactor': '1', 'lossQuoteHomeConversionFactor': '1', 'guaranteedExecutionFee': '0.0000', 'quoteGuaranteedExecutionFee': '0', 'halfSpreadCost': '0.1927', 'fullVWAP': '1.24144', 'reason': 'MARKET_ORDER', 'tradeOpened': {'price': '1.24144', 'tradeID': '1403', 'units': '2028', 'guaranteedExecutionFee': '0.0000', 'quoteGuaranteedExecutionFee': '0', 'halfSpreadCost': '0.1927', 'initialMarginRequired': '125.8719'}, 'fullPrice': {'closeoutBid': '1.24125', 'closeoutAsk': '1.24144', 'timestamp': '2023-11-17T00:16:00.192650304Z', 'bids': [{'price': '1.24125', 'liquidity': '10000000'}], 'asks': [{'price': '1.24144', 'liquidity': '10000000'}]}, 'homeConversionFactors': {'gainQuoteHome': {'factor': '1'}, 'lossQuoteHome': {'factor': '1'}, 'gainBaseHome': {'factor': '1.23513330'}, 'lossBaseHome': {'factor': '1.24754670'}}}, 'relatedTransactionIDs': ['1402', '1403', '1404', '1405'], 'lastTransactionID': '1405'}\n",
            "{'orderCreateTransaction': {'id': '1406', 'accountID': '101-001-27332384-001', 'userID': 27332384, 'batchID': '1406', 'requestID': '25145470958042750', 'time': '2023-11-17T00:16:00.774465435Z', 'type': 'MARKET_ORDER', 'instrument': 'USD_CAD', 'units': '-1985', 'timeInForce': 'FOK', 'positionFill': 'DEFAULT', 'takeProfitOnFill': {'price': '1.37450', 'timeInForce': 'GTC'}, 'stopLossOnFill': {'price': '1.37591', 'timeInForce': 'GTC', 'triggerMode': 'TOP_OF_BOOK'}, 'reason': 'CLIENT_ORDER'}, 'orderFillTransaction': {'id': '1407', 'accountID': '101-001-27332384-001', 'userID': 27332384, 'batchID': '1406', 'requestID': '25145470958042750', 'time': '2023-11-17T00:16:00.774465435Z', 'type': 'ORDER_FILL', 'orderID': '1406', 'instrument': 'USD_CAD', 'units': '-1985', 'requestedUnits': '-1985', 'price': '1.37545', 'pl': '0.0000', 'quotePL': '0', 'financing': '0.0000', 'baseFinancing': '0', 'commission': '0.0000', 'accountBalance': '99847.2197', 'gainQuoteHomeConversionFactor': '0.723354915578', 'lossQuoteHomeConversionFactor': '0.730624814227', 'guaranteedExecutionFee': '0.0000', 'quoteGuaranteedExecutionFee': '0', 'halfSpreadCost': '0.1227', 'fullVWAP': '1.37545', 'reason': 'MARKET_ORDER', 'tradeOpened': {'price': '1.37545', 'tradeID': '1407', 'units': '-1985', 'guaranteedExecutionFee': '0.0000', 'quoteGuaranteedExecutionFee': '0', 'halfSpreadCost': '0.1227', 'initialMarginRequired': '39.7000'}, 'fullPrice': {'closeoutBid': '1.37545', 'closeoutAsk': '1.37562', 'timestamp': '2023-11-17T00:15:53.998554973Z', 'bids': [{'price': '1.37545', 'liquidity': '10000000'}], 'asks': [{'price': '1.37562', 'liquidity': '10000000'}]}, 'homeConversionFactors': {'gainQuoteHome': {'factor': '0.72335491557789'}, 'lossQuoteHome': {'factor': '0.73062481422691'}, 'gainBaseHome': {'factor': '1'}, 'lossBaseHome': {'factor': '1'}}}, 'relatedTransactionIDs': ['1406', '1407', '1408', '1409'], 'lastTransactionID': '1409'}\n",
            "{'orderCreateTransaction': {'id': '1418', 'accountID': '101-001-27332384-001', 'userID': 27332384, 'batchID': '1418', 'requestID': '61174271752716941', 'time': '2023-11-17T00:31:00.821100633Z', 'type': 'MARKET_ORDER', 'instrument': 'USD_CAD', 'units': '-1981', 'timeInForce': 'FOK', 'positionFill': 'DEFAULT', 'takeProfitOnFill': {'price': '1.37486', 'timeInForce': 'GTC'}, 'stopLossOnFill': {'price': '1.37600', 'timeInForce': 'GTC', 'triggerMode': 'TOP_OF_BOOK'}, 'reason': 'CLIENT_ORDER'}, 'orderFillTransaction': {'id': '1419', 'accountID': '101-001-27332384-001', 'userID': 27332384, 'batchID': '1418', 'requestID': '61174271752716941', 'time': '2023-11-17T00:31:00.821100633Z', 'type': 'ORDER_FILL', 'orderID': '1418', 'instrument': 'USD_CAD', 'units': '-1981', 'requestedUnits': '-1981', 'price': '1.37545', 'pl': '0.0000', 'quotePL': '0', 'financing': '0.0000', 'baseFinancing': '0', 'commission': '0.0000', 'accountBalance': '99844.7934', 'gainQuoteHomeConversionFactor': '0.723349657587', 'lossQuoteHomeConversionFactor': '0.730619503392', 'guaranteedExecutionFee': '0.0000', 'quoteGuaranteedExecutionFee': '0', 'halfSpreadCost': '0.1368', 'fullVWAP': '1.37545', 'reason': 'MARKET_ORDER', 'tradeOpened': {'price': '1.37545', 'tradeID': '1419', 'units': '-1981', 'guaranteedExecutionFee': '0.0000', 'quoteGuaranteedExecutionFee': '0', 'halfSpreadCost': '0.1368', 'initialMarginRequired': '39.6200'}, 'fullPrice': {'closeoutBid': '1.37545', 'closeoutAsk': '1.37564', 'timestamp': '2023-11-17T00:30:57.422727041Z', 'bids': [{'price': '1.37545', 'liquidity': '10000000'}], 'asks': [{'price': '1.37564', 'liquidity': '10000000'}]}, 'homeConversionFactors': {'gainQuoteHome': {'factor': '0.72334965758730'}, 'lossQuoteHome': {'factor': '0.73061950339220'}, 'gainBaseHome': {'factor': '1'}, 'lossBaseHome': {'factor': '1'}}}, 'relatedTransactionIDs': ['1418', '1419', '1420', '1421'], 'lastTransactionID': '1421'}\n",
            "{'orderCreateTransaction': {'id': '1422', 'accountID': '101-001-27332384-001', 'userID': 27332384, 'batchID': '1422', 'requestID': '79188681584480757', 'time': '2023-11-17T01:16:00.654569960Z', 'type': 'MARKET_ORDER', 'instrument': 'AUD_JPY', 'units': '2047', 'timeInForce': 'FOK', 'positionFill': 'DEFAULT', 'takeProfitOnFill': {'price': '97.510', 'timeInForce': 'GTC'}, 'stopLossOnFill': {'price': '97.318', 'timeInForce': 'GTC', 'triggerMode': 'TOP_OF_BOOK'}, 'reason': 'CLIENT_ORDER'}, 'orderFillTransaction': {'id': '1423', 'accountID': '101-001-27332384-001', 'userID': 27332384, 'batchID': '1422', 'requestID': '79188681584480757', 'time': '2023-11-17T01:16:00.654569960Z', 'type': 'ORDER_FILL', 'orderID': '1422', 'instrument': 'AUD_JPY', 'units': '2047', 'requestedUnits': '2047', 'price': '97.349', 'pl': '0.0000', 'quotePL': '0', 'financing': '0.0000', 'baseFinancing': '0', 'commission': '0.0000', 'accountBalance': '99844.7934', 'gainQuoteHomeConversionFactor': '0.006607717437', 'lossQuoteHomeConversionFactor': '0.006674126657', 'guaranteedExecutionFee': '0.0000', 'quoteGuaranteedExecutionFee': '0', 'halfSpreadCost': '0.1563', 'fullVWAP': '97.349', 'reason': 'MARKET_ORDER', 'tradeOpened': {'price': '97.349', 'tradeID': '1423', 'units': '2047', 'guaranteedExecutionFee': '0.0000', 'quoteGuaranteedExecutionFee': '0', 'halfSpreadCost': '0.1563', 'initialMarginRequired': '66.1590'}, 'fullPrice': {'closeoutBid': '97.326', 'closeoutAsk': '97.349', 'timestamp': '2023-11-17T01:15:59.383114276Z', 'bids': [{'price': '97.326', 'liquidity': '5000000'}], 'asks': [{'price': '97.349', 'liquidity': '5000000'}]}, 'homeConversionFactors': {'gainQuoteHome': {'factor': '0.00660771743655'}, 'lossQuoteHome': {'factor': '0.00667412665701'}, 'gainBaseHome': {'factor': '0.64316800'}, 'lossBaseHome': {'factor': '0.64963200'}}}, 'relatedTransactionIDs': ['1422', '1423', '1424', '1425'], 'lastTransactionID': '1425'}\n",
            "{'orderCreateTransaction': {'id': '1426', 'accountID': '101-001-27332384-001', 'userID': 27332384, 'batchID': '1426', 'requestID': '79188681584480910', 'time': '2023-11-17T01:16:00.799727528Z', 'type': 'MARKET_ORDER', 'instrument': 'NZD_JPY', 'units': '2007', 'timeInForce': 'FOK', 'positionFill': 'DEFAULT', 'takeProfitOnFill': {'price': '89.949', 'timeInForce': 'GTC'}, 'stopLossOnFill': {'price': '89.685', 'timeInForce': 'GTC', 'triggerMode': 'TOP_OF_BOOK'}, 'reason': 'CLIENT_ORDER'}, 'orderFillTransaction': {'id': '1427', 'accountID': '101-001-27332384-001', 'userID': 27332384, 'batchID': '1426', 'requestID': '79188681584480910', 'time': '2023-11-17T01:16:00.799727528Z', 'type': 'ORDER_FILL', 'orderID': '1426', 'instrument': 'NZD_JPY', 'units': '2007', 'requestedUnits': '2007', 'price': '89.750', 'pl': '0.0000', 'quotePL': '0', 'financing': '0.0000', 'baseFinancing': '0', 'commission': '0.0000', 'accountBalance': '99844.7934', 'gainQuoteHomeConversionFactor': '0.006607695494', 'lossQuoteHomeConversionFactor': '0.006674104493', 'guaranteedExecutionFee': '0.0000', 'quoteGuaranteedExecutionFee': '0', 'halfSpreadCost': '0.2332', 'fullVWAP': '89.750', 'reason': 'MARKET_ORDER', 'tradeOpened': {'price': '89.750', 'tradeID': '1427', 'units': '2007', 'guaranteedExecutionFee': '0.0000', 'quoteGuaranteedExecutionFee': '0', 'halfSpreadCost': '0.2332', 'initialMarginRequired': '59.7976'}, 'fullPrice': {'closeoutBid': '89.715', 'closeoutAsk': '89.750', 'timestamp': '2023-11-17T01:16:00.754668400Z', 'bids': [{'price': '89.715', 'liquidity': '5000000'}], 'asks': [{'price': '89.750', 'liquidity': '5000000'}]}, 'homeConversionFactors': {'gainQuoteHome': {'factor': '0.00660769549354'}, 'lossQuoteHome': {'factor': '0.00667410449348'}, 'gainBaseHome': {'factor': '0.59291055'}, 'lossBaseHome': {'factor': '0.59886945'}}}, 'relatedTransactionIDs': ['1426', '1427', '1428', '1429'], 'lastTransactionID': '1429'}\n",
            "{'orderCreateTransaction': {'id': '1432', 'accountID': '101-001-27332384-001', 'userID': 27332384, 'batchID': '1432', 'requestID': '43159888341720248', 'time': '2023-11-17T01:31:00.664450232Z', 'type': 'MARKET_ORDER', 'instrument': 'EUR_GBP', 'units': '2067', 'timeInForce': 'FOK', 'positionFill': 'DEFAULT', 'takeProfitOnFill': {'price': '0.87424', 'timeInForce': 'GTC'}, 'stopLossOnFill': {'price': '0.87394', 'timeInForce': 'GTC', 'triggerMode': 'TOP_OF_BOOK'}, 'reason': 'CLIENT_ORDER'}, 'orderFillTransaction': {'id': '1433', 'accountID': '101-001-27332384-001', 'userID': 27332384, 'batchID': '1432', 'requestID': '43159888341720248', 'time': '2023-11-17T01:31:00.664450232Z', 'type': 'ORDER_FILL', 'orderID': '1432', 'instrument': 'EUR_GBP', 'units': '2067', 'requestedUnits': '2067', 'price': '0.87410', 'pl': '0.0000', 'quotePL': '0', 'financing': '0.0000', 'baseFinancing': '0', 'commission': '0.0000', 'accountBalance': '99844.3699', 'gainQuoteHomeConversionFactor': '1.23552135', 'lossQuoteHomeConversionFactor': '1.24793865', 'guaranteedExecutionFee': '0.0000', 'quoteGuaranteedExecutionFee': '0', 'halfSpreadCost': '0.1797', 'fullVWAP': '0.87410', 'reason': 'MARKET_ORDER', 'tradeOpened': {'price': '0.87410', 'tradeID': '1433', 'units': '2067', 'guaranteedExecutionFee': '0.0000', 'quoteGuaranteedExecutionFee': '0', 'halfSpreadCost': '0.1797', 'initialMarginRequired': '112.1678'}, 'fullPrice': {'closeoutBid': '0.87396', 'closeoutAsk': '0.87410', 'timestamp': '2023-11-17T01:30:54.619775791Z', 'bids': [{'price': '0.87396', 'liquidity': '10000000'}], 'asks': [{'price': '0.87410', 'liquidity': '10000000'}]}, 'homeConversionFactors': {'gainQuoteHome': {'factor': '1.23552135'}, 'lossQuoteHome': {'factor': '1.24793865'}, 'gainBaseHome': {'factor': '1.07989340'}, 'lossBaseHome': {'factor': '1.09074660'}}}, 'relatedTransactionIDs': ['1432', '1433', '1434', '1435'], 'lastTransactionID': '1435'}\n",
            "{'orderCreateTransaction': {'id': '1440', 'accountID': '101-001-27332384-001', 'userID': 27332384, 'batchID': '1440', 'requestID': '79188692907856854', 'time': '2023-11-17T02:01:00.459499023Z', 'type': 'MARKET_ORDER', 'instrument': 'NZD_CHF', 'units': '-2067', 'timeInForce': 'FOK', 'positionFill': 'DEFAULT', 'takeProfitOnFill': {'price': '0.52848', 'timeInForce': 'GTC'}, 'stopLossOnFill': {'price': '0.52989', 'timeInForce': 'GTC', 'triggerMode': 'TOP_OF_BOOK'}, 'reason': 'CLIENT_ORDER'}, 'orderFillTransaction': {'id': '1441', 'accountID': '101-001-27332384-001', 'userID': 27332384, 'batchID': '1440', 'requestID': '79188692907856854', 'time': '2023-11-17T02:01:00.459499023Z', 'type': 'ORDER_FILL', 'orderID': '1440', 'instrument': 'NZD_CHF', 'units': '-2067', 'requestedUnits': '-2067', 'price': '0.52925', 'pl': '0.0000', 'quotePL': '0', 'financing': '0.0000', 'baseFinancing': '0', 'commission': '0.0000', 'accountBalance': '99843.8568', 'gainQuoteHomeConversionFactor': '1.119398796292', 'lossQuoteHomeConversionFactor': '1.13064903545', 'guaranteedExecutionFee': '0.0000', 'quoteGuaranteedExecutionFee': '0', 'halfSpreadCost': '0.4535', 'fullVWAP': '0.52925', 'reason': 'MARKET_ORDER', 'tradeOpened': {'price': '0.52925', 'tradeID': '1441', 'units': '-2067', 'guaranteedExecutionFee': '0.0000', 'quoteGuaranteedExecutionFee': '0', 'halfSpreadCost': '0.4535', 'initialMarginRequired': '49.2459'}, 'fullPrice': {'closeoutBid': '0.52925', 'closeoutAsk': '0.52964', 'timestamp': '2023-11-17T02:01:00.269144331Z', 'bids': [{'price': '0.52925', 'liquidity': '10000000'}], 'asks': [{'price': '0.52964', 'liquidity': '10000000'}]}, 'homeConversionFactors': {'gainQuoteHome': {'factor': '1.11939879629174'}, 'lossQuoteHome': {'factor': '1.13064903545046'}, 'gainBaseHome': {'factor': '0.59264190'}, 'lossBaseHome': {'factor': '0.59859810'}}}, 'relatedTransactionIDs': ['1440', '1441', '1442', '1443'], 'lastTransactionID': '1443'}\n",
            "{'orderCreateTransaction': {'id': '1452', 'accountID': '101-001-27332384-001', 'userID': 27332384, 'batchID': '1452', 'requestID': '61174298174874268', 'time': '2023-11-17T02:16:00.428623100Z', 'type': 'MARKET_ORDER', 'instrument': 'NZD_CHF', 'units': '-1925', 'timeInForce': 'FOK', 'positionFill': 'DEFAULT', 'takeProfitOnFill': {'price': '0.52832', 'timeInForce': 'GTC'}, 'stopLossOnFill': {'price': '0.52988', 'timeInForce': 'GTC', 'triggerMode': 'TOP_OF_BOOK'}, 'reason': 'CLIENT_ORDER'}, 'orderFillTransaction': {'id': '1453', 'accountID': '101-001-27332384-001', 'userID': 27332384, 'batchID': '1452', 'requestID': '61174298174874268', 'time': '2023-11-17T02:16:00.428623100Z', 'type': 'ORDER_FILL', 'orderID': '1452', 'instrument': 'NZD_CHF', 'units': '-1925', 'requestedUnits': '-1925', 'price': '0.52917', 'pl': '0.0000', 'quotePL': '0', 'financing': '0.0000', 'baseFinancing': '0', 'commission': '0.0000', 'accountBalance': '99843.1598', 'gainQuoteHomeConversionFactor': '1.119417683785', 'lossQuoteHomeConversionFactor': '1.130668112768', 'guaranteedExecutionFee': '0.0000', 'quoteGuaranteedExecutionFee': '0', 'halfSpreadCost': '0.3898', 'fullVWAP': '0.52917', 'reason': 'MARKET_ORDER', 'tradeOpened': {'price': '0.52917', 'tradeID': '1453', 'units': '-1925', 'guaranteedExecutionFee': '0.0000', 'quoteGuaranteedExecutionFee': '0', 'halfSpreadCost': '0.3898', 'initialMarginRequired': '45.8566'}, 'fullPrice': {'closeoutBid': '0.52917', 'closeoutAsk': '0.52953', 'timestamp': '2023-11-17T02:15:58.849853770Z', 'bids': [{'price': '0.52917', 'liquidity': '10000000'}], 'asks': [{'price': '0.52953', 'liquidity': '10000000'}]}, 'homeConversionFactors': {'gainQuoteHome': {'factor': '1.11941768378525'}, 'lossQuoteHome': {'factor': '1.13066811276801'}, 'gainBaseHome': {'factor': '0.59256230'}, 'lossBaseHome': {'factor': '0.59851770'}}}, 'relatedTransactionIDs': ['1452', '1453', '1454', '1455'], 'lastTransactionID': '1455'}{'orderCreateTransaction': {'id': '1448', 'accountID': '101-001-27332384-001', 'userID': 27332384, 'batchID': '1448', 'requestID': '79188696683744735', 'time': '2023-11-17T02:16:00.425911598Z', 'type': 'MARKET_ORDER', 'instrument': 'GBP_JPY', 'units': '1968', 'timeInForce': 'FOK', 'positionFill': 'DEFAULT', 'takeProfitOnFill': {'price': '187.134', 'timeInForce': 'GTC'}, 'stopLossOnFill': {'price': '186.711', 'timeInForce': 'GTC', 'triggerMode': 'TOP_OF_BOOK'}, 'reason': 'CLIENT_ORDER'}, 'orderFillTransaction': {'id': '1449', 'accountID': '101-001-27332384-001', 'userID': 27332384, 'batchID': '1448', 'requestID': '79188696683744735', 'time': '2023-11-17T02:16:00.425911598Z', 'type': 'ORDER_FILL', 'orderID': '1448', 'instrument': 'GBP_JPY', 'units': '1968', 'requestedUnits': '1968', 'price': '186.869', 'pl': '0.0000', 'quotePL': '0', 'financing': '0.0000', 'baseFinancing': '0', 'commission': '0.0000', 'accountBalance': '99843.1598', 'gainQuoteHomeConversionFactor': '0.006609341445', 'lossQuoteHomeConversionFactor': '0.006675766987', 'guaranteedExecutionFee': '0.0000', 'quoteGuaranteedExecutionFee': '0', 'halfSpreadCost': '0.2549', 'fullVWAP': '186.869', 'reason': 'MARKET_ORDER', 'tradeOpened': {'price': '186.869', 'tradeID': '1449', 'units': '1968', 'guaranteedExecutionFee': '0.0000', 'quoteGuaranteedExecutionFee': '0', 'halfSpreadCost': '0.2549', 'initialMarginRequired': '122.1282'}, 'fullPrice': {'closeoutBid': '186.830', 'closeoutAsk': '186.869', 'timestamp': '2023-11-17T02:16:00.175965142Z', 'bids': [{'price': '186.830', 'liquidity': '10000000'}], 'asks': [{'price': '186.869', 'liquidity': '10000000'}]}, 'homeConversionFactors': {'gainQuoteHome': {'factor': '0.00660934144504'}, 'lossQuoteHome': {'factor': '0.00667576698720'}, 'gainBaseHome': {'factor': '1.23493430'}, 'lossBaseHome': {'factor': '1.24734570'}}}, 'relatedTransactionIDs': ['1448', '1449', '1450', '1451'], 'lastTransactionID': '1451'}\n",
            "\n",
            "{'orderCreateTransaction': {'id': '1456', 'accountID': '101-001-27332384-001', 'userID': 27332384, 'batchID': '1456', 'requestID': '79188700459619300', 'time': '2023-11-17T02:31:00.445225692Z', 'type': 'MARKET_ORDER', 'instrument': 'GBP_JPY', 'units': '1946', 'timeInForce': 'FOK', 'positionFill': 'DEFAULT', 'takeProfitOnFill': {'price': '186.923', 'timeInForce': 'GTC'}, 'stopLossOnFill': {'price': '186.713', 'timeInForce': 'GTC', 'triggerMode': 'TOP_OF_BOOK'}, 'reason': 'CLIENT_ORDER'}, 'orderFillTransaction': {'id': '1457', 'accountID': '101-001-27332384-001', 'userID': 27332384, 'batchID': '1456', 'requestID': '79188700459619300', 'time': '2023-11-17T02:31:00.445225692Z', 'type': 'ORDER_FILL', 'orderID': '1456', 'instrument': 'GBP_JPY', 'units': '1946', 'requestedUnits': '1946', 'price': '186.772', 'pl': '0.0000', 'quotePL': '0', 'financing': '0.0000', 'baseFinancing': '0', 'commission': '0.0000', 'accountBalance': '99843.1598', 'gainQuoteHomeConversionFactor': '0.006611778953', 'lossQuoteHomeConversionFactor': '0.006678228992', 'guaranteedExecutionFee': '0.0000', 'quoteGuaranteedExecutionFee': '0', 'halfSpreadCost': '0.2651', 'fullVWAP': '186.772', 'reason': 'MARKET_ORDER', 'tradeOpened': {'price': '186.772', 'tradeID': '1457', 'units': '1946', 'guaranteedExecutionFee': '0.0000', 'quoteGuaranteedExecutionFee': '0', 'halfSpreadCost': '0.2651', 'initialMarginRequired': '120.7444'}, 'fullPrice': {'closeoutBid': '186.731', 'closeoutAsk': '186.772', 'timestamp': '2023-11-17T02:30:59.821252930Z', 'bids': [{'price': '186.731', 'liquidity': '10000000'}], 'asks': [{'price': '186.772', 'liquidity': '10000000'}]}, 'homeConversionFactors': {'gainQuoteHome': {'factor': '0.00661177895270'}, 'lossQuoteHome': {'factor': '0.00667822899242'}, 'gainBaseHome': {'factor': '1.23474525'}, 'lossBaseHome': {'factor': '1.24715475'}}}, 'relatedTransactionIDs': ['1456', '1457', '1458', '1459'], 'lastTransactionID': '1459'}\n",
            "{'orderCreateTransaction': {'id': '1460', 'accountID': '101-001-27332384-001', 'userID': 27332384, 'batchID': '1460', 'requestID': '79188700459619739', 'time': '2023-11-17T02:31:00.819632839Z', 'type': 'MARKET_ORDER', 'instrument': 'AUD_NZD', 'units': '-1913', 'timeInForce': 'FOK', 'positionFill': 'DEFAULT', 'takeProfitOnFill': {'price': '1.08400', 'timeInForce': 'GTC'}, 'stopLossOnFill': {'price': '1.08616', 'timeInForce': 'GTC', 'triggerMode': 'TOP_OF_BOOK'}, 'reason': 'CLIENT_ORDER'}, 'orderFillTransaction': {'id': '1461', 'accountID': '101-001-27332384-001', 'userID': 27332384, 'batchID': '1460', 'requestID': '79188700459619739', 'time': '2023-11-17T02:31:00.819632839Z', 'type': 'ORDER_FILL', 'orderID': '1460', 'instrument': 'AUD_NZD', 'units': '-1913', 'requestedUnits': '-1913', 'price': '1.08553', 'pl': '0.0000', 'quotePL': '0', 'financing': '0.0000', 'baseFinancing': '0', 'commission': '0.0000', 'accountBalance': '99843.1598', 'gainQuoteHomeConversionFactor': '0.59235335', 'lossQuoteHomeConversionFactor': '0.59830665', 'guaranteedExecutionFee': '0.0000', 'quoteGuaranteedExecutionFee': '0', 'halfSpreadCost': '0.2050', 'fullVWAP': '1.08553', 'reason': 'MARKET_ORDER', 'tradeOpened': {'price': '1.08553', 'tradeID': '1461', 'units': '-1913', 'guaranteedExecutionFee': '0.0000', 'quoteGuaranteedExecutionFee': '0', 'halfSpreadCost': '0.2050', 'initialMarginRequired': '37.0952'}, 'fullPrice': {'closeoutBid': '1.08553', 'closeoutAsk': '1.08589', 'timestamp': '2023-11-17T02:31:00.761562142Z', 'bids': [{'price': '1.08553', 'liquidity': '10000000'}], 'asks': [{'price': '1.08589', 'liquidity': '10000000'}]}, 'homeConversionFactors': {'gainQuoteHome': {'factor': '0.59235335'}, 'lossQuoteHome': {'factor': '0.59830665'}, 'gainBaseHome': {'factor': '0.64313815'}, 'lossBaseHome': {'factor': '0.64960185'}}}, 'relatedTransactionIDs': ['1460', '1461', '1462', '1463'], 'lastTransactionID': '1463'}\n",
            "{'orderCreateTransaction': {'id': '1470', 'accountID': '101-001-27332384-001', 'userID': 27332384, 'batchID': '1470', 'requestID': '61174305726483944', 'time': '2023-11-17T02:46:00.686074067Z', 'type': 'MARKET_ORDER', 'instrument': 'GBP_USD', 'units': '2085', 'timeInForce': 'FOK', 'positionFill': 'DEFAULT', 'takeProfitOnFill': {'price': '1.24184', 'timeInForce': 'GTC'}, 'stopLossOnFill': {'price': '1.23998', 'timeInForce': 'GTC', 'triggerMode': 'TOP_OF_BOOK'}, 'reason': 'CLIENT_ORDER'}, 'orderFillTransaction': {'id': '1471', 'accountID': '101-001-27332384-001', 'userID': 27332384, 'batchID': '1470', 'requestID': '61174305726483944', 'time': '2023-11-17T02:46:00.686074067Z', 'type': 'ORDER_FILL', 'orderID': '1470', 'instrument': 'GBP_USD', 'units': '2085', 'requestedUnits': '2085', 'price': '1.24075', 'pl': '0.0000', 'quotePL': '0', 'financing': '0.0000', 'baseFinancing': '0', 'commission': '0.0000', 'accountBalance': '99839.5960', 'gainQuoteHomeConversionFactor': '1', 'lossQuoteHomeConversionFactor': '1', 'guaranteedExecutionFee': '0.0000', 'quoteGuaranteedExecutionFee': '0', 'halfSpreadCost': '0.2189', 'fullVWAP': '1.24075', 'reason': 'MARKET_ORDER', 'tradeOpened': {'price': '1.24075', 'tradeID': '1471', 'units': '2085', 'guaranteedExecutionFee': '0.0000', 'quoteGuaranteedExecutionFee': '0', 'halfSpreadCost': '0.2189', 'initialMarginRequired': '129.3367'}, 'fullPrice': {'closeoutBid': '1.24054', 'closeoutAsk': '1.24075', 'timestamp': '2023-11-17T02:45:59.609188024Z', 'bids': [{'price': '1.24054', 'liquidity': '10000000'}], 'asks': [{'price': '1.24075', 'liquidity': '10000000'}]}, 'homeConversionFactors': {'gainQuoteHome': {'factor': '1'}, 'lossQuoteHome': {'factor': '1'}, 'gainBaseHome': {'factor': '1.23443680'}, 'lossBaseHome': {'factor': '1.24684320'}}}, 'relatedTransactionIDs': ['1470', '1471', '1472', '1473'], 'lastTransactionID': '1473'}\n",
            "{'orderCreateTransaction': {'id': '1474', 'accountID': '101-001-27332384-001', 'userID': 27332384, 'batchID': '1474', 'requestID': '61174313273866812', 'time': '2023-11-17T03:16:00.444400457Z', 'type': 'MARKET_ORDER', 'instrument': 'AUD_CAD', 'units': '-2097', 'timeInForce': 'FOK', 'positionFill': 'DEFAULT', 'takeProfitOnFill': {'price': '0.88816', 'timeInForce': 'GTC'}, 'stopLossOnFill': {'price': '0.88903', 'timeInForce': 'GTC', 'triggerMode': 'TOP_OF_BOOK'}, 'reason': 'CLIENT_ORDER'}, 'orderFillTransaction': {'id': '1475', 'accountID': '101-001-27332384-001', 'userID': 27332384, 'batchID': '1474', 'requestID': '61174313273866812', 'time': '2023-11-17T03:16:00.444400457Z', 'type': 'ORDER_FILL', 'orderID': '1474', 'instrument': 'AUD_CAD', 'units': '-2097', 'requestedUnits': '-2097', 'price': '0.88861', 'pl': '0.0000', 'quotePL': '0', 'financing': '0.0000', 'baseFinancing': '0', 'commission': '0.0000', 'accountBalance': '99839.5960', 'gainQuoteHomeConversionFactor': '0.723620579378', 'lossQuoteHomeConversionFactor': '0.730893148015', 'guaranteedExecutionFee': '0.0000', 'quoteGuaranteedExecutionFee': '0', 'halfSpreadCost': '0.1754', 'fullVWAP': '0.88861', 'reason': 'MARKET_ORDER', 'tradeOpened': {'price': '0.88861', 'tradeID': '1475', 'units': '-2097', 'guaranteedExecutionFee': '0.0000', 'quoteGuaranteedExecutionFee': '0', 'halfSpreadCost': '0.1754', 'initialMarginRequired': '40.6612'}, 'fullPrice': {'closeoutBid': '0.88861', 'closeoutAsk': '0.88884', 'timestamp': '2023-11-17T03:15:37.304480444Z', 'bids': [{'price': '0.88861', 'liquidity': '10000000'}], 'asks': [{'price': '0.88884', 'liquidity': '10000000'}]}, 'homeConversionFactors': {'gainQuoteHome': {'factor': '0.72362057937833'}, 'lossQuoteHome': {'factor': '0.73089314801529'}, 'gainBaseHome': {'factor': '0.64310830'}, 'lossBaseHome': {'factor': '0.64957170'}}}, 'relatedTransactionIDs': ['1474', '1475', '1476', '1477'], 'lastTransactionID': '1477'}\n",
            "{'orderCreateTransaction': {'id': '1480', 'accountID': '101-001-27332384-001', 'userID': 27332384, 'batchID': '1480', 'requestID': '43159918539764397', 'time': '2023-11-17T03:31:00.454580970Z', 'type': 'MARKET_ORDER', 'instrument': 'AUD_CAD', 'units': '-2092', 'timeInForce': 'FOK', 'positionFill': 'DEFAULT', 'takeProfitOnFill': {'price': '0.88824', 'timeInForce': 'GTC'}, 'stopLossOnFill': {'price': '0.88956', 'timeInForce': 'GTC', 'triggerMode': 'TOP_OF_BOOK'}, 'reason': 'CLIENT_ORDER'}, 'orderFillTransaction': {'id': '1481', 'accountID': '101-001-27332384-001', 'userID': 27332384, 'batchID': '1480', 'requestID': '43159918539764397', 'time': '2023-11-17T03:31:00.454580970Z', 'type': 'ORDER_FILL', 'orderID': '1480', 'instrument': 'AUD_CAD', 'units': '-2092', 'requestedUnits': '-2092', 'price': '0.88903', 'pl': '0.0000', 'quotePL': '0', 'financing': '0.0000', 'baseFinancing': '0', 'commission': '0.0000', 'accountBalance': '99838.9216', 'gainQuoteHomeConversionFactor': '0.723636368268', 'lossQuoteHomeConversionFactor': '0.730909095587', 'guaranteedExecutionFee': '0.0000', 'quoteGuaranteedExecutionFee': '0', 'halfSpreadCost': '0.1902', 'fullVWAP': '0.88903', 'reason': 'MARKET_ORDER', 'tradeOpened': {'price': '0.88903', 'tradeID': '1481', 'units': '-2092', 'guaranteedExecutionFee': '0.0000', 'quoteGuaranteedExecutionFee': '0', 'halfSpreadCost': '0.1902', 'initialMarginRequired': '40.5850'}, 'fullPrice': {'closeoutBid': '0.88903', 'closeoutAsk': '0.88928', 'timestamp': '2023-11-17T03:30:55.318523353Z', 'bids': [{'price': '0.88903', 'liquidity': '10000000'}], 'asks': [{'price': '0.88928', 'liquidity': '10000000'}]}, 'homeConversionFactors': {'gainQuoteHome': {'factor': '0.72363636826764'}, 'lossQuoteHome': {'factor': '0.73090909558692'}, 'gainBaseHome': {'factor': '0.64343665'}, 'lossBaseHome': {'factor': '0.64990335'}}}, 'relatedTransactionIDs': ['1480', '1481', '1482', '1483'], 'lastTransactionID': '1483'}\n",
            "{'orderCreateTransaction': {'id': '1484', 'accountID': '101-001-27332384-001', 'userID': 27332384, 'batchID': '1484', 'requestID': '61174317049651399', 'time': '2023-11-17T03:31:00.649277414Z', 'type': 'MARKET_ORDER', 'instrument': 'AUD_USD', 'units': '-1921', 'timeInForce': 'FOK', 'positionFill': 'DEFAULT', 'takeProfitOnFill': {'price': '0.64596', 'timeInForce': 'GTC'}, 'stopLossOnFill': {'price': '0.64704', 'timeInForce': 'GTC', 'triggerMode': 'TOP_OF_BOOK'}, 'reason': 'CLIENT_ORDER'}, 'orderFillTransaction': {'id': '1485', 'accountID': '101-001-27332384-001', 'userID': 27332384, 'batchID': '1484', 'requestID': '61174317049651399', 'time': '2023-11-17T03:31:00.649277414Z', 'type': 'ORDER_FILL', 'orderID': '1484', 'instrument': 'AUD_USD', 'units': '-1921', 'requestedUnits': '-1921', 'price': '0.64661', 'pl': '0.0000', 'quotePL': '0', 'financing': '0.0000', 'baseFinancing': '0', 'commission': '0.0000', 'accountBalance': '99838.9216', 'gainQuoteHomeConversionFactor': '1', 'lossQuoteHomeConversionFactor': '1', 'guaranteedExecutionFee': '0.0000', 'quoteGuaranteedExecutionFee': '0', 'halfSpreadCost': '0.1153', 'fullVWAP': '0.64661', 'reason': 'MARKET_ORDER', 'tradeOpened': {'price': '0.64661', 'tradeID': '1485', 'units': '-1921', 'guaranteedExecutionFee': '0.0000', 'quoteGuaranteedExecutionFee': '0', 'halfSpreadCost': '0.1153', 'initialMarginRequired': '37.2676'}, 'fullPrice': {'closeoutBid': '0.64661', 'closeoutAsk': '0.64673', 'timestamp': '2023-11-17T03:30:55.410668847Z', 'bids': [{'price': '0.64661', 'liquidity': '10000000'}], 'asks': [{'price': '0.64673', 'liquidity': '10000000'}]}, 'homeConversionFactors': {'gainQuoteHome': {'factor': '1'}, 'lossQuoteHome': {'factor': '1'}, 'gainBaseHome': {'factor': '0.64343665'}, 'lossBaseHome': {'factor': '0.64990335'}}}, 'relatedTransactionIDs': ['1484', '1485', '1486', '1487'], 'lastTransactionID': '1487'}\n",
            "{'orderCreateTransaction': {'id': '1488', 'accountID': '101-001-27332384-001', 'userID': 27332384, 'batchID': '1488', 'requestID': '61174317049651426', 'time': '2023-11-17T03:31:00.682123255Z', 'type': 'MARKET_ORDER', 'instrument': 'EUR_AUD', 'units': '1964', 'timeInForce': 'FOK', 'positionFill': 'DEFAULT', 'takeProfitOnFill': {'price': '1.68087', 'timeInForce': 'GTC'}, 'stopLossOnFill': {'price': '1.67754', 'timeInForce': 'GTC', 'triggerMode': 'TOP_OF_BOOK'}, 'reason': 'CLIENT_ORDER'}, 'orderFillTransaction': {'id': '1489', 'accountID': '101-001-27332384-001', 'userID': 27332384, 'batchID': '1488', 'requestID': '61174317049651426', 'time': '2023-11-17T03:31:00.682123255Z', 'type': 'ORDER_FILL', 'orderID': '1488', 'instrument': 'EUR_AUD', 'units': '1964', 'requestedUnits': '1964', 'price': '1.67872', 'pl': '0.0000', 'quotePL': '0', 'financing': '0.0000', 'baseFinancing': '0', 'commission': '0.0000', 'accountBalance': '99838.9216', 'gainQuoteHomeConversionFactor': '0.64343665', 'lossQuoteHomeConversionFactor': '0.64990335', 'guaranteedExecutionFee': '0.0000', 'quoteGuaranteedExecutionFee': '0', 'halfSpreadCost': '0.2413', 'fullVWAP': '1.67872', 'reason': 'MARKET_ORDER', 'tradeOpened': {'price': '1.67872', 'tradeID': '1489', 'units': '1964', 'guaranteedExecutionFee': '0.0000', 'quoteGuaranteedExecutionFee': '0', 'halfSpreadCost': '0.2413', 'initialMarginRequired': '63.9565'}, 'fullPrice': {'closeoutBid': '1.67834', 'closeoutAsk': '1.67872', 'timestamp': '2023-11-17T03:30:58.496765119Z', 'bids': [{'price': '1.67834', 'liquidity': '10000000'}], 'asks': [{'price': '1.67872', 'liquidity': '10000000'}]}, 'homeConversionFactors': {'gainQuoteHome': {'factor': '0.64343665'}, 'lossQuoteHome': {'factor': '0.64990335'}, 'gainBaseHome': {'factor': '1.08005260'}, 'lossBaseHome': {'factor': '1.09090740'}}}, 'relatedTransactionIDs': ['1488', '1489', '1490', '1491'], 'lastTransactionID': '1491'}\n",
            "{'orderCreateTransaction': {'id': '1496', 'accountID': '101-001-27332384-001', 'userID': 27332384, 'batchID': '1496', 'requestID': '79188726882096055', 'time': '2023-11-17T04:16:00.494227119Z', 'type': 'MARKET_ORDER', 'instrument': 'NZD_CHF', 'units': '-2024', 'timeInForce': 'FOK', 'positionFill': 'DEFAULT', 'takeProfitOnFill': {'price': '0.52890', 'timeInForce': 'GTC'}, 'stopLossOnFill': {'price': '0.52980', 'timeInForce': 'GTC', 'triggerMode': 'TOP_OF_BOOK'}, 'reason': 'CLIENT_ORDER'}, 'orderFillTransaction': {'id': '1497', 'accountID': '101-001-27332384-001', 'userID': 27332384, 'batchID': '1496', 'requestID': '79188726882096055', 'time': '2023-11-17T04:16:00.494227119Z', 'type': 'ORDER_FILL', 'orderID': '1496', 'instrument': 'NZD_CHF', 'units': '-2024', 'requestedUnits': '-2024', 'price': '0.52918', 'pl': '0.0000', 'quotePL': '0', 'financing': '0.0000', 'baseFinancing': '0', 'commission': '0.0000', 'accountBalance': '99836.5380', 'gainQuoteHomeConversionFactor': '1.120079256783', 'lossQuoteHomeConversionFactor': '1.131336334741', 'guaranteedExecutionFee': '0.0000', 'quoteGuaranteedExecutionFee': '0', 'halfSpreadCost': '0.4443', 'fullVWAP': '0.52918', 'reason': 'MARKET_ORDER', 'tradeOpened': {'price': '0.52918', 'tradeID': '1497', 'units': '-2024', 'guaranteedExecutionFee': '0.0000', 'quoteGuaranteedExecutionFee': '0', 'halfSpreadCost': '0.4443', 'initialMarginRequired': '48.2465'}, 'fullPrice': {'closeoutBid': '0.52918', 'closeoutAsk': '0.52957', 'timestamp': '2023-11-17T04:15:54.869280350Z', 'bids': [{'price': '0.52918', 'liquidity': '10000000'}], 'asks': [{'price': '0.52957', 'liquidity': '10000000'}]}, 'homeConversionFactors': {'gainQuoteHome': {'factor': '1.12007925678331'}, 'lossQuoteHome': {'factor': '1.13133633474093'}, 'gainBaseHome': {'factor': '0.59295035'}, 'lossBaseHome': {'factor': '0.59890965'}}}, 'relatedTransactionIDs': ['1496', '1497', '1498', '1499'], 'lastTransactionID': '1499'}\n",
            "{'orderCreateTransaction': {'id': '1500', 'accountID': '101-001-27332384-001', 'userID': 27332384, 'batchID': '1500', 'requestID': '43159929862886277', 'time': '2023-11-17T04:16:00.509522399Z', 'type': 'MARKET_ORDER', 'instrument': 'NZD_CAD', 'units': '-2008', 'timeInForce': 'FOK', 'positionFill': 'DEFAULT', 'takeProfitOnFill': {'price': '0.81898', 'timeInForce': 'GTC'}, 'stopLossOnFill': {'price': '0.81982', 'timeInForce': 'GTC', 'triggerMode': 'TOP_OF_BOOK'}, 'reason': 'CLIENT_ORDER'}, 'orderFillTransaction': {'id': '1501', 'accountID': '101-001-27332384-001', 'userID': 27332384, 'batchID': '1500', 'requestID': '43159929862886277', 'time': '2023-11-17T04:16:00.509522399Z', 'type': 'ORDER_FILL', 'orderID': '1500', 'instrument': 'NZD_CAD', 'units': '-2008', 'requestedUnits': '-2008', 'price': '0.81919', 'pl': '0.0000', 'quotePL': '0', 'financing': '0.0000', 'baseFinancing': '0', 'commission': '0.0000', 'accountBalance': '99836.5380', 'gainQuoteHomeConversionFactor': '0.723586374615', 'lossQuoteHomeConversionFactor': '0.730858599486', 'guaranteedExecutionFee': '0.0000', 'quoteGuaranteedExecutionFee': '0', 'halfSpreadCost': '0.3651', 'fullVWAP': '0.81919', 'reason': 'MARKET_ORDER', 'tradeOpened': {'price': '0.81919', 'tradeID': '1501', 'units': '-2008', 'guaranteedExecutionFee': '0.0000', 'quoteGuaranteedExecutionFee': '0', 'halfSpreadCost': '0.3651', 'initialMarginRequired': '35.8988'}, 'fullPrice': {'closeoutBid': '0.81919', 'closeoutAsk': '0.81969', 'timestamp': '2023-11-17T04:15:56.242867708Z', 'bids': [{'price': '0.81919', 'liquidity': '10000000'}], 'asks': [{'price': '0.81969', 'liquidity': '10000000'}]}, 'homeConversionFactors': {'gainQuoteHome': {'factor': '0.72358637461517'}, 'lossQuoteHome': {'factor': '0.73085859948567'}, 'gainBaseHome': {'factor': '0.59295035'}, 'lossBaseHome': {'factor': '0.59890965'}}}, 'relatedTransactionIDs': ['1500', '1501', '1502', '1503'], 'lastTransactionID': '1503'}\n",
            "{'orderCreateTransaction': {'id': '1504', 'accountID': '101-001-27332384-001', 'userID': 27332384, 'batchID': '1504', 'requestID': '25145531353379209', 'time': '2023-11-17T04:16:00.858985730Z', 'type': 'MARKET_ORDER', 'instrument': 'AUD_NZD', 'units': '2027', 'timeInForce': 'FOK', 'positionFill': 'DEFAULT', 'takeProfitOnFill': {'price': '1.08593', 'timeInForce': 'GTC'}, 'stopLossOnFill': {'price': '1.08479', 'timeInForce': 'GTC', 'triggerMode': 'TOP_OF_BOOK'}, 'reason': 'CLIENT_ORDER'}, 'orderFillTransaction': {'id': '1505', 'accountID': '101-001-27332384-001', 'userID': 27332384, 'batchID': '1504', 'requestID': '25145531353379209', 'time': '2023-11-17T04:16:00.858985730Z', 'type': 'ORDER_FILL', 'orderID': '1504', 'instrument': 'AUD_NZD', 'units': '2027', 'requestedUnits': '2027', 'price': '1.08553', 'pl': '0.0000', 'quotePL': '0', 'financing': '0.0000', 'baseFinancing': '0', 'commission': '0.0000', 'accountBalance': '99836.5380', 'gainQuoteHomeConversionFactor': '0.59295035', 'lossQuoteHomeConversionFactor': '0.59890965', 'guaranteedExecutionFee': '0.0000', 'quoteGuaranteedExecutionFee': '0', 'halfSpreadCost': '0.2114', 'fullVWAP': '1.08553', 'reason': 'MARKET_ORDER', 'tradeOpened': {'price': '1.08553', 'tradeID': '1505', 'units': '2027', 'guaranteedExecutionFee': '0.0000', 'quoteGuaranteedExecutionFee': '0', 'halfSpreadCost': '0.2114', 'initialMarginRequired': '39.3325'}, 'fullPrice': {'closeoutBid': '1.08518', 'closeoutAsk': '1.08553', 'timestamp': '2023-11-17T04:15:58.867552094Z', 'bids': [{'price': '1.08518', 'liquidity': '10000000'}], 'asks': [{'price': '1.08553', 'liquidity': '10000000'}]}, 'homeConversionFactors': {'gainQuoteHome': {'factor': '0.59295035'}, 'lossQuoteHome': {'factor': '0.59890965'}, 'gainBaseHome': {'factor': '0.64357595'}, 'lossBaseHome': {'factor': '0.65004405'}}}, 'relatedTransactionIDs': ['1504', '1505', '1506', '1507'], 'lastTransactionID': '1507'}\n",
            "{'orderCreateTransaction': {'id': '1508', 'accountID': '101-001-27332384-001', 'userID': 27332384, 'batchID': '1508', 'requestID': '79188734433647685', 'time': '2023-11-17T04:46:00.469014291Z', 'type': 'MARKET_ORDER', 'instrument': 'GBP_JPY', 'units': '-2045', 'timeInForce': 'FOK', 'positionFill': 'DEFAULT', 'takeProfitOnFill': {'price': '186.707', 'timeInForce': 'GTC'}, 'stopLossOnFill': {'price': '186.905', 'timeInForce': 'GTC', 'triggerMode': 'TOP_OF_BOOK'}, 'reason': 'CLIENT_ORDER'}, 'orderFillTransaction': {'id': '1509', 'accountID': '101-001-27332384-001', 'userID': 27332384, 'batchID': '1508', 'requestID': '79188734433647685', 'time': '2023-11-17T04:46:00.469014291Z', 'type': 'ORDER_FILL', 'orderID': '1508', 'instrument': 'GBP_JPY', 'units': '-2045', 'requestedUnits': '-2045', 'price': '186.812', 'pl': '0.0000', 'quotePL': '0', 'financing': '0.0000', 'baseFinancing': '0', 'commission': '0.0000', 'accountBalance': '99836.5380', 'gainQuoteHomeConversionFactor': '0.006608748811', 'lossQuoteHomeConversionFactor': '0.006675168398', 'guaranteedExecutionFee': '0.0000', 'quoteGuaranteedExecutionFee': '0', 'halfSpreadCost': '0.2241', 'fullVWAP': '186.812', 'reason': 'MARKET_ORDER', 'tradeOpened': {'price': '186.812', 'tradeID': '1509', 'units': '-2045', 'guaranteedExecutionFee': '0.0000', 'quoteGuaranteedExecutionFee': '0', 'halfSpreadCost': '0.2241', 'initialMarginRequired': '126.8830'}, 'fullPrice': {'closeoutBid': '186.812', 'closeoutAsk': '186.845', 'timestamp': '2023-11-17T04:46:00.443174589Z', 'bids': [{'price': '186.812', 'liquidity': '10000000'}], 'asks': [{'price': '186.845', 'liquidity': '10000000'}]}, 'homeConversionFactors': {'gainQuoteHome': {'factor': '0.00660874881146'}, 'lossQuoteHome': {'factor': '0.00667516839750'}, 'gainBaseHome': {'factor': '1.23470545'}, 'lossBaseHome': {'factor': '1.24711455'}}}, 'relatedTransactionIDs': ['1508', '1509', '1510', '1511'], 'lastTransactionID': '1511'}\n",
            "{'orderCreateTransaction': {'id': '1512', 'accountID': '101-001-27332384-001', 'userID': 27332384, 'batchID': '1512', 'requestID': '61174335924088771', 'time': '2023-11-17T04:46:00.678500154Z', 'type': 'MARKET_ORDER', 'instrument': 'EUR_GBP', 'units': '1950', 'timeInForce': 'FOK', 'positionFill': 'DEFAULT', 'takeProfitOnFill': {'price': '0.87482', 'timeInForce': 'GTC'}, 'stopLossOnFill': {'price': '0.87452', 'timeInForce': 'GTC', 'triggerMode': 'TOP_OF_BOOK'}, 'reason': 'CLIENT_ORDER'}, 'orderFillTransaction': {'id': '1513', 'accountID': '101-001-27332384-001', 'userID': 27332384, 'batchID': '1512', 'requestID': '61174335924088771', 'time': '2023-11-17T04:46:00.678500154Z', 'type': 'ORDER_FILL', 'orderID': '1512', 'instrument': 'EUR_GBP', 'units': '1950', 'requestedUnits': '1950', 'price': '0.87467', 'pl': '0.0000', 'quotePL': '0', 'financing': '0.0000', 'baseFinancing': '0', 'commission': '0.0000', 'accountBalance': '99836.5380', 'gainQuoteHomeConversionFactor': '1.23470545', 'lossQuoteHomeConversionFactor': '1.24711455', 'guaranteedExecutionFee': '0.0000', 'quoteGuaranteedExecutionFee': '0', 'halfSpreadCost': '0.1452', 'fullVWAP': '0.87467', 'reason': 'MARKET_ORDER', 'tradeOpened': {'price': '0.87467', 'tradeID': '1513', 'units': '1950', 'guaranteedExecutionFee': '0.0000', 'quoteGuaranteedExecutionFee': '0', 'halfSpreadCost': '0.1452', 'initialMarginRequired': '105.8158'}, 'fullPrice': {'closeoutBid': '0.87455', 'closeoutAsk': '0.87467', 'timestamp': '2023-11-17T04:45:59.540153924Z', 'bids': [{'price': '0.87455', 'liquidity': '10000000'}], 'asks': [{'price': '0.87467', 'liquidity': '10000000'}]}, 'homeConversionFactors': {'gainQuoteHome': {'factor': '1.23470545'}, 'lossQuoteHome': {'factor': '1.24711455'}, 'gainBaseHome': {'factor': '1.07986355'}, 'lossBaseHome': {'factor': '1.09071645'}}}, 'relatedTransactionIDs': ['1512', '1513', '1514', '1515'], 'lastTransactionID': '1515'}\n",
            "{'orderCreateTransaction': {'id': '1516', 'accountID': '101-001-27332384-001', 'userID': 27332384, 'batchID': '1516', 'requestID': '25145538904654553', 'time': '2023-11-17T04:46:00.684174954Z', 'type': 'MARKET_ORDER', 'instrument': 'GBP_USD', 'units': '-2011', 'timeInForce': 'FOK', 'positionFill': 'DEFAULT', 'takeProfitOnFill': {'price': '1.24045', 'timeInForce': 'GTC'}, 'stopLossOnFill': {'price': '1.24129', 'timeInForce': 'GTC', 'triggerMode': 'TOP_OF_BOOK'}, 'reason': 'CLIENT_ORDER'}, 'orderFillTransaction': {'id': '1517', 'accountID': '101-001-27332384-001', 'userID': 27332384, 'batchID': '1516', 'requestID': '25145538904654553', 'time': '2023-11-17T04:46:00.684174954Z', 'type': 'ORDER_FILL', 'orderID': '1516', 'instrument': 'GBP_USD', 'units': '-2011', 'requestedUnits': '-2011', 'price': '1.24081', 'pl': '0.1207', 'quotePL': '0.12066', 'financing': '0.0000', 'baseFinancing': '0.00000000000000', 'commission': '0.0000', 'accountBalance': '99836.6587', 'gainQuoteHomeConversionFactor': '1', 'lossQuoteHomeConversionFactor': '1', 'guaranteedExecutionFee': '0.0000', 'quoteGuaranteedExecutionFee': '0', 'halfSpreadCost': '0.2011', 'fullVWAP': '1.24081', 'reason': 'MARKET_ORDER', 'tradeReduced': {'tradeID': '1471', 'units': '-2011', 'realizedPL': '0.1207', 'financing': '0.0000', 'baseFinancing': '0.00000000000000', 'price': '1.24081', 'guaranteedExecutionFee': '0.0000', 'quoteGuaranteedExecutionFee': '0', 'halfSpreadCost': '0.2011'}, 'fullPrice': {'closeoutBid': '1.24081', 'closeoutAsk': '1.24101', 'timestamp': '2023-11-17T04:45:58.949840452Z', 'bids': [{'price': '1.24081', 'liquidity': '10000000'}], 'asks': [{'price': '1.24101', 'liquidity': '10000000'}]}, 'homeConversionFactors': {'gainQuoteHome': {'factor': '1'}, 'lossQuoteHome': {'factor': '1'}, 'gainBaseHome': {'factor': '1.23470545'}, 'lossBaseHome': {'factor': '1.24711455'}}}, 'relatedTransactionIDs': ['1516', '1517'], 'lastTransactionID': '1517'}\n",
            "{'orderCreateTransaction': {'id': '1518', 'accountID': '101-001-27332384-001', 'userID': 27332384, 'batchID': '1518', 'requestID': '61174335924088904', 'time': '2023-11-17T04:46:00.818234686Z', 'type': 'MARKET_ORDER', 'instrument': 'GBP_CAD', 'units': '-1932', 'timeInForce': 'FOK', 'positionFill': 'DEFAULT', 'takeProfitOnFill': {'price': '1.70599', 'timeInForce': 'GTC'}, 'stopLossOnFill': {'price': '1.70680', 'timeInForce': 'GTC', 'triggerMode': 'TOP_OF_BOOK'}, 'reason': 'CLIENT_ORDER'}, 'orderFillTransaction': {'id': '1519', 'accountID': '101-001-27332384-001', 'userID': 27332384, 'batchID': '1518', 'requestID': '61174335924088904', 'time': '2023-11-17T04:46:00.818234686Z', 'type': 'ORDER_FILL', 'orderID': '1518', 'instrument': 'GBP_CAD', 'units': '-1932', 'requestedUnits': '-1932', 'price': '1.70618', 'pl': '0.0000', 'quotePL': '0', 'financing': '0.0000', 'baseFinancing': '0', 'commission': '0.0000', 'accountBalance': '99836.6587', 'gainQuoteHomeConversionFactor': '0.723531126572', 'lossQuoteHomeConversionFactor': '0.730802796185', 'guaranteedExecutionFee': '0.0000', 'quoteGuaranteedExecutionFee': '0', 'halfSpreadCost': '0.3934', 'fullVWAP': '1.70618', 'reason': 'MARKET_ORDER', 'tradeOpened': {'price': '1.70618', 'tradeID': '1519', 'units': '-1932', 'guaranteedExecutionFee': '0.0000', 'quoteGuaranteedExecutionFee': '0', 'halfSpreadCost': '0.3934', 'initialMarginRequired': '119.8719'}, 'fullPrice': {'closeoutBid': '1.70618', 'closeoutAsk': '1.70674', 'timestamp': '2023-11-17T04:45:58.950021113Z', 'bids': [{'price': '1.70618', 'liquidity': '10000000'}], 'asks': [{'price': '1.70674', 'liquidity': '10000000'}]}, 'homeConversionFactors': {'gainQuoteHome': {'factor': '0.72353112657161'}, 'lossQuoteHome': {'factor': '0.73080279618539'}, 'gainBaseHome': {'factor': '1.23470545'}, 'lossBaseHome': {'factor': '1.24711455'}}}, 'relatedTransactionIDs': ['1518', '1519', '1520', '1521'], 'lastTransactionID': '1521'}\n",
            "{'orderCreateTransaction': {'id': '1522', 'accountID': '101-001-27332384-001', 'userID': 27332384, 'batchID': '1522', 'requestID': '61174335924088920', 'time': '2023-11-17T04:46:00.833697493Z', 'type': 'MARKET_ORDER', 'instrument': 'AUD_NZD', 'units': '2073', 'timeInForce': 'FOK', 'positionFill': 'DEFAULT', 'takeProfitOnFill': {'price': '1.08596', 'timeInForce': 'GTC'}, 'stopLossOnFill': {'price': '1.08497', 'timeInForce': 'GTC', 'triggerMode': 'TOP_OF_BOOK'}, 'reason': 'CLIENT_ORDER'}, 'orderFillTransaction': {'id': '1523', 'accountID': '101-001-27332384-001', 'userID': 27332384, 'batchID': '1522', 'requestID': '61174335924088920', 'time': '2023-11-17T04:46:00.833697493Z', 'type': 'ORDER_FILL', 'orderID': '1522', 'instrument': 'AUD_NZD', 'units': '2073', 'requestedUnits': '2073', 'price': '1.08561', 'pl': '0.0000', 'quotePL': '0', 'financing': '0.0000', 'baseFinancing': '0', 'commission': '0.0000', 'accountBalance': '99836.6587', 'gainQuoteHomeConversionFactor': '0.59288070', 'lossQuoteHomeConversionFactor': '0.59883930', 'guaranteedExecutionFee': '0.0000', 'quoteGuaranteedExecutionFee': '0', 'halfSpreadCost': '0.2409', 'fullVWAP': '1.08561', 'reason': 'MARKET_ORDER', 'tradeOpened': {'price': '1.08561', 'tradeID': '1523', 'units': '2073', 'guaranteedExecutionFee': '0.0000', 'quoteGuaranteedExecutionFee': '0', 'halfSpreadCost': '0.2409', 'initialMarginRequired': '40.2208'}, 'fullPrice': {'closeoutBid': '1.08522', 'closeoutAsk': '1.08561', 'timestamp': '2023-11-17T04:45:59.139782577Z', 'bids': [{'price': '1.08522', 'liquidity': '10000000'}], 'asks': [{'price': '1.08561', 'liquidity': '10000000'}]}, 'homeConversionFactors': {'gainQuoteHome': {'factor': '0.59288070'}, 'lossQuoteHome': {'factor': '0.59883930'}, 'gainBaseHome': {'factor': '0.64350630'}, 'lossBaseHome': {'factor': '0.64997370'}}}, 'relatedTransactionIDs': ['1522', '1523', '1524', '1525'], 'lastTransactionID': '1525'}\n",
            "{'orderCreateTransaction': {'id': '1530', 'accountID': '101-001-27332384-001', 'userID': 27332384, 'batchID': '1530', 'requestID': '79188738209393488', 'time': '2023-11-17T05:01:00.427195200Z', 'type': 'MARKET_ORDER', 'instrument': 'GBP_JPY', 'units': '-2042', 'timeInForce': 'FOK', 'positionFill': 'DEFAULT', 'takeProfitOnFill': {'price': '186.684', 'timeInForce': 'GTC'}, 'stopLossOnFill': {'price': '186.858', 'timeInForce': 'GTC', 'triggerMode': 'TOP_OF_BOOK'}, 'reason': 'CLIENT_ORDER'}, 'orderFillTransaction': {'id': '1531', 'accountID': '101-001-27332384-001', 'userID': 27332384, 'batchID': '1530', 'requestID': '79188738209393488', 'time': '2023-11-17T05:01:00.427195200Z', 'type': 'ORDER_FILL', 'orderID': '1530', 'instrument': 'GBP_JPY', 'units': '-2042', 'requestedUnits': '-2042', 'price': '186.802', 'pl': '0.0000', 'quotePL': '0', 'financing': '0.0000', 'baseFinancing': '0', 'commission': '0.0000', 'accountBalance': '99835.3762', 'gainQuoteHomeConversionFactor': '0.006607147024', 'lossQuoteHomeConversionFactor': '0.006673550511', 'guaranteedExecutionFee': '0.0000', 'quoteGuaranteedExecutionFee': '0', 'halfSpreadCost': '0.2373', 'fullVWAP': '186.802', 'reason': 'MARKET_ORDER', 'tradeOpened': {'price': '186.802', 'tradeID': '1531', 'units': '-2042', 'guaranteedExecutionFee': '0.0000', 'quoteGuaranteedExecutionFee': '0', 'halfSpreadCost': '0.2373', 'initialMarginRequired': '126.6591'}, 'fullPrice': {'closeoutBid': '186.802', 'closeoutAsk': '186.837', 'timestamp': '2023-11-17T05:01:00.339191679Z', 'bids': [{'price': '186.802', 'liquidity': '10000000'}], 'asks': [{'price': '186.837', 'liquidity': '10000000'}]}, 'homeConversionFactors': {'gainQuoteHome': {'factor': '0.00660714702374'}, 'lossQuoteHome': {'factor': '0.00667355051142'}, 'gainBaseHome': {'factor': '1.23433730'}, 'lossBaseHome': {'factor': '1.24674270'}}}, 'relatedTransactionIDs': ['1530', '1531', '1532', '1533'], 'lastTransactionID': '1533'}\n",
            "{'orderCreateTransaction': {'id': '1534', 'accountID': '101-001-27332384-001', 'userID': 27332384, 'batchID': '1534', 'requestID': '25145542680292330', 'time': '2023-11-17T05:01:00.632729545Z', 'type': 'MARKET_ORDER', 'instrument': 'EUR_GBP', 'units': '2059', 'timeInForce': 'FOK', 'positionFill': 'DEFAULT', 'takeProfitOnFill': {'price': '0.87494', 'timeInForce': 'GTC'}, 'stopLossOnFill': {'price': '0.87449', 'timeInForce': 'GTC', 'triggerMode': 'TOP_OF_BOOK'}, 'reason': 'CLIENT_ORDER'}, 'orderFillTransaction': {'id': '1535', 'accountID': '101-001-27332384-001', 'userID': 27332384, 'batchID': '1534', 'requestID': '25145542680292330', 'time': '2023-11-17T05:01:00.632729545Z', 'type': 'ORDER_FILL', 'orderID': '1534', 'instrument': 'EUR_GBP', 'units': '2059', 'requestedUnits': '2059', 'price': '0.87471', 'pl': '0.0000', 'quotePL': '0', 'financing': '0.0000', 'baseFinancing': '0', 'commission': '0.0000', 'accountBalance': '99835.3762', 'gainQuoteHomeConversionFactor': '1.23433730', 'lossQuoteHomeConversionFactor': '1.24674270', 'guaranteedExecutionFee': '0.0000', 'quoteGuaranteedExecutionFee': '0', 'halfSpreadCost': '0.1660', 'fullVWAP': '0.87471', 'reason': 'MARKET_ORDER', 'tradeOpened': {'price': '0.87471', 'tradeID': '1535', 'units': '2059', 'guaranteedExecutionFee': '0.0000', 'quoteGuaranteedExecutionFee': '0', 'halfSpreadCost': '0.1660', 'initialMarginRequired': '111.7069'}, 'fullPrice': {'closeoutBid': '0.87458', 'closeoutAsk': '0.87471', 'timestamp': '2023-11-17T05:00:55.092886433Z', 'bids': [{'price': '0.87458', 'liquidity': '10000000'}], 'asks': [{'price': '0.87471', 'liquidity': '10000000'}]}, 'homeConversionFactors': {'gainQuoteHome': {'factor': '1.23433730'}, 'lossQuoteHome': {'factor': '1.24674270'}, 'gainBaseHome': {'factor': '1.07963470'}, 'lossBaseHome': {'factor': '1.09048530'}}}, 'relatedTransactionIDs': ['1534', '1535', '1536', '1537'], 'lastTransactionID': '1537'}\n",
            "{'orderCreateTransaction': {'id': '1542', 'accountID': '101-001-27332384-001', 'userID': 27332384, 'batchID': '1542', 'requestID': '25145546455960827', 'time': '2023-11-17T05:16:00.462996203Z', 'type': 'MARKET_ORDER', 'instrument': 'CAD_JPY', 'units': '-2035', 'timeInForce': 'FOK', 'positionFill': 'DEFAULT', 'takeProfitOnFill': {'price': '109.348', 'timeInForce': 'GTC'}, 'stopLossOnFill': {'price': '109.516', 'timeInForce': 'GTC', 'triggerMode': 'TOP_OF_BOOK'}, 'reason': 'CLIENT_ORDER'}, 'orderFillTransaction': {'id': '1543', 'accountID': '101-001-27332384-001', 'userID': 27332384, 'batchID': '1542', 'requestID': '25145546455960827', 'time': '2023-11-17T05:16:00.462996203Z', 'type': 'ORDER_FILL', 'orderID': '1542', 'instrument': 'CAD_JPY', 'units': '-2035', 'requestedUnits': '-2035', 'price': '109.460', 'pl': '0.0000', 'quotePL': '0', 'financing': '0.0000', 'baseFinancing': '0', 'commission': '0.0000', 'accountBalance': '99834.0484', 'gainQuoteHomeConversionFactor': '0.006607278652', 'lossQuoteHomeConversionFactor': '0.006673683463', 'guaranteedExecutionFee': '0.0000', 'quoteGuaranteedExecutionFee': '0', 'halfSpreadCost': '0.2635', 'fullVWAP': '109.460', 'reason': 'MARKET_ORDER', 'tradeOpened': {'price': '109.460', 'tradeID': '1543', 'units': '-2035', 'guaranteedExecutionFee': '0.0000', 'quoteGuaranteedExecutionFee': '0', 'halfSpreadCost': '0.2635', 'initialMarginRequired': '73.9710'}, 'fullPrice': {'closeoutBid': '109.460', 'closeoutAsk': '109.499', 'timestamp': '2023-11-17T05:16:00.174102035Z', 'bids': [{'price': '109.460', 'liquidity': '5000000'}], 'asks': [{'price': '109.499', 'liquidity': '5000000'}]}, 'homeConversionFactors': {'gainQuoteHome': {'factor': '0.00660727865231'}, 'lossQuoteHome': {'factor': '0.00667368346289'}, 'gainBaseHome': {'factor': '0.72335228809267'}, 'lossBaseHome': {'factor': '0.73062216033481'}}}, 'relatedTransactionIDs': ['1542', '1543', '1544', '1545'], 'lastTransactionID': '1545'}\n",
            "{'orderCreateTransaction': {'id': '1546', 'accountID': '101-001-27332384-001', 'userID': 27332384, 'batchID': '1546', 'requestID': '79188741985145766', 'time': '2023-11-17T05:16:00.463152801Z', 'type': 'MARKET_ORDER', 'instrument': 'GBP_NZD', 'units': '-2070', 'timeInForce': 'FOK', 'positionFill': 'DEFAULT', 'takeProfitOnFill': {'price': '2.08060', 'timeInForce': 'GTC'}, 'stopLossOnFill': {'price': '2.08441', 'timeInForce': 'GTC', 'triggerMode': 'TOP_OF_BOOK'}, 'reason': 'CLIENT_ORDER'}, 'orderFillTransaction': {'id': '1547', 'accountID': '101-001-27332384-001', 'userID': 27332384, 'batchID': '1546', 'requestID': '79188741985145766', 'time': '2023-11-17T05:16:00.463152801Z', 'type': 'ORDER_FILL', 'orderID': '1546', 'instrument': 'GBP_NZD', 'units': '-2070', 'requestedUnits': '-2070', 'price': '2.08269', 'pl': '0.0000', 'quotePL': '0', 'financing': '0.0000', 'baseFinancing': '0', 'commission': '0.0000', 'accountBalance': '99834.0484', 'gainQuoteHomeConversionFactor': '0.59262200', 'lossQuoteHomeConversionFactor': '0.59857800', 'guaranteedExecutionFee': '0.0000', 'quoteGuaranteedExecutionFee': '0', 'halfSpreadCost': '0.5486', 'fullVWAP': '2.08269', 'reason': 'MARKET_ORDER', 'tradeOpened': {'price': '2.08269', 'tradeID': '1547', 'units': '-2070', 'guaranteedExecutionFee': '0.0000', 'quoteGuaranteedExecutionFee': '0', 'halfSpreadCost': '0.5486', 'initialMarginRequired': '128.4124'}, 'fullPrice': {'closeoutBid': '2.08269', 'closeoutAsk': '2.08358', 'timestamp': '2023-11-17T05:16:00.323948322Z', 'bids': [{'price': '2.08269', 'liquidity': '10000000'}], 'asks': [{'price': '2.08358', 'liquidity': '10000000'}]}, 'homeConversionFactors': {'gainQuoteHome': {'factor': '0.59262200'}, 'lossQuoteHome': {'factor': '0.59857800'}, 'gainBaseHome': {'factor': '1.23449650'}, 'lossBaseHome': {'factor': '1.24690350'}}}, 'relatedTransactionIDs': ['1546', '1547', '1548', '1549'], 'lastTransactionID': '1549'}\n",
            "{'orderCreateTransaction': {'id': '1550', 'accountID': '101-001-27332384-001', 'userID': 27332384, 'batchID': '1550', 'requestID': '61174343475442786', 'time': '2023-11-17T05:16:00.559368858Z', 'type': 'MARKET_ORDER', 'instrument': 'GBP_JPY', 'units': '-2016', 'timeInForce': 'FOK', 'positionFill': 'DEFAULT', 'takeProfitOnFill': {'price': '186.682', 'timeInForce': 'GTC'}, 'stopLossOnFill': {'price': '186.871', 'timeInForce': 'GTC', 'triggerMode': 'TOP_OF_BOOK'}, 'reason': 'CLIENT_ORDER'}, 'orderFillTransaction': {'id': '1551', 'accountID': '101-001-27332384-001', 'userID': 27332384, 'batchID': '1550', 'requestID': '61174343475442786', 'time': '2023-11-17T05:16:00.559368858Z', 'type': 'ORDER_FILL', 'orderID': '1550', 'instrument': 'GBP_JPY', 'units': '-2016', 'requestedUnits': '-2016', 'price': '186.822', 'pl': '0.0000', 'quotePL': '0', 'financing': '0.0000', 'baseFinancing': '0', 'commission': '0.0000', 'accountBalance': '99834.0484', 'gainQuoteHomeConversionFactor': '0.006607278652', 'lossQuoteHomeConversionFactor': '0.006673683463', 'guaranteedExecutionFee': '0.0000', 'quoteGuaranteedExecutionFee': '0', 'halfSpreadCost': '0.2343', 'fullVWAP': '186.822', 'reason': 'MARKET_ORDER', 'tradeOpened': {'price': '186.822', 'tradeID': '1551', 'units': '-2016', 'guaranteedExecutionFee': '0.0000', 'quoteGuaranteedExecutionFee': '0', 'halfSpreadCost': '0.2343', 'initialMarginRequired': '125.0626'}, 'fullPrice': {'closeoutBid': '186.822', 'closeoutAsk': '186.857', 'timestamp': '2023-11-17T05:16:00.323651312Z', 'bids': [{'price': '186.822', 'liquidity': '10000000'}], 'asks': [{'price': '186.857', 'liquidity': '10000000'}]}, 'homeConversionFactors': {'gainQuoteHome': {'factor': '0.00660727865231'}, 'lossQuoteHome': {'factor': '0.00667368346289'}, 'gainBaseHome': {'factor': '1.23449650'}, 'lossBaseHome': {'factor': '1.24690350'}}}, 'relatedTransactionIDs': ['1550', '1551', '1552', '1553'], 'lastTransactionID': '1553'}\n"
          ]
        }
      ],
      "source": [
        "# for i in range (len(list_of_str_currency)):\n",
        "#     trading_job(currency_pairs[i],list_of_str_currency[i])\n",
        "\n",
        "scheduler = BlockingScheduler()\n",
        "for i in range (len(currency_pairs)):\n",
        "    scheduler.add_job(trading_job, 'cron', args = [currency_pairs[i],list_of_str_currency[i]], day_of_week='mon-fri', hour='00-23', minute='1,16,31,46', start_date='2022-01-12 12:00:00')\n",
        "scheduler.start()\n"
      ]
    },
    {
      "cell_type": "code",
      "execution_count": 10,
      "metadata": {},
      "outputs": [
        {
          "data": {
            "text/plain": [
              "-       9209\n",
              "Buy      397\n",
              "Sell     394\n",
              "Name: count, dtype: int64"
            ]
          },
          "execution_count": 10,
          "metadata": {},
          "output_type": "execute_result"
        }
      ],
      "source": [
        "da= pd.read_csv(\"EURUSD_Candlestick_5_M_ASK_30.09.2019-30.09.2022.csv\")\n",
        "da = da[:10000]\n",
        "signals = []\n",
        "\n",
        "for i in range(0, len(da)):\n",
        "    \n",
        "    block = da.iloc[i:i+15].copy()\n",
        "    calculate_vwap(block)\n",
        "    calculate_bollinger_bands(block)\n",
        "    calculate_rsi(block)\n",
        "    block = block.reset_index(drop=True)\n",
        "    if not block.empty:\n",
        "        signal = signal_generator(block)\n",
        "        signals.append(signal)\n",
        "x = pd.Series(signals)\n",
        "x.value_counts()\n",
        "\n"
      ]
    },
    {
      "cell_type": "code",
      "execution_count": 8,
      "metadata": {},
      "outputs": [],
      "source": [
        "#consider making 65 / 35 RSI + 1 and make above 70 / 30 as + 2 ssss"
      ]
    }
  ],
  "metadata": {
    "colab": {
      "provenance": []
    },
    "kernelspec": {
      "display_name": "Python 3.10.8 64-bit",
      "language": "python",
      "name": "python3"
    },
    "language_info": {
      "codemirror_mode": {
        "name": "ipython",
        "version": 3
      },
      "file_extension": ".py",
      "mimetype": "text/x-python",
      "name": "python",
      "nbconvert_exporter": "python",
      "pygments_lexer": "ipython3",
      "version": "3.10.11"
    },
    "vscode": {
      "interpreter": {
        "hash": "c0ff92a541b5eb8a0f75470c34280cf0dea79e8b819847822bd36e33345fddf3"
      }
    }
  },
  "nbformat": 4,
  "nbformat_minor": 0
}
