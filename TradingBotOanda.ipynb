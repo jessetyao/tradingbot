{
  "cells": [
    {
      "cell_type": "code",
      "execution_count": 3,
      "metadata": {
        "id": "HDUx5opJso4E",
        "outputId": "7690265c-ce95-4865-8cca-03d60c47da16"
      },
      "outputs": [],
      "source": [
        "from apscheduler.schedulers.blocking import BlockingScheduler\n",
        "from oandapyV20 import API\n",
        "import oandapyV20.endpoints.orders as orders\n",
        "from oandapyV20.contrib.requests import MarketOrderRequest\n",
        "from oanda_candles import Pair, Gran, CandleClient\n",
        "from oandapyV20.endpoints.instruments import InstrumentsCandles\n",
        "from oandapyV20.contrib.requests import TakeProfitDetails, StopLossDetails\n",
        "import talib\n",
        "import pandas_ta as ta\n",
        "import numpy as np\n",
        "import pandas as pd\n"
      ]
    },
    {
      "cell_type": "code",
      "execution_count": 21,
      "metadata": {
        "id": "oh6erbtQso4H"
      },
      "outputs": [],
      "source": [
        "def signal_generator(df):\n",
        "    vwap = df['VWAP']\n",
        "    rsi = df['RSI'].dropna()\n",
        "\n",
        "    close_price = df['Close']\n",
        "    upper_bb = df['UpperBB']\n",
        "    lower_bb = df['LowerBB']\n",
        "    average_rsi = rsi.mean()\n",
        "    bullish = True\n",
        "    bearish = True\n",
        "    sell_count = 0\n",
        "    buy_count = 0\n",
        "    #print(rsi.values)\n",
        "    vwap_threshold = 0.0004\n",
        "    for i in range(len(df)):\n",
        "        if max(df['Open'][i], df['Close'][i]) >= (1 + vwap_threshold) * df['VWAP'][i]:\n",
        "            bearish = False\n",
        "        if min(df['Open'][i], df['Close'][i]) <= (1 - vwap_threshold) * df['VWAP'][i]:\n",
        "            bullish = False\n",
        "\n",
        "    if bullish and bearish:\n",
        "        vwap_signal =  \"Neutral\"  # Neither Bullish nor Bearish\n",
        "    elif bullish:\n",
        "        vwap_signal =  \"Bullish\"\n",
        "        buy_count += 1\n",
        "    elif bearish:\n",
        "        vwap_signal =  \"Bearish\"\n",
        "        sell_count += 1\n",
        "    else:\n",
        "        vwap_signal =  \"Neutral\"\n",
        "\n",
        "    if average_rsi > 70:\n",
        "        rsi_signal = \"Overbought\"\n",
        "        sell_count += 1\n",
        "    elif average_rsi < 30:\n",
        "        rsi_signal = \"Oversold\"\n",
        "        buy_count += 1\n",
        "    else:\n",
        "        rsi_signal = \"Neutral\"\n",
        "        \n",
        "    bb_threshold = 0.2\n",
        "    overbought_signal = (df['Close'] > upper_bb).any()\n",
        "    oversold_signal = (df['Close'] < lower_bb).any()\n",
        "\n",
        "    if overbought_signal:\n",
        "        bb_signal = \"Overbought\"\n",
        "        sell_count += 1\n",
        "    elif oversold_signal:\n",
        "        bb_signal = \"Oversold\"\n",
        "        buy_count += 1\n",
        "    else:\n",
        "        bb_signal = \"Neutral\"\n",
        "\n",
        "    if buy_count >= 2:\n",
        "        #print(vwap_signal, rsi_signal, bb_signal )\n",
        "        return \"Buy\"\n",
        "    elif sell_count >= 2:\n",
        "        #print(vwap_signal, rsi_signal, bb_signal )\n",
        "        return \"Sell\"\n",
        "    else:\n",
        "        return \"-\"\n",
        "\n"
      ]
    },
    {
      "cell_type": "markdown",
      "metadata": {
        "id": "beYcSPPWso4I"
      },
      "source": [
        "### 3 - Connect to the market and execute trades"
      ]
    },
    {
      "cell_type": "code",
      "execution_count": 5,
      "metadata": {
        "id": "ztFBEJacso4J",
        "outputId": "00070d9d-023c-48c4-da73-8eacf43674d4"
      },
      "outputs": [
        {
          "data": {
            "text/plain": [
              "[{'complete': True,\n",
              "  'volume': 308,\n",
              "  'time': '2023-11-10T21:15:00.000000000Z',\n",
              "  'mid': {'o': '1.06856', 'h': '1.06865', 'l': '1.06838', 'c': '1.06848'}},\n",
              " {'complete': True,\n",
              "  'volume': 373,\n",
              "  'time': '2023-11-10T21:30:00.000000000Z',\n",
              "  'mid': {'o': '1.06848', 'h': '1.06863', 'l': '1.06832', 'c': '1.06836'}},\n",
              " {'complete': True,\n",
              "  'volume': 408,\n",
              "  'time': '2023-11-10T21:45:00.000000000Z',\n",
              "  'mid': {'o': '1.06834', 'h': '1.06854', 'l': '1.06826', 'c': '1.06847'}}]"
            ]
          },
          "execution_count": 5,
          "metadata": {},
          "output_type": "execute_result"
        }
      ],
      "source": [
        "access_token= \"cd7e21b015cb734770f5fcfea9da9c9f-49a95de76ed5cab29ee0d33cee5f004d\"\n",
        "accountID = \"101-001-27332384-001\" #your account ID here\n",
        "list_of_currency = [Pair.EUR_USD, Pair.EUR_GBP, Pair.USD_JPY, Pair.AUD_USD, Pair.USD_CAD, Pair.CAD_JPY, Pair.NZD_USD]\n",
        "def get_candles(n, currency):\n",
        "    client = API(access_token)\n",
        "    request = InstrumentsCandles(instrument=currency, params={\"granularity\": Gran.M15, \"count\": n})\n",
        "    response = client.request(request)\n",
        "    candles = response['candles']\n",
        "    return candles\n",
        "\n",
        "candles = get_candles(3, Pair.EUR_USD)\n",
        "candles\n"
      ]
    },
    {
      "cell_type": "code",
      "execution_count": 6,
      "metadata": {},
      "outputs": [],
      "source": [
        "def calculate_vwap(data):\n",
        "    data['VWAP'] = (((data['High'] + data['Low'] + data['Close']) / 3) * data['Volume']).cumsum() / data['Volume'].cumsum()\n",
        "\n",
        "def calculate_bollinger_bands(data, std_dev=2):\n",
        "    data['SMA'] = data['Close'].mean()\n",
        "    std_dev_values = data['Close'].std()\n",
        "    data['UpperBB'] = data['SMA'] + (std_dev * std_dev_values)\n",
        "    data['LowerBB'] = data['SMA'] - (std_dev * std_dev_values)\n",
        "    \n",
        "def calculate_rsi(data):\n",
        "    data['RSI'] = talib.RSI(data['Close'])"
      ]
    },
    {
      "cell_type": "code",
      "execution_count": 7,
      "metadata": {
        "id": "YDvk2yOSso4J"
      },
      "outputs": [],
      "source": [
        "def trading_job(currency, string_currency):\n",
        "    candles = get_candles(15, currency)\n",
        "    dfstream = pd.DataFrame(columns=['Open','Close','High','Low', 'Volume'])\n",
        "    i=0\n",
        "\n",
        "    for candle in candles:\n",
        "        dfstream.loc[i, 'Open'] = float(candle['mid']['o'])\n",
        "        dfstream.loc[i, 'Close'] = float(candle['mid']['c'])\n",
        "        dfstream.loc[i, 'High'] = float(candle['mid']['h'])\n",
        "        dfstream.loc[i, 'Low'] = float(candle['mid']['l'])\n",
        "        dfstream.loc[i, 'Volume'] = float(candle['volume'])\n",
        "        i += 1\n",
        "\n",
        "    dfstream['Open'] = dfstream['Open'].astype(float)\n",
        "    dfstream['Close'] = dfstream['Close'].astype(float)\n",
        "    dfstream['High'] = dfstream['High'].astype(float)\n",
        "    dfstream['Low'] = dfstream['Low'].astype(float)\n",
        "    dfstream['Volume'] = dfstream['Volume'].astype(float)\n",
        "    calculate_vwap(dfstream)\n",
        "    calculate_bollinger_bands(dfstream)\n",
        "    calculate_rsi(dfstream)\n",
        "\n",
        "    #print(dfstream)\n",
        "    #print(dfstream)\n",
        "    signal = signal_generator(dfstream)#\n",
        "    # EXECUTING ORDERS\n",
        "    print(\"signal: \" + str(signal))\n",
        "    client = API(access_token)\n",
        "\n",
        "    SLTPRatio = 2.\n",
        "    previous_candleR = abs(dfstream['High'].iloc[-2]-dfstream['Low'].iloc[-2])\n",
        "\n",
        "    SLBuy = float(str(candle['mid']['o']))-previous_candleR\n",
        "    SLSell = float(str(candle['mid']['o']))+previous_candleR\n",
        "\n",
        "    TPBuy = float(str(candle['mid']['o']))+previous_candleR*SLTPRatio\n",
        "    TPSell = float(str(candle['mid']['o']))-previous_candleR*SLTPRatio\n",
        "\n",
        "    #print(dfstream.iloc[:-1,:])\n",
        "    #print(TPBuy, \"  \", SLBuy, \"  \", TPSell, \"  \", SLSell)\n",
        "    #signal = 2\n",
        "    #Sell\n",
        "    if signal == \"Sell\":\n",
        "        mo = MarketOrderRequest(instrument=string_currency, units=-2000, takeProfitOnFill=TakeProfitDetails(price=TPSell).data, stopLossOnFill=StopLossDetails(price=SLSell).data)\n",
        "        r = orders.OrderCreate(accountID, data=mo.data)\n",
        "        rv = client.request(r)\n",
        "        print(rv)\n",
        "    #Buy\n",
        "    elif signal == \"Buy\":\n",
        "        mo = MarketOrderRequest(instrument=string_currency, units=2000, takeProfitOnFill=TakeProfitDetails(price=TPBuy).data, stopLossOnFill=StopLossDetails(price=SLBuy).data)\n",
        "        r = orders.OrderCreate(accountID, data=mo.data)\n",
        "        rv = client.request(r)\n",
        "        print(rv)"
      ]
    },
    {
      "cell_type": "code",
      "execution_count": 23,
      "metadata": {
        "id": "SgGFrNvOso4K"
      },
      "outputs": [
        {
          "name": "stdout",
          "output_type": "stream",
          "text": [
            "signal: -signal: -\n",
            "signal: -\n",
            "signal: -\n",
            "\n",
            "signal: -\n",
            "signal: -\n",
            "signal: -\n",
            "signal: -\n",
            "signal: -\n",
            "signal: -\n",
            "signal: -\n",
            "signal: -\n",
            "signal: -\n",
            "signal: -\n",
            "signal: -\n",
            "signal: -\n",
            "signal: -\n",
            "signal: -\n",
            "signal: -\n",
            "signal: -\n",
            "signal: -\n",
            "signal: -signal: -\n",
            "\n",
            "signal: -\n",
            "signal: -\n",
            "signal: -\n",
            "signal: -\n",
            "signal: -\n",
            "signal: -signal: -\n",
            "\n",
            "signal: -\n",
            "signal: -\n",
            "signal: -\n",
            "signal: -\n",
            "signal: -\n",
            "signal: -signal: -\n",
            "\n",
            "signal: -\n",
            "signal: -\n",
            "signal: -\n",
            "signal: -\n",
            "signal: -\n",
            "signal: -signal: -\n",
            "signal: -\n",
            "signal: -\n",
            "\n",
            "signal: -\n",
            "signal: -\n",
            "signal: -\n",
            "signal: -signal: -\n",
            "\n",
            "signal: -\n",
            "signal: -\n",
            "signal: -\n",
            "signal: -\n",
            "signal: -\n"
          ]
        }
      ],
      "source": [
        "list_of_currency = [Pair.EUR_USD, Pair.EUR_GBP, Pair.USD_JPY, Pair.AUD_USD, Pair.USD_CAD, Pair.CAD_JPY, Pair.NZD_USD]\n",
        "list_of_str_currency = [\"EUR_USD\", \"EUR_GBP\", \"USD_JPY\", \"AUD_USD\",\"USD_CAD\",\"CAD_JPY\",\"NZD_USD\"]\n",
        "\n",
        "# for i in range (len(list_of_str_currency)):\n",
        "#     trading_job(list_of_currency[i],list_of_str_currency[i])\n",
        "\n",
        "\n",
        "scheduler = BlockingScheduler()\n",
        "for i in range (len(list_of_str_currency)):\n",
        "    scheduler.add_job(trading_job, 'cron', args = [list_of_currency[i],list_of_str_currency[i]], day_of_week='mon-fri', hour='00-23', minute='1,11,21,31,41,51', start_date='2022-01-12 12:00:00')\n",
        "scheduler.start()\n",
        "#ADD RANDOM"
      ]
    },
    {
      "cell_type": "code",
      "execution_count": 22,
      "metadata": {},
      "outputs": [
        {
          "data": {
            "text/plain": [
              "-       9209\n",
              "Buy      397\n",
              "Sell     394\n",
              "Name: count, dtype: int64"
            ]
          },
          "execution_count": 22,
          "metadata": {},
          "output_type": "execute_result"
        }
      ],
      "source": [
        "da= pd.read_csv(\"EURUSD_Candlestick_5_M_ASK_30.09.2019-30.09.2022.csv\")\n",
        "da = da[:10000]\n",
        "signals = []\n",
        "\n",
        "for i in range(0, len(da)):\n",
        "    block = da.iloc[i:i+15].copy()\n",
        "    calculate_vwap(block)\n",
        "    calculate_bollinger_bands(block)\n",
        "    calculate_rsi(block)\n",
        "    block = block.reset_index(drop=True)\n",
        "    if not block.empty:\n",
        "        signal = signal_generator(block)\n",
        "        signals.append(signal)\n",
        "x = pd.Series(signals)\n",
        "x.value_counts()\n"
      ]
    },
    {
      "cell_type": "code",
      "execution_count": null,
      "metadata": {},
      "outputs": [],
      "source": []
    }
  ],
  "metadata": {
    "colab": {
      "provenance": []
    },
    "kernelspec": {
      "display_name": "Python 3.10.8 64-bit",
      "language": "python",
      "name": "python3"
    },
    "language_info": {
      "codemirror_mode": {
        "name": "ipython",
        "version": 3
      },
      "file_extension": ".py",
      "mimetype": "text/x-python",
      "name": "python",
      "nbconvert_exporter": "python",
      "pygments_lexer": "ipython3",
      "version": "3.10.11"
    },
    "vscode": {
      "interpreter": {
        "hash": "c0ff92a541b5eb8a0f75470c34280cf0dea79e8b819847822bd36e33345fddf3"
      }
    }
  },
  "nbformat": 4,
  "nbformat_minor": 0
}
