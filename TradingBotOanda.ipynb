{
  "cells": [
    {
      "cell_type": "code",
      "execution_count": 30,
      "metadata": {
        "id": "HDUx5opJso4E",
        "outputId": "7690265c-ce95-4865-8cca-03d60c47da16"
      },
      "outputs": [],
      "source": [
        "from apscheduler.schedulers.blocking import BlockingScheduler\n",
        "from oandapyV20 import API\n",
        "import oandapyV20.endpoints.orders as orders\n",
        "from oandapyV20.contrib.requests import MarketOrderRequest\n",
        "from oanda_candles import Pair, Gran, CandleClient\n",
        "from oandapyV20.endpoints.instruments import InstrumentsCandles\n",
        "from oandapyV20.contrib.requests import TakeProfitDetails, StopLossDetails\n",
        "import talib\n",
        "import pandas_ta as ta\n",
        "import numpy as np\n",
        "import pandas as pd\n",
        "import random\n"
      ]
    },
    {
      "cell_type": "code",
      "execution_count": 31,
      "metadata": {
        "id": "oh6erbtQso4H"
      },
      "outputs": [],
      "source": [
        "def signal_generator(df):\n",
        "    vwap = df['VWAP']\n",
        "    rsi = df['RSI'].dropna()\n",
        "\n",
        "    close_price = df['Close']\n",
        "    upper_bb = df['UpperBB']\n",
        "    lower_bb = df['LowerBB']\n",
        "    average_rsi = rsi.mean()\n",
        "    bullish = True\n",
        "    bearish = True\n",
        "    sell_count = 0\n",
        "    buy_count = 0\n",
        "    #print(rsi.values)\n",
        "    vwap_threshold = 0.0004\n",
        "    for i in range(len(df)):\n",
        "        if max(df['Open'][i], df['Close'][i]) >= (1 + vwap_threshold) * df['VWAP'][i]:\n",
        "            bearish = False\n",
        "        if min(df['Open'][i], df['Close'][i]) <= (1 - vwap_threshold) * df['VWAP'][i]:\n",
        "            bullish = False\n",
        "\n",
        "    if bullish and bearish:\n",
        "        vwap_signal =  \"Neutral\"  # Neither Bullish nor Bearish\n",
        "    elif bullish:\n",
        "        vwap_signal =  \"Bullish\"\n",
        "        buy_count += 1\n",
        "    elif bearish:\n",
        "        vwap_signal =  \"Bearish\"\n",
        "        sell_count += 1\n",
        "    else:\n",
        "        vwap_signal =  \"Neutral\"\n",
        "\n",
        "    if average_rsi > 70:\n",
        "        rsi_signal = \"Overbought\"\n",
        "        sell_count += 1\n",
        "    elif average_rsi < 30:\n",
        "        rsi_signal = \"Oversold\"\n",
        "        buy_count += 1\n",
        "    else:\n",
        "        rsi_signal = \"Neutral\"\n",
        "        \n",
        "    bb_threshold = 0.2\n",
        "    overbought_signal = (df['Close'] > upper_bb).any()\n",
        "    oversold_signal = (df['Close'] < lower_bb).any()\n",
        "\n",
        "    if overbought_signal:\n",
        "        bb_signal = \"Overbought\"\n",
        "        sell_count += 1\n",
        "    elif oversold_signal:\n",
        "        bb_signal = \"Oversold\"\n",
        "        buy_count += 1\n",
        "    else:\n",
        "        bb_signal = \"Neutral\"\n",
        "\n",
        "    if buy_count >= 2:\n",
        "        #print(vwap_signal, rsi_signal, bb_signal )\n",
        "        return \"Buy\"\n",
        "    elif sell_count >= 2:\n",
        "        #print(vwap_signal, rsi_signal, bb_signal )\n",
        "        return \"Sell\"\n",
        "    else:\n",
        "        return \"-\"\n",
        "    \n"
      ]
    },
    {
      "cell_type": "markdown",
      "metadata": {
        "id": "beYcSPPWso4I"
      },
      "source": [
        "### 3 - Connect to the market and execute trades"
      ]
    },
    {
      "cell_type": "code",
      "execution_count": 32,
      "metadata": {
        "id": "ztFBEJacso4J",
        "outputId": "00070d9d-023c-48c4-da73-8eacf43674d4"
      },
      "outputs": [
        {
          "data": {
            "text/plain": [
              "[{'complete': True,\n",
              "  'volume': 1369,\n",
              "  'time': '2023-11-14T17:00:00.000000000Z',\n",
              "  'mid': {'o': '1.08604', 'h': '1.08636', 'l': '1.08542', 'c': '1.08549'}},\n",
              " {'complete': True,\n",
              "  'volume': 988,\n",
              "  'time': '2023-11-14T17:15:00.000000000Z',\n",
              "  'mid': {'o': '1.08548', 'h': '1.08610', 'l': '1.08543', 'c': '1.08589'}},\n",
              " {'complete': False,\n",
              "  'volume': 419,\n",
              "  'time': '2023-11-14T17:30:00.000000000Z',\n",
              "  'mid': {'o': '1.08590', 'h': '1.08636', 'l': '1.08579', 'c': '1.08624'}}]"
            ]
          },
          "execution_count": 32,
          "metadata": {},
          "output_type": "execute_result"
        }
      ],
      "source": [
        "access_token= \"cd7e21b015cb734770f5fcfea9da9c9f-49a95de76ed5cab29ee0d33cee5f004d\"\n",
        "accountID = \"101-001-27332384-001\" #your account ID here\n",
        "list_of_currency = [Pair.EUR_USD, Pair.EUR_GBP, Pair.USD_JPY, Pair.AUD_USD, Pair.USD_CAD, Pair.CAD_JPY, Pair.NZD_USD]\n",
        "def get_candles(n, currency):\n",
        "    client = API(access_token)\n",
        "    request = InstrumentsCandles(instrument=currency, params={\"granularity\": Gran.M15, \"count\": n})\n",
        "    response = client.request(request)\n",
        "    candles = response['candles']\n",
        "    return candles\n",
        "\n",
        "candles = get_candles(3, Pair.EUR_USD)\n",
        "candles\n"
      ]
    },
    {
      "cell_type": "code",
      "execution_count": 33,
      "metadata": {},
      "outputs": [],
      "source": [
        "def calculate_vwap(data):\n",
        "    data['VWAP'] = (((data['High'] + data['Low'] + data['Close']) / 3) * data['Volume']).cumsum() / data['Volume'].cumsum()\n",
        "\n",
        "def calculate_bollinger_bands(data, std_dev=2):\n",
        "    data['SMA'] = data['Close'].mean()\n",
        "    std_dev_values = data['Close'].std()\n",
        "    data['UpperBB'] = data['SMA'] + (std_dev * std_dev_values)\n",
        "    data['LowerBB'] = data['SMA'] - (std_dev * std_dev_values)\n",
        "    \n",
        "def calculate_rsi(data):\n",
        "    data['RSI'] = talib.RSI(data['Close'])"
      ]
    },
    {
      "cell_type": "code",
      "execution_count": 34,
      "metadata": {
        "id": "YDvk2yOSso4J"
      },
      "outputs": [],
      "source": [
        "def trading_job(currency, string_currency):\n",
        "    candles = get_candles(15, currency)\n",
        "    dfstream = pd.DataFrame(columns=['Open','Close','High','Low', 'Volume'])\n",
        "    i=0\n",
        "\n",
        "    for candle in candles:\n",
        "        dfstream.loc[i, 'Open'] = float(candle['mid']['o'])\n",
        "        dfstream.loc[i, 'Close'] = float(candle['mid']['c'])\n",
        "        dfstream.loc[i, 'High'] = float(candle['mid']['h'])\n",
        "        dfstream.loc[i, 'Low'] = float(candle['mid']['l'])\n",
        "        dfstream.loc[i, 'Volume'] = float(candle['volume'])\n",
        "        i += 1\n",
        "\n",
        "    dfstream['Open'] = dfstream['Open'].astype(float)\n",
        "    dfstream['Close'] = dfstream['Close'].astype(float)\n",
        "    dfstream['High'] = dfstream['High'].astype(float)\n",
        "    dfstream['Low'] = dfstream['Low'].astype(float)\n",
        "    dfstream['Volume'] = dfstream['Volume'].astype(float)\n",
        "    calculate_vwap(dfstream)\n",
        "    calculate_bollinger_bands(dfstream)\n",
        "    calculate_rsi(dfstream)\n",
        "\n",
        "    #print(dfstream)\n",
        "    #print(dfstream)\n",
        "    signal = signal_generator(dfstream)#\n",
        "    # EXECUTING ORDERS\n",
        "    #print(\"signal: \" + str(signal))\n",
        "    client = API(access_token)\n",
        "\n",
        "    SLTPRatio = 2.\n",
        "    previous_candleR = abs(dfstream['High'].iloc[-2]-dfstream['Low'].iloc[-2])\n",
        "\n",
        "    SLBuy = float(str(candle['mid']['o']))-previous_candleR\n",
        "    SLSell = float(str(candle['mid']['o']))+previous_candleR\n",
        "\n",
        "    TPBuy = float(str(candle['mid']['o']))+previous_candleR*SLTPRatio\n",
        "    TPSell = float(str(candle['mid']['o']))-previous_candleR*SLTPRatio\n",
        "\n",
        "    #print(dfstream.iloc[:-1,:])\n",
        "    #print(TPBuy, \"  \", SLBuy, \"  \", TPSell, \"  \", SLSell)\n",
        "    #signal = 2\n",
        "    #Sell\n",
        "    if signal == \"Sell\":\n",
        "        random_integer = random.randint(-100, 100)\n",
        "        mo = MarketOrderRequest(instrument=string_currency, units=-2000 + random_integer, takeProfitOnFill=TakeProfitDetails(price=TPSell).data, stopLossOnFill=StopLossDetails(price=SLSell).data)\n",
        "        r = orders.OrderCreate(accountID, data=mo.data)\n",
        "        rv = client.request(r)\n",
        "        print(rv)\n",
        "    #Buy\n",
        "    elif signal == \"Buy\":\n",
        "        random_integer = random.randint(-100, 100)\n",
        "        mo = MarketOrderRequest(instrument=string_currency, units=2000 + random_integer, takeProfitOnFill=TakeProfitDetails(price=TPBuy).data, stopLossOnFill=StopLossDetails(price=SLBuy).data)\n",
        "        r = orders.OrderCreate(accountID, data=mo.data)\n",
        "        rv = client.request(r)\n",
        "        print(rv)"
      ]
    },
    {
      "cell_type": "code",
      "execution_count": 35,
      "metadata": {},
      "outputs": [],
      "source": [
        "\n",
        "currency_pairs = [Pair.AUD_CAD, Pair.AUD_JPY, Pair.AUD_NZD, Pair.AUD_USD,\n",
        "    Pair.CAD_CHF, Pair.CAD_JPY,\n",
        "    Pair.EUR_AUD, Pair.EUR_CAD, Pair.EUR_CHF, Pair.EUR_GBP, Pair.EUR_JPY, Pair.EUR_NZD, Pair.EUR_USD,\n",
        "    Pair.GBP_AUD, Pair.GBP_CAD, Pair.GBP_CHF, Pair.GBP_JPY, Pair.GBP_NZD, Pair.GBP_USD,\n",
        "    Pair.NZD_CAD, Pair.NZD_CHF, Pair.NZD_JPY, Pair.NZD_USD,\n",
        "    Pair.USD_CAD, Pair.USD_CHF, Pair.USD_JPY]\n",
        "\n",
        "list_of_str_currency = [\"AUD_CAD\", \"AUD_JPY\", \"AUD_NZD\", \"AUD_USD\",\n",
        "    \"CAD_CHF\", \"CAD_JPY\",\n",
        "    \"EUR_AUD\", \"EUR_CAD\", \"EUR_CHF\", \"EUR_GBP\", \"EUR_JPY\", \"EUR_NZD\", \"EUR_USD\",\n",
        "    \"GBP_AUD\", \"GBP_CAD\", \"GBP_CHF\", \"GBP_JPY\", \"GBP_NZD\", \"GBP_USD\",\n",
        "    \"NZD_CAD\", \"NZD_CHF\", \"NZD_JPY\", \"NZD_USD\",\n",
        "    \"USD_CAD\", \"USD_CHF\", \"USD_JPY\"]\n"
      ]
    },
    {
      "cell_type": "code",
      "execution_count": 37,
      "metadata": {
        "id": "SgGFrNvOso4K"
      },
      "outputs": [
        {
          "name": "stdout",
          "output_type": "stream",
          "text": [
            "{'orderCreateTransaction': {'id': '1110', 'accountID': '101-001-27332384-001', 'userID': 27332384, 'batchID': '1110', 'requestID': '25144678233772157', 'time': '2023-11-14T19:46:00.688524894Z', 'type': 'MARKET_ORDER', 'instrument': 'AUD_JPY', 'units': '-2046', 'timeInForce': 'FOK', 'positionFill': 'DEFAULT', 'takeProfitOnFill': {'price': '97.759', 'timeInForce': 'GTC'}, 'stopLossOnFill': {'price': '97.870', 'timeInForce': 'GTC', 'triggerMode': 'TOP_OF_BOOK'}, 'reason': 'CLIENT_ORDER'}, 'orderFillTransaction': {'id': '1111', 'accountID': '101-001-27332384-001', 'userID': 27332384, 'batchID': '1110', 'requestID': '25144678233772157', 'time': '2023-11-14T19:46:00.688524894Z', 'type': 'ORDER_FILL', 'orderID': '1110', 'instrument': 'AUD_JPY', 'units': '-2046', 'requestedUnits': '-2046', 'price': '97.823', 'pl': '0.2427', 'quotePL': '36.715', 'financing': '0.0000', 'baseFinancing': '0.00000000000000', 'commission': '0.0000', 'accountBalance': '99876.5733', 'gainQuoteHomeConversionFactor': '0.006615603535', 'lossQuoteHomeConversionFactor': '0.006682092012', 'guaranteedExecutionFee': '0.0000', 'quoteGuaranteedExecutionFee': '0', 'halfSpreadCost': '0.1496', 'fullVWAP': '97.823', 'reason': 'MARKET_ORDER', 'tradeReduced': {'tradeID': '1071', 'units': '-133', 'realizedPL': '-0.0231', 'financing': '0.0000', 'baseFinancing': '0.00000000000000', 'price': '97.823', 'guaranteedExecutionFee': '0.0000', 'quoteGuaranteedExecutionFee': '0', 'halfSpreadCost': '0.0097'}, 'tradesClosed': [{'tradeID': '1057', 'units': '-1913', 'realizedPL': '0.2658', 'financing': '0.0000', 'baseFinancing': '0.00000000000000', 'price': '97.823', 'guaranteedExecutionFee': '0.0000', 'quoteGuaranteedExecutionFee': '0', 'halfSpreadCost': '0.1399'}], 'fullPrice': {'closeoutBid': '97.823', 'closeoutAsk': '97.845', 'timestamp': '2023-11-14T19:45:47.635389146Z', 'bids': [{'price': '97.823', 'liquidity': '5000000'}], 'asks': [{'price': '97.845', 'liquidity': '5000000'}]}, 'homeConversionFactors': {'gainQuoteHome': {'factor': '0.00661560353463'}, 'lossQuoteHome': {'factor': '0.00668209201237'}, 'gainBaseHome': {'factor': '0.64721765'}, 'lossBaseHome': {'factor': '0.65372235'}}}, 'relatedTransactionIDs': ['1110', '1111', '1112', '1113'], 'lastTransactionID': '1113'}\n",
            "{'orderCreateTransaction': {'id': '1114', 'accountID': '101-001-27332384-001', 'userID': 27332384, 'batchID': '1114', 'requestID': '79187873761727851', 'time': '2023-11-14T19:46:00.900253270Z', 'type': 'MARKET_ORDER', 'instrument': 'EUR_GBP', 'units': '2079', 'timeInForce': 'FOK', 'positionFill': 'DEFAULT', 'takeProfitOnFill': {'price': '0.87080', 'timeInForce': 'GTC'}, 'stopLossOnFill': {'price': '0.87017', 'timeInForce': 'GTC', 'triggerMode': 'TOP_OF_BOOK'}, 'reason': 'CLIENT_ORDER'}, 'orderFillTransaction': {'id': '1115', 'accountID': '101-001-27332384-001', 'userID': 27332384, 'batchID': '1114', 'requestID': '79187873761727851', 'time': '2023-11-14T19:46:00.900253270Z', 'type': 'ORDER_FILL', 'orderID': '1114', 'instrument': 'EUR_GBP', 'units': '2079', 'requestedUnits': '2079', 'price': '0.87048', 'pl': '0.0000', 'quotePL': '0', 'financing': '0.0000', 'baseFinancing': '0', 'commission': '0.0000', 'accountBalance': '99876.5733', 'gainQuoteHomeConversionFactor': '1.24331220', 'lossQuoteHomeConversionFactor': '1.25580780', 'guaranteedExecutionFee': '0.0000', 'quoteGuaranteedExecutionFee': '0', 'halfSpreadCost': '0.1818', 'fullVWAP': '0.87048', 'reason': 'MARKET_ORDER', 'tradeOpened': {'price': '0.87048', 'tradeID': '1115', 'units': '2079', 'guaranteedExecutionFee': '0.0000', 'quoteGuaranteedExecutionFee': '0', 'halfSpreadCost': '0.1818', 'initialMarginRequired': '113.0602'}, 'fullPrice': {'closeoutBid': '0.87034', 'closeoutAsk': '0.87048', 'timestamp': '2023-11-14T19:46:00.729095909Z', 'bids': [{'price': '0.87034', 'liquidity': '10000000'}], 'asks': [{'price': '0.87048', 'liquidity': '10000000'}]}, 'homeConversionFactors': {'gainQuoteHome': {'factor': '1.24331220'}, 'lossQuoteHome': {'factor': '1.25580780'}, 'gainBaseHome': {'factor': '1.08220180'}, 'lossBaseHome': {'factor': '1.09307820'}}}, 'relatedTransactionIDs': ['1114', '1115', '1116', '1117'], 'lastTransactionID': '1117'}\n",
            "{'orderCreateTransaction': {'id': '1118', 'accountID': '101-001-27332384-001', 'userID': 27332384, 'batchID': '1118', 'requestID': '43159080518982240', 'time': '2023-11-14T20:01:00.751581289Z', 'type': 'MARKET_ORDER', 'instrument': 'GBP_JPY', 'units': '-1969', 'timeInForce': 'FOK', 'positionFill': 'DEFAULT', 'takeProfitOnFill': {'price': '187.866', 'timeInForce': 'GTC'}, 'stopLossOnFill': {'price': '187.965', 'timeInForce': 'GTC', 'triggerMode': 'TOP_OF_BOOK'}, 'reason': 'CLIENT_ORDER'}, 'orderFillTransaction': {'id': '1119', 'accountID': '101-001-27332384-001', 'userID': 27332384, 'batchID': '1118', 'requestID': '43159080518982240', 'time': '2023-11-14T20:01:00.751581289Z', 'type': 'ORDER_FILL', 'orderID': '1118', 'instrument': 'GBP_JPY', 'units': '-1969', 'requestedUnits': '-1969', 'price': '187.917', 'pl': '0.0000', 'quotePL': '0', 'financing': '0.0000', 'baseFinancing': '0', 'commission': '0.0000', 'accountBalance': '99876.5733', 'gainQuoteHomeConversionFactor': '0.006618045664', 'lossQuoteHomeConversionFactor': '0.006684558686', 'guaranteedExecutionFee': '0.0000', 'quoteGuaranteedExecutionFee': '0', 'halfSpreadCost': '0.2095', 'fullVWAP': '187.917', 'reason': 'MARKET_ORDER', 'tradeOpened': {'price': '187.917', 'tradeID': '1119', 'units': '-1969', 'guaranteedExecutionFee': '0.0000', 'quoteGuaranteedExecutionFee': '0', 'halfSpreadCost': '0.2095', 'initialMarginRequired': '123.0625'}, 'fullPrice': {'closeoutBid': '187.917', 'closeoutAsk': '187.949', 'timestamp': '2023-11-14T20:01:00.552357080Z', 'bids': [{'price': '187.917', 'liquidity': '10000000'}], 'asks': [{'price': '187.949', 'liquidity': '10000000'}]}, 'homeConversionFactors': {'gainQuoteHome': {'factor': '0.00661804566435'}, 'lossQuoteHome': {'factor': '0.00668455868611'}, 'gainBaseHome': {'factor': '1.24375000'}, 'lossBaseHome': {'factor': '1.25625000'}}}, 'relatedTransactionIDs': ['1118', '1119', '1120', '1121'], 'lastTransactionID': '1121'}{'orderCreateTransaction': {'id': '1122', 'accountID': '101-001-27332384-001', 'userID': 27332384, 'batchID': '1122', 'requestID': '43159080518982247', 'time': '2023-11-14T20:01:00.756498874Z', 'type': 'MARKET_ORDER', 'instrument': 'AUD_JPY', 'units': '-1937', 'timeInForce': 'FOK', 'positionFill': 'DEFAULT', 'takeProfitOnFill': {'price': '97.785', 'timeInForce': 'GTC'}, 'stopLossOnFill': {'price': '97.890', 'timeInForce': 'GTC', 'triggerMode': 'TOP_OF_BOOK'}, 'reason': 'CLIENT_ORDER'}, 'orderFillTransaction': {'id': '1123', 'accountID': '101-001-27332384-001', 'userID': 27332384, 'batchID': '1122', 'requestID': '43159080518982247', 'time': '2023-11-14T20:01:00.756498874Z', 'type': 'ORDER_FILL', 'orderID': '1122', 'instrument': 'AUD_JPY', 'units': '-1937', 'requestedUnits': '-1937', 'price': '97.834', 'pl': '-0.1889', 'quotePL': '-28.260', 'financing': '0.0000', 'baseFinancing': '0.00000000000000', 'commission': '0.0000', 'accountBalance': '99876.3844', 'gainQuoteHomeConversionFactor': '0.006618045664', 'lossQuoteHomeConversionFactor': '0.006684558686', 'guaranteedExecutionFee': '0.0000', 'quoteGuaranteedExecutionFee': '0', 'halfSpreadCost': '0.1353', 'fullVWAP': '97.834', 'reason': 'MARKET_ORDER', 'tradeOpened': {'price': '97.834', 'tradeID': '1123', 'units': '-53', 'guaranteedExecutionFee': '0.0000', 'quoteGuaranteedExecutionFee': '0', 'halfSpreadCost': '0.0037', 'initialMarginRequired': '1.7246'}, 'tradesClosed': [{'tradeID': '1071', 'units': '-1884', 'realizedPL': '-0.1889', 'financing': '0.0000', 'baseFinancing': '0.00000000000000', 'price': '97.834', 'guaranteedExecutionFee': '0.0000', 'quoteGuaranteedExecutionFee': '0', 'halfSpreadCost': '0.1316'}], 'fullPrice': {'closeoutBid': '97.834', 'closeoutAsk': '97.855', 'timestamp': '2023-11-14T20:00:50.215424833Z', 'bids': [{'price': '97.834', 'liquidity': '5000000'}], 'asks': [{'price': '97.855', 'liquidity': '5000000'}]}, 'homeConversionFactors': {'gainQuoteHome': {'factor': '0.00661804566435'}, 'lossQuoteHome': {'factor': '0.00668455868611'}, 'gainBaseHome': {'factor': '0.64752610'}, 'lossBaseHome': {'factor': '0.65403390'}}}, 'relatedTransactionIDs': ['1122', '1123', '1124', '1125', '1126', '1127'], 'lastTransactionID': '1127'}\n",
            "\n",
            "{'orderCreateTransaction': {'id': '1136', 'accountID': '101-001-27332384-001', 'userID': 27332384, 'batchID': '1136', 'requestID': '43159088066744892', 'time': '2023-11-14T20:31:00.561640773Z', 'type': 'MARKET_ORDER', 'instrument': 'AUD_CAD', 'units': '2033', 'timeInForce': 'FOK', 'positionFill': 'DEFAULT', 'takeProfitOnFill': {'price': '0.89200', 'timeInForce': 'GTC'}, 'stopLossOnFill': {'price': '0.89098', 'timeInForce': 'GTC', 'triggerMode': 'TOP_OF_BOOK'}, 'reason': 'CLIENT_ORDER'}, 'orderFillTransaction': {'id': '1137', 'accountID': '101-001-27332384-001', 'userID': 27332384, 'batchID': '1136', 'requestID': '43159088066744892', 'time': '2023-11-14T20:31:00.561640773Z', 'type': 'ORDER_FILL', 'orderID': '1136', 'instrument': 'AUD_CAD', 'units': '2033', 'requestedUnits': '2033', 'price': '0.89148', 'pl': '0.0000', 'quotePL': '0', 'financing': '0.0000', 'baseFinancing': '0', 'commission': '0.0000', 'accountBalance': '99879.5722', 'gainQuoteHomeConversionFactor': '0.726951264531', 'lossQuoteHomeConversionFactor': '0.734257307391', 'guaranteedExecutionFee': '0.0000', 'quoteGuaranteedExecutionFee': '0', 'halfSpreadCost': '0.1857', 'fullVWAP': '0.89148', 'reason': 'MARKET_ORDER', 'tradeOpened': {'price': '0.89148', 'tradeID': '1137', 'units': '2033', 'guaranteedExecutionFee': '0.0000', 'quoteGuaranteedExecutionFee': '0', 'halfSpreadCost': '0.1857', 'initialMarginRequired': '39.7191'}, 'fullPrice': {'closeoutBid': '0.89123', 'closeoutAsk': '0.89148', 'timestamp': '2023-11-14T20:31:00.217321836Z', 'bids': [{'price': '0.89123', 'liquidity': '10000000'}], 'asks': [{'price': '0.89148', 'liquidity': '10000000'}]}, 'homeConversionFactors': {'gainQuoteHome': {'factor': '0.72695126453137'}, 'lossQuoteHome': {'factor': '0.73425730739099'}, 'gainBaseHome': {'factor': '0.64798380'}, 'lossBaseHome': {'factor': '0.65449620'}}}, 'relatedTransactionIDs': ['1136', '1137', '1138', '1139'], 'lastTransactionID': '1139'}\n",
            "{'orderCreateTransaction': {'id': '1140', 'accountID': '101-001-27332384-001', 'userID': 27332384, 'batchID': '1140', 'requestID': '25144689557751206', 'time': '2023-11-14T20:31:00.668611961Z', 'type': 'MARKET_ORDER', 'instrument': 'GBP_JPY', 'units': '-2028', 'timeInForce': 'FOK', 'positionFill': 'DEFAULT', 'takeProfitOnFill': {'price': '187.716', 'timeInForce': 'GTC'}, 'stopLossOnFill': {'price': '187.953', 'timeInForce': 'GTC', 'triggerMode': 'TOP_OF_BOOK'}, 'reason': 'CLIENT_ORDER'}, 'orderFillTransaction': {'id': '1141', 'accountID': '101-001-27332384-001', 'userID': 27332384, 'batchID': '1140', 'requestID': '25144689557751206', 'time': '2023-11-14T20:31:00.668611961Z', 'type': 'ORDER_FILL', 'orderID': '1140', 'instrument': 'GBP_JPY', 'units': '-2028', 'requestedUnits': '-2028', 'price': '187.860', 'pl': '0.0000', 'quotePL': '0', 'financing': '0.0000', 'baseFinancing': '0', 'commission': '0.0000', 'accountBalance': '99879.5722', 'gainQuoteHomeConversionFactor': '0.006622582691', 'lossQuoteHomeConversionFactor': '0.006689141311', 'guaranteedExecutionFee': '0.0000', 'quoteGuaranteedExecutionFee': '0', 'halfSpreadCost': '0.2430', 'fullVWAP': '187.860', 'reason': 'MARKET_ORDER', 'tradeOpened': {'price': '187.860', 'tradeID': '1141', 'units': '-2028', 'guaranteedExecutionFee': '0.0000', 'quoteGuaranteedExecutionFee': '0', 'halfSpreadCost': '0.2430', 'initialMarginRequired': '126.7997'}, 'fullPrice': {'closeoutBid': '187.860', 'closeoutAsk': '187.896', 'timestamp': '2023-11-14T20:30:59.119106154Z', 'bids': [{'price': '187.860', 'liquidity': '10000000'}], 'asks': [{'price': '187.896', 'liquidity': '10000000'}]}, 'homeConversionFactors': {'gainQuoteHome': {'factor': '0.00662258269063'}, 'lossQuoteHome': {'factor': '0.00668914131063'}, 'gainBaseHome': {'factor': '1.24423755'}, 'lossBaseHome': {'factor': '1.25674245'}}}, 'relatedTransactionIDs': ['1140', '1141', '1142', '1143'], 'lastTransactionID': '1143'}\n",
            "{'orderCreateTransaction': {'id': '1144', 'accountID': '101-001-27332384-001', 'userID': 27332384, 'batchID': '1144', 'requestID': '61173486576987731', 'time': '2023-11-14T20:31:00.887312827Z', 'type': 'MARKET_ORDER', 'instrument': 'EUR_CAD', 'units': '1956', 'timeInForce': 'FOK', 'positionFill': 'DEFAULT', 'takeProfitOnFill': {'price': '1.49158', 'timeInForce': 'GTC'}, 'stopLossOnFill': {'price': '1.48930', 'timeInForce': 'GTC', 'triggerMode': 'TOP_OF_BOOK'}, 'reason': 'CLIENT_ORDER'}, 'orderFillTransaction': {'id': '1145', 'accountID': '101-001-27332384-001', 'userID': 27332384, 'batchID': '1144', 'requestID': '61173486576987731', 'time': '2023-11-14T20:31:00.887312827Z', 'type': 'ORDER_FILL', 'orderID': '1144', 'instrument': 'EUR_CAD', 'units': '1956', 'requestedUnits': '1956', 'price': '1.49023', 'pl': '0.0000', 'quotePL': '0', 'financing': '0.0000', 'baseFinancing': '0', 'commission': '0.0000', 'accountBalance': '99879.5722', 'gainQuoteHomeConversionFactor': '0.726951264531', 'lossQuoteHomeConversionFactor': '0.734257307391', 'guaranteedExecutionFee': '0.0000', 'quoteGuaranteedExecutionFee': '0', 'halfSpreadCost': '0.2286', 'fullVWAP': '1.49023', 'reason': 'MARKET_ORDER', 'tradeOpened': {'price': '1.49023', 'tradeID': '1145', 'units': '1956', 'guaranteedExecutionFee': '0.0000', 'quoteGuaranteedExecutionFee': '0', 'halfSpreadCost': '0.2286', 'initialMarginRequired': '42.5880'}, 'fullPrice': {'closeoutBid': '1.48991', 'closeoutAsk': '1.49023', 'timestamp': '2023-11-14T20:30:46.606485514Z', 'bids': [{'price': '1.48991', 'liquidity': '10000000'}], 'asks': [{'price': '1.49023', 'liquidity': '10000000'}]}, 'homeConversionFactors': {'gainQuoteHome': {'factor': '0.72695126453137'}, 'lossQuoteHome': {'factor': '0.73425730739099'}, 'gainBaseHome': {'factor': '1.08320675'}, 'lossBaseHome': {'factor': '1.09409325'}}}, 'relatedTransactionIDs': ['1144', '1145', '1146', '1147'], 'lastTransactionID': '1147'}\n",
            "{'orderCreateTransaction': {'id': '1154', 'accountID': '101-001-27332384-001', 'userID': 27332384, 'batchID': '1154', 'requestID': '79187888861561009', 'time': '2023-11-14T20:46:00.475999820Z', 'type': 'MARKET_ORDER', 'instrument': 'CAD_JPY', 'units': '-2045', 'timeInForce': 'FOK', 'positionFill': 'DEFAULT', 'takeProfitOnFill': {'price': '109.590', 'timeInForce': 'GTC'}, 'stopLossOnFill': {'price': '109.839', 'timeInForce': 'GTC', 'triggerMode': 'TOP_OF_BOOK'}, 'reason': 'CLIENT_ORDER'}, 'orderFillTransaction': {'id': '1155', 'accountID': '101-001-27332384-001', 'userID': 27332384, 'batchID': '1154', 'requestID': '79187888861561009', 'time': '2023-11-14T20:46:00.475999820Z', 'type': 'ORDER_FILL', 'orderID': '1154', 'instrument': 'CAD_JPY', 'units': '-2045', 'requestedUnits': '-2045', 'price': '109.733', 'pl': '0.0000', 'quotePL': '0', 'financing': '0.0000', 'baseFinancing': '0', 'commission': '0.0000', 'accountBalance': '99878.8258', 'gainQuoteHomeConversionFactor': '0.006622891263', 'lossQuoteHomeConversionFactor': '0.006689452984', 'guaranteedExecutionFee': '0.0000', 'quoteGuaranteedExecutionFee': '0', 'halfSpreadCost': '0.2450', 'fullVWAP': '109.733', 'reason': 'MARKET_ORDER', 'tradeOpened': {'price': '109.733', 'tradeID': '1155', 'units': '-2045', 'guaranteedExecutionFee': '0.0000', 'quoteGuaranteedExecutionFee': '0', 'halfSpreadCost': '0.2450', 'initialMarginRequired': '74.6958'}, 'fullPrice': {'closeoutBid': '109.733', 'closeoutAsk': '109.769', 'timestamp': '2023-11-14T20:45:58.025868821Z', 'bids': [{'price': '109.733', 'liquidity': '5000000'}], 'asks': [{'price': '109.769', 'liquidity': '5000000'}]}, 'homeConversionFactors': {'gainQuoteHome': {'factor': '0.00662289126267'}, 'lossQuoteHome': {'factor': '0.00668945298391'}, 'gainBaseHome': {'factor': '0.72686895088807'}, 'lossBaseHome': {'factor': '0.73417416647489'}}}, 'relatedTransactionIDs': ['1154', '1155', '1156', '1157'], 'lastTransactionID': '1157'}\n",
            "{'orderCreateTransaction': {'id': '1150', 'accountID': '101-001-27332384-001', 'userID': 27332384, 'batchID': '1150', 'requestID': '61173490352858308', 'time': '2023-11-14T20:46:00.470501511Z', 'type': 'MARKET_ORDER', 'instrument': 'AUD_CAD', 'units': '2016', 'timeInForce': 'FOK', 'positionFill': 'DEFAULT', 'takeProfitOnFill': {'price': '0.89180', 'timeInForce': 'GTC'}, 'stopLossOnFill': {'price': '0.89072', 'timeInForce': 'GTC', 'triggerMode': 'TOP_OF_BOOK'}, 'reason': 'CLIENT_ORDER'}, 'orderFillTransaction': {'id': '1151', 'accountID': '101-001-27332384-001', 'userID': 27332384, 'batchID': '1150', 'requestID': '61173490352858308', 'time': '2023-11-14T20:46:00.470501511Z', 'type': 'ORDER_FILL', 'orderID': '1150', 'instrument': 'AUD_CAD', 'units': '2016', 'requestedUnits': '2016', 'price': '0.89128', 'pl': '0.0000', 'quotePL': '0', 'financing': '0.0000', 'baseFinancing': '0', 'commission': '0.0000', 'accountBalance': '99878.8258', 'gainQuoteHomeConversionFactor': '0.726868950888', 'lossQuoteHomeConversionFactor': '0.734174166475', 'guaranteedExecutionFee': '0.0000', 'quoteGuaranteedExecutionFee': '0', 'halfSpreadCost': '0.1841', 'fullVWAP': '0.89128', 'reason': 'MARKET_ORDER', 'tradeOpened': {'price': '0.89128', 'tradeID': '1151', 'units': '2016', 'guaranteedExecutionFee': '0.0000', 'quoteGuaranteedExecutionFee': '0', 'halfSpreadCost': '0.1841', 'initialMarginRequired': '39.3737'}, 'fullPrice': {'closeoutBid': '0.89103', 'closeoutAsk': '0.89128', 'timestamp': '2023-11-14T20:45:48.649793759Z', 'bids': [{'price': '0.89103', 'liquidity': '10000000'}], 'asks': [{'price': '0.89128', 'liquidity': '10000000'}]}, 'homeConversionFactors': {'gainQuoteHome': {'factor': '0.72686895088807'}, 'lossQuoteHome': {'factor': '0.73417416647489'}, 'gainBaseHome': {'factor': '0.64776490'}, 'lossBaseHome': {'factor': '0.65427510'}}}, 'relatedTransactionIDs': ['1150', '1151', '1152', '1153'], 'lastTransactionID': '1153'}\n",
            "{'orderCreateTransaction': {'id': '1158', 'accountID': '101-001-27332384-001', 'userID': 27332384, 'batchID': '1158', 'requestID': '25144693333732087', 'time': '2023-11-14T20:46:00.479155763Z', 'type': 'MARKET_ORDER', 'instrument': 'GBP_USD', 'units': '2042', 'timeInForce': 'FOK', 'positionFill': 'DEFAULT', 'takeProfitOnFill': {'price': '1.25096', 'timeInForce': 'GTC'}, 'stopLossOnFill': {'price': '1.25000', 'timeInForce': 'GTC', 'triggerMode': 'TOP_OF_BOOK'}, 'reason': 'CLIENT_ORDER'}, 'orderFillTransaction': {'id': '1159', 'accountID': '101-001-27332384-001', 'userID': 27332384, 'batchID': '1158', 'requestID': '25144693333732087', 'time': '2023-11-14T20:46:00.479155763Z', 'type': 'ORDER_FILL', 'orderID': '1158', 'instrument': 'GBP_USD', 'units': '2042', 'requestedUnits': '2042', 'price': '1.25027', 'pl': '0.0000', 'quotePL': '0', 'financing': '0.0000', 'baseFinancing': '0', 'commission': '0.0000', 'accountBalance': '99878.8258', 'gainQuoteHomeConversionFactor': '1', 'lossQuoteHomeConversionFactor': '1', 'guaranteedExecutionFee': '0.0000', 'quoteGuaranteedExecutionFee': '0', 'halfSpreadCost': '0.1532', 'fullVWAP': '1.25027', 'reason': 'MARKET_ORDER', 'tradeOpened': {'price': '1.25027', 'tradeID': '1159', 'units': '2042', 'guaranteedExecutionFee': '0.0000', 'quoteGuaranteedExecutionFee': '0', 'halfSpreadCost': '0.1532', 'initialMarginRequired': '127.6454'}, 'fullPrice': {'closeoutBid': '1.25012', 'closeoutAsk': '1.25027', 'timestamp': '2023-11-14T20:45:55.949717984Z', 'bids': [{'price': '1.25012', 'liquidity': '10000000'}], 'asks': [{'price': '1.25027', 'liquidity': '10000000'}]}, 'homeConversionFactors': {'gainQuoteHome': {'factor': '1'}, 'lossQuoteHome': {'factor': '1'}, 'gainBaseHome': {'factor': '1.24394900'}, 'lossBaseHome': {'factor': '1.25645100'}}}, 'relatedTransactionIDs': ['1158', '1159', '1160', '1161'], 'lastTransactionID': '1161'}\n",
            "{'orderCreateTransaction': {'id': '1162', 'accountID': '101-001-27332384-001', 'userID': 27332384, 'batchID': '1162', 'requestID': '61173490352858333', 'time': '2023-11-14T20:46:00.492202737Z', 'type': 'MARKET_ORDER', 'instrument': 'USD_CHF', 'units': '-2043', 'timeInForce': 'FOK', 'positionFill': 'DEFAULT', 'takeProfitOnFill': {'price': '0.88775', 'timeInForce': 'GTC'}, 'stopLossOnFill': {'price': '0.88829', 'timeInForce': 'GTC', 'triggerMode': 'TOP_OF_BOOK'}, 'reason': 'CLIENT_ORDER'}, 'orderCancelTransaction': {'id': '1163', 'accountID': '101-001-27332384-001', 'userID': 27332384, 'batchID': '1162', 'requestID': '61173490352858333', 'time': '2023-11-14T20:46:00.492202737Z', 'type': 'ORDER_CANCEL', 'orderID': '1162', 'reason': 'STOP_LOSS_ON_FILL_LOSS'}, 'relatedTransactionIDs': ['1162', '1163'], 'lastTransactionID': '1163'}\n",
            "{'orderCreateTransaction': {'id': '1164', 'accountID': '101-001-27332384-001', 'userID': 27332384, 'batchID': '1164', 'requestID': '43159091842694095', 'time': '2023-11-14T20:46:00.686734555Z', 'type': 'MARKET_ORDER', 'instrument': 'EUR_CHF', 'units': '-1938', 'timeInForce': 'FOK', 'positionFill': 'DEFAULT', 'takeProfitOnFill': {'price': '0.96642', 'timeInForce': 'GTC'}, 'stopLossOnFill': {'price': '0.96690', 'timeInForce': 'GTC', 'triggerMode': 'TOP_OF_BOOK'}, 'reason': 'CLIENT_ORDER'}, 'orderFillTransaction': {'id': '1165', 'accountID': '101-001-27332384-001', 'userID': 27332384, 'batchID': '1164', 'requestID': '43159091842694095', 'time': '2023-11-14T20:46:00.686734555Z', 'type': 'ORDER_FILL', 'orderID': '1164', 'instrument': 'EUR_CHF', 'units': '-1938', 'requestedUnits': '-1938', 'price': '0.96665', 'pl': '0.0000', 'quotePL': '0', 'financing': '0.0000', 'baseFinancing': '0', 'commission': '0.0000', 'accountBalance': '99878.8258', 'gainQuoteHomeConversionFactor': '1.12023058519', 'lossQuoteHomeConversionFactor': '1.131489184036', 'guaranteedExecutionFee': '0.0000', 'quoteGuaranteedExecutionFee': '0', 'halfSpreadCost': '0.2291', 'fullVWAP': '0.96665', 'reason': 'MARKET_ORDER', 'tradeOpened': {'price': '0.96665', 'tradeID': '1165', 'units': '-1938', 'guaranteedExecutionFee': '0.0000', 'quoteGuaranteedExecutionFee': '0', 'halfSpreadCost': '0.2291', 'initialMarginRequired': '84.3735'}, 'fullPrice': {'closeoutBid': '0.96665', 'closeoutAsk': '0.96686', 'timestamp': '2023-11-14T20:45:49.538471248Z', 'bids': [{'price': '0.96665', 'liquidity': '10000000'}], 'asks': [{'price': '0.96686', 'liquidity': '10000000'}]}, 'homeConversionFactors': {'gainQuoteHome': {'factor': '1.12023058519024'}, 'lossQuoteHome': {'factor': '1.13148918403638'}, 'gainBaseHome': {'factor': '1.08296795'}, 'lossBaseHome': {'factor': '1.09385205'}}}, 'relatedTransactionIDs': ['1164', '1165', '1166', '1167'], 'lastTransactionID': '1167'}\n",
            "{'orderCreateTransaction': {'id': '1168', 'accountID': '101-001-27332384-001', 'userID': 27332384, 'batchID': '1168', 'requestID': '79187888861561569', 'time': '2023-11-14T20:46:00.858881617Z', 'type': 'MARKET_ORDER', 'instrument': 'EUR_AUD', 'units': '-2076', 'timeInForce': 'FOK', 'positionFill': 'DEFAULT', 'takeProfitOnFill': {'price': '1.67097', 'timeInForce': 'GTC'}, 'stopLossOnFill': {'price': '1.67247', 'timeInForce': 'GTC', 'triggerMode': 'TOP_OF_BOOK'}, 'reason': 'CLIENT_ORDER'}, 'orderFillTransaction': {'id': '1169', 'accountID': '101-001-27332384-001', 'userID': 27332384, 'batchID': '1168', 'requestID': '79187888861561569', 'time': '2023-11-14T20:46:00.858881617Z', 'type': 'ORDER_FILL', 'orderID': '1168', 'instrument': 'EUR_AUD', 'units': '-2076', 'requestedUnits': '-2076', 'price': '1.67169', 'pl': '0.0000', 'quotePL': '0', 'financing': '0.0000', 'baseFinancing': '0', 'commission': '0.0000', 'accountBalance': '99878.8258', 'gainQuoteHomeConversionFactor': '0.64776490', 'lossQuoteHomeConversionFactor': '0.65427510', 'guaranteedExecutionFee': '0.0000', 'quoteGuaranteedExecutionFee': '0', 'halfSpreadCost': '0.2298', 'fullVWAP': '1.67169', 'reason': 'MARKET_ORDER', 'tradeOpened': {'price': '1.67169', 'tradeID': '1169', 'units': '-2076', 'guaranteedExecutionFee': '0.0000', 'quoteGuaranteedExecutionFee': '0', 'halfSpreadCost': '0.2298', 'initialMarginRequired': '67.7862'}, 'fullPrice': {'closeoutBid': '1.67169', 'closeoutAsk': '1.67203', 'timestamp': '2023-11-14T20:46:00.766379087Z', 'bids': [{'price': '1.67169', 'liquidity': '10000000'}], 'asks': [{'price': '1.67203', 'liquidity': '10000000'}]}, 'homeConversionFactors': {'gainQuoteHome': {'factor': '0.64776490'}, 'lossQuoteHome': {'factor': '0.65427510'}, 'gainBaseHome': {'factor': '1.08296795'}, 'lossBaseHome': {'factor': '1.09385205'}}}, 'relatedTransactionIDs': ['1168', '1169', '1170', '1171'], 'lastTransactionID': '1171'}\n",
            "{'orderCreateTransaction': {'id': '1172', 'accountID': '101-001-27332384-001', 'userID': 27332384, 'batchID': '1172', 'requestID': '25144693333732560', 'time': '2023-11-14T20:46:00.870092562Z', 'type': 'MARKET_ORDER', 'instrument': 'CAD_CHF', 'units': '-1942', 'timeInForce': 'FOK', 'positionFill': 'DEFAULT', 'takeProfitOnFill': {'price': '0.64844', 'timeInForce': 'GTC'}, 'stopLossOnFill': {'price': '0.64910', 'timeInForce': 'GTC', 'triggerMode': 'TOP_OF_BOOK'}, 'reason': 'CLIENT_ORDER'}, 'orderFillTransaction': {'id': '1173', 'accountID': '101-001-27332384-001', 'userID': 27332384, 'batchID': '1172', 'requestID': '25144693333732560', 'time': '2023-11-14T20:46:00.870092562Z', 'type': 'ORDER_FILL', 'orderID': '1172', 'instrument': 'CAD_CHF', 'units': '-1942', 'requestedUnits': '-1942', 'price': '0.64875', 'pl': '0.0000', 'quotePL': '0', 'financing': '0.0000', 'baseFinancing': '0', 'commission': '0.0000', 'accountBalance': '99878.8258', 'gainQuoteHomeConversionFactor': '1.12023058519', 'lossQuoteHomeConversionFactor': '1.131489184036', 'guaranteedExecutionFee': '0.0000', 'quoteGuaranteedExecutionFee': '0', 'halfSpreadCost': '0.2952', 'fullVWAP': '0.64875', 'reason': 'MARKET_ORDER', 'tradeOpened': {'price': '0.64875', 'tradeID': '1173', 'units': '-1942', 'guaranteedExecutionFee': '0.0000', 'quoteGuaranteedExecutionFee': '0', 'halfSpreadCost': '0.2952', 'initialMarginRequired': '56.7461'}, 'fullPrice': {'closeoutBid': '0.64875', 'closeoutAsk': '0.64902', 'timestamp': '2023-11-14T20:45:57.973047125Z', 'bids': [{'price': '0.64875', 'liquidity': '10000000'}], 'asks': [{'price': '0.64902', 'liquidity': '10000000'}]}, 'homeConversionFactors': {'gainQuoteHome': {'factor': '1.12023058519024'}, 'lossQuoteHome': {'factor': '1.13148918403638'}, 'gainBaseHome': {'factor': '0.72685833117442'}, 'lossBaseHome': {'factor': '0.73416344003044'}}}, 'relatedTransactionIDs': ['1172', '1173', '1174', '1175'], 'lastTransactionID': '1175'}\n",
            "{'orderCreateTransaction': {'id': '1176', 'accountID': '101-001-27332384-001', 'userID': 27332384, 'batchID': '1176', 'requestID': '25144693333732579', 'time': '2023-11-14T20:46:00.883558789Z', 'type': 'MARKET_ORDER', 'instrument': 'EUR_CAD', 'units': '2060', 'timeInForce': 'FOK', 'positionFill': 'DEFAULT', 'takeProfitOnFill': {'price': '1.49096', 'timeInForce': 'GTC'}, 'stopLossOnFill': {'price': '1.48934', 'timeInForce': 'GTC', 'triggerMode': 'TOP_OF_BOOK'}, 'reason': 'CLIENT_ORDER'}, 'orderFillTransaction': {'id': '1177', 'accountID': '101-001-27332384-001', 'userID': 27332384, 'batchID': '1176', 'requestID': '25144693333732579', 'time': '2023-11-14T20:46:00.883558789Z', 'type': 'ORDER_FILL', 'orderID': '1176', 'instrument': 'EUR_CAD', 'units': '2060', 'requestedUnits': '2060', 'price': '1.49007', 'pl': '0.0000', 'quotePL': '0', 'financing': '0.0000', 'baseFinancing': '0', 'commission': '0.0000', 'accountBalance': '99878.8258', 'gainQuoteHomeConversionFactor': '0.726858331174', 'lossQuoteHomeConversionFactor': '0.73416344003', 'guaranteedExecutionFee': '0.0000', 'quoteGuaranteedExecutionFee': '0', 'halfSpreadCost': '0.2483', 'fullVWAP': '1.49007', 'reason': 'MARKET_ORDER', 'tradeOpened': {'price': '1.49007', 'tradeID': '1177', 'units': '2060', 'guaranteedExecutionFee': '0.0000', 'quoteGuaranteedExecutionFee': '0', 'halfSpreadCost': '0.2483', 'initialMarginRequired': '44.8425'}, 'fullPrice': {'closeoutBid': '1.48974', 'closeoutAsk': '1.49007', 'timestamp': '2023-11-14T20:46:00.657288025Z', 'bids': [{'price': '1.48974', 'liquidity': '10000000'}], 'asks': [{'price': '1.49007', 'liquidity': '10000000'}]}, 'homeConversionFactors': {'gainQuoteHome': {'factor': '0.72685833117442'}, 'lossQuoteHome': {'factor': '0.73416344003044'}, 'gainBaseHome': {'factor': '1.08296795'}, 'lossBaseHome': {'factor': '1.09385205'}}}, 'relatedTransactionIDs': ['1176', '1177', '1178', '1179'], 'lastTransactionID': '1179'}\n"
          ]
        },
        {
          "name": "stderr",
          "output_type": "stream",
          "text": [
            "Run time of job \"trading_job (trigger: cron[day_of_week='mon-fri', hour='0-23', minute='1,16,31,46'], next run at: 2023-11-14 14:31:00 PST)\" was missed by 0:08:11.603440\n",
            "Run time of job \"trading_job (trigger: cron[day_of_week='mon-fri', hour='0-23', minute='1,16,31,46'], next run at: 2023-11-14 14:31:00 PST)\" was missed by 0:08:11.624179\n",
            "Run time of job \"trading_job (trigger: cron[day_of_week='mon-fri', hour='0-23', minute='1,16,31,46'], next run at: 2023-11-14 14:31:00 PST)\" was missed by 0:08:11.629494\n",
            "Run time of job \"trading_job (trigger: cron[day_of_week='mon-fri', hour='0-23', minute='1,16,31,46'], next run at: 2023-11-14 14:31:00 PST)\" was missed by 0:08:11.629658\n",
            "Run time of job \"trading_job (trigger: cron[day_of_week='mon-fri', hour='0-23', minute='1,16,31,46'], next run at: 2023-11-14 14:31:00 PST)\" was missed by 0:08:11.629722\n",
            "Run time of job \"trading_job (trigger: cron[day_of_week='mon-fri', hour='0-23', minute='1,16,31,46'], next run at: 2023-11-14 14:31:00 PST)\" was missed by 0:08:11.629819\n",
            "Run time of job \"trading_job (trigger: cron[day_of_week='mon-fri', hour='0-23', minute='1,16,31,46'], next run at: 2023-11-14 14:31:00 PST)\" was missed by 0:08:11.630666\n",
            "Run time of job \"trading_job (trigger: cron[day_of_week='mon-fri', hour='0-23', minute='1,16,31,46'], next run at: 2023-11-14 14:31:00 PST)\" was missed by 0:08:11.630716\n",
            "Run time of job \"trading_job (trigger: cron[day_of_week='mon-fri', hour='0-23', minute='1,16,31,46'], next run at: 2023-11-14 14:31:00 PST)\" was missed by 0:08:11.630882\n",
            "Run time of job \"trading_job (trigger: cron[day_of_week='mon-fri', hour='0-23', minute='1,16,31,46'], next run at: 2023-11-14 14:31:00 PST)\" was missed by 0:08:11.631001\n",
            "Run time of job \"trading_job (trigger: cron[day_of_week='mon-fri', hour='0-23', minute='1,16,31,46'], next run at: 2023-11-14 14:31:00 PST)\" was missed by 0:08:11.631379\n",
            "Run time of job \"trading_job (trigger: cron[day_of_week='mon-fri', hour='0-23', minute='1,16,31,46'], next run at: 2023-11-14 14:31:00 PST)\" was missed by 0:08:11.631752\n",
            "Run time of job \"trading_job (trigger: cron[day_of_week='mon-fri', hour='0-23', minute='1,16,31,46'], next run at: 2023-11-14 14:31:00 PST)\" was missed by 0:08:11.632447\n",
            "Run time of job \"trading_job (trigger: cron[day_of_week='mon-fri', hour='0-23', minute='1,16,31,46'], next run at: 2023-11-14 14:31:00 PST)\" was missed by 0:08:11.632967\n",
            "Run time of job \"trading_job (trigger: cron[day_of_week='mon-fri', hour='0-23', minute='1,16,31,46'], next run at: 2023-11-14 14:31:00 PST)\" was missed by 0:08:11.633634\n",
            "Run time of job \"trading_job (trigger: cron[day_of_week='mon-fri', hour='0-23', minute='1,16,31,46'], next run at: 2023-11-14 14:31:00 PST)\" was missed by 0:08:11.634526\n",
            "Run time of job \"trading_job (trigger: cron[day_of_week='mon-fri', hour='0-23', minute='1,16,31,46'], next run at: 2023-11-14 14:31:00 PST)\" was missed by 0:08:11.634917\n",
            "Run time of job \"trading_job (trigger: cron[day_of_week='mon-fri', hour='0-23', minute='1,16,31,46'], next run at: 2023-11-14 14:31:00 PST)\" was missed by 0:08:11.635310\n",
            "Run time of job \"trading_job (trigger: cron[day_of_week='mon-fri', hour='0-23', minute='1,16,31,46'], next run at: 2023-11-14 14:31:00 PST)\" was missed by 0:08:11.635810\n",
            "Run time of job \"trading_job (trigger: cron[day_of_week='mon-fri', hour='0-23', minute='1,16,31,46'], next run at: 2023-11-14 14:31:00 PST)\" was missed by 0:08:11.636206\n",
            "Run time of job \"trading_job (trigger: cron[day_of_week='mon-fri', hour='0-23', minute='1,16,31,46'], next run at: 2023-11-14 14:31:00 PST)\" was missed by 0:08:11.636642\n",
            "Run time of job \"trading_job (trigger: cron[day_of_week='mon-fri', hour='0-23', minute='1,16,31,46'], next run at: 2023-11-14 14:31:00 PST)\" was missed by 0:08:11.637033\n",
            "Run time of job \"trading_job (trigger: cron[day_of_week='mon-fri', hour='0-23', minute='1,16,31,46'], next run at: 2023-11-14 14:31:00 PST)\" was missed by 0:08:11.637442\n",
            "Run time of job \"trading_job (trigger: cron[day_of_week='mon-fri', hour='0-23', minute='1,16,31,46'], next run at: 2023-11-14 14:31:00 PST)\" was missed by 0:08:11.637816\n",
            "Run time of job \"trading_job (trigger: cron[day_of_week='mon-fri', hour='0-23', minute='1,16,31,46'], next run at: 2023-11-14 14:31:00 PST)\" was missed by 0:08:11.638189\n",
            "Run time of job \"trading_job (trigger: cron[day_of_week='mon-fri', hour='0-23', minute='1,16,31,46'], next run at: 2023-11-14 14:31:00 PST)\" was missed by 0:08:11.638576\n",
            "Run time of job \"trading_job (trigger: cron[day_of_week='mon-fri', hour='0-23', minute='1,16,31,46'], next run at: 2023-11-14 14:46:00 PST)\" was missed by 0:00:23.858662\n",
            "Run time of job \"trading_job (trigger: cron[day_of_week='mon-fri', hour='0-23', minute='1,16,31,46'], next run at: 2023-11-14 14:46:00 PST)\" was missed by 0:00:23.861405\n",
            "Run time of job \"trading_job (trigger: cron[day_of_week='mon-fri', hour='0-23', minute='1,16,31,46'], next run at: 2023-11-14 14:46:00 PST)\" was missed by 0:00:23.864894\n",
            "Run time of job \"trading_job (trigger: cron[day_of_week='mon-fri', hour='0-23', minute='1,16,31,46'], next run at: 2023-11-14 14:46:00 PST)\" was missed by 0:00:23.865096\n",
            "Run time of job \"trading_job (trigger: cron[day_of_week='mon-fri', hour='0-23', minute='1,16,31,46'], next run at: 2023-11-14 14:46:00 PST)\" was missed by 0:00:23.865622\n",
            "Run time of job \"trading_job (trigger: cron[day_of_week='mon-fri', hour='0-23', minute='1,16,31,46'], next run at: 2023-11-14 14:46:00 PST)\" was missed by 0:00:23.865870\n",
            "Run time of job \"trading_job (trigger: cron[day_of_week='mon-fri', hour='0-23', minute='1,16,31,46'], next run at: 2023-11-14 14:46:00 PST)\" was missed by 0:00:23.866441\n",
            "Run time of job \"trading_job (trigger: cron[day_of_week='mon-fri', hour='0-23', minute='1,16,31,46'], next run at: 2023-11-14 14:46:00 PST)\" was missed by 0:00:23.866809\n",
            "Run time of job \"trading_job (trigger: cron[day_of_week='mon-fri', hour='0-23', minute='1,16,31,46'], next run at: 2023-11-14 14:46:00 PST)\" was missed by 0:00:23.867046\n",
            "Run time of job \"trading_job (trigger: cron[day_of_week='mon-fri', hour='0-23', minute='1,16,31,46'], next run at: 2023-11-14 14:46:00 PST)\" was missed by 0:00:23.867637\n",
            "Run time of job \"trading_job (trigger: cron[day_of_week='mon-fri', hour='0-23', minute='1,16,31,46'], next run at: 2023-11-14 14:46:00 PST)\" was missed by 0:00:23.867790\n",
            "Run time of job \"trading_job (trigger: cron[day_of_week='mon-fri', hour='0-23', minute='1,16,31,46'], next run at: 2023-11-14 14:46:00 PST)\" was missed by 0:00:23.867888\n",
            "Run time of job \"trading_job (trigger: cron[day_of_week='mon-fri', hour='0-23', minute='1,16,31,46'], next run at: 2023-11-14 14:46:00 PST)\" was missed by 0:00:23.869320\n",
            "Run time of job \"trading_job (trigger: cron[day_of_week='mon-fri', hour='0-23', minute='1,16,31,46'], next run at: 2023-11-14 14:46:00 PST)\" was missed by 0:00:23.870611\n",
            "Run time of job \"trading_job (trigger: cron[day_of_week='mon-fri', hour='0-23', minute='1,16,31,46'], next run at: 2023-11-14 14:46:00 PST)\" was missed by 0:00:23.871744\n",
            "Run time of job \"trading_job (trigger: cron[day_of_week='mon-fri', hour='0-23', minute='1,16,31,46'], next run at: 2023-11-14 14:46:00 PST)\" was missed by 0:00:23.872897\n",
            "Run time of job \"trading_job (trigger: cron[day_of_week='mon-fri', hour='0-23', minute='1,16,31,46'], next run at: 2023-11-14 14:46:00 PST)\" was missed by 0:00:23.874164\n",
            "Run time of job \"trading_job (trigger: cron[day_of_week='mon-fri', hour='0-23', minute='1,16,31,46'], next run at: 2023-11-14 14:46:00 PST)\" was missed by 0:00:23.875332\n",
            "Run time of job \"trading_job (trigger: cron[day_of_week='mon-fri', hour='0-23', minute='1,16,31,46'], next run at: 2023-11-14 14:46:00 PST)\" was missed by 0:00:23.877285\n",
            "Run time of job \"trading_job (trigger: cron[day_of_week='mon-fri', hour='0-23', minute='1,16,31,46'], next run at: 2023-11-14 14:46:00 PST)\" was missed by 0:00:23.878604\n",
            "Run time of job \"trading_job (trigger: cron[day_of_week='mon-fri', hour='0-23', minute='1,16,31,46'], next run at: 2023-11-14 14:46:00 PST)\" was missed by 0:00:23.879692\n",
            "Run time of job \"trading_job (trigger: cron[day_of_week='mon-fri', hour='0-23', minute='1,16,31,46'], next run at: 2023-11-14 14:46:00 PST)\" was missed by 0:00:23.881075\n",
            "Run time of job \"trading_job (trigger: cron[day_of_week='mon-fri', hour='0-23', minute='1,16,31,46'], next run at: 2023-11-14 14:46:00 PST)\" was missed by 0:00:23.882071\n",
            "Run time of job \"trading_job (trigger: cron[day_of_week='mon-fri', hour='0-23', minute='1,16,31,46'], next run at: 2023-11-14 14:46:00 PST)\" was missed by 0:00:23.883468\n",
            "Run time of job \"trading_job (trigger: cron[day_of_week='mon-fri', hour='0-23', minute='1,16,31,46'], next run at: 2023-11-14 14:46:00 PST)\" was missed by 0:00:23.884664\n",
            "Run time of job \"trading_job (trigger: cron[day_of_week='mon-fri', hour='0-23', minute='1,16,31,46'], next run at: 2023-11-14 14:46:00 PST)\" was missed by 0:00:23.885261\n",
            "Run time of job \"trading_job (trigger: cron[day_of_week='mon-fri', hour='0-23', minute='1,16,31,46'], next run at: 2023-11-14 15:01:00 PST)\" was missed by 0:00:01.096276\n",
            "Run time of job \"trading_job (trigger: cron[day_of_week='mon-fri', hour='0-23', minute='1,16,31,46'], next run at: 2023-11-14 15:01:00 PST)\" was missed by 0:00:01.105827\n",
            "Run time of job \"trading_job (trigger: cron[day_of_week='mon-fri', hour='0-23', minute='1,16,31,46'], next run at: 2023-11-14 15:01:00 PST)\" was missed by 0:00:01.107295\n",
            "Run time of job \"trading_job (trigger: cron[day_of_week='mon-fri', hour='0-23', minute='1,16,31,46'], next run at: 2023-11-14 15:01:00 PST)\" was missed by 0:00:01.107863\n",
            "Run time of job \"trading_job (trigger: cron[day_of_week='mon-fri', hour='0-23', minute='1,16,31,46'], next run at: 2023-11-14 15:01:00 PST)\" was missed by 0:00:01.108222\n",
            "Run time of job \"trading_job (trigger: cron[day_of_week='mon-fri', hour='0-23', minute='1,16,31,46'], next run at: 2023-11-14 15:01:00 PST)\" was missed by 0:00:01.108564\n",
            "Run time of job \"trading_job (trigger: cron[day_of_week='mon-fri', hour='0-23', minute='1,16,31,46'], next run at: 2023-11-14 15:16:00 PST)\" was missed by 0:01:08.937957\n",
            "Run time of job \"trading_job (trigger: cron[day_of_week='mon-fri', hour='0-23', minute='1,16,31,46'], next run at: 2023-11-14 15:16:00 PST)\" was missed by 0:01:08.943370\n",
            "Run time of job \"trading_job (trigger: cron[day_of_week='mon-fri', hour='0-23', minute='1,16,31,46'], next run at: 2023-11-14 15:16:00 PST)\" was missed by 0:01:08.946700\n",
            "Run time of job \"trading_job (trigger: cron[day_of_week='mon-fri', hour='0-23', minute='1,16,31,46'], next run at: 2023-11-14 15:16:00 PST)\" was missed by 0:01:08.947280\n",
            "Run time of job \"trading_job (trigger: cron[day_of_week='mon-fri', hour='0-23', minute='1,16,31,46'], next run at: 2023-11-14 15:16:00 PST)\" was missed by 0:01:08.947650\n",
            "Run time of job \"trading_job (trigger: cron[day_of_week='mon-fri', hour='0-23', minute='1,16,31,46'], next run at: 2023-11-14 15:16:00 PST)\" was missed by 0:01:08.947820\n",
            "Run time of job \"trading_job (trigger: cron[day_of_week='mon-fri', hour='0-23', minute='1,16,31,46'], next run at: 2023-11-14 15:16:00 PST)\" was missed by 0:01:08.948004\n",
            "Run time of job \"trading_job (trigger: cron[day_of_week='mon-fri', hour='0-23', minute='1,16,31,46'], next run at: 2023-11-14 15:16:00 PST)\" was missed by 0:01:08.948276\n",
            "Run time of job \"trading_job (trigger: cron[day_of_week='mon-fri', hour='0-23', minute='1,16,31,46'], next run at: 2023-11-14 15:16:00 PST)\" was missed by 0:01:08.948702\n",
            "Run time of job \"trading_job (trigger: cron[day_of_week='mon-fri', hour='0-23', minute='1,16,31,46'], next run at: 2023-11-14 15:16:00 PST)\" was missed by 0:01:08.948928\n",
            "Run time of job \"trading_job (trigger: cron[day_of_week='mon-fri', hour='0-23', minute='1,16,31,46'], next run at: 2023-11-14 15:16:00 PST)\" was missed by 0:01:08.951236\n",
            "Run time of job \"trading_job (trigger: cron[day_of_week='mon-fri', hour='0-23', minute='1,16,31,46'], next run at: 2023-11-14 15:16:00 PST)\" was missed by 0:01:08.953225\n",
            "Run time of job \"trading_job (trigger: cron[day_of_week='mon-fri', hour='0-23', minute='1,16,31,46'], next run at: 2023-11-14 15:16:00 PST)\" was missed by 0:01:08.954774\n",
            "Run time of job \"trading_job (trigger: cron[day_of_week='mon-fri', hour='0-23', minute='1,16,31,46'], next run at: 2023-11-14 15:16:00 PST)\" was missed by 0:01:08.956426\n",
            "Run time of job \"trading_job (trigger: cron[day_of_week='mon-fri', hour='0-23', minute='1,16,31,46'], next run at: 2023-11-14 15:16:00 PST)\" was missed by 0:01:08.957455\n",
            "Run time of job \"trading_job (trigger: cron[day_of_week='mon-fri', hour='0-23', minute='1,16,31,46'], next run at: 2023-11-14 15:16:00 PST)\" was missed by 0:01:08.958179\n",
            "Run time of job \"trading_job (trigger: cron[day_of_week='mon-fri', hour='0-23', minute='1,16,31,46'], next run at: 2023-11-14 15:16:00 PST)\" was missed by 0:01:08.959065\n",
            "Run time of job \"trading_job (trigger: cron[day_of_week='mon-fri', hour='0-23', minute='1,16,31,46'], next run at: 2023-11-14 15:16:00 PST)\" was missed by 0:01:08.959816\n",
            "Run time of job \"trading_job (trigger: cron[day_of_week='mon-fri', hour='0-23', minute='1,16,31,46'], next run at: 2023-11-14 15:16:00 PST)\" was missed by 0:01:08.960823\n",
            "Run time of job \"trading_job (trigger: cron[day_of_week='mon-fri', hour='0-23', minute='1,16,31,46'], next run at: 2023-11-14 15:16:00 PST)\" was missed by 0:01:08.961497\n",
            "Run time of job \"trading_job (trigger: cron[day_of_week='mon-fri', hour='0-23', minute='1,16,31,46'], next run at: 2023-11-14 15:16:00 PST)\" was missed by 0:01:08.962382\n",
            "Run time of job \"trading_job (trigger: cron[day_of_week='mon-fri', hour='0-23', minute='1,16,31,46'], next run at: 2023-11-14 15:16:00 PST)\" was missed by 0:01:08.963354\n",
            "Run time of job \"trading_job (trigger: cron[day_of_week='mon-fri', hour='0-23', minute='1,16,31,46'], next run at: 2023-11-14 15:16:00 PST)\" was missed by 0:01:08.964101\n",
            "Run time of job \"trading_job (trigger: cron[day_of_week='mon-fri', hour='0-23', minute='1,16,31,46'], next run at: 2023-11-14 15:16:00 PST)\" was missed by 0:01:08.964815\n",
            "Run time of job \"trading_job (trigger: cron[day_of_week='mon-fri', hour='0-23', minute='1,16,31,46'], next run at: 2023-11-14 15:16:00 PST)\" was missed by 0:01:08.965727\n",
            "Run time of job \"trading_job (trigger: cron[day_of_week='mon-fri', hour='0-23', minute='1,16,31,46'], next run at: 2023-11-14 15:16:00 PST)\" was missed by 0:01:08.966589\n"
          ]
        }
      ],
      "source": [
        "# for i in range (len(list_of_str_currency)):\n",
        "#     trading_job(currency_pairs[i],list_of_str_currency[i])\n",
        "\n",
        "scheduler = BlockingScheduler()\n",
        "for i in range (len(currency_pairs)):\n",
        "    scheduler.add_job(trading_job, 'cron', args = [currency_pairs[i],list_of_str_currency[i]], day_of_week='mon-fri', hour='00-23', minute='1,16,31,46', start_date='2022-01-12 12:00:00')\n",
        "scheduler.start()\n"
      ]
    },
    {
      "cell_type": "code",
      "execution_count": 10,
      "metadata": {},
      "outputs": [
        {
          "data": {
            "text/plain": [
              "-       9209\n",
              "Buy      397\n",
              "Sell     394\n",
              "Name: count, dtype: int64"
            ]
          },
          "execution_count": 10,
          "metadata": {},
          "output_type": "execute_result"
        }
      ],
      "source": [
        "da= pd.read_csv(\"EURUSD_Candlestick_5_M_ASK_30.09.2019-30.09.2022.csv\")\n",
        "da = da[:10000]\n",
        "signals = []\n",
        "\n",
        "for i in range(0, len(da)):\n",
        "    \n",
        "    block = da.iloc[i:i+15].copy()\n",
        "    calculate_vwap(block)\n",
        "    calculate_bollinger_bands(block)\n",
        "    calculate_rsi(block)\n",
        "    block = block.reset_index(drop=True)\n",
        "    if not block.empty:\n",
        "        signal = signal_generator(block)\n",
        "        signals.append(signal)\n",
        "x = pd.Series(signals)\n",
        "x.value_counts()\n"
      ]
    },
    {
      "cell_type": "code",
      "execution_count": 8,
      "metadata": {},
      "outputs": [],
      "source": [
        "#consider making 65 / 35 RSI + 1 and make above 70 / 30 as + 2 ssss"
      ]
    }
  ],
  "metadata": {
    "colab": {
      "provenance": []
    },
    "kernelspec": {
      "display_name": "Python 3.10.8 64-bit",
      "language": "python",
      "name": "python3"
    },
    "language_info": {
      "codemirror_mode": {
        "name": "ipython",
        "version": 3
      },
      "file_extension": ".py",
      "mimetype": "text/x-python",
      "name": "python",
      "nbconvert_exporter": "python",
      "pygments_lexer": "ipython3",
      "version": "3.10.11"
    },
    "vscode": {
      "interpreter": {
        "hash": "c0ff92a541b5eb8a0f75470c34280cf0dea79e8b819847822bd36e33345fddf3"
      }
    }
  },
  "nbformat": 4,
  "nbformat_minor": 0
}
