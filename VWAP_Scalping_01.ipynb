{
 "cells": [
  {
   "cell_type": "code",
   "execution_count": 24,
   "id": "33303e37",
   "metadata": {},
   "outputs": [
    {
     "data": {
      "text/html": [
       "<div>\n",
       "<style scoped>\n",
       "    .dataframe tbody tr th:only-of-type {\n",
       "        vertical-align: middle;\n",
       "    }\n",
       "\n",
       "    .dataframe tbody tr th {\n",
       "        vertical-align: top;\n",
       "    }\n",
       "\n",
       "    .dataframe thead th {\n",
       "        text-align: right;\n",
       "    }\n",
       "</style>\n",
       "<table border=\"1\" class=\"dataframe\">\n",
       "  <thead>\n",
       "    <tr style=\"text-align: right;\">\n",
       "      <th></th>\n",
       "      <th>Gmt time</th>\n",
       "      <th>Open</th>\n",
       "      <th>High</th>\n",
       "      <th>Low</th>\n",
       "      <th>Close</th>\n",
       "      <th>Volume</th>\n",
       "    </tr>\n",
       "  </thead>\n",
       "  <tbody>\n",
       "    <tr>\n",
       "      <th>0</th>\n",
       "      <td>30.09.2019 00:00:00.000</td>\n",
       "      <td>1.09425</td>\n",
       "      <td>1.09426</td>\n",
       "      <td>1.09405</td>\n",
       "      <td>1.09406</td>\n",
       "      <td>585.10</td>\n",
       "    </tr>\n",
       "    <tr>\n",
       "      <th>1</th>\n",
       "      <td>30.09.2019 00:05:00.000</td>\n",
       "      <td>1.09408</td>\n",
       "      <td>1.09414</td>\n",
       "      <td>1.09401</td>\n",
       "      <td>1.09409</td>\n",
       "      <td>289.39</td>\n",
       "    </tr>\n",
       "    <tr>\n",
       "      <th>2</th>\n",
       "      <td>30.09.2019 00:10:00.000</td>\n",
       "      <td>1.09410</td>\n",
       "      <td>1.09423</td>\n",
       "      <td>1.09408</td>\n",
       "      <td>1.09410</td>\n",
       "      <td>276.24</td>\n",
       "    </tr>\n",
       "    <tr>\n",
       "      <th>3</th>\n",
       "      <td>30.09.2019 00:15:00.000</td>\n",
       "      <td>1.09409</td>\n",
       "      <td>1.09410</td>\n",
       "      <td>1.09388</td>\n",
       "      <td>1.09389</td>\n",
       "      <td>439.29</td>\n",
       "    </tr>\n",
       "    <tr>\n",
       "      <th>4</th>\n",
       "      <td>30.09.2019 00:20:00.000</td>\n",
       "      <td>1.09390</td>\n",
       "      <td>1.09395</td>\n",
       "      <td>1.09388</td>\n",
       "      <td>1.09395</td>\n",
       "      <td>341.23</td>\n",
       "    </tr>\n",
       "    <tr>\n",
       "      <th>...</th>\n",
       "      <td>...</td>\n",
       "      <td>...</td>\n",
       "      <td>...</td>\n",
       "      <td>...</td>\n",
       "      <td>...</td>\n",
       "      <td>...</td>\n",
       "    </tr>\n",
       "    <tr>\n",
       "      <th>225081</th>\n",
       "      <td>30.09.2022 20:35:00.000</td>\n",
       "      <td>0.98028</td>\n",
       "      <td>0.98034</td>\n",
       "      <td>0.98001</td>\n",
       "      <td>0.98022</td>\n",
       "      <td>624.12</td>\n",
       "    </tr>\n",
       "    <tr>\n",
       "      <th>225082</th>\n",
       "      <td>30.09.2022 20:40:00.000</td>\n",
       "      <td>0.98023</td>\n",
       "      <td>0.98047</td>\n",
       "      <td>0.98007</td>\n",
       "      <td>0.98030</td>\n",
       "      <td>408.20</td>\n",
       "    </tr>\n",
       "    <tr>\n",
       "      <th>225083</th>\n",
       "      <td>30.09.2022 20:45:00.000</td>\n",
       "      <td>0.98026</td>\n",
       "      <td>0.98034</td>\n",
       "      <td>0.98019</td>\n",
       "      <td>0.98031</td>\n",
       "      <td>317.29</td>\n",
       "    </tr>\n",
       "    <tr>\n",
       "      <th>225084</th>\n",
       "      <td>30.09.2022 20:50:00.000</td>\n",
       "      <td>0.98031</td>\n",
       "      <td>0.98067</td>\n",
       "      <td>0.97987</td>\n",
       "      <td>0.97999</td>\n",
       "      <td>1472.13</td>\n",
       "    </tr>\n",
       "    <tr>\n",
       "      <th>225085</th>\n",
       "      <td>30.09.2022 20:55:00.000</td>\n",
       "      <td>0.98000</td>\n",
       "      <td>0.98066</td>\n",
       "      <td>0.97993</td>\n",
       "      <td>0.98026</td>\n",
       "      <td>1068.81</td>\n",
       "    </tr>\n",
       "  </tbody>\n",
       "</table>\n",
       "<p>225086 rows × 6 columns</p>\n",
       "</div>"
      ],
      "text/plain": [
       "                       Gmt time     Open     High      Low    Close   Volume\n",
       "0       30.09.2019 00:00:00.000  1.09425  1.09426  1.09405  1.09406   585.10\n",
       "1       30.09.2019 00:05:00.000  1.09408  1.09414  1.09401  1.09409   289.39\n",
       "2       30.09.2019 00:10:00.000  1.09410  1.09423  1.09408  1.09410   276.24\n",
       "3       30.09.2019 00:15:00.000  1.09409  1.09410  1.09388  1.09389   439.29\n",
       "4       30.09.2019 00:20:00.000  1.09390  1.09395  1.09388  1.09395   341.23\n",
       "...                         ...      ...      ...      ...      ...      ...\n",
       "225081  30.09.2022 20:35:00.000  0.98028  0.98034  0.98001  0.98022   624.12\n",
       "225082  30.09.2022 20:40:00.000  0.98023  0.98047  0.98007  0.98030   408.20\n",
       "225083  30.09.2022 20:45:00.000  0.98026  0.98034  0.98019  0.98031   317.29\n",
       "225084  30.09.2022 20:50:00.000  0.98031  0.98067  0.97987  0.97999  1472.13\n",
       "225085  30.09.2022 20:55:00.000  0.98000  0.98066  0.97993  0.98026  1068.81\n",
       "\n",
       "[225086 rows x 6 columns]"
      ]
     },
     "execution_count": 24,
     "metadata": {},
     "output_type": "execute_result"
    }
   ],
   "source": [
    "import pandas as pd\n",
    "df=pd.read_csv(\"EURUSD_Candlestick_5_M_ASK_30.09.2019-30.09.2022.csv\")\n",
    "df"
   ]
  },
  {
   "cell_type": "code",
   "execution_count": 25,
   "id": "c3f880ce",
   "metadata": {},
   "outputs": [
    {
     "data": {
      "text/plain": [
       "224989"
      ]
     },
     "execution_count": 25,
     "metadata": {},
     "output_type": "execute_result"
    }
   ],
   "source": [
    "df[\"Gmt time\"]=df[\"Gmt time\"].str.replace(\".000\",\"\")\n",
    "df['Gmt time']=pd.to_datetime(df['Gmt time'],format='%d.%m.%Y %H:%M:%S')\n",
    "df.set_index(\"Gmt time\", inplace=True)\n",
    "df=df[df.High!=df.Low]\n",
    "len(df)"
   ]
  },
  {
   "cell_type": "code",
   "execution_count": 26,
   "id": "d3eb031c",
   "metadata": {},
   "outputs": [
    {
     "name": "stderr",
     "output_type": "stream",
     "text": [
      "/var/folders/k2/1_w7z8xn0fb3dh35c1nd4k5c0000gn/T/ipykernel_30254/3882960619.py:2: SettingWithCopyWarning:\n",
      "\n",
      "\n",
      "A value is trying to be set on a copy of a slice from a DataFrame.\n",
      "Try using .loc[row_indexer,col_indexer] = value instead\n",
      "\n",
      "See the caveats in the documentation: https://pandas.pydata.org/pandas-docs/stable/user_guide/indexing.html#returning-a-view-versus-a-copy\n",
      "\n",
      "/var/folders/k2/1_w7z8xn0fb3dh35c1nd4k5c0000gn/T/ipykernel_30254/3882960619.py:3: SettingWithCopyWarning:\n",
      "\n",
      "\n",
      "A value is trying to be set on a copy of a slice from a DataFrame.\n",
      "Try using .loc[row_indexer,col_indexer] = value instead\n",
      "\n",
      "See the caveats in the documentation: https://pandas.pydata.org/pandas-docs/stable/user_guide/indexing.html#returning-a-view-versus-a-copy\n",
      "\n"
     ]
    }
   ],
   "source": [
    "import pandas_ta as ta\n",
    "df[\"VWAP\"]=ta.vwap(df.High, df.Low, df.Close, df.Volume)\n",
    "df['RSI']=ta.rsi(df.Close, length=16)\n",
    "my_bbands = ta.bbands(df.Close, length=14, std=2.0)\n",
    "df=df.join(my_bbands)"
   ]
  },
  {
   "cell_type": "code",
   "execution_count": 27,
   "id": "6d2cc33a",
   "metadata": {},
   "outputs": [
    {
     "name": "stderr",
     "output_type": "stream",
     "text": [
      "/var/folders/k2/1_w7z8xn0fb3dh35c1nd4k5c0000gn/T/ipykernel_30254/1708043003.py:8: FutureWarning:\n",
      "\n",
      "Series.__getitem__ treating keys as positions is deprecated. In a future version, integer keys will always be treated as labels (consistent with DataFrame behavior). To access a value by position, use `ser.iloc[pos]`\n",
      "\n",
      "/var/folders/k2/1_w7z8xn0fb3dh35c1nd4k5c0000gn/T/ipykernel_30254/1708043003.py:10: FutureWarning:\n",
      "\n",
      "Series.__getitem__ treating keys as positions is deprecated. In a future version, integer keys will always be treated as labels (consistent with DataFrame behavior). To access a value by position, use `ser.iloc[pos]`\n",
      "\n"
     ]
    }
   ],
   "source": [
    "VWAPsignal = [0]*len(df)\n",
    "backcandles = 15\n",
    "\n",
    "for row in range(backcandles, len(df)):\n",
    "    upt = 1\n",
    "    dnt = 1\n",
    "    for i in range(row-backcandles, row+1):\n",
    "        if max(df.Open[i], df.Close[i])>=df.VWAP[i]:\n",
    "            dnt=0\n",
    "        if min(df.Open[i], df.Close[i])<=df.VWAP[i]:\n",
    "            upt=0\n",
    "    if upt==1 and dnt==1:\n",
    "        VWAPsignal[row]=3\n",
    "    elif upt==1:\n",
    "        VWAPsignal[row]=2\n",
    "    elif dnt==1:\n",
    "        VWAPsignal[row]=1\n",
    "\n",
    "df['VWAPSignal'] = VWAPsignal"
   ]
  },
  {
   "cell_type": "code",
   "execution_count": 30,
   "id": "9a9981d6",
   "metadata": {},
   "outputs": [
    {
     "name": "stderr",
     "output_type": "stream",
     "text": [
      "/var/folders/k2/1_w7z8xn0fb3dh35c1nd4k5c0000gn/T/ipykernel_30254/2761151124.py:2: FutureWarning:\n",
      "\n",
      "Series.__getitem__ treating keys as positions is deprecated. In a future version, integer keys will always be treated as labels (consistent with DataFrame behavior). To access a value by position, use `ser.iloc[pos]`\n",
      "\n",
      "/var/folders/k2/1_w7z8xn0fb3dh35c1nd4k5c0000gn/T/ipykernel_30254/2761151124.py:6: FutureWarning:\n",
      "\n",
      "Series.__getitem__ treating keys as positions is deprecated. In a future version, integer keys will always be treated as labels (consistent with DataFrame behavior). To access a value by position, use `ser.iloc[pos]`\n",
      "\n",
      "/var/folders/k2/1_w7z8xn0fb3dh35c1nd4k5c0000gn/T/ipykernel_30254/2761151124.py:7: FutureWarning:\n",
      "\n",
      "Series.__getitem__ treating keys as positions is deprecated. In a future version, integer keys will always be treated as labels (consistent with DataFrame behavior). To access a value by position, use `ser.iloc[pos]`\n",
      "\n",
      "/var/folders/k2/1_w7z8xn0fb3dh35c1nd4k5c0000gn/T/ipykernel_30254/2761151124.py:3: FutureWarning:\n",
      "\n",
      "Series.__getitem__ treating keys as positions is deprecated. In a future version, integer keys will always be treated as labels (consistent with DataFrame behavior). To access a value by position, use `ser.iloc[pos]`\n",
      "\n",
      "/var/folders/k2/1_w7z8xn0fb3dh35c1nd4k5c0000gn/T/ipykernel_30254/2761151124.py:4: FutureWarning:\n",
      "\n",
      "Series.__getitem__ treating keys as positions is deprecated. In a future version, integer keys will always be treated as labels (consistent with DataFrame behavior). To access a value by position, use `ser.iloc[pos]`\n",
      "\n",
      "/var/folders/k2/1_w7z8xn0fb3dh35c1nd4k5c0000gn/T/ipykernel_30254/2761151124.py:8: FutureWarning:\n",
      "\n",
      "Series.__getitem__ treating keys as positions is deprecated. In a future version, integer keys will always be treated as labels (consistent with DataFrame behavior). To access a value by position, use `ser.iloc[pos]`\n",
      "\n"
     ]
    }
   ],
   "source": [
    "def TotalSignal(l):\n",
    "    if (df.VWAPSignal[l]==2\n",
    "        and df.Close[l]<=df['BBL_14_2.0'][l]\n",
    "        and df.RSI[l]<45):\n",
    "            return 2\n",
    "    if (df.VWAPSignal[l]==1\n",
    "        and df.Close[l]>=df['BBU_14_2.0'][l]\n",
    "        and df.RSI[l]>55):\n",
    "            return 1\n",
    "    return 0\n",
    "        \n",
    "TotSignal = [0]*len(df)\n",
    "for row in range(backcandles, len(df)): #careful backcandles used previous cell\n",
    "    TotSignal[row] = TotalSignal(row)\n",
    "df['TotalSignal'] = TotSignal"
   ]
  },
  {
   "cell_type": "code",
   "execution_count": 31,
   "id": "65435b94",
   "metadata": {},
   "outputs": [
    {
     "data": {
      "text/plain": [
       "Open           2781\n",
       "High           2781\n",
       "Low            2781\n",
       "Close          2781\n",
       "Volume         2781\n",
       "VWAP           2781\n",
       "RSI            2781\n",
       "BBL_14_2.0     2781\n",
       "BBM_14_2.0     2781\n",
       "BBU_14_2.0     2781\n",
       "BBB_14_2.0     2781\n",
       "BBP_14_2.0     2781\n",
       "VWAPSignal     2781\n",
       "TotalSignal    2781\n",
       "dtype: int64"
      ]
     },
     "execution_count": 31,
     "metadata": {},
     "output_type": "execute_result"
    }
   ],
   "source": [
    "df[df.TotalSignal!=0].count()"
   ]
  },
  {
   "cell_type": "code",
   "execution_count": 32,
   "id": "e7080a9a",
   "metadata": {},
   "outputs": [],
   "source": [
    "import numpy as np\n",
    "def pointposbreak(x):\n",
    "    if x['TotalSignal']==1:\n",
    "        return x['High']+1e-4\n",
    "    elif x['TotalSignal']==2:\n",
    "        return x['Low']-1e-4\n",
    "    else:\n",
    "        return np.nan\n",
    "\n",
    "df['pointposbreak'] = df.apply(lambda row: pointposbreak(row), axis=1)"
   ]
  },
  {
   "cell_type": "code",
   "execution_count": 34,
   "id": "0d0e2a76",
   "metadata": {
    "scrolled": false
   },
   "outputs": [
    {
     "ename": "ValueError",
     "evalue": "Mime type rendering requires nbformat>=4.2.0 but it is not installed",
     "output_type": "error",
     "traceback": [
      "\u001b[0;31m---------------------------------------------------------------------------\u001b[0m",
      "\u001b[0;31mValueError\u001b[0m                                Traceback (most recent call last)",
      "\u001b[1;32m/Users/bobsprite/git/tradingbot/VWAP_Scalping_01.ipynb Cell 8\u001b[0m line \u001b[0;36m2\n\u001b[1;32m      <a href='vscode-notebook-cell:/Users/bobsprite/git/tradingbot/VWAP_Scalping_01.ipynb#X10sZmlsZQ%3D%3D?line=6'>7</a>\u001b[0m fig \u001b[39m=\u001b[39m go\u001b[39m.\u001b[39mFigure(data\u001b[39m=\u001b[39m[go\u001b[39m.\u001b[39mCandlestick(x\u001b[39m=\u001b[39mdfpl\u001b[39m.\u001b[39mindex,\n\u001b[1;32m      <a href='vscode-notebook-cell:/Users/bobsprite/git/tradingbot/VWAP_Scalping_01.ipynb#X10sZmlsZQ%3D%3D?line=7'>8</a>\u001b[0m                 \u001b[39mopen\u001b[39m\u001b[39m=\u001b[39mdfpl[\u001b[39m'\u001b[39m\u001b[39mOpen\u001b[39m\u001b[39m'\u001b[39m],\n\u001b[1;32m      <a href='vscode-notebook-cell:/Users/bobsprite/git/tradingbot/VWAP_Scalping_01.ipynb#X10sZmlsZQ%3D%3D?line=8'>9</a>\u001b[0m                 high\u001b[39m=\u001b[39mdfpl[\u001b[39m'\u001b[39m\u001b[39mHigh\u001b[39m\u001b[39m'\u001b[39m],\n\u001b[0;32m   (...)\u001b[0m\n\u001b[1;32m     <a href='vscode-notebook-cell:/Users/bobsprite/git/tradingbot/VWAP_Scalping_01.ipynb#X10sZmlsZQ%3D%3D?line=18'>19</a>\u001b[0m                            line\u001b[39m=\u001b[39m\u001b[39mdict\u001b[39m(color\u001b[39m=\u001b[39m\u001b[39m'\u001b[39m\u001b[39mgreen\u001b[39m\u001b[39m'\u001b[39m, width\u001b[39m=\u001b[39m\u001b[39m1\u001b[39m), \n\u001b[1;32m     <a href='vscode-notebook-cell:/Users/bobsprite/git/tradingbot/VWAP_Scalping_01.ipynb#X10sZmlsZQ%3D%3D?line=19'>20</a>\u001b[0m                            name\u001b[39m=\u001b[39m\u001b[39m\"\u001b[39m\u001b[39mBBU\u001b[39m\u001b[39m\"\u001b[39m)])\n\u001b[1;32m     <a href='vscode-notebook-cell:/Users/bobsprite/git/tradingbot/VWAP_Scalping_01.ipynb#X10sZmlsZQ%3D%3D?line=21'>22</a>\u001b[0m fig\u001b[39m.\u001b[39madd_scatter(x\u001b[39m=\u001b[39mdfpl\u001b[39m.\u001b[39mindex, y\u001b[39m=\u001b[39mdfpl[\u001b[39m'\u001b[39m\u001b[39mpointposbreak\u001b[39m\u001b[39m'\u001b[39m], mode\u001b[39m=\u001b[39m\u001b[39m\"\u001b[39m\u001b[39mmarkers\u001b[39m\u001b[39m\"\u001b[39m,\n\u001b[1;32m     <a href='vscode-notebook-cell:/Users/bobsprite/git/tradingbot/VWAP_Scalping_01.ipynb#X10sZmlsZQ%3D%3D?line=22'>23</a>\u001b[0m                 marker\u001b[39m=\u001b[39m\u001b[39mdict\u001b[39m(size\u001b[39m=\u001b[39m\u001b[39m10\u001b[39m, color\u001b[39m=\u001b[39m\u001b[39m\"\u001b[39m\u001b[39mMediumPurple\u001b[39m\u001b[39m\"\u001b[39m),\n\u001b[1;32m     <a href='vscode-notebook-cell:/Users/bobsprite/git/tradingbot/VWAP_Scalping_01.ipynb#X10sZmlsZQ%3D%3D?line=23'>24</a>\u001b[0m                 name\u001b[39m=\u001b[39m\u001b[39m\"\u001b[39m\u001b[39mSignal\u001b[39m\u001b[39m\"\u001b[39m)\n\u001b[0;32m---> <a href='vscode-notebook-cell:/Users/bobsprite/git/tradingbot/VWAP_Scalping_01.ipynb#X10sZmlsZQ%3D%3D?line=24'>25</a>\u001b[0m fig\u001b[39m.\u001b[39;49mshow()\n",
      "File \u001b[0;32m/Library/Frameworks/Python.framework/Versions/3.10/lib/python3.10/site-packages/plotly/basedatatypes.py:3410\u001b[0m, in \u001b[0;36mBaseFigure.show\u001b[0;34m(self, *args, **kwargs)\u001b[0m\n\u001b[1;32m   3377\u001b[0m \u001b[39m\u001b[39m\u001b[39m\"\"\"\u001b[39;00m\n\u001b[1;32m   3378\u001b[0m \u001b[39mShow a figure using either the default renderer(s) or the renderer(s)\u001b[39;00m\n\u001b[1;32m   3379\u001b[0m \u001b[39mspecified by the renderer argument\u001b[39;00m\n\u001b[0;32m   (...)\u001b[0m\n\u001b[1;32m   3406\u001b[0m \u001b[39mNone\u001b[39;00m\n\u001b[1;32m   3407\u001b[0m \u001b[39m\"\"\"\u001b[39;00m\n\u001b[1;32m   3408\u001b[0m \u001b[39mimport\u001b[39;00m \u001b[39mplotly\u001b[39;00m\u001b[39m.\u001b[39;00m\u001b[39mio\u001b[39;00m \u001b[39mas\u001b[39;00m \u001b[39mpio\u001b[39;00m\n\u001b[0;32m-> 3410\u001b[0m \u001b[39mreturn\u001b[39;00m pio\u001b[39m.\u001b[39;49mshow(\u001b[39mself\u001b[39;49m, \u001b[39m*\u001b[39;49margs, \u001b[39m*\u001b[39;49m\u001b[39m*\u001b[39;49mkwargs)\n",
      "File \u001b[0;32m/Library/Frameworks/Python.framework/Versions/3.10/lib/python3.10/site-packages/plotly/io/_renderers.py:394\u001b[0m, in \u001b[0;36mshow\u001b[0;34m(fig, renderer, validate, **kwargs)\u001b[0m\n\u001b[1;32m    389\u001b[0m         \u001b[39mraise\u001b[39;00m \u001b[39mValueError\u001b[39;00m(\n\u001b[1;32m    390\u001b[0m             \u001b[39m\"\u001b[39m\u001b[39mMime type rendering requires ipython but it is not installed\u001b[39m\u001b[39m\"\u001b[39m\n\u001b[1;32m    391\u001b[0m         )\n\u001b[1;32m    393\u001b[0m     \u001b[39mif\u001b[39;00m \u001b[39mnot\u001b[39;00m nbformat \u001b[39mor\u001b[39;00m Version(nbformat\u001b[39m.\u001b[39m__version__) \u001b[39m<\u001b[39m Version(\u001b[39m\"\u001b[39m\u001b[39m4.2.0\u001b[39m\u001b[39m\"\u001b[39m):\n\u001b[0;32m--> 394\u001b[0m         \u001b[39mraise\u001b[39;00m \u001b[39mValueError\u001b[39;00m(\n\u001b[1;32m    395\u001b[0m             \u001b[39m\"\u001b[39m\u001b[39mMime type rendering requires nbformat>=4.2.0 but it is not installed\u001b[39m\u001b[39m\"\u001b[39m\n\u001b[1;32m    396\u001b[0m         )\n\u001b[1;32m    398\u001b[0m     ipython_display\u001b[39m.\u001b[39mdisplay(bundle, raw\u001b[39m=\u001b[39m\u001b[39mTrue\u001b[39;00m)\n\u001b[1;32m    400\u001b[0m \u001b[39m# external renderers\u001b[39;00m\n",
      "\u001b[0;31mValueError\u001b[0m: Mime type rendering requires nbformat>=4.2.0 but it is not installed"
     ]
    }
   ],
   "source": [
    "import plotly.graph_objects as go\n",
    "from plotly.subplots import make_subplots\n",
    "from datetime import datetime\n",
    "st=10400\n",
    "dfpl = df[st:st+350]\n",
    "dfpl.reset_index(inplace=True)\n",
    "fig = go.Figure(data=[go.Candlestick(x=dfpl.index,\n",
    "                open=dfpl['Open'],\n",
    "                high=dfpl['High'],\n",
    "                low=dfpl['Low'],\n",
    "                close=dfpl['Close']),\n",
    "                go.Scatter(x=dfpl.index, y=dfpl.VWAP, \n",
    "                           line=dict(color='blue', width=1), \n",
    "                           name=\"VWAP\"), \n",
    "                go.Scatter(x=dfpl.index, y=dfpl['BBL_14_2.0'], \n",
    "                           line=dict(color='green', width=1), \n",
    "                           name=\"BBL\"),\n",
    "                go.Scatter(x=dfpl.index, y=dfpl['BBU_14_2.0'], \n",
    "                           line=dict(color='green', width=1), \n",
    "                           name=\"BBU\")])\n",
    "\n",
    "fig.add_scatter(x=dfpl.index, y=dfpl['pointposbreak'], mode=\"markers\",\n",
    "                marker=dict(size=10, color=\"MediumPurple\"),\n",
    "                name=\"Signal\")\n",
    "fig.show()"
   ]
  },
  {
   "cell_type": "code",
   "execution_count": 37,
   "id": "6083727a",
   "metadata": {},
   "outputs": [],
   "source": [
    "dfpl = df[:250000].copy()\n",
    "import pandas_ta as ta\n",
    "dfpl['ATR']=ta.atr(dfpl.High, dfpl.Low, dfpl.Close, length=7)\n",
    "#help(ta.atr)\n",
    "def SIGNAL():\n",
    "    return dfpl.TotalSignal"
   ]
  },
  {
   "cell_type": "code",
   "execution_count": 38,
   "id": "81219ec4",
   "metadata": {},
   "outputs": [
    {
     "data": {
      "text/plain": [
       "Start                     2019-09-30 00:00:00\n",
       "End                       2022-09-30 20:55:00\n",
       "Duration                   1096 days 20:55:00\n",
       "Exposure Time [%]                    6.535875\n",
       "Equity Final [$]                   297.296038\n",
       "Equity Peak [$]                    313.474142\n",
       "Return [%]                         197.296038\n",
       "Buy & Hold Return [%]              -10.401623\n",
       "Return (Ann.) [%]                   33.515903\n",
       "Volatility (Ann.) [%]               20.282087\n",
       "Sharpe Ratio                         1.652488\n",
       "Sortino Ratio                        3.861755\n",
       "Calmar Ratio                         2.656332\n",
       "Max. Drawdown [%]                  -12.617361\n",
       "Avg. Drawdown [%]                   -0.806062\n",
       "Max. Drawdown Duration      280 days 14:40:00\n",
       "Avg. Drawdown Duration        3 days 01:08:00\n",
       "# Trades                                 2067\n",
       "Win Rate [%]                        45.766812\n",
       "Best Trade [%]                        0.42012\n",
       "Worst Trade [%]                      -0.27659\n",
       "Avg. Trade [%]                       0.005507\n",
       "Max. Trade Duration           2 days 11:15:00\n",
       "Avg. Trade Duration           0 days 00:51:00\n",
       "Profit Factor                        1.241496\n",
       "Expectancy [%]                       0.005527\n",
       "SQN                                    3.4211\n",
       "_strategy                             MyStrat\n",
       "_equity_curve                             ...\n",
       "_trades                         Size  Entr...\n",
       "dtype: object"
      ]
     },
     "execution_count": 38,
     "metadata": {},
     "output_type": "execute_result"
    }
   ],
   "source": [
    "from backtesting import Strategy\n",
    "from backtesting import Backtest\n",
    "\n",
    "class MyStrat(Strategy):\n",
    "    initsize = 0.99\n",
    "    mysize = initsize\n",
    "    def init(self):\n",
    "        super().init()\n",
    "        self.signal1 = self.I(SIGNAL)\n",
    "\n",
    "    def next(self):\n",
    "        super().next()\n",
    "        slatr = 1.2*self.data.ATR[-1]\n",
    "        TPSLRatio = 1.5\n",
    "\n",
    "        if len(self.trades)>0:\n",
    "            if self.trades[-1].is_long and self.data.RSI[-1]>=90:\n",
    "                self.trades[-1].close()\n",
    "            elif self.trades[-1].is_short and self.data.RSI[-1]<=10:\n",
    "                self.trades[-1].close()\n",
    "        \n",
    "        if self.signal1==2 and len(self.trades)==0:\n",
    "            sl1 = self.data.Close[-1] - slatr\n",
    "            tp1 = self.data.Close[-1] + slatr*TPSLRatio\n",
    "            self.buy(sl=sl1, tp=tp1, size=self.mysize)\n",
    "        \n",
    "        elif self.signal1==1 and len(self.trades)==0:         \n",
    "            sl1 = self.data.Close[-1] + slatr\n",
    "            tp1 = self.data.Close[-1] - slatr*TPSLRatio\n",
    "            self.sell(sl=sl1, tp=tp1, size=self.mysize)\n",
    "\n",
    "bt = Backtest(dfpl, MyStrat, cash=100, margin=1/10, commission=0.00)\n",
    "stat = bt.run()\n",
    "stat"
   ]
  },
  {
   "cell_type": "code",
   "execution_count": 23,
   "id": "16396f6c",
   "metadata": {
    "scrolled": true
   },
   "outputs": [
    {
     "name": "stderr",
     "output_type": "stream",
     "text": [
      "/Library/Frameworks/Python.framework/Versions/3.10/lib/python3.10/site-packages/backtesting/_plotting.py:122: UserWarning:\n",
      "\n",
      "Data contains too many candlesticks to plot; downsampling to '1H'. See `Backtest.plot(resample=...)`\n",
      "\n"
     ]
    },
    {
     "ename": "TypeError",
     "evalue": "Index.get_loc() got an unexpected keyword argument 'method'",
     "output_type": "error",
     "traceback": [
      "\u001b[0;31m---------------------------------------------------------------------------\u001b[0m",
      "\u001b[0;31mTypeError\u001b[0m                                 Traceback (most recent call last)",
      "\u001b[1;32m/Users/bobsprite/git/tradingbot/VWAP_Scalping_01.ipynb Cell 11\u001b[0m line \u001b[0;36m1\n\u001b[0;32m----> <a href='vscode-notebook-cell:/Users/bobsprite/git/tradingbot/VWAP_Scalping_01.ipynb#X13sZmlsZQ%3D%3D?line=0'>1</a>\u001b[0m bt\u001b[39m.\u001b[39;49mplot(show_legend\u001b[39m=\u001b[39;49m\u001b[39mFalse\u001b[39;49;00m)\n",
      "File \u001b[0;32m/Library/Frameworks/Python.framework/Versions/3.10/lib/python3.10/site-packages/backtesting/backtesting.py:1592\u001b[0m, in \u001b[0;36mBacktest.plot\u001b[0;34m(self, results, filename, plot_width, plot_equity, plot_return, plot_pl, plot_volume, plot_drawdown, smooth_equity, relative_equity, superimpose, resample, reverse_indicators, show_legend, open_browser)\u001b[0m\n\u001b[1;32m   1589\u001b[0m         \u001b[39mraise\u001b[39;00m \u001b[39mRuntimeError\u001b[39;00m(\u001b[39m'\u001b[39m\u001b[39mFirst issue `backtest.run()` to obtain results.\u001b[39m\u001b[39m'\u001b[39m)\n\u001b[1;32m   1590\u001b[0m     results \u001b[39m=\u001b[39m \u001b[39mself\u001b[39m\u001b[39m.\u001b[39m_results\n\u001b[0;32m-> 1592\u001b[0m \u001b[39mreturn\u001b[39;00m plot(\n\u001b[1;32m   1593\u001b[0m     results\u001b[39m=\u001b[39;49mresults,\n\u001b[1;32m   1594\u001b[0m     df\u001b[39m=\u001b[39;49m\u001b[39mself\u001b[39;49m\u001b[39m.\u001b[39;49m_data,\n\u001b[1;32m   1595\u001b[0m     indicators\u001b[39m=\u001b[39;49mresults\u001b[39m.\u001b[39;49m_strategy\u001b[39m.\u001b[39;49m_indicators,\n\u001b[1;32m   1596\u001b[0m     filename\u001b[39m=\u001b[39;49mfilename,\n\u001b[1;32m   1597\u001b[0m     plot_width\u001b[39m=\u001b[39;49mplot_width,\n\u001b[1;32m   1598\u001b[0m     plot_equity\u001b[39m=\u001b[39;49mplot_equity,\n\u001b[1;32m   1599\u001b[0m     plot_return\u001b[39m=\u001b[39;49mplot_return,\n\u001b[1;32m   1600\u001b[0m     plot_pl\u001b[39m=\u001b[39;49mplot_pl,\n\u001b[1;32m   1601\u001b[0m     plot_volume\u001b[39m=\u001b[39;49mplot_volume,\n\u001b[1;32m   1602\u001b[0m     plot_drawdown\u001b[39m=\u001b[39;49mplot_drawdown,\n\u001b[1;32m   1603\u001b[0m     smooth_equity\u001b[39m=\u001b[39;49msmooth_equity,\n\u001b[1;32m   1604\u001b[0m     relative_equity\u001b[39m=\u001b[39;49mrelative_equity,\n\u001b[1;32m   1605\u001b[0m     superimpose\u001b[39m=\u001b[39;49msuperimpose,\n\u001b[1;32m   1606\u001b[0m     resample\u001b[39m=\u001b[39;49mresample,\n\u001b[1;32m   1607\u001b[0m     reverse_indicators\u001b[39m=\u001b[39;49mreverse_indicators,\n\u001b[1;32m   1608\u001b[0m     show_legend\u001b[39m=\u001b[39;49mshow_legend,\n\u001b[1;32m   1609\u001b[0m     open_browser\u001b[39m=\u001b[39;49mopen_browser)\n",
      "File \u001b[0;32m/Library/Frameworks/Python.framework/Versions/3.10/lib/python3.10/site-packages/backtesting/_plotting.py:203\u001b[0m, in \u001b[0;36mplot\u001b[0;34m(results, df, indicators, filename, plot_width, plot_equity, plot_return, plot_pl, plot_volume, plot_drawdown, smooth_equity, relative_equity, superimpose, resample, reverse_indicators, show_legend, open_browser)\u001b[0m\n\u001b[1;32m    201\u001b[0m \u001b[39m# Limit data to max_candles\u001b[39;00m\n\u001b[1;32m    202\u001b[0m \u001b[39mif\u001b[39;00m is_datetime_index:\n\u001b[0;32m--> 203\u001b[0m     df, indicators, equity_data, trades \u001b[39m=\u001b[39m _maybe_resample_data(\n\u001b[1;32m    204\u001b[0m         resample, df, indicators, equity_data, trades)\n\u001b[1;32m    206\u001b[0m df\u001b[39m.\u001b[39mindex\u001b[39m.\u001b[39mname \u001b[39m=\u001b[39m \u001b[39mNone\u001b[39;00m  \u001b[39m# Provides source name @index\u001b[39;00m\n\u001b[1;32m    207\u001b[0m df[\u001b[39m'\u001b[39m\u001b[39mdatetime\u001b[39m\u001b[39m'\u001b[39m] \u001b[39m=\u001b[39m df\u001b[39m.\u001b[39mindex  \u001b[39m# Save original, maybe datetime index\u001b[39;00m\n",
      "File \u001b[0;32m/Library/Frameworks/Python.framework/Versions/3.10/lib/python3.10/site-packages/backtesting/_plotting.py:153\u001b[0m, in \u001b[0;36m_maybe_resample_data\u001b[0;34m(resample_rule, df, indicators, equity_data, trades)\u001b[0m\n\u001b[1;32m    150\u001b[0m     \u001b[39mreturn\u001b[39;00m f\n\u001b[1;32m    152\u001b[0m \u001b[39mif\u001b[39;00m \u001b[39mlen\u001b[39m(trades):  \u001b[39m# Avoid pandas \"resampling on Int64 index\" error\u001b[39;00m\n\u001b[0;32m--> 153\u001b[0m     trades \u001b[39m=\u001b[39m trades\u001b[39m.\u001b[39;49massign(count\u001b[39m=\u001b[39;49m\u001b[39m1\u001b[39;49m)\u001b[39m.\u001b[39;49mresample(freq, on\u001b[39m=\u001b[39;49m\u001b[39m'\u001b[39;49m\u001b[39mExitTime\u001b[39;49m\u001b[39m'\u001b[39;49m, label\u001b[39m=\u001b[39;49m\u001b[39m'\u001b[39;49m\u001b[39mright\u001b[39;49m\u001b[39m'\u001b[39;49m)\u001b[39m.\u001b[39;49magg(\u001b[39mdict\u001b[39;49m(\n\u001b[1;32m    154\u001b[0m         TRADES_AGG,\n\u001b[1;32m    155\u001b[0m         ReturnPct\u001b[39m=\u001b[39;49m_weighted_returns,\n\u001b[1;32m    156\u001b[0m         count\u001b[39m=\u001b[39;49m\u001b[39m'\u001b[39;49m\u001b[39msum\u001b[39;49m\u001b[39m'\u001b[39;49m,\n\u001b[1;32m    157\u001b[0m         EntryBar\u001b[39m=\u001b[39;49m_group_trades(\u001b[39m'\u001b[39;49m\u001b[39mEntryTime\u001b[39;49m\u001b[39m'\u001b[39;49m),\n\u001b[1;32m    158\u001b[0m         ExitBar\u001b[39m=\u001b[39;49m_group_trades(\u001b[39m'\u001b[39;49m\u001b[39mExitTime\u001b[39;49m\u001b[39m'\u001b[39;49m),\n\u001b[1;32m    159\u001b[0m     ))\u001b[39m.\u001b[39mdropna()\n\u001b[1;32m    161\u001b[0m \u001b[39mreturn\u001b[39;00m df, indicators, equity_data, trades\n",
      "File \u001b[0;32m/Library/Frameworks/Python.framework/Versions/3.10/lib/python3.10/site-packages/pandas/core/resample.py:338\u001b[0m, in \u001b[0;36mResampler.aggregate\u001b[0;34m(self, func, *args, **kwargs)\u001b[0m\n\u001b[1;32m    330\u001b[0m \u001b[39m@doc\u001b[39m(\n\u001b[1;32m    331\u001b[0m     _shared_docs[\u001b[39m\"\u001b[39m\u001b[39maggregate\u001b[39m\u001b[39m\"\u001b[39m],\n\u001b[1;32m    332\u001b[0m     see_also\u001b[39m=\u001b[39m_agg_see_also_doc,\n\u001b[0;32m   (...)\u001b[0m\n\u001b[1;32m    336\u001b[0m )\n\u001b[1;32m    337\u001b[0m \u001b[39mdef\u001b[39;00m \u001b[39maggregate\u001b[39m(\u001b[39mself\u001b[39m, func\u001b[39m=\u001b[39m\u001b[39mNone\u001b[39;00m, \u001b[39m*\u001b[39margs, \u001b[39m*\u001b[39m\u001b[39m*\u001b[39mkwargs):\n\u001b[0;32m--> 338\u001b[0m     result \u001b[39m=\u001b[39m ResamplerWindowApply(\u001b[39mself\u001b[39;49m, func, args\u001b[39m=\u001b[39;49margs, kwargs\u001b[39m=\u001b[39;49mkwargs)\u001b[39m.\u001b[39;49magg()\n\u001b[1;32m    339\u001b[0m     \u001b[39mif\u001b[39;00m result \u001b[39mis\u001b[39;00m \u001b[39mNone\u001b[39;00m:\n\u001b[1;32m    340\u001b[0m         how \u001b[39m=\u001b[39m func\n",
      "File \u001b[0;32m/Library/Frameworks/Python.framework/Versions/3.10/lib/python3.10/site-packages/pandas/core/apply.py:175\u001b[0m, in \u001b[0;36mApply.agg\u001b[0;34m(self)\u001b[0m\n\u001b[1;32m    172\u001b[0m     \u001b[39mreturn\u001b[39;00m \u001b[39mself\u001b[39m\u001b[39m.\u001b[39mapply_str()\n\u001b[1;32m    174\u001b[0m \u001b[39mif\u001b[39;00m is_dict_like(func):\n\u001b[0;32m--> 175\u001b[0m     \u001b[39mreturn\u001b[39;00m \u001b[39mself\u001b[39;49m\u001b[39m.\u001b[39;49magg_dict_like()\n\u001b[1;32m    176\u001b[0m \u001b[39melif\u001b[39;00m is_list_like(func):\n\u001b[1;32m    177\u001b[0m     \u001b[39m# we require a list, but not a 'str'\u001b[39;00m\n\u001b[1;32m    178\u001b[0m     \u001b[39mreturn\u001b[39;00m \u001b[39mself\u001b[39m\u001b[39m.\u001b[39magg_list_like()\n",
      "File \u001b[0;32m/Library/Frameworks/Python.framework/Versions/3.10/lib/python3.10/site-packages/pandas/core/apply.py:406\u001b[0m, in \u001b[0;36mApply.agg_dict_like\u001b[0;34m(self)\u001b[0m\n\u001b[1;32m    398\u001b[0m \u001b[39mdef\u001b[39;00m \u001b[39magg_dict_like\u001b[39m(\u001b[39mself\u001b[39m) \u001b[39m-\u001b[39m\u001b[39m>\u001b[39m DataFrame \u001b[39m|\u001b[39m Series:\n\u001b[1;32m    399\u001b[0m \u001b[39m    \u001b[39m\u001b[39m\"\"\"\u001b[39;00m\n\u001b[1;32m    400\u001b[0m \u001b[39m    Compute aggregation in the case of a dict-like argument.\u001b[39;00m\n\u001b[1;32m    401\u001b[0m \n\u001b[0;32m   (...)\u001b[0m\n\u001b[1;32m    404\u001b[0m \u001b[39m    Result of aggregation.\u001b[39;00m\n\u001b[1;32m    405\u001b[0m \u001b[39m    \"\"\"\u001b[39;00m\n\u001b[0;32m--> 406\u001b[0m     \u001b[39mreturn\u001b[39;00m \u001b[39mself\u001b[39;49m\u001b[39m.\u001b[39;49magg_or_apply_dict_like(op_name\u001b[39m=\u001b[39;49m\u001b[39m\"\u001b[39;49m\u001b[39magg\u001b[39;49m\u001b[39m\"\u001b[39;49m)\n",
      "File \u001b[0;32m/Library/Frameworks/Python.framework/Versions/3.10/lib/python3.10/site-packages/pandas/core/apply.py:1388\u001b[0m, in \u001b[0;36mGroupByApply.agg_or_apply_dict_like\u001b[0;34m(self, op_name)\u001b[0m\n\u001b[1;32m   1383\u001b[0m     kwargs\u001b[39m.\u001b[39mupdate({\u001b[39m\"\u001b[39m\u001b[39mengine\u001b[39m\u001b[39m\"\u001b[39m: engine, \u001b[39m\"\u001b[39m\u001b[39mengine_kwargs\u001b[39m\u001b[39m\"\u001b[39m: engine_kwargs})\n\u001b[1;32m   1385\u001b[0m \u001b[39mwith\u001b[39;00m com\u001b[39m.\u001b[39mtemp_setattr(\n\u001b[1;32m   1386\u001b[0m     obj, \u001b[39m\"\u001b[39m\u001b[39mas_index\u001b[39m\u001b[39m\"\u001b[39m, \u001b[39mTrue\u001b[39;00m, condition\u001b[39m=\u001b[39m\u001b[39mhasattr\u001b[39m(obj, \u001b[39m\"\u001b[39m\u001b[39mas_index\u001b[39m\u001b[39m\"\u001b[39m)\n\u001b[1;32m   1387\u001b[0m ):\n\u001b[0;32m-> 1388\u001b[0m     result_index, result_data \u001b[39m=\u001b[39m \u001b[39mself\u001b[39;49m\u001b[39m.\u001b[39;49mcompute_dict_like(\n\u001b[1;32m   1389\u001b[0m         op_name, selected_obj, selection, kwargs\n\u001b[1;32m   1390\u001b[0m     )\n\u001b[1;32m   1391\u001b[0m result \u001b[39m=\u001b[39m \u001b[39mself\u001b[39m\u001b[39m.\u001b[39mwrap_results_dict_like(selected_obj, result_index, result_data)\n\u001b[1;32m   1392\u001b[0m \u001b[39mreturn\u001b[39;00m result\n",
      "File \u001b[0;32m/Library/Frameworks/Python.framework/Versions/3.10/lib/python3.10/site-packages/pandas/core/apply.py:479\u001b[0m, in \u001b[0;36mApply.compute_dict_like\u001b[0;34m(self, op_name, selected_obj, selection, kwargs)\u001b[0m\n\u001b[1;32m    476\u001b[0m         results \u001b[39m+\u001b[39m\u001b[39m=\u001b[39m key_data\n\u001b[1;32m    477\u001b[0m \u001b[39melse\u001b[39;00m:\n\u001b[1;32m    478\u001b[0m     \u001b[39m# key used for column selection and output\u001b[39;00m\n\u001b[0;32m--> 479\u001b[0m     results \u001b[39m=\u001b[39m [\n\u001b[1;32m    480\u001b[0m         \u001b[39mgetattr\u001b[39m(obj\u001b[39m.\u001b[39m_gotitem(key, ndim\u001b[39m=\u001b[39m\u001b[39m1\u001b[39m), op_name)(how, \u001b[39m*\u001b[39m\u001b[39m*\u001b[39mkwargs)\n\u001b[1;32m    481\u001b[0m         \u001b[39mfor\u001b[39;00m key, how \u001b[39min\u001b[39;00m func\u001b[39m.\u001b[39mitems()\n\u001b[1;32m    482\u001b[0m     ]\n\u001b[1;32m    483\u001b[0m     keys \u001b[39m=\u001b[39m \u001b[39mlist\u001b[39m(func\u001b[39m.\u001b[39mkeys())\n\u001b[1;32m    485\u001b[0m \u001b[39mreturn\u001b[39;00m keys, results\n",
      "File \u001b[0;32m/Library/Frameworks/Python.framework/Versions/3.10/lib/python3.10/site-packages/pandas/core/apply.py:480\u001b[0m, in \u001b[0;36m<listcomp>\u001b[0;34m(.0)\u001b[0m\n\u001b[1;32m    476\u001b[0m         results \u001b[39m+\u001b[39m\u001b[39m=\u001b[39m key_data\n\u001b[1;32m    477\u001b[0m \u001b[39melse\u001b[39;00m:\n\u001b[1;32m    478\u001b[0m     \u001b[39m# key used for column selection and output\u001b[39;00m\n\u001b[1;32m    479\u001b[0m     results \u001b[39m=\u001b[39m [\n\u001b[0;32m--> 480\u001b[0m         \u001b[39mgetattr\u001b[39;49m(obj\u001b[39m.\u001b[39;49m_gotitem(key, ndim\u001b[39m=\u001b[39;49m\u001b[39m1\u001b[39;49m), op_name)(how, \u001b[39m*\u001b[39;49m\u001b[39m*\u001b[39;49mkwargs)\n\u001b[1;32m    481\u001b[0m         \u001b[39mfor\u001b[39;00m key, how \u001b[39min\u001b[39;00m func\u001b[39m.\u001b[39mitems()\n\u001b[1;32m    482\u001b[0m     ]\n\u001b[1;32m    483\u001b[0m     keys \u001b[39m=\u001b[39m \u001b[39mlist\u001b[39m(func\u001b[39m.\u001b[39mkeys())\n\u001b[1;32m    485\u001b[0m \u001b[39mreturn\u001b[39;00m keys, results\n",
      "File \u001b[0;32m/Library/Frameworks/Python.framework/Versions/3.10/lib/python3.10/site-packages/pandas/core/groupby/generic.py:292\u001b[0m, in \u001b[0;36mSeriesGroupBy.aggregate\u001b[0;34m(self, func, engine, engine_kwargs, *args, **kwargs)\u001b[0m\n\u001b[1;32m    289\u001b[0m     \u001b[39mreturn\u001b[39;00m \u001b[39mself\u001b[39m\u001b[39m.\u001b[39m_python_agg_general(func, \u001b[39m*\u001b[39margs, \u001b[39m*\u001b[39m\u001b[39m*\u001b[39mkwargs)\n\u001b[1;32m    291\u001b[0m \u001b[39mtry\u001b[39;00m:\n\u001b[0;32m--> 292\u001b[0m     \u001b[39mreturn\u001b[39;00m \u001b[39mself\u001b[39;49m\u001b[39m.\u001b[39;49m_python_agg_general(func, \u001b[39m*\u001b[39;49margs, \u001b[39m*\u001b[39;49m\u001b[39m*\u001b[39;49mkwargs)\n\u001b[1;32m    293\u001b[0m \u001b[39mexcept\u001b[39;00m \u001b[39mKeyError\u001b[39;00m:\n\u001b[1;32m    294\u001b[0m     \u001b[39m# KeyError raised in test_groupby.test_basic is bc the func does\u001b[39;00m\n\u001b[1;32m    295\u001b[0m     \u001b[39m#  a dictionary lookup on group.name, but group name is not\u001b[39;00m\n\u001b[1;32m    296\u001b[0m     \u001b[39m#  pinned in _python_agg_general, only in _aggregate_named\u001b[39;00m\n\u001b[1;32m    297\u001b[0m     result \u001b[39m=\u001b[39m \u001b[39mself\u001b[39m\u001b[39m.\u001b[39m_aggregate_named(func, \u001b[39m*\u001b[39margs, \u001b[39m*\u001b[39m\u001b[39m*\u001b[39mkwargs)\n",
      "File \u001b[0;32m/Library/Frameworks/Python.framework/Versions/3.10/lib/python3.10/site-packages/pandas/core/groupby/generic.py:325\u001b[0m, in \u001b[0;36mSeriesGroupBy._python_agg_general\u001b[0;34m(self, func, *args, **kwargs)\u001b[0m\n\u001b[1;32m    322\u001b[0m f \u001b[39m=\u001b[39m \u001b[39mlambda\u001b[39;00m x: func(x, \u001b[39m*\u001b[39margs, \u001b[39m*\u001b[39m\u001b[39m*\u001b[39mkwargs)\n\u001b[1;32m    324\u001b[0m obj \u001b[39m=\u001b[39m \u001b[39mself\u001b[39m\u001b[39m.\u001b[39m_obj_with_exclusions\n\u001b[0;32m--> 325\u001b[0m result \u001b[39m=\u001b[39m \u001b[39mself\u001b[39;49m\u001b[39m.\u001b[39;49mgrouper\u001b[39m.\u001b[39;49magg_series(obj, f)\n\u001b[1;32m    326\u001b[0m res \u001b[39m=\u001b[39m obj\u001b[39m.\u001b[39m_constructor(result, name\u001b[39m=\u001b[39mobj\u001b[39m.\u001b[39mname)\n\u001b[1;32m    327\u001b[0m \u001b[39mreturn\u001b[39;00m \u001b[39mself\u001b[39m\u001b[39m.\u001b[39m_wrap_aggregated_output(res)\n",
      "File \u001b[0;32m/Library/Frameworks/Python.framework/Versions/3.10/lib/python3.10/site-packages/pandas/core/groupby/ops.py:850\u001b[0m, in \u001b[0;36mBaseGrouper.agg_series\u001b[0;34m(self, obj, func, preserve_dtype)\u001b[0m\n\u001b[1;32m    843\u001b[0m \u001b[39mif\u001b[39;00m \u001b[39mlen\u001b[39m(obj) \u001b[39m>\u001b[39m \u001b[39m0\u001b[39m \u001b[39mand\u001b[39;00m \u001b[39mnot\u001b[39;00m \u001b[39misinstance\u001b[39m(obj\u001b[39m.\u001b[39m_values, np\u001b[39m.\u001b[39mndarray):\n\u001b[1;32m    844\u001b[0m     \u001b[39m# we can preserve a little bit more aggressively with EA dtype\u001b[39;00m\n\u001b[1;32m    845\u001b[0m     \u001b[39m#  because maybe_cast_pointwise_result will do a try/except\u001b[39;00m\n\u001b[1;32m    846\u001b[0m     \u001b[39m#  with _from_sequence.  NB we are assuming here that _from_sequence\u001b[39;00m\n\u001b[1;32m    847\u001b[0m     \u001b[39m#  is sufficiently strict that it casts appropriately.\u001b[39;00m\n\u001b[1;32m    848\u001b[0m     preserve_dtype \u001b[39m=\u001b[39m \u001b[39mTrue\u001b[39;00m\n\u001b[0;32m--> 850\u001b[0m result \u001b[39m=\u001b[39m \u001b[39mself\u001b[39;49m\u001b[39m.\u001b[39;49m_aggregate_series_pure_python(obj, func)\n\u001b[1;32m    852\u001b[0m npvalues \u001b[39m=\u001b[39m lib\u001b[39m.\u001b[39mmaybe_convert_objects(result, try_float\u001b[39m=\u001b[39m\u001b[39mFalse\u001b[39;00m)\n\u001b[1;32m    853\u001b[0m \u001b[39mif\u001b[39;00m preserve_dtype:\n",
      "File \u001b[0;32m/Library/Frameworks/Python.framework/Versions/3.10/lib/python3.10/site-packages/pandas/core/groupby/ops.py:871\u001b[0m, in \u001b[0;36mBaseGrouper._aggregate_series_pure_python\u001b[0;34m(self, obj, func)\u001b[0m\n\u001b[1;32m    868\u001b[0m splitter \u001b[39m=\u001b[39m \u001b[39mself\u001b[39m\u001b[39m.\u001b[39m_get_splitter(obj, axis\u001b[39m=\u001b[39m\u001b[39m0\u001b[39m)\n\u001b[1;32m    870\u001b[0m \u001b[39mfor\u001b[39;00m i, group \u001b[39min\u001b[39;00m \u001b[39menumerate\u001b[39m(splitter):\n\u001b[0;32m--> 871\u001b[0m     res \u001b[39m=\u001b[39m func(group)\n\u001b[1;32m    872\u001b[0m     res \u001b[39m=\u001b[39m extract_result(res)\n\u001b[1;32m    874\u001b[0m     \u001b[39mif\u001b[39;00m \u001b[39mnot\u001b[39;00m initialized:\n\u001b[1;32m    875\u001b[0m         \u001b[39m# We only do this validation on the first iteration\u001b[39;00m\n",
      "File \u001b[0;32m/Library/Frameworks/Python.framework/Versions/3.10/lib/python3.10/site-packages/pandas/core/groupby/generic.py:322\u001b[0m, in \u001b[0;36mSeriesGroupBy._python_agg_general.<locals>.<lambda>\u001b[0;34m(x)\u001b[0m\n\u001b[1;32m    320\u001b[0m     alias \u001b[39m=\u001b[39m com\u001b[39m.\u001b[39m_builtin_table_alias[func]\n\u001b[1;32m    321\u001b[0m     warn_alias_replacement(\u001b[39mself\u001b[39m, orig_func, alias)\n\u001b[0;32m--> 322\u001b[0m f \u001b[39m=\u001b[39m \u001b[39mlambda\u001b[39;00m x: func(x, \u001b[39m*\u001b[39;49margs, \u001b[39m*\u001b[39;49m\u001b[39m*\u001b[39;49mkwargs)\n\u001b[1;32m    324\u001b[0m obj \u001b[39m=\u001b[39m \u001b[39mself\u001b[39m\u001b[39m.\u001b[39m_obj_with_exclusions\n\u001b[1;32m    325\u001b[0m result \u001b[39m=\u001b[39m \u001b[39mself\u001b[39m\u001b[39m.\u001b[39mgrouper\u001b[39m.\u001b[39magg_series(obj, f)\n",
      "File \u001b[0;32m/Library/Frameworks/Python.framework/Versions/3.10/lib/python3.10/site-packages/backtesting/_plotting.py:148\u001b[0m, in \u001b[0;36m_maybe_resample_data.<locals>._group_trades.<locals>.f\u001b[0;34m(s, new_index, bars)\u001b[0m\n\u001b[1;32m    145\u001b[0m \u001b[39mif\u001b[39;00m s\u001b[39m.\u001b[39msize:\n\u001b[1;32m    146\u001b[0m     \u001b[39m# Via int64 because on pandas recently broken datetime\u001b[39;00m\n\u001b[1;32m    147\u001b[0m     mean_time \u001b[39m=\u001b[39m \u001b[39mint\u001b[39m(bars\u001b[39m.\u001b[39mloc[s\u001b[39m.\u001b[39mindex]\u001b[39m.\u001b[39mview(\u001b[39mint\u001b[39m)\u001b[39m.\u001b[39mmean())\n\u001b[0;32m--> 148\u001b[0m     new_bar_idx \u001b[39m=\u001b[39m new_index\u001b[39m.\u001b[39;49mget_loc(mean_time, method\u001b[39m=\u001b[39;49m\u001b[39m'\u001b[39;49m\u001b[39mnearest\u001b[39;49m\u001b[39m'\u001b[39;49m)\n\u001b[1;32m    149\u001b[0m     \u001b[39mreturn\u001b[39;00m new_bar_idx\n",
      "\u001b[0;31mTypeError\u001b[0m: Index.get_loc() got an unexpected keyword argument 'method'"
     ]
    }
   ],
   "source": [
    "bt.plot(show_legend=False)"
   ]
  },
  {
   "cell_type": "code",
   "execution_count": null,
   "metadata": {},
   "outputs": [],
   "source": []
  }
 ],
 "metadata": {
  "kernelspec": {
   "display_name": "Python 3 (ipykernel)",
   "language": "python",
   "name": "python3"
  },
  "language_info": {
   "codemirror_mode": {
    "name": "ipython",
    "version": 3
   },
   "file_extension": ".py",
   "mimetype": "text/x-python",
   "name": "python",
   "nbconvert_exporter": "python",
   "pygments_lexer": "ipython3",
   "version": "3.10.11"
  }
 },
 "nbformat": 4,
 "nbformat_minor": 5
}
